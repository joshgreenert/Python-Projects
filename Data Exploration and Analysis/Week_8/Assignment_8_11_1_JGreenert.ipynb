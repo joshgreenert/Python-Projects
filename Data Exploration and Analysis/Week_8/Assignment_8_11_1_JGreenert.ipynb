{
 "cells": [
  {
   "cell_type": "markdown",
   "metadata": {},
   "source": [
    "# Chapter 11\n",
    "\n",
    "Examples and Exercises from Think Stats, 2nd Edition\n",
    "\n",
    "http://thinkstats2.com\n",
    "\n",
    "Copyright 2016 Allen B. Downey\n",
    "\n",
    "MIT License: https://opensource.org/licenses/MIT\n"
   ]
  },
  {
   "cell_type": "code",
   "execution_count": 1,
   "metadata": {},
   "outputs": [],
   "source": [
    "from os.path import basename, exists\n",
    "\n",
    "\n",
    "def download(url):\n",
    "    filename = basename(url)\n",
    "    if not exists(filename):\n",
    "        from urllib.request import urlretrieve\n",
    "\n",
    "        local, _ = urlretrieve(url, filename)\n",
    "        print(\"Downloaded \" + local)\n",
    "\n",
    "\n",
    "download(\"https://github.com/AllenDowney/ThinkStats2/raw/master/code/thinkstats2.py\")\n",
    "download(\"https://github.com/AllenDowney/ThinkStats2/raw/master/code/thinkplot.py\")"
   ]
  },
  {
   "cell_type": "code",
   "execution_count": 2,
   "metadata": {},
   "outputs": [],
   "source": [
    "\n",
    "import numpy as np\n",
    "import pandas as pd\n",
    "\n",
    "import thinkstats2\n",
    "import thinkplot"
   ]
  },
  {
   "cell_type": "markdown",
   "metadata": {},
   "source": [
    "## Multiple regression\n",
    "\n",
    "Let's load up the NSFG data again."
   ]
  },
  {
   "cell_type": "code",
   "execution_count": 3,
   "metadata": {},
   "outputs": [],
   "source": [
    "download(\"https://github.com/AllenDowney/ThinkStats2/raw/master/code/nsfg.py\")\n",
    "download(\"https://github.com/AllenDowney/ThinkStats2/raw/master/code/first.py\")\n",
    "\n",
    "download(\"https://github.com/AllenDowney/ThinkStats2/raw/master/code/2002FemPreg.dct\")\n",
    "download(\n",
    "    \"https://github.com/AllenDowney/ThinkStats2/raw/master/code/2002FemPreg.dat.gz\"\n",
    ")"
   ]
  },
  {
   "cell_type": "code",
   "execution_count": 4,
   "metadata": {},
   "outputs": [],
   "source": [
    "import first\n",
    "\n",
    "live, firsts, others = first.MakeFrames()"
   ]
  },
  {
   "cell_type": "markdown",
   "metadata": {},
   "source": [
    "Here's birth weight as a function of mother's age (which we saw in the previous chapter)."
   ]
  },
  {
   "cell_type": "code",
   "execution_count": 13,
   "metadata": {},
   "outputs": [
    {
     "data": {
      "text/html": [
       "<table class=\"simpletable\">\n",
       "<caption>OLS Regression Results</caption>\n",
       "<tr>\n",
       "  <th>Dep. Variable:</th>       <td>totalwgt_lb</td>   <th>  R-squared:         </th> <td>   0.005</td> \n",
       "</tr>\n",
       "<tr>\n",
       "  <th>Model:</th>                   <td>OLS</td>       <th>  Adj. R-squared:    </th> <td>   0.005</td> \n",
       "</tr>\n",
       "<tr>\n",
       "  <th>Method:</th>             <td>Least Squares</td>  <th>  F-statistic:       </th> <td>   43.02</td> \n",
       "</tr>\n",
       "<tr>\n",
       "  <th>Date:</th>             <td>Tue, 26 Jul 2022</td> <th>  Prob (F-statistic):</th> <td>5.72e-11</td> \n",
       "</tr>\n",
       "<tr>\n",
       "  <th>Time:</th>                 <td>18:51:18</td>     <th>  Log-Likelihood:    </th> <td> -15897.</td> \n",
       "</tr>\n",
       "<tr>\n",
       "  <th>No. Observations:</th>      <td>  9038</td>      <th>  AIC:               </th> <td>3.180e+04</td>\n",
       "</tr>\n",
       "<tr>\n",
       "  <th>Df Residuals:</th>          <td>  9036</td>      <th>  BIC:               </th> <td>3.181e+04</td>\n",
       "</tr>\n",
       "<tr>\n",
       "  <th>Df Model:</th>              <td>     1</td>      <th>                     </th>     <td> </td>    \n",
       "</tr>\n",
       "<tr>\n",
       "  <th>Covariance Type:</th>      <td>nonrobust</td>    <th>                     </th>     <td> </td>    \n",
       "</tr>\n",
       "</table>\n",
       "<table class=\"simpletable\">\n",
       "<tr>\n",
       "      <td></td>         <th>coef</th>     <th>std err</th>      <th>t</th>      <th>P>|t|</th>  <th>[0.025</th>    <th>0.975]</th>  \n",
       "</tr>\n",
       "<tr>\n",
       "  <th>Intercept</th> <td>    6.8304</td> <td>    0.068</td> <td>  100.470</td> <td> 0.000</td> <td>    6.697</td> <td>    6.964</td>\n",
       "</tr>\n",
       "<tr>\n",
       "  <th>agepreg</th>   <td>    0.0175</td> <td>    0.003</td> <td>    6.559</td> <td> 0.000</td> <td>    0.012</td> <td>    0.023</td>\n",
       "</tr>\n",
       "</table>\n",
       "<table class=\"simpletable\">\n",
       "<tr>\n",
       "  <th>Omnibus:</th>       <td>1024.052</td> <th>  Durbin-Watson:     </th> <td>   1.618</td>\n",
       "</tr>\n",
       "<tr>\n",
       "  <th>Prob(Omnibus):</th>  <td> 0.000</td>  <th>  Jarque-Bera (JB):  </th> <td>3081.833</td>\n",
       "</tr>\n",
       "<tr>\n",
       "  <th>Skew:</th>           <td>-0.601</td>  <th>  Prob(JB):          </th> <td>    0.00</td>\n",
       "</tr>\n",
       "<tr>\n",
       "  <th>Kurtosis:</th>       <td> 5.596</td>  <th>  Cond. No.          </th> <td>    118.</td>\n",
       "</tr>\n",
       "</table><br/><br/>Notes:<br/>[1] Standard Errors assume that the covariance matrix of the errors is correctly specified."
      ],
      "text/plain": [
       "<class 'statsmodels.iolib.summary.Summary'>\n",
       "\"\"\"\n",
       "                            OLS Regression Results                            \n",
       "==============================================================================\n",
       "Dep. Variable:            totalwgt_lb   R-squared:                       0.005\n",
       "Model:                            OLS   Adj. R-squared:                  0.005\n",
       "Method:                 Least Squares   F-statistic:                     43.02\n",
       "Date:                Tue, 26 Jul 2022   Prob (F-statistic):           5.72e-11\n",
       "Time:                        18:51:18   Log-Likelihood:                -15897.\n",
       "No. Observations:                9038   AIC:                         3.180e+04\n",
       "Df Residuals:                    9036   BIC:                         3.181e+04\n",
       "Df Model:                           1                                         \n",
       "Covariance Type:            nonrobust                                         \n",
       "==============================================================================\n",
       "                 coef    std err          t      P>|t|      [0.025      0.975]\n",
       "------------------------------------------------------------------------------\n",
       "Intercept      6.8304      0.068    100.470      0.000       6.697       6.964\n",
       "agepreg        0.0175      0.003      6.559      0.000       0.012       0.023\n",
       "==============================================================================\n",
       "Omnibus:                     1024.052   Durbin-Watson:                   1.618\n",
       "Prob(Omnibus):                  0.000   Jarque-Bera (JB):             3081.833\n",
       "Skew:                          -0.601   Prob(JB):                         0.00\n",
       "Kurtosis:                       5.596   Cond. No.                         118.\n",
       "==============================================================================\n",
       "\n",
       "Notes:\n",
       "[1] Standard Errors assume that the covariance matrix of the errors is correctly specified.\n",
       "\"\"\""
      ]
     },
     "execution_count": 13,
     "metadata": {},
     "output_type": "execute_result"
    }
   ],
   "source": [
    "import statsmodels.formula.api as smf\n",
    "\n",
    "formula = 'totalwgt_lb ~ agepreg'\n",
    "model = smf.ols(formula, data=live)\n",
    "results = model.fit()\n",
    "results.summary()"
   ]
  },
  {
   "cell_type": "markdown",
   "metadata": {},
   "source": [
    "We can extract the parameters."
   ]
  },
  {
   "cell_type": "code",
   "execution_count": 14,
   "metadata": {},
   "outputs": [
    {
     "data": {
      "text/plain": [
       "(6.830396973311055, 0.01745385147180278)"
      ]
     },
     "execution_count": 14,
     "metadata": {},
     "output_type": "execute_result"
    }
   ],
   "source": [
    "inter = results.params['Intercept']\n",
    "slope = results.params['agepreg']\n",
    "inter, slope"
   ]
  },
  {
   "cell_type": "markdown",
   "metadata": {},
   "source": [
    "And the p-value of the slope estimate."
   ]
  },
  {
   "cell_type": "code",
   "execution_count": 15,
   "metadata": {},
   "outputs": [
    {
     "data": {
      "text/plain": [
       "5.7229471073146164e-11"
      ]
     },
     "execution_count": 15,
     "metadata": {},
     "output_type": "execute_result"
    }
   ],
   "source": [
    "slope_pvalue = results.pvalues['agepreg']\n",
    "slope_pvalue"
   ]
  },
  {
   "cell_type": "markdown",
   "metadata": {},
   "source": [
    "And the coefficient of determination."
   ]
  },
  {
   "cell_type": "code",
   "execution_count": 16,
   "metadata": {},
   "outputs": [
    {
     "data": {
      "text/plain": [
       "0.004738115474710369"
      ]
     },
     "execution_count": 16,
     "metadata": {},
     "output_type": "execute_result"
    }
   ],
   "source": [
    "results.rsquared"
   ]
  },
  {
   "cell_type": "markdown",
   "metadata": {},
   "source": [
    "The difference in birth weight between first babies and others."
   ]
  },
  {
   "cell_type": "code",
   "execution_count": 17,
   "metadata": {},
   "outputs": [
    {
     "data": {
      "text/plain": [
       "-0.12476118453549034"
      ]
     },
     "execution_count": 17,
     "metadata": {},
     "output_type": "execute_result"
    }
   ],
   "source": [
    "diff_weight = firsts.totalwgt_lb.mean() - others.totalwgt_lb.mean()\n",
    "diff_weight"
   ]
  },
  {
   "cell_type": "markdown",
   "metadata": {},
   "source": [
    "The difference in age between mothers of first babies and others."
   ]
  },
  {
   "cell_type": "code",
   "execution_count": 18,
   "metadata": {},
   "outputs": [
    {
     "data": {
      "text/plain": [
       "-3.5864347661500275"
      ]
     },
     "execution_count": 18,
     "metadata": {},
     "output_type": "execute_result"
    }
   ],
   "source": [
    "diff_age = firsts.agepreg.mean() - others.agepreg.mean()\n",
    "diff_age"
   ]
  },
  {
   "cell_type": "markdown",
   "metadata": {},
   "source": [
    "The age difference plausibly explains about half of the difference in weight."
   ]
  },
  {
   "cell_type": "code",
   "execution_count": 19,
   "metadata": {},
   "outputs": [
    {
     "data": {
      "text/plain": [
       "-0.06259709972169232"
      ]
     },
     "execution_count": 19,
     "metadata": {},
     "output_type": "execute_result"
    }
   ],
   "source": [
    "slope * diff_age"
   ]
  },
  {
   "cell_type": "markdown",
   "metadata": {},
   "source": [
    "Running a single regression with a categorical variable, `isfirst`:"
   ]
  },
  {
   "cell_type": "code",
   "execution_count": 20,
   "metadata": {},
   "outputs": [
    {
     "data": {
      "text/html": [
       "<table class=\"simpletable\">\n",
       "<caption>OLS Regression Results</caption>\n",
       "<tr>\n",
       "  <th>Dep. Variable:</th>       <td>totalwgt_lb</td>   <th>  R-squared:         </th> <td>   0.002</td> \n",
       "</tr>\n",
       "<tr>\n",
       "  <th>Model:</th>                   <td>OLS</td>       <th>  Adj. R-squared:    </th> <td>   0.002</td> \n",
       "</tr>\n",
       "<tr>\n",
       "  <th>Method:</th>             <td>Least Squares</td>  <th>  F-statistic:       </th> <td>   17.74</td> \n",
       "</tr>\n",
       "<tr>\n",
       "  <th>Date:</th>             <td>Tue, 26 Jul 2022</td> <th>  Prob (F-statistic):</th> <td>2.55e-05</td> \n",
       "</tr>\n",
       "<tr>\n",
       "  <th>Time:</th>                 <td>18:53:06</td>     <th>  Log-Likelihood:    </th> <td> -15909.</td> \n",
       "</tr>\n",
       "<tr>\n",
       "  <th>No. Observations:</th>      <td>  9038</td>      <th>  AIC:               </th> <td>3.182e+04</td>\n",
       "</tr>\n",
       "<tr>\n",
       "  <th>Df Residuals:</th>          <td>  9036</td>      <th>  BIC:               </th> <td>3.184e+04</td>\n",
       "</tr>\n",
       "<tr>\n",
       "  <th>Df Model:</th>              <td>     1</td>      <th>                     </th>     <td> </td>    \n",
       "</tr>\n",
       "<tr>\n",
       "  <th>Covariance Type:</th>      <td>nonrobust</td>    <th>                     </th>     <td> </td>    \n",
       "</tr>\n",
       "</table>\n",
       "<table class=\"simpletable\">\n",
       "<tr>\n",
       "         <td></td>            <th>coef</th>     <th>std err</th>      <th>t</th>      <th>P>|t|</th>  <th>[0.025</th>    <th>0.975]</th>  \n",
       "</tr>\n",
       "<tr>\n",
       "  <th>Intercept</th>       <td>    7.3259</td> <td>    0.021</td> <td>  356.007</td> <td> 0.000</td> <td>    7.286</td> <td>    7.366</td>\n",
       "</tr>\n",
       "<tr>\n",
       "  <th>isfirst[T.True]</th> <td>   -0.1248</td> <td>    0.030</td> <td>   -4.212</td> <td> 0.000</td> <td>   -0.183</td> <td>   -0.067</td>\n",
       "</tr>\n",
       "</table>\n",
       "<table class=\"simpletable\">\n",
       "<tr>\n",
       "  <th>Omnibus:</th>       <td>988.919</td> <th>  Durbin-Watson:     </th> <td>   1.613</td>\n",
       "</tr>\n",
       "<tr>\n",
       "  <th>Prob(Omnibus):</th> <td> 0.000</td>  <th>  Jarque-Bera (JB):  </th> <td>2897.107</td>\n",
       "</tr>\n",
       "<tr>\n",
       "  <th>Skew:</th>          <td>-0.589</td>  <th>  Prob(JB):          </th> <td>    0.00</td>\n",
       "</tr>\n",
       "<tr>\n",
       "  <th>Kurtosis:</th>      <td> 5.511</td>  <th>  Cond. No.          </th> <td>    2.58</td>\n",
       "</tr>\n",
       "</table><br/><br/>Notes:<br/>[1] Standard Errors assume that the covariance matrix of the errors is correctly specified."
      ],
      "text/plain": [
       "<class 'statsmodels.iolib.summary.Summary'>\n",
       "\"\"\"\n",
       "                            OLS Regression Results                            \n",
       "==============================================================================\n",
       "Dep. Variable:            totalwgt_lb   R-squared:                       0.002\n",
       "Model:                            OLS   Adj. R-squared:                  0.002\n",
       "Method:                 Least Squares   F-statistic:                     17.74\n",
       "Date:                Tue, 26 Jul 2022   Prob (F-statistic):           2.55e-05\n",
       "Time:                        18:53:06   Log-Likelihood:                -15909.\n",
       "No. Observations:                9038   AIC:                         3.182e+04\n",
       "Df Residuals:                    9036   BIC:                         3.184e+04\n",
       "Df Model:                           1                                         \n",
       "Covariance Type:            nonrobust                                         \n",
       "===================================================================================\n",
       "                      coef    std err          t      P>|t|      [0.025      0.975]\n",
       "-----------------------------------------------------------------------------------\n",
       "Intercept           7.3259      0.021    356.007      0.000       7.286       7.366\n",
       "isfirst[T.True]    -0.1248      0.030     -4.212      0.000      -0.183      -0.067\n",
       "==============================================================================\n",
       "Omnibus:                      988.919   Durbin-Watson:                   1.613\n",
       "Prob(Omnibus):                  0.000   Jarque-Bera (JB):             2897.107\n",
       "Skew:                          -0.589   Prob(JB):                         0.00\n",
       "Kurtosis:                       5.511   Cond. No.                         2.58\n",
       "==============================================================================\n",
       "\n",
       "Notes:\n",
       "[1] Standard Errors assume that the covariance matrix of the errors is correctly specified.\n",
       "\"\"\""
      ]
     },
     "execution_count": 20,
     "metadata": {},
     "output_type": "execute_result"
    }
   ],
   "source": [
    "live['isfirst'] = live.birthord == 1\n",
    "formula = 'totalwgt_lb ~ isfirst'\n",
    "results = smf.ols(formula, data=live).fit()\n",
    "results.summary()"
   ]
  },
  {
   "cell_type": "markdown",
   "metadata": {},
   "source": [
    "Now finally running a multiple regression:"
   ]
  },
  {
   "cell_type": "code",
   "execution_count": 21,
   "metadata": {},
   "outputs": [
    {
     "data": {
      "text/html": [
       "<table class=\"simpletable\">\n",
       "<caption>OLS Regression Results</caption>\n",
       "<tr>\n",
       "  <th>Dep. Variable:</th>       <td>totalwgt_lb</td>   <th>  R-squared:         </th> <td>   0.005</td> \n",
       "</tr>\n",
       "<tr>\n",
       "  <th>Model:</th>                   <td>OLS</td>       <th>  Adj. R-squared:    </th> <td>   0.005</td> \n",
       "</tr>\n",
       "<tr>\n",
       "  <th>Method:</th>             <td>Least Squares</td>  <th>  F-statistic:       </th> <td>   24.02</td> \n",
       "</tr>\n",
       "<tr>\n",
       "  <th>Date:</th>             <td>Tue, 26 Jul 2022</td> <th>  Prob (F-statistic):</th> <td>3.95e-11</td> \n",
       "</tr>\n",
       "<tr>\n",
       "  <th>Time:</th>                 <td>18:53:13</td>     <th>  Log-Likelihood:    </th> <td> -15894.</td> \n",
       "</tr>\n",
       "<tr>\n",
       "  <th>No. Observations:</th>      <td>  9038</td>      <th>  AIC:               </th> <td>3.179e+04</td>\n",
       "</tr>\n",
       "<tr>\n",
       "  <th>Df Residuals:</th>          <td>  9035</td>      <th>  BIC:               </th> <td>3.182e+04</td>\n",
       "</tr>\n",
       "<tr>\n",
       "  <th>Df Model:</th>              <td>     2</td>      <th>                     </th>     <td> </td>    \n",
       "</tr>\n",
       "<tr>\n",
       "  <th>Covariance Type:</th>      <td>nonrobust</td>    <th>                     </th>     <td> </td>    \n",
       "</tr>\n",
       "</table>\n",
       "<table class=\"simpletable\">\n",
       "<tr>\n",
       "         <td></td>            <th>coef</th>     <th>std err</th>      <th>t</th>      <th>P>|t|</th>  <th>[0.025</th>    <th>0.975]</th>  \n",
       "</tr>\n",
       "<tr>\n",
       "  <th>Intercept</th>       <td>    6.9142</td> <td>    0.078</td> <td>   89.073</td> <td> 0.000</td> <td>    6.762</td> <td>    7.066</td>\n",
       "</tr>\n",
       "<tr>\n",
       "  <th>isfirst[T.True]</th> <td>   -0.0698</td> <td>    0.031</td> <td>   -2.236</td> <td> 0.025</td> <td>   -0.131</td> <td>   -0.009</td>\n",
       "</tr>\n",
       "<tr>\n",
       "  <th>agepreg</th>         <td>    0.0154</td> <td>    0.003</td> <td>    5.499</td> <td> 0.000</td> <td>    0.010</td> <td>    0.021</td>\n",
       "</tr>\n",
       "</table>\n",
       "<table class=\"simpletable\">\n",
       "<tr>\n",
       "  <th>Omnibus:</th>       <td>1019.945</td> <th>  Durbin-Watson:     </th> <td>   1.618</td>\n",
       "</tr>\n",
       "<tr>\n",
       "  <th>Prob(Omnibus):</th>  <td> 0.000</td>  <th>  Jarque-Bera (JB):  </th> <td>3063.682</td>\n",
       "</tr>\n",
       "<tr>\n",
       "  <th>Skew:</th>           <td>-0.599</td>  <th>  Prob(JB):          </th> <td>    0.00</td>\n",
       "</tr>\n",
       "<tr>\n",
       "  <th>Kurtosis:</th>       <td> 5.588</td>  <th>  Cond. No.          </th> <td>    137.</td>\n",
       "</tr>\n",
       "</table><br/><br/>Notes:<br/>[1] Standard Errors assume that the covariance matrix of the errors is correctly specified."
      ],
      "text/plain": [
       "<class 'statsmodels.iolib.summary.Summary'>\n",
       "\"\"\"\n",
       "                            OLS Regression Results                            \n",
       "==============================================================================\n",
       "Dep. Variable:            totalwgt_lb   R-squared:                       0.005\n",
       "Model:                            OLS   Adj. R-squared:                  0.005\n",
       "Method:                 Least Squares   F-statistic:                     24.02\n",
       "Date:                Tue, 26 Jul 2022   Prob (F-statistic):           3.95e-11\n",
       "Time:                        18:53:13   Log-Likelihood:                -15894.\n",
       "No. Observations:                9038   AIC:                         3.179e+04\n",
       "Df Residuals:                    9035   BIC:                         3.182e+04\n",
       "Df Model:                           2                                         \n",
       "Covariance Type:            nonrobust                                         \n",
       "===================================================================================\n",
       "                      coef    std err          t      P>|t|      [0.025      0.975]\n",
       "-----------------------------------------------------------------------------------\n",
       "Intercept           6.9142      0.078     89.073      0.000       6.762       7.066\n",
       "isfirst[T.True]    -0.0698      0.031     -2.236      0.025      -0.131      -0.009\n",
       "agepreg             0.0154      0.003      5.499      0.000       0.010       0.021\n",
       "==============================================================================\n",
       "Omnibus:                     1019.945   Durbin-Watson:                   1.618\n",
       "Prob(Omnibus):                  0.000   Jarque-Bera (JB):             3063.682\n",
       "Skew:                          -0.599   Prob(JB):                         0.00\n",
       "Kurtosis:                       5.588   Cond. No.                         137.\n",
       "==============================================================================\n",
       "\n",
       "Notes:\n",
       "[1] Standard Errors assume that the covariance matrix of the errors is correctly specified.\n",
       "\"\"\""
      ]
     },
     "execution_count": 21,
     "metadata": {},
     "output_type": "execute_result"
    }
   ],
   "source": [
    "formula = 'totalwgt_lb ~ isfirst + agepreg'\n",
    "results = smf.ols(formula, data=live).fit()\n",
    "results.summary()"
   ]
  },
  {
   "cell_type": "markdown",
   "metadata": {},
   "source": [
    "As expected, when we control for mother's age, the apparent difference due to `isfirst` is cut in half.\n",
    "\n",
    "If we add age squared, we can control for a quadratic relationship between age and weight."
   ]
  },
  {
   "cell_type": "code",
   "execution_count": 22,
   "metadata": {},
   "outputs": [
    {
     "data": {
      "text/html": [
       "<table class=\"simpletable\">\n",
       "<caption>OLS Regression Results</caption>\n",
       "<tr>\n",
       "  <th>Dep. Variable:</th>       <td>totalwgt_lb</td>   <th>  R-squared:         </th> <td>   0.007</td> \n",
       "</tr>\n",
       "<tr>\n",
       "  <th>Model:</th>                   <td>OLS</td>       <th>  Adj. R-squared:    </th> <td>   0.007</td> \n",
       "</tr>\n",
       "<tr>\n",
       "  <th>Method:</th>             <td>Least Squares</td>  <th>  F-statistic:       </th> <td>   22.64</td> \n",
       "</tr>\n",
       "<tr>\n",
       "  <th>Date:</th>             <td>Tue, 26 Jul 2022</td> <th>  Prob (F-statistic):</th> <td>1.35e-14</td> \n",
       "</tr>\n",
       "<tr>\n",
       "  <th>Time:</th>                 <td>18:53:15</td>     <th>  Log-Likelihood:    </th> <td> -15884.</td> \n",
       "</tr>\n",
       "<tr>\n",
       "  <th>No. Observations:</th>      <td>  9038</td>      <th>  AIC:               </th> <td>3.178e+04</td>\n",
       "</tr>\n",
       "<tr>\n",
       "  <th>Df Residuals:</th>          <td>  9034</td>      <th>  BIC:               </th> <td>3.181e+04</td>\n",
       "</tr>\n",
       "<tr>\n",
       "  <th>Df Model:</th>              <td>     3</td>      <th>                     </th>     <td> </td>    \n",
       "</tr>\n",
       "<tr>\n",
       "  <th>Covariance Type:</th>      <td>nonrobust</td>    <th>                     </th>     <td> </td>    \n",
       "</tr>\n",
       "</table>\n",
       "<table class=\"simpletable\">\n",
       "<tr>\n",
       "         <td></td>            <th>coef</th>     <th>std err</th>      <th>t</th>      <th>P>|t|</th>  <th>[0.025</th>    <th>0.975]</th>  \n",
       "</tr>\n",
       "<tr>\n",
       "  <th>Intercept</th>       <td>    5.6923</td> <td>    0.286</td> <td>   19.937</td> <td> 0.000</td> <td>    5.133</td> <td>    6.252</td>\n",
       "</tr>\n",
       "<tr>\n",
       "  <th>isfirst[T.True]</th> <td>   -0.0504</td> <td>    0.031</td> <td>   -1.602</td> <td> 0.109</td> <td>   -0.112</td> <td>    0.011</td>\n",
       "</tr>\n",
       "<tr>\n",
       "  <th>agepreg</th>         <td>    0.1124</td> <td>    0.022</td> <td>    5.113</td> <td> 0.000</td> <td>    0.069</td> <td>    0.155</td>\n",
       "</tr>\n",
       "<tr>\n",
       "  <th>agepreg2</th>        <td>   -0.0018</td> <td>    0.000</td> <td>   -4.447</td> <td> 0.000</td> <td>   -0.003</td> <td>   -0.001</td>\n",
       "</tr>\n",
       "</table>\n",
       "<table class=\"simpletable\">\n",
       "<tr>\n",
       "  <th>Omnibus:</th>       <td>1007.149</td> <th>  Durbin-Watson:     </th> <td>   1.616</td>\n",
       "</tr>\n",
       "<tr>\n",
       "  <th>Prob(Omnibus):</th>  <td> 0.000</td>  <th>  Jarque-Bera (JB):  </th> <td>3003.343</td>\n",
       "</tr>\n",
       "<tr>\n",
       "  <th>Skew:</th>           <td>-0.594</td>  <th>  Prob(JB):          </th> <td>    0.00</td>\n",
       "</tr>\n",
       "<tr>\n",
       "  <th>Kurtosis:</th>       <td> 5.562</td>  <th>  Cond. No.          </th> <td>1.39e+04</td>\n",
       "</tr>\n",
       "</table><br/><br/>Notes:<br/>[1] Standard Errors assume that the covariance matrix of the errors is correctly specified.<br/>[2] The condition number is large, 1.39e+04. This might indicate that there are<br/>strong multicollinearity or other numerical problems."
      ],
      "text/plain": [
       "<class 'statsmodels.iolib.summary.Summary'>\n",
       "\"\"\"\n",
       "                            OLS Regression Results                            \n",
       "==============================================================================\n",
       "Dep. Variable:            totalwgt_lb   R-squared:                       0.007\n",
       "Model:                            OLS   Adj. R-squared:                  0.007\n",
       "Method:                 Least Squares   F-statistic:                     22.64\n",
       "Date:                Tue, 26 Jul 2022   Prob (F-statistic):           1.35e-14\n",
       "Time:                        18:53:15   Log-Likelihood:                -15884.\n",
       "No. Observations:                9038   AIC:                         3.178e+04\n",
       "Df Residuals:                    9034   BIC:                         3.181e+04\n",
       "Df Model:                           3                                         \n",
       "Covariance Type:            nonrobust                                         \n",
       "===================================================================================\n",
       "                      coef    std err          t      P>|t|      [0.025      0.975]\n",
       "-----------------------------------------------------------------------------------\n",
       "Intercept           5.6923      0.286     19.937      0.000       5.133       6.252\n",
       "isfirst[T.True]    -0.0504      0.031     -1.602      0.109      -0.112       0.011\n",
       "agepreg             0.1124      0.022      5.113      0.000       0.069       0.155\n",
       "agepreg2           -0.0018      0.000     -4.447      0.000      -0.003      -0.001\n",
       "==============================================================================\n",
       "Omnibus:                     1007.149   Durbin-Watson:                   1.616\n",
       "Prob(Omnibus):                  0.000   Jarque-Bera (JB):             3003.343\n",
       "Skew:                          -0.594   Prob(JB):                         0.00\n",
       "Kurtosis:                       5.562   Cond. No.                     1.39e+04\n",
       "==============================================================================\n",
       "\n",
       "Notes:\n",
       "[1] Standard Errors assume that the covariance matrix of the errors is correctly specified.\n",
       "[2] The condition number is large, 1.39e+04. This might indicate that there are\n",
       "strong multicollinearity or other numerical problems.\n",
       "\"\"\""
      ]
     },
     "execution_count": 22,
     "metadata": {},
     "output_type": "execute_result"
    }
   ],
   "source": [
    "live['agepreg2'] = live.agepreg**2\n",
    "formula = 'totalwgt_lb ~ isfirst + agepreg + agepreg2'\n",
    "results = smf.ols(formula, data=live).fit()\n",
    "results.summary()"
   ]
  },
  {
   "cell_type": "markdown",
   "metadata": {},
   "source": [
    "When we do that, the apparent effect of `isfirst` gets even smaller, and is no longer statistically significant.\n",
    "\n",
    "These results suggest that the apparent difference in weight between first babies and others might be explained by difference in mothers' ages, at least in part."
   ]
  },
  {
   "cell_type": "markdown",
   "metadata": {},
   "source": [
    "## Data Mining\n",
    "\n",
    "We can use `join` to combine variables from the preganancy and respondent tables."
   ]
  },
  {
   "cell_type": "code",
   "execution_count": 23,
   "metadata": {},
   "outputs": [],
   "source": [
    "download(\"https://github.com/AllenDowney/ThinkStats2/raw/master/code/2002FemResp.dct\")\n",
    "download(\"https://github.com/AllenDowney/ThinkStats2/raw/master/code/2002FemResp.dat.gz\")"
   ]
  },
  {
   "cell_type": "code",
   "execution_count": 24,
   "metadata": {},
   "outputs": [
    {
     "data": {
      "text/plain": [
       "(8884, 3333)"
      ]
     },
     "execution_count": 24,
     "metadata": {},
     "output_type": "execute_result"
    }
   ],
   "source": [
    "import nsfg\n",
    "\n",
    "live = live[live.prglngth>30]\n",
    "resp = nsfg.ReadFemResp()\n",
    "resp.index = resp.caseid\n",
    "join = live.join(resp, on='caseid', rsuffix='_r')\n",
    "join.shape"
   ]
  },
  {
   "cell_type": "markdown",
   "metadata": {},
   "source": [
    "And we can search for variables with explanatory power.\n",
    "\n",
    "Because we don't clean most of the variables, we are probably missing some good ones."
   ]
  },
  {
   "cell_type": "code",
   "execution_count": 25,
   "metadata": {},
   "outputs": [],
   "source": [
    "import patsy\n",
    "\n",
    "def GoMining(df):\n",
    "    \"\"\"Searches for variables that predict birth weight.\n",
    "\n",
    "    df: DataFrame of pregnancy records\n",
    "\n",
    "    returns: list of (rsquared, variable name) pairs\n",
    "    \"\"\"\n",
    "    variables = []\n",
    "    for name in df.columns:\n",
    "        try:\n",
    "            if df[name].var() < 1e-7:\n",
    "                continue\n",
    "\n",
    "            formula = 'totalwgt_lb ~ agepreg + ' + name\n",
    "            model = smf.ols(formula, data=df)\n",
    "            if model.nobs < len(df)/2:\n",
    "                continue\n",
    "\n",
    "            results = model.fit()\n",
    "        except (ValueError, TypeError, patsy.PatsyError) as e:\n",
    "            continue\n",
    "        \n",
    "        variables.append((results.rsquared, name))\n",
    "\n",
    "    return variables"
   ]
  },
  {
   "cell_type": "code",
   "execution_count": 26,
   "metadata": {},
   "outputs": [
    {
     "data": {
      "text/plain": [
       "[(0.005357647323640413, 'caseid'),\n",
       " (0.005750013985077018, 'pregordr'),\n",
       " (0.006330980237390094, 'pregend1'),\n",
       " (0.016017752709788446, 'nbrnaliv'),\n",
       " (0.005543156193094534, 'cmprgend'),\n",
       " (0.005442800591640151, 'cmprgbeg'),\n",
       " (0.005327612601560894, 'gestasun_m'),\n",
       " (0.007023552638453001, 'gestasun_w'),\n",
       " (0.12340041363361065, 'wksgest'),\n",
       " (0.027144274639579802, 'mosgest'),\n",
       " (0.0053368691675173, 'bpa_bdscheck1'),\n",
       " (0.018550925293942533, 'babysex'),\n",
       " (0.9498127305978009, 'birthwgt_lb'),\n",
       " (0.013102457615706165, 'birthwgt_oz'),\n",
       " (0.005543156193094534, 'cmbabdob'),\n",
       " (0.005684952650027997, 'kidage'),\n",
       " (0.006165319836040295, 'hpagelb'),\n",
       " (0.008066317368676912, 'matchfound'),\n",
       " (0.012529022541810764, 'anynurse'),\n",
       " (0.004409820583625712, 'frsteatd_n'),\n",
       " (0.004263973471709814, 'frsteatd_p'),\n",
       " (0.004020131462736054, 'frsteatd'),\n",
       " (0.005830571770254145, 'cmlastlb'),\n",
       " (0.005356747266123563, 'cmfstprg'),\n",
       " (0.005428333650990047, 'cmlstprg'),\n",
       " (0.005731401733758967, 'cmintstr'),\n",
       " (0.005543156193094534, 'cmintfin'),\n",
       " (0.00993306080712264, 'evuseint'),\n",
       " (0.009315099704132801, 'stopduse'),\n",
       " (0.003726833286730291, 'wantbold'),\n",
       " (0.0070729951341235164, 'timingok'),\n",
       " (0.005042504093811795, 'wthpart1'),\n",
       " (0.00683577148352299, 'hpwnold'),\n",
       " (0.006349094713449577, 'timokhp'),\n",
       " (0.002629137615111521, 'cohpbeg'),\n",
       " (0.0018043469091931774, 'cohpend'),\n",
       " (0.00808960003494219, 'tellfath'),\n",
       " (0.00905625035556279, 'whentell'),\n",
       " (0.00536997427879482, 'anyusint'),\n",
       " (0.13012519488625063, 'prglngth'),\n",
       " (0.005545615084230793, 'birthord'),\n",
       " (0.005591745847583596, 'datend'),\n",
       " (0.005327282505071085, 'agepreg'),\n",
       " (0.005665388843227981, 'datecon'),\n",
       " (0.10203149928156097, 'agecon'),\n",
       " (0.010461691367377401, 'fmarout5'),\n",
       " (0.009840804911715795, 'pmarpreg'),\n",
       " (0.011354138472805753, 'rmarout6'),\n",
       " (0.0106049646842995, 'fmarcon5'),\n",
       " (0.3008240784470768, 'lbw1'),\n",
       " (0.012193688404495417, 'bfeedwks'),\n",
       " (0.0079848356842529, 'oldwantr'),\n",
       " (0.006401386685363719, 'oldwantp'),\n",
       " (0.007980832538658222, 'wantresp'),\n",
       " (0.006334468987300279, 'wantpart'),\n",
       " (0.005591616004422151, 'cmbirth'),\n",
       " (0.0055903980552193255, 'ager'),\n",
       " (0.0055903980552193255, 'agescrn'),\n",
       " (0.009944942659110834, 'fmarital'),\n",
       " (0.008267774071422096, 'rmarital'),\n",
       " (0.006450913803300651, 'educat'),\n",
       " (0.006691986822550011, 'hieduc'),\n",
       " (0.016199503586253106, 'race'),\n",
       " (0.005351273101023235, 'hispanic'),\n",
       " (0.01123834930203138, 'hisprace'),\n",
       " (0.005415425347505054, 'rcurpreg'),\n",
       " (0.0060378317082541155, 'pregnum'),\n",
       " (0.006503720321448969, 'parity'),\n",
       " (0.005444228863618061, 'insuranc'),\n",
       " (0.009858545642850935, 'pubassis'),\n",
       " (0.009743158975296984, 'poverty'),\n",
       " (0.006124250620027971, 'laborfor'),\n",
       " (0.005476246226179038, 'religion'),\n",
       " (0.005908687699079596, 'metro'),\n",
       " (0.005329635323782278, 'brnout'),\n",
       " (0.005388240758326335, 'prglngth_i'),\n",
       " (0.0053720967087051985, 'datend_i'),\n",
       " (0.005666104281316975, 'agepreg_i'),\n",
       " (0.0053480888696338935, 'datecon_i'),\n",
       " (0.005612740210896416, 'agecon_i'),\n",
       " (0.005733140260446579, 'fmarout5_i'),\n",
       " (0.005422598571288018, 'pmarpreg_i'),\n",
       " (0.005498885939111409, 'rmarout6_i'),\n",
       " (0.0057702817140151685, 'fmarcon5_i'),\n",
       " (0.005355587358294223, 'learnprg_i'),\n",
       " (0.005464552651942123, 'pncarewk_i'),\n",
       " (0.005911575701061822, 'paydeliv_i'),\n",
       " (0.005327282505071085, 'lbw1_i'),\n",
       " (0.005422843440833436, 'bfeedwks_i'),\n",
       " (0.005456277033588197, 'maternlv_i'),\n",
       " (0.00539782376249387, 'oldwantr_i'),\n",
       " (0.005330102063603626, 'oldwantp_i'),\n",
       " (0.00539782376249387, 'wantresp_i'),\n",
       " (0.00538826132872694, 'wantpart_i'),\n",
       " (0.005415854205569115, 'hieduc_i'),\n",
       " (0.005327282505070974, 'hispanic_i'),\n",
       " (0.005662161985408587, 'parity_i'),\n",
       " (0.005490192077694744, 'insuranc_i'),\n",
       " (0.005588263662201554, 'pubassis_i'),\n",
       " (0.005674668721373899, 'poverty_i'),\n",
       " (0.005635393818939516, 'laborfor_i'),\n",
       " (0.005329126750794222, 'religion_i'),\n",
       " (0.007266083159805259, 'basewgt'),\n",
       " (0.006863344757268908, 'adj_mod_basewgt'),\n",
       " (0.007414601906967078, 'finalwgt'),\n",
       " (0.005996732588561593, 'secu_p'),\n",
       " (0.00540529186826777, 'sest'),\n",
       " (1.0, 'totalwgt_lb'),\n",
       " (0.005617788291713333, 'isfirst'),\n",
       " (0.007529217800612997, 'agepreg2'),\n",
       " (0.005357647323640413, 'caseid_r'),\n",
       " (0.005327683657806226, 'rscrinf'),\n",
       " (0.005394521556674303, 'rdormres'),\n",
       " (0.005643925975030384, 'rostscrn'),\n",
       " (0.005404878128178137, 'rscreenhisp'),\n",
       " (0.009651605370031069, 'rscreenrace'),\n",
       " (0.005578533477514025, 'age_a'),\n",
       " (0.0055903980552193255, 'age_r'),\n",
       " (0.005591616004422151, 'cmbirth_r'),\n",
       " (0.0055903980552193255, 'agescrn_r'),\n",
       " (0.008267774071422096, 'marstat'),\n",
       " (0.009944942659110834, 'fmarit'),\n",
       " (0.009091376003146134, 'evrmarry'),\n",
       " (0.00535044323233691, 'hisp'),\n",
       " (0.005516347262116028, 'numrace'),\n",
       " (0.0053556674242533076, 'roscnt'),\n",
       " (0.007003475396870407, 'hplocale'),\n",
       " (0.007768164334321925, 'manrel'),\n",
       " (0.005348262928552172, 'fl_rrace'),\n",
       " (0.005330593394374472, 'fl_rhisp'),\n",
       " (0.005986092508868723, 'goschol'),\n",
       " (0.006218247608423932, 'higrade'),\n",
       " (0.00559597220572472, 'compgrd'),\n",
       " (0.0061609210437847395, 'havedip'),\n",
       " (0.006413101502788288, 'dipged'),\n",
       " (0.00606142226696349, 'cmhsgrad'),\n",
       " (0.005328553608113351, 'wthparnw'),\n",
       " (0.005280615627084262, 'onown'),\n",
       " (0.0061291662740246, 'intact'),\n",
       " (0.006038819191132805, 'parmarr'),\n",
       " (0.0056351833456265155, 'momdegre'),\n",
       " (0.006872582290938678, 'momworkd'),\n",
       " (0.005330376217834276, 'momchild'),\n",
       " (0.005349294568680718, 'momfstch'),\n",
       " (0.0062451111463345255, 'daddegre'),\n",
       " (0.005328519387111874, 'bothbiol'),\n",
       " (0.006182128607900683, 'intact18'),\n",
       " (0.005340451644766264, 'onown18'),\n",
       " (0.006503720321448969, 'numbabes'),\n",
       " (0.005550348810967609, 'totplacd'),\n",
       " (0.005337228144332018, 'nplaced'),\n",
       " (0.005530586313726937, 'ndied'),\n",
       " (0.005539874079434459, 'nadoptv'),\n",
       " (0.005830571770254145, 'cmlastlb_r'),\n",
       " (0.005356747266123563, 'cmfstprg_r'),\n",
       " (0.005428333650990047, 'cmlstprg_r'),\n",
       " (0.0059155825615551105, 'menarche'),\n",
       " (0.005343845185886931, 'pregnowq'),\n",
       " (0.0060378317082541155, 'numpregs'),\n",
       " (0.005415425347504832, 'currpreg'),\n",
       " (0.005780984893938523, 'giveadpt'),\n",
       " (0.005254766252302034, 'otherkid'),\n",
       " (0.005289464417210787, 'everadpt'),\n",
       " (0.005828685166372138, 'seekadpt'),\n",
       " (0.0065420652227655696, 'evwntano'),\n",
       " (0.007146484736500702, 'timesmar'),\n",
       " (0.006260110249016293, 'hsbverif'),\n",
       " (0.0065101987688339635, 'cmmarrhx'),\n",
       " (0.007559824082689404, 'hxagemar'),\n",
       " (0.007432269596385432, 'cmhsbdobx'),\n",
       " (0.00783511174689866, 'lvtoghx'),\n",
       " (0.006732535398132455, 'hisphx'),\n",
       " (0.00854385589625295, 'racehx1'),\n",
       " (0.009526403068448097, 'chedmarn'),\n",
       " (0.006464090481781315, 'marbefhx'),\n",
       " (0.007928273601067515, 'kidshx'),\n",
       " (0.007183543845538876, 'cmmarrch'),\n",
       " (0.006761687432294994, 'cmdobch'),\n",
       " (0.006548743638517873, 'prevhusb'),\n",
       " (0.00629560886714331, 'cmstrthp'),\n",
       " (0.007320288484473414, 'evrcohab'),\n",
       " (0.0073365000741102415, 'liveoth'),\n",
       " (0.006131749211457649, 'prevcohb'),\n",
       " (0.005640038945984638, 'cmfstsex'),\n",
       " (0.0054298693534173825, 'agefstsx'),\n",
       " (0.0010172326396578057, 'grfstsx'),\n",
       " (0.005745270584702089, 'sameman'),\n",
       " (0.005477260059309597, 'fpage'),\n",
       " (0.0053827337115198715, 'knowfp'),\n",
       " (0.006043726456224308, 'cmlsexfp'),\n",
       " (0.005910693467716555, 'cmfplast'),\n",
       " (0.005423734887383902, 'lifeprt'),\n",
       " (0.0053417476676169695, 'mon12prt'),\n",
       " (0.005349388865006022, 'parts12'),\n",
       " (0.006502466569061172, 'ptsb4mar'),\n",
       " (0.006270026832284281, 'p1yrage'),\n",
       " (0.004475735734043362, 'p1yhsage'),\n",
       " (0.0046862977809064565, 'p1yrf'),\n",
       " (0.007927219826495246, 'cmfsexx'),\n",
       " (0.006085450415460381, 'pcurrntx'),\n",
       " (0.006103433602601682, 'cmlsexx'),\n",
       " (0.006129604796508703, 'cmlstsxx'),\n",
       " (0.0060299492496311835, 'cmlstsx12'),\n",
       " (0.005339302768089693, 'lifeprts'),\n",
       " (0.0053282763855252435, 'cmlastsx'),\n",
       " (0.005790778139281194, 'currprtt'),\n",
       " (0.006691333575974068, 'currprts'),\n",
       " (0.004259919311988547, 'cmpart1y1'),\n",
       " (0.0053727944846480025, 'evertubs'),\n",
       " (0.005394668684848614, 'everhyst'),\n",
       " (0.0051812137216755705, 'everovrs'),\n",
       " (0.0055216206466339735, 'everothr'),\n",
       " (0.005497888372024251, 'anyfster'),\n",
       " (0.0058069839099264, 'fstrop12'),\n",
       " (0.0064869433773807605, 'anyopsmn'),\n",
       " (0.0064756285532653335, 'anymster'),\n",
       " (0.005457516875982504, 'rsurgstr'),\n",
       " (0.006286783510051519, 'psurgstr'),\n",
       " (0.005861647667325776, 'onlytbvs'),\n",
       " (0.0038784396522588693, 'posiblpg'),\n",
       " (0.008011147208074498, 'canhaver'),\n",
       " (0.003893424250926425, 'pregnono'),\n",
       " (0.005331594693332886, 'rstrstat'),\n",
       " (0.006809171829395333, 'pstrstat'),\n",
       " (0.00644307628137919, 'pill'),\n",
       " (0.005456714711317923, 'condom'),\n",
       " (0.006878239843079559, 'vasectmy'),\n",
       " (0.005647132703301638, 'widrawal'),\n",
       " (0.0067777099610751845, 'depoprov'),\n",
       " (0.005360766267951789, 'norplant'),\n",
       " (0.006558270799857713, 'rhythm'),\n",
       " (0.006781472906158714, 'tempsafe'),\n",
       " (0.005333255591501107, 'mornpill'),\n",
       " (0.005588775806414037, 'diafragm'),\n",
       " (0.008181466230171242, 'wocondom'),\n",
       " (0.005712441891461806, 'foamalon'),\n",
       " (0.005605892825595982, 'jelcrmal'),\n",
       " (0.006669505309995771, 'cervlcap'),\n",
       " (0.005328971051790643, 'supposit'),\n",
       " (0.0067739501854262585, 'todayspg'),\n",
       " (0.005348443535178271, 'iud'),\n",
       " (0.005669693175719193, 'lunelle'),\n",
       " (0.0055746648157347645, 'patch'),\n",
       " (0.006317045357729367, 'othrmeth'),\n",
       " (0.005328912963907251, 'everused'),\n",
       " (0.0062621002452544205, 'methdiss'),\n",
       " (0.006783255187157056, 'methstop01'),\n",
       " (0.005827582700002387, 'firsmeth01'),\n",
       " (0.005996957311996121, 'numfirsm'),\n",
       " (0.0057600954802820015, 'numfirsm1'),\n",
       " (0.006335882371607315, 'numfirsm2'),\n",
       " (0.006336231852240637, 'drugdev'),\n",
       " (0.004369823481887081, 'firstime2'),\n",
       " (0.005183357448185322, 'cmfstuse'),\n",
       " (0.006498991331905679, 'cmfirsm'),\n",
       " (0.004437510523967125, 'agefstus'),\n",
       " (0.005735952227613139, 'usefstsx'),\n",
       " (0.005546199546767272, 'intr_ec3'),\n",
       " (0.006421238927683981, 'monsx1177'),\n",
       " (0.005995975528061637, 'monsx1178'),\n",
       " (0.005871772632105143, 'monsx1179'),\n",
       " (0.005355244912861434, 'monsx1180'),\n",
       " (0.005475780215880466, 'monsx1181'),\n",
       " (0.005878264818758194, 'monsx1182'),\n",
       " (0.00593529016936678, 'monsx1183'),\n",
       " (0.0061367227367412625, 'monsx1184'),\n",
       " (0.00611446132795479, 'monsx1185'),\n",
       " (0.005914492828921203, 'monsx1186'),\n",
       " (0.005715145721739812, 'monsx1187'),\n",
       " (0.0059426297773015335, 'monsx1188'),\n",
       " (0.006403878523879136, 'monsx1189'),\n",
       " (0.006652431486344312, 'monsx1190'),\n",
       " (0.005859464888209431, 'monsx1191'),\n",
       " (0.006183670411887721, 'monsx1192'),\n",
       " (0.005970697654319013, 'monsx1193'),\n",
       " (0.006185930348181823, 'monsx1194'),\n",
       " (0.006261722615339971, 'monsx1195'),\n",
       " (0.005883642310483994, 'monsx1196'),\n",
       " (0.006312131013808564, 'monsx1197'),\n",
       " (0.006334490158298345, 'monsx1198'),\n",
       " (0.006238157095211028, 'monsx1199'),\n",
       " (0.005958303111450847, 'monsx1200'),\n",
       " (0.005971611823831102, 'monsx1201'),\n",
       " (0.006232965940293433, 'monsx1202'),\n",
       " (0.0061567646880544835, 'monsx1203'),\n",
       " (0.006463639908944829, 'monsx1204'),\n",
       " (0.006792900648230571, 'monsx1205'),\n",
       " (0.006223101663507369, 'monsx1206'),\n",
       " (0.006017807331303304, 'monsx1207'),\n",
       " (0.006329241899985516, 'monsx1208'),\n",
       " (0.0063566695058372424, 'monsx1209'),\n",
       " (0.006029258683564298, 'monsx1210'),\n",
       " (0.005520990260007963, 'monsx1211'),\n",
       " (0.005987728957053573, 'monsx1212'),\n",
       " (0.007198033668191051, 'monsx1213'),\n",
       " (0.006899020398532629, 'monsx1214'),\n",
       " (0.006151064433626341, 'monsx1215'),\n",
       " (0.006041191941944746, 'monsx1216'),\n",
       " (0.006215321754830194, 'monsx1217'),\n",
       " (0.005713521284034573, 'monsx1218'),\n",
       " (0.005933855306221147, 'monsx1219'),\n",
       " (0.006167667783488429, 'monsx1220'),\n",
       " (0.006029948736347213, 'monsx1221'),\n",
       " (0.005840062379099287, 'monsx1222'),\n",
       " (0.005619611941114044, 'monsx1223'),\n",
       " (0.006563305715290513, 'monsx1224'),\n",
       " (0.006284349732578187, 'monsx1225'),\n",
       " (0.006323173014771366, 'monsx1226'),\n",
       " (0.005534365979907752, 'monsx1227'),\n",
       " (0.006374798787152525, 'monsx1228'),\n",
       " (0.007520765906871785, 'monsx1229'),\n",
       " (0.008083697967827597, 'monsx1230'),\n",
       " (0.007233374656298253, 'monsx1231'),\n",
       " (0.007985217080101137, 'monsx1232'),\n",
       " (0.007191033197050389, 'monsx1233'),\n",
       " (0.006261425077470739, 'cmstrtmc'),\n",
       " (0.005825958517251206, 'cmendmc'),\n",
       " (0.005603506388835111, 'methhist011'),\n",
       " (0.007284980353802317, 'cmdatbgn'),\n",
       " (0.005635409045157691, 'nummult'),\n",
       " (0.005551844008685358, 'methhist021'),\n",
       " (0.0054895117434013985, 'nummult2'),\n",
       " (0.0055628303964547765, 'methhist031'),\n",
       " (0.005546883063650032, 'nummult3'),\n",
       " (0.005487202405734748, 'methhist041'),\n",
       " (0.005502460937693798, 'nummult4'),\n",
       " (0.0055361891691547704, 'methhist051'),\n",
       " (0.005452729882170493, 'nummult5'),\n",
       " (0.005489245446082758, 'methhist061'),\n",
       " (0.005475895500679284, 'nummult6'),\n",
       " (0.0054732146908181845, 'methhist071'),\n",
       " (0.005428876448518749, 'nummult7'),\n",
       " (0.005594046854832779, 'methhist081'),\n",
       " (0.0054730049104986245, 'nummult8'),\n",
       " (0.0054826171583017835, 'methhist091'),\n",
       " (0.0054272326646152, 'nummult9'),\n",
       " (0.0055033931564414384, 'methhist101'),\n",
       " (0.005437143233952169, 'nummult10'),\n",
       " (0.005516430998187216, 'methhist111'),\n",
       " (0.005502305304443622, 'nummult11'),\n",
       " (0.005470302098175672, 'methhist121'),\n",
       " (0.005504255019819215, 'nummult12'),\n",
       " (0.005607458874307136, 'methhist131'),\n",
       " (0.005549721074183056, 'nummult13'),\n",
       " (0.0055467170682923506, 'methhist141'),\n",
       " (0.00554268385974932, 'nummult14'),\n",
       " (0.0055396922955603944, 'methhist151'),\n",
       " (0.005532468054715967, 'nummult15'),\n",
       " (0.00553649264794609, 'methhist161'),\n",
       " (0.005536401342006503, 'nummult16'),\n",
       " (0.00551933216368472, 'methhist171'),\n",
       " (0.00549348600802102, 'nummult17'),\n",
       " (0.005507179974851284, 'methhist181'),\n",
       " (0.0054913983634302665, 'nummult18'),\n",
       " (0.005471902813541485, 'methhist191'),\n",
       " (0.005487640499653668, 'nummult19'),\n",
       " (0.005504743168494364, 'methhist201'),\n",
       " (0.005466739231583695, 'nummult20'),\n",
       " (0.005510186988941568, 'methhist211'),\n",
       " (0.005491203193220606, 'nummult21'),\n",
       " (0.005506337448605736, 'methhist221'),\n",
       " (0.005511607291997067, 'nummult22'),\n",
       " (0.0055295450491826825, 'methhist231'),\n",
       " (0.005530806017465362, 'nummult23'),\n",
       " (0.00555002676240679, 'methhist241'),\n",
       " (0.005539948289883023, 'nummult24'),\n",
       " (0.0055211355102111614, 'methhist251'),\n",
       " (0.00556828550933397, 'nummult25'),\n",
       " (0.00554012968854245, 'methhist261'),\n",
       " (0.005673797628286015, 'nummult26'),\n",
       " (0.005531974194227907, 'methhist271'),\n",
       " (0.005784089177182761, 'nummult27'),\n",
       " (0.0055784115374737375, 'methhist281'),\n",
       " (0.005600401746815309, 'nummult28'),\n",
       " (0.005578714034812471, 'methhist291'),\n",
       " (0.005615514861761262, 'nummult29'),\n",
       " (0.0056429313351301635, 'methhist301'),\n",
       " (0.00573173986023956, 'nummult30'),\n",
       " (0.005616953589053675, 'methhist311'),\n",
       " (0.005669936949214471, 'nummult31'),\n",
       " (0.005643555222208052, 'methhist321'),\n",
       " (0.005749895915191039, 'nummult32'),\n",
       " (0.005675590741276215, 'methhist331'),\n",
       " (0.005780466079303159, 'nummult33'),\n",
       " (0.005727245232216571, 'methhist341'),\n",
       " (0.00587256497631905, 'nummult34'),\n",
       " (0.005746152259455295, 'methhist351'),\n",
       " (0.005842619866505694, 'nummult35'),\n",
       " (0.005750154151444198, 'methhist361'),\n",
       " (0.005681701891443347, 'nummult36'),\n",
       " (0.006075297759302933, 'methhist371'),\n",
       " (0.005704951869176633, 'nummult37'),\n",
       " (0.006209219638329988, 'methhist381'),\n",
       " (0.005708874481709647, 'nummult38'),\n",
       " (0.00615001891252942, 'methhist391'),\n",
       " (0.00574794039603721, 'nummult39'),\n",
       " (0.006692950545528653, 'methhist401'),\n",
       " (0.006258857669329543, 'nummult40'),\n",
       " (0.007456274427272258, 'methhist411'),\n",
       " (0.006932216156475213, 'nummult41'),\n",
       " (0.008359250704236931, 'methhist421'),\n",
       " (0.007521964733084974, 'nummult42'),\n",
       " (0.009953102543863057, 'methhist431'),\n",
       " (0.007971602243966425, 'nummult43'),\n",
       " (0.009584160754144921, 'methhist441'),\n",
       " (0.007606603124692746, 'nummult44'),\n",
       " (0.009508144086923465, 'methhist451'),\n",
       " (0.006828747690285741, 'nummult45'),\n",
       " (0.007584417482075945, 'currmeth1'),\n",
       " (0.006270373440042998, 'lastmonmeth1'),\n",
       " (0.006727716986788201, 'uselstp'),\n",
       " (0.007019085471651643, 'lstmthp11'),\n",
       " (0.00558079811714618, 'usefstp'),\n",
       " (0.006042935277705053, 'pst4wksx'),\n",
       " (0.006741983069778024, 'pswkcond2'),\n",
       " (0.006418878609596557, 'p12mocon'),\n",
       " (0.00534642916952166, 'bthcon12'),\n",
       " (0.005332954623398223, 'medtst12'),\n",
       " (0.005341624685738289, 'bccns12'),\n",
       " (0.005429737619422337, 'stcns12'),\n",
       " (0.005470924106891761, 'eccns12'),\n",
       " (0.00534897207715912, 'prgtst12'),\n",
       " (0.005394374943375468, 'abort12'),\n",
       " (0.005367446414242694, 'pap12'),\n",
       " (0.005672332993427065, 'pelvic12'),\n",
       " (0.0062589483576195315, 'stdtst12'),\n",
       " (0.004842342942612654, 'numbcvis'),\n",
       " (0.004399661007812972, 'papplbc2'),\n",
       " (0.004437846218583008, 'pappelec'),\n",
       " (0.005725980591540503, 'rwant'),\n",
       " (0.0059484588815127415, 'pwant'),\n",
       " (0.005332008335859562, 'hlpprg'),\n",
       " (0.005561944793632145, 'prgvisit'),\n",
       " (0.0057438068195753145, 'hlpmc'),\n",
       " (0.006676017274232726, 'duchfreq'),\n",
       " (0.005813100370292035, 'pid'),\n",
       " (0.005690158662538969, 'diabetes'),\n",
       " (0.005531743131489297, 'ovacyst'),\n",
       " (0.006038196805351559, 'uf'),\n",
       " (0.005934224089218398, 'endo'),\n",
       " (0.005440537772177567, 'ovuprob'),\n",
       " (0.0061251320208634, 'limited'),\n",
       " (0.0055412140576924784, 'equipmnt'),\n",
       " (0.005981350416892073, 'donbld85'),\n",
       " (0.005436612794016971, 'hivtest'),\n",
       " (0.004477971595801988, 'cmhivtst'),\n",
       " (0.004355089528519818, 'plchiv'),\n",
       " (0.004314612061914858, 'hivtst'),\n",
       " (0.00561821377110816, 'talkdoct'),\n",
       " (0.005329810046365124, 'retrovir'),\n",
       " (0.006663672692549416, 'cover12'),\n",
       " (0.006693078733038926, 'coverhow01'),\n",
       " (0.0060500431013753575, 'sameadd'),\n",
       " (0.005329635323782278, 'brnout_r'),\n",
       " (0.014003795578114597, 'paydu'),\n",
       " (0.005407180634570796, 'relraisd'),\n",
       " (0.005370356923925623, 'relcurr'),\n",
       " (0.005655636115156848, 'fundam'),\n",
       " (0.005504988604336458, 'reldlife'),\n",
       " (0.005867952875404425, 'attndnow'),\n",
       " (0.005933481080438785, 'evwrk6mo'),\n",
       " (0.006304973857167218, 'cmbfstwk'),\n",
       " (0.005644145001417411, 'evrntwrk'),\n",
       " (0.005328150312206126, 'wrk12mos'),\n",
       " (0.007178560512178245, 'fpt12mos'),\n",
       " (0.006445359844623688, 'dolastwk1'),\n",
       " (0.004018698456840442, 'dolastwk2'),\n",
       " (0.005216743193329543, 'dolastwk3'),\n",
       " (0.0062574600046572115, 'rwrkst'),\n",
       " (0.005644484119356141, 'everwork'),\n",
       " (0.005177779293875973, 'rnumjob'),\n",
       " (0.005293304160077894, 'rftptx'),\n",
       " (0.0059898508613941415, 'rearnty'),\n",
       " (0.007212528591326373, 'splstwk1'),\n",
       " (0.00852889691085812, 'spwrkst'),\n",
       " (0.005713999272682013, 'spnumjob'),\n",
       " (0.006751568523647333, 'spftptx'),\n",
       " (0.005877030054991739, 'spearnty'),\n",
       " (0.004886896120925077, 'chcarany'),\n",
       " (0.005366116602676385, 'better'),\n",
       " (0.005356197123854267, 'staytog'),\n",
       " (0.005328846022478517, 'samesex'),\n",
       " (0.0053541143477805475, 'anyact'),\n",
       " (0.005405004141726288, 'sxok18'),\n",
       " (0.005997965901475055, 'sxok16'),\n",
       " (0.005984938037659759, 'chreward'),\n",
       " (0.005973387215936654, 'chsuppor'),\n",
       " (0.005352012775372117, 'gayadopt'),\n",
       " (0.005785901183284814, 'okcohab'),\n",
       " (0.005330226512754943, 'warm'),\n",
       " (0.005334826170624973, 'achieve'),\n",
       " (0.006122955918854811, 'family'),\n",
       " (0.005413165880377879, 'acasilang'),\n",
       " (0.007834205022225316, 'wage'),\n",
       " (0.006321423555551209, 'selfinc'),\n",
       " (0.006237964556073172, 'socsec'),\n",
       " (0.005330070889624228, 'disabil'),\n",
       " (0.005337980306478363, 'retire'),\n",
       " (0.008398675180815496, 'ssi'),\n",
       " (0.006015715048611647, 'unemp'),\n",
       " (0.005327537441129571, 'chldsupp'),\n",
       " (0.009477120535617223, 'interest'),\n",
       " (0.007333419685710996, 'dividend'),\n",
       " (0.005327382416789206, 'othinc'),\n",
       " (0.006775124578427105, 'toincwmy'),\n",
       " (0.005352217186313624, 'totinc'),\n",
       " (0.0064238214634630975, 'pubasst'),\n",
       " (0.008558622074178679, 'foodstmp'),\n",
       " (0.006637757779646036, 'wic'),\n",
       " (0.005378525056025318, 'hlptrans'),\n",
       " (0.005920897262712499, 'hlpchldc'),\n",
       " (0.005478955696682664, 'hlpjob'),\n",
       " (0.0055903980552193255, 'ager_r'),\n",
       " (0.009944942659110834, 'fmarital_r'),\n",
       " (0.006450913803300651, 'educat_r'),\n",
       " (0.006691986822550011, 'hieduc_r'),\n",
       " (0.005351273101023235, 'hispanic_r'),\n",
       " (0.016199503586253106, 'race_r'),\n",
       " (0.01123834930203138, 'hisprace_r'),\n",
       " (0.005329986431589662, 'numkdhh'),\n",
       " (0.005394528433483425, 'numfmhh'),\n",
       " (0.006182128607900794, 'intctfam'),\n",
       " (0.005525721076047652, 'parage14'),\n",
       " (0.005473746177716121, 'educmom'),\n",
       " (0.0058533592637336485, 'agemomb1'),\n",
       " (0.005415854205569115, 'hieduc_i_r'),\n",
       " (0.005327282505070974, 'hispanic_i_r'),\n",
       " (0.005329835819694262, 'parage14_i'),\n",
       " (0.006383228212261338, 'educmom_i'),\n",
       " (0.006160171070091369, 'agemomb1_i'),\n",
       " (0.005415425347505054, 'rcurpreg_r'),\n",
       " (0.0060378317082541155, 'pregnum_r'),\n",
       " (0.0060943638898968144, 'compreg'),\n",
       " (0.005630995365190072, 'lossnum'),\n",
       " (0.005522608888729241, 'abortion'),\n",
       " (0.0056503224424949705, 'lbpregs'),\n",
       " (0.006503720321448969, 'parity_r'),\n",
       " (0.005417941356685607, 'births5'),\n",
       " (0.005764362444789728, 'outcom01'),\n",
       " (0.005931010998079911, 'outcom02'),\n",
       " (0.006122853755040514, 'outcom03'),\n",
       " (0.005419025041086045, 'datend01'),\n",
       " (0.006029071803282826, 'datend02'),\n",
       " (0.006108693948040367, 'datend03'),\n",
       " (0.007278279163181578, 'ageprg01'),\n",
       " (0.008535289365551813, 'ageprg02'),\n",
       " (0.009220965964321981, 'ageprg03'),\n",
       " (0.005389678393071362, 'datcon01'),\n",
       " (0.006145518207557932, 'datcon02'),\n",
       " (0.0062167895640961035, 'datcon03'),\n",
       " (0.007067187542220688, 'agecon01'),\n",
       " (0.008474519661758051, 'agecon02'),\n",
       " (0.008893897369700587, 'agecon03'),\n",
       " (0.011269357246806444, 'marout01'),\n",
       " (0.010141720907287044, 'marout02'),\n",
       " (0.011807801994375033, 'marout03'),\n",
       " (0.011407737138640295, 'rmarout01'),\n",
       " (0.010546913206564867, 'rmarout02'),\n",
       " (0.01343006646571343, 'rmarout03'),\n",
       " (0.009234871431322844, 'marcon01'),\n",
       " (0.01048140179553414, 'marcon02'),\n",
       " (0.011752599354395321, 'marcon03'),\n",
       " (0.011437770919637269, 'cebow'),\n",
       " (0.007442478133715902, 'cebowc'),\n",
       " (0.005331372450776306, 'datbaby1'),\n",
       " (0.006431931319703765, 'agebaby1'),\n",
       " (0.006043928783913133, 'liv1chld'),\n",
       " (0.005662161985408587, 'lossnum_i'),\n",
       " (0.005662161985408587, 'abortion_i'),\n",
       " (0.005662161985408587, 'lbpregs_i'),\n",
       " (0.005662161985408587, 'parity_i_r'),\n",
       " (0.005662161985408587, 'births5_i'),\n",
       " (0.005917896845371695, 'outcom02_i'),\n",
       " (0.005328062662569244, 'outcom03_i'),\n",
       " (0.005673431831919484, 'outcom04_i'),\n",
       " (0.005512637793773423, 'outcom05_i'),\n",
       " (0.005331053251030227, 'outcom06_i'),\n",
       " (0.005336032874002861, 'outcom07_i'),\n",
       " (0.005431343175452796, 'outcom08_i'),\n",
       " (0.005365193139261981, 'outcom09_i'),\n",
       " (0.005548660472480149, 'outcom10_i'),\n",
       " (0.00551793175487425, 'datend01_i'),\n",
       " (0.005690934538439829, 'datend02_i'),\n",
       " (0.005332715022836276, 'datend03_i'),\n",
       " (0.005328883282733954, 'datend04_i'),\n",
       " (0.005521053140913668, 'datend05_i'),\n",
       " (0.00561428828090571, 'datend06_i'),\n",
       " (0.005663078981643865, 'datend07_i'),\n",
       " (0.005858198017675953, 'datend08_i'),\n",
       " (0.005795817124290337, 'datend09_i'),\n",
       " (0.005548660472480149, 'datend10_i'),\n",
       " (0.005537193660306361, 'datend12_i'),\n",
       " (0.005537193660306361, 'datend13_i'),\n",
       " (0.005572507513472824, 'ageprg01_i'),\n",
       " (0.006081858146695152, 'ageprg02_i'),\n",
       " (0.005418070111408824, 'ageprg03_i'),\n",
       " (0.0053816621737194925, 'ageprg04_i'),\n",
       " (0.005613913002136761, 'ageprg05_i'),\n",
       " (0.005489445784257141, 'ageprg06_i'),\n",
       " (0.005564320884191343, 'ageprg07_i'),\n",
       " (0.005806143379294859, 'ageprg08_i'),\n",
       " (0.005795817124290337, 'ageprg09_i'),\n",
       " (0.005548660472480149, 'ageprg10_i'),\n",
       " (0.005537193660306361, 'ageprg12_i'),\n",
       " (0.005537193660306361, 'ageprg13_i'),\n",
       " (0.005405602200151627, 'datcon01_i'),\n",
       " (0.005690934538439829, 'datcon02_i'),\n",
       " (0.005332715022836276, 'datcon03_i'),\n",
       " (0.005328593623978972, 'datcon04_i'),\n",
       " (0.005498332824140473, 'datcon05_i'),\n",
       " (0.00561428828090571, 'datcon06_i'),\n",
       " (0.005591773203161621, 'datcon07_i'),\n",
       " (0.005858198017675953, 'datcon08_i'),\n",
       " (0.005795817124290337, 'datcon09_i'),\n",
       " (0.005548660472480149, 'datcon10_i'),\n",
       " (0.005537193660306361, 'datcon12_i'),\n",
       " (0.005537193660306361, 'datcon13_i'),\n",
       " (0.005464459762510643, 'agecon01_i'),\n",
       " (0.005953867386222278, 'agecon02_i'),\n",
       " (0.005440344671912678, 'agecon03_i'),\n",
       " (0.005462357369145465, 'agecon04_i'),\n",
       " (0.005585209645216915, 'agecon05_i'),\n",
       " (0.005565046255331274, 'agecon06_i'),\n",
       " (0.005690797025869498, 'agecon07_i'),\n",
       " (0.005858198017675953, 'agecon08_i'),\n",
       " (0.005795817124290337, 'agecon09_i'),\n",
       " (0.005548660472480149, 'agecon10_i'),\n",
       " (0.005537193660306361, 'agecon12_i'),\n",
       " (0.005537193660306361, 'agecon13_i'),\n",
       " (0.005495846986551478, 'marout01_i'),\n",
       " (0.005617451126696094, 'marout02_i'),\n",
       " (0.0057675316941988575, 'marout03_i'),\n",
       " (0.006058555904314256, 'marout04_i'),\n",
       " (0.007831854171707842, 'marout05_i'),\n",
       " (0.006525666016629406, 'marout06_i'),\n",
       " (0.00724208646889779, 'marout07_i'),\n",
       " (0.006008832051372925, 'marout08_i'),\n",
       " (0.005363835534778705, 'marout09_i'),\n",
       " (0.005434828901757949, 'marout10_i'),\n",
       " (0.005588512919647237, 'marout11_i'),\n",
       " (0.005427474035637703, 'rmarout01_i'),\n",
       " (0.005678427980718048, 'rmarout02_i'),\n",
       " (0.005498637325022426, 'rmarout03_i'),\n",
       " (0.005526063051170982, 'rmarout04_i'),\n",
       " (0.006880617443338566, 'rmarout05_i'),\n",
       " (0.006242519070738695, 'rmarout06_i'),\n",
       " (0.006539245819281336, 'rmarout07_i'),\n",
       " (0.006008832051372925, 'rmarout08_i'),\n",
       " (0.005363835534778705, 'rmarout09_i'),\n",
       " (0.005434828901757949, 'rmarout10_i'),\n",
       " (0.005588512919647237, 'rmarout11_i'),\n",
       " (0.00561503495200022, 'marcon01_i'),\n",
       " (0.005611341957289295, 'marcon02_i'),\n",
       " (0.006181472870089744, 'marcon03_i'),\n",
       " (0.005767269267942021, 'marcon04_i'),\n",
       " (0.007880198703264507, 'marcon05_i'),\n",
       " (0.00680621180187746, 'marcon06_i'),\n",
       " (0.006785317780935385, 'marcon07_i'),\n",
       " (0.005977443508035196, 'marcon08_i'),\n",
       " (0.005345000467353644, 'marcon09_i'),\n",
       " (0.005434828901757949, 'marcon10_i'),\n",
       " (0.005588512919647237, 'marcon11_i'),\n",
       " (0.005662161985408587, 'cebow_i'),\n",
       " (0.005662161985408587, 'cebowc_i'),\n",
       " (0.005794281025144787, 'datbaby1_i'),\n",
       " (0.005943478567578153, 'agebaby1_i'),\n",
       " (0.005662161985408587, 'liv1chld_i'),\n",
       " (0.008267774071422096, 'rmarital_r'),\n",
       " (0.0062973555918357516, 'fmarno'),\n",
       " (0.006812670300484713, 'mardat01'),\n",
       " (0.0065210569478663105, 'fmar1age'),\n",
       " (0.0109615635907514, 'mar1diss'),\n",
       " (0.010112030016853568, 'mar1bir1'),\n",
       " (0.009060360846987803, 'mar1con1'),\n",
       " (0.008161692294398337, 'con1mar1'),\n",
       " (0.010059124870520408, 'b1premar'),\n",
       " (0.007255508514300457, 'cohever'),\n",
       " (0.006194957970746207, 'evmarcoh'),\n",
       " (0.00271939367881302, 'cohab1'),\n",
       " (0.006628001579039089, 'cohstat'),\n",
       " (0.0031380350118123124, 'cohout'),\n",
       " (0.00542047971067261, 'coh1dur'),\n",
       " (0.005336364971175067, 'sexever'),\n",
       " (0.005944534641656785, 'vry1stag'),\n",
       " (0.00614261333826438, 'sex1age'),\n",
       " (0.0053318098738383, 'vry1stsx'),\n",
       " (0.005308860111875036, 'datesex1'),\n",
       " (0.0053539808912769216, 'sexonce'),\n",
       " (0.005355525286813934, 'fsexpage'),\n",
       " (0.00673129712673215, 'sexmar'),\n",
       " (0.0065143616191197795, 'sex1for'),\n",
       " (0.005443436227038467, 'parts1yr'),\n",
       " (0.0058559384438559015, 'lsexdate'),\n",
       " (0.005966988984321908, 'lsexrage'),\n",
       " (0.006336599492574813, 'lifprtnr'),\n",
       " (0.005707996133960003, 'fmarno_i'),\n",
       " (0.005413354626453648, 'mardat01_i'),\n",
       " (0.005347124675960324, 'mardat02_i'),\n",
       " (0.005977057012740761, 'mardis01_i'),\n",
       " (0.0054115975647813785, 'mardis02_i'),\n",
       " (0.005421911068140828, 'mardis03_i'),\n",
       " (0.005404865865728525, 'mardis04_i'),\n",
       " (0.005455649152207198, 'mardis05_i'),\n",
       " (0.00556056629225854, 'marend01_i'),\n",
       " (0.005343277856898254, 'marend02_i'),\n",
       " (0.005329489935103182, 'marend03_i'),\n",
       " (0.005344829446110255, 'marend04_i'),\n",
       " (0.005466515793662197, 'fmar1age_i'),\n",
       " (0.006229712679170052, 'agediss1_i'),\n",
       " (0.005818093852332562, 'agedd1_i'),\n",
       " (0.005952534717923896, 'mar1diss_i'),\n",
       " (0.005562511474124454, 'dd1remar_i'),\n",
       " (0.0056514514657068915, 'mar1bir1_i'),\n",
       " (0.005519846049074406, 'mar1con1_i'),\n",
       " (0.005451844769302827, 'con1mar1_i'),\n",
       " (0.005682316811192689, 'b1premar_i'),\n",
       " (0.006692214376486594, 'cohab1_i'),\n",
       " (0.005675247994850752, 'cohstat_i'),\n",
       " (0.005512329697066498, 'cohout_i'),\n",
       " (0.006334563438736507, 'coh1dur_i'),\n",
       " (0.006043991819789429, 'sexever_i'),\n",
       " (0.0053941533797434715, 'vry1stag_i'),\n",
       " (0.005426725797249565, 'sex1age_i'),\n",
       " (0.005541139244667148, 'vry1stsx_i'),\n",
       " (0.0056974344065517935, 'datesex1_i'),\n",
       " (0.005352361370883685, 'fsexpage_i'),\n",
       " (0.0054768804615887845, 'sexmar_i'),\n",
       " (0.005556170017821382, 'sex1for_i'),\n",
       " (0.0053912178048813875, 'parts1yr_i'),\n",
       " (0.005329254109875281, 'lsexdate_i'),\n",
       " (0.005436061430343253, 'lsexrage_i'),\n",
       " (0.005582651346654144, 'lifprtnr_i'),\n",
       " (0.0056005006117659795, 'strloper'),\n",
       " (0.005363580062538564, 'tubs'),\n",
       " (0.006426387530719224, 'vasect'),\n",
       " (0.0055320684576875, 'hyst'),\n",
       " (0.0053307160638501605, 'ovarect'),\n",
       " (0.005518449429605998, 'othr'),\n",
       " (0.005817702615502851, 'othrm'),\n",
       " (0.005480431084785797, 'fecund'),\n",
       " (0.006048959480912219, 'anybc36'),\n",
       " (0.006011414881141541, 'nosex36'),\n",
       " (0.006212312054061031, 'infert'),\n",
       " (0.00592188844909558, 'anybc12'),\n",
       " (0.005328912963906918, 'anymthd'),\n",
       " (0.00558086085087206, 'nosex12'),\n",
       " (0.005549719784021412, 'sexp3mo'),\n",
       " (0.005984026261863229, 'sex3mo'),\n",
       " (0.006202060748728977, 'constat1'),\n",
       " (0.005357513743306508, 'constat2'),\n",
       " (0.005370972720360356, 'constat3'),\n",
       " (0.005465488617125702, 'constat4'),\n",
       " (0.006346969014618287, 'pillr'),\n",
       " (0.005464121795870636, 'condomr'),\n",
       " (0.005455089604600394, 'sex1mthd1'),\n",
       " (0.004003403776326464, 'sex1mthd2'),\n",
       " (0.006175243601095892, 'mthuse12'),\n",
       " (0.007292996633077697, 'meth12m1'),\n",
       " (0.006372415393107289, 'mthuse3'),\n",
       " (0.006873907333843077, 'meth3m1'),\n",
       " (0.005951079009971383, 'nump3mos'),\n",
       " (0.005765060026367896, 'fmethod1'),\n",
       " (0.006312363569584312, 'dateuse1'),\n",
       " (0.005473240225483678, 'oldwp01'),\n",
       " (0.0061220725634861806, 'oldwp02'),\n",
       " (0.006566679752625704, 'oldwp03'),\n",
       " (0.0062996315229642, 'oldwr01'),\n",
       " (0.007236400760750383, 'oldwr02'),\n",
       " (0.009306831251880698, 'oldwr03'),\n",
       " (0.006285282977210982, 'wantrp01'),\n",
       " (0.007236400760750383, 'wantrp02'),\n",
       " (0.009306831251880698, 'wantrp03'),\n",
       " (0.0054865812407531855, 'wantp01'),\n",
       " (0.006074806371964447, 'wantp02'),\n",
       " (0.00661996064952286, 'wantp03'),\n",
       " (0.00548528475124066, 'wantp5'),\n",
       " (0.005448957689460077, 'infert_i'),\n",
       " (0.0067450133507920285, 'nosex12_i'),\n",
       " (0.005480667731327493, 'sexp3mo_i'),\n",
       " (0.0053272936863250075, 'sex3mo_i'),\n",
       " (0.005829898683175627, 'constat1_i'),\n",
       " (0.005463833340320967, 'constat2_i'),\n",
       " (0.005562510845659396, 'constat3_i'),\n",
       " (0.005562510845659396, 'constat4_i'),\n",
       " (0.00532790310884812, 'pillr_i'),\n",
       " (0.00532790310884812, 'condomr_i'),\n",
       " (0.005480538682948177, 'sex1mthd1_i'),\n",
       " (0.005618082757721465, 'sex1mthd2_i'),\n",
       " (0.005618082757721465, 'sex1mthd3_i'),\n",
       " (0.005618082757721465, 'sex1mthd4_i'),\n",
       " (0.0053273478704319865, 'mthuse12_i'),\n",
       " (0.0053352895922496035, 'meth12m1_i'),\n",
       " (0.005328505216348645, 'meth12m2_i'),\n",
       " (0.005328506712819259, 'meth12m3_i'),\n",
       " (0.005328506712819259, 'meth12m4_i'),\n",
       " (0.005352822010079472, 'mthuse3_i'),\n",
       " (0.005374562641145442, 'meth3m1_i'),\n",
       " (0.005346414776090214, 'meth3m2_i'),\n",
       " (0.0053380223568885166, 'meth3m3_i'),\n",
       " (0.0053380223568885166, 'meth3m4_i'),\n",
       " (0.0062734191728233135, 'nump3mos_i'),\n",
       " (0.005378877823191908, 'fmethod1_i'),\n",
       " (0.006076376776896764, 'dateuse1_i'),\n",
       " (0.0053684568424523516, 'sourcem1_i'),\n",
       " (0.005343272732913018, 'sourcem2_i'),\n",
       " (0.005333841105334969, 'sourcem3_i'),\n",
       " (0.005333841105334969, 'sourcem4_i'),\n",
       " (0.005665470931053074, 'oldwp01_i'),\n",
       " (0.005532484672147064, 'oldwp02_i'),\n",
       " (0.006038794473755105, 'oldwp03_i'),\n",
       " (0.005995955760873195, 'oldwp04_i'),\n",
       " (0.005457954823496536, 'oldwp05_i'),\n",
       " (0.005401403098434621, 'oldwp06_i'),\n",
       " (0.0054589299665898094, 'oldwp07_i'),\n",
       " (0.0057501139160012205, 'oldwp08_i'),\n",
       " (0.005364106218509024, 'oldwr01_i'),\n",
       " (0.005490172335675836, 'oldwr02_i'),\n",
       " (0.005363893387949736, 'oldwr03_i'),\n",
       " (0.005640306695205988, 'oldwr04_i'),\n",
       " (0.0053813426061590786, 'oldwr05_i'),\n",
       " (0.005396951687654639, 'oldwr06_i'),\n",
       " (0.0055298718389822366, 'oldwr07_i'),\n",
       " (0.005587196021343943, 'oldwr08_i'),\n",
       " (0.005365193139261981, 'oldwr09_i'),\n",
       " (0.005364106218509024, 'wantrp01_i'),\n",
       " (0.005490172335675836, 'wantrp02_i'),\n",
       " (0.005363893387949736, 'wantrp03_i'),\n",
       " (0.005640306695205988, 'wantrp04_i'),\n",
       " (0.0053813426061590786, 'wantrp05_i'),\n",
       " (0.005396951687654639, 'wantrp06_i'),\n",
       " (0.0055298718389822366, 'wantrp07_i'),\n",
       " (0.005587196021343943, 'wantrp08_i'),\n",
       " (0.005365193139261981, 'wantrp09_i'),\n",
       " (0.0054993860861720645, 'wantp01_i'),\n",
       " (0.005741447585054682, 'wantp02_i'),\n",
       " (0.005728830977663635, 'wantp03_i'),\n",
       " (0.006172654291036195, 'wantp04_i'),\n",
       " (0.005648956835502372, 'wantp05_i'),\n",
       " (0.00538592984977615, 'wantp06_i'),\n",
       " (0.005629613043803383, 'wantp07_i'),\n",
       " (0.005779919154650259, 'wantp08_i'),\n",
       " (0.006596791609596697, 'wantp5_i'),\n",
       " (0.005350239061346018, 'fptit12_i'),\n",
       " (0.0054279461800813555, 'fptitmed_i'),\n",
       " (0.005346447844715718, 'fpregmed_i'),\n",
       " (0.0055473444255560445, 'r_stclin'),\n",
       " (0.005492834434038252, 'intent'),\n",
       " (0.005329132833836181, 'addexp'),\n",
       " (0.005959748183472557, 'intent_i'),\n",
       " (0.005862368582374988, 'addexp_i'),\n",
       " (0.005328595910998324, 'anyprghp'),\n",
       " (0.005834911540965382, 'anymschp'),\n",
       " (0.005608926827060934, 'infever'),\n",
       " (0.0058056953191233385, 'pidtreat'),\n",
       " (0.00532728544675054, 'evhivtst'),\n",
       " (0.005490881370955658, 'anyprghp_i'),\n",
       " (0.005696589912781214, 'anymschp_i'),\n",
       " (0.0055920576323432725, 'infever_i'),\n",
       " (0.005490881370955658, 'ovulate_i'),\n",
       " (0.005490881370955658, 'tubes_i'),\n",
       " (0.005490881370955658, 'infertr_i'),\n",
       " (0.005490881370955658, 'inferth_i'),\n",
       " (0.005490881370955658, 'advice_i'),\n",
       " (0.005490881370955658, 'insem_i'),\n",
       " (0.005490881370955658, 'invitro_i'),\n",
       " (0.005490881370955658, 'endomet_i'),\n",
       " (0.005490881370955658, 'fibroids_i'),\n",
       " (0.0053273436347913705, 'pidtreat_i'),\n",
       " (0.005384796955322901, 'evhivtst_i'),\n",
       " (0.005444228863618061, 'insuranc_r'),\n",
       " (0.005908687699079596, 'metro_r'),\n",
       " (0.005476246226179038, 'religion_r'),\n",
       " (0.006124250620027971, 'laborfor_r'),\n",
       " (0.005490192077694744, 'insuranc_i_r'),\n",
       " (0.005329126750794222, 'religion_i_r'),\n",
       " (0.005635393818939516, 'laborfor_i_r'),\n",
       " (0.009743158975296984, 'poverty_r'),\n",
       " (0.01187006903117327, 'totincr'),\n",
       " (0.00988503292074816, 'pubassis_r'),\n",
       " (0.005674668721373899, 'poverty_i_r'),\n",
       " (0.005674668721373899, 'totincr_i'),\n",
       " (0.005588263662201554, 'pubassis_i_r'),\n",
       " (0.007266083159805259, 'basewgt_r'),\n",
       " (0.006863344757268908, 'adj_mod_basewgt_r'),\n",
       " (0.007414601906967078, 'finalwgt_r'),\n",
       " (0.006008491880136968, 'secu_r'),\n",
       " (0.00540529186826777, 'sest_r'),\n",
       " (0.005425914889651273, 'cmintvw_r'),\n",
       " (0.005425914889651051, 'cmlstyr'),\n",
       " (0.005823670091816058, 'intvlngth')]"
      ]
     },
     "execution_count": 26,
     "metadata": {},
     "output_type": "execute_result"
    }
   ],
   "source": [
    "variables = GoMining(join)\n",
    "variables"
   ]
  },
  {
   "cell_type": "markdown",
   "metadata": {},
   "source": [
    "The following functions report the variables with the highest values of $R^2$."
   ]
  },
  {
   "cell_type": "code",
   "execution_count": 27,
   "metadata": {},
   "outputs": [],
   "source": [
    "import re\n",
    "\n",
    "def ReadVariables():\n",
    "    \"\"\"Reads Stata dictionary files for NSFG data.\n",
    "\n",
    "    returns: DataFrame that maps variables names to descriptions\n",
    "    \"\"\"\n",
    "    vars1 = thinkstats2.ReadStataDct('2002FemPreg.dct').variables\n",
    "    vars2 = thinkstats2.ReadStataDct('2002FemResp.dct').variables\n",
    "\n",
    "    all_vars = vars1.append(vars2)\n",
    "    all_vars.index = all_vars.name\n",
    "    return all_vars\n",
    "\n",
    "def MiningReport(variables, n=30):\n",
    "    \"\"\"Prints variables with the highest R^2.\n",
    "\n",
    "    t: list of (R^2, variable name) pairs\n",
    "    n: number of pairs to print\n",
    "    \"\"\"\n",
    "    all_vars = ReadVariables()\n",
    "\n",
    "    variables.sort(reverse=True)\n",
    "    for r2, name in variables[:n]:\n",
    "        key = re.sub('_r$', '', name)\n",
    "        try:\n",
    "            desc = all_vars.loc[key].desc\n",
    "            if isinstance(desc, pd.Series):\n",
    "                desc = desc[0]\n",
    "            print(name, r2, desc)\n",
    "        except (KeyError, IndexError):\n",
    "            print(name, r2)"
   ]
  },
  {
   "cell_type": "markdown",
   "metadata": {},
   "source": [
    "Some of the variables that do well are not useful for prediction because they are not known ahead of time."
   ]
  },
  {
   "cell_type": "code",
   "execution_count": 28,
   "metadata": {},
   "outputs": [
    {
     "name": "stdout",
     "output_type": "stream",
     "text": [
      "totalwgt_lb 1.0\n",
      "birthwgt_lb 0.9498127305978009 BD-3 BIRTHWEIGHT IN POUNDS - 1ST BABY FROM THIS PREGNANCY\n",
      "lbw1 0.3008240784470768 LOW BIRTHWEIGHT - BABY 1\n",
      "prglngth 0.13012519488625063 DURATION OF COMPLETED PREGNANCY IN WEEKS\n",
      "wksgest 0.12340041363361065 GESTATIONAL LENGTH OF COMPLETED PREGNANCY (IN WEEKS)\n",
      "agecon 0.10203149928156097 AGE AT TIME OF CONCEPTION\n",
      "mosgest 0.027144274639579802 GESTATIONAL LENGTH OF COMPLETED PREGNANCY (IN MONTHS)\n",
      "babysex 0.018550925293942533 BD-2 SEX OF 1ST LIVEBORN BABY FROM THIS PREGNANCY\n",
      "race_r 0.016199503586253106 RACE\n",
      "race 0.016199503586253106 RACE\n",
      "nbrnaliv 0.016017752709788446 BC-2 NUMBER OF BABIES BORN ALIVE FROM THIS PREGNANCY\n",
      "paydu 0.014003795578114597 IB-10 CURRENT LIVING QUARTERS OWNED/RENTED, ETC\n",
      "rmarout03 0.01343006646571343 INFORMAL MARITAL STATUS WHEN PREGNANCY ENDED - 3RD\n",
      "birthwgt_oz 0.013102457615706165 BD-3 BIRTHWEIGHT IN OUNCES - 1ST BABY FROM THIS PREGNANCY\n",
      "anynurse 0.012529022541810764 BH-1 WHETHER R BREASTFED THIS CHILD AT ALL - 1ST FROM THIS PREG\n",
      "bfeedwks 0.012193688404495417 DURATION OF BREASTFEEDING IN WEEKS\n",
      "totincr 0.01187006903117327 TOTAL INCOME OF R'S FAMILY\n",
      "marout03 0.011807801994375033 FORMAL MARITAL STATUS WHEN PREGNANCY ENDED - 3RD\n",
      "marcon03 0.011752599354395321 FORMAL MARITAL STATUS WHEN PREGNANCY BEGAN - 3RD\n",
      "cebow 0.011437770919637269 NUMBER OF CHILDREN BORN OUT OF WEDLOCK\n",
      "rmarout01 0.011407737138640295 INFORMAL MARITAL STATUS WHEN PREGNANCY ENDED - 1ST\n",
      "rmarout6 0.011354138472805753 INFORMAL MARITAL STATUS AT PREGNANCY OUTCOME - 6 CATEGORIES\n",
      "marout01 0.011269357246806444 FORMAL MARITAL STATUS WHEN PREGNANCY ENDED - 1ST\n",
      "hisprace_r 0.01123834930203138 RACE AND HISPANIC ORIGIN\n",
      "hisprace 0.01123834930203138 RACE AND HISPANIC ORIGIN\n",
      "mar1diss 0.0109615635907514 MONTHS BTW/1ST MARRIAGE & DISSOLUTION (OR INTERVIEW)\n",
      "fmarcon5 0.0106049646842995 FORMAL MARITAL STATUS AT CONCEPTION - 5 CATEGORIES\n",
      "rmarout02 0.010546913206564867 INFORMAL MARITAL STATUS WHEN PREGNANCY ENDED - 2ND\n",
      "marcon02 0.01048140179553414 FORMAL MARITAL STATUS WHEN PREGNANCY BEGAN - 2ND\n",
      "fmarout5 0.010461691367377401 FORMAL MARITAL STATUS AT PREGNANCY OUTCOME\n"
     ]
    },
    {
     "name": "stderr",
     "output_type": "stream",
     "text": [
      "C:\\Users\\Josh\\AppData\\Local\\Temp\\ipykernel_16732\\4248865890.py:11: FutureWarning: The frame.append method is deprecated and will be removed from pandas in a future version. Use pandas.concat instead.\n",
      "  all_vars = vars1.append(vars2)\n"
     ]
    }
   ],
   "source": [
    "MiningReport(variables)"
   ]
  },
  {
   "cell_type": "markdown",
   "metadata": {},
   "source": [
    "Combining the variables that seem to have the most explanatory power."
   ]
  },
  {
   "cell_type": "code",
   "execution_count": 29,
   "metadata": {},
   "outputs": [
    {
     "data": {
      "text/html": [
       "<table class=\"simpletable\">\n",
       "<caption>OLS Regression Results</caption>\n",
       "<tr>\n",
       "  <th>Dep. Variable:</th>       <td>totalwgt_lb</td>   <th>  R-squared:         </th> <td>   0.060</td> \n",
       "</tr>\n",
       "<tr>\n",
       "  <th>Model:</th>                   <td>OLS</td>       <th>  Adj. R-squared:    </th> <td>   0.059</td> \n",
       "</tr>\n",
       "<tr>\n",
       "  <th>Method:</th>             <td>Least Squares</td>  <th>  F-statistic:       </th> <td>   79.98</td> \n",
       "</tr>\n",
       "<tr>\n",
       "  <th>Date:</th>             <td>Tue, 26 Jul 2022</td> <th>  Prob (F-statistic):</th> <td>4.86e-113</td>\n",
       "</tr>\n",
       "<tr>\n",
       "  <th>Time:</th>                 <td>19:00:35</td>     <th>  Log-Likelihood:    </th> <td> -14295.</td> \n",
       "</tr>\n",
       "<tr>\n",
       "  <th>No. Observations:</th>      <td>  8781</td>      <th>  AIC:               </th> <td>2.861e+04</td>\n",
       "</tr>\n",
       "<tr>\n",
       "  <th>Df Residuals:</th>          <td>  8773</td>      <th>  BIC:               </th> <td>2.866e+04</td>\n",
       "</tr>\n",
       "<tr>\n",
       "  <th>Df Model:</th>              <td>     7</td>      <th>                     </th>     <td> </td>    \n",
       "</tr>\n",
       "<tr>\n",
       "  <th>Covariance Type:</th>      <td>nonrobust</td>    <th>                     </th>     <td> </td>    \n",
       "</tr>\n",
       "</table>\n",
       "<table class=\"simpletable\">\n",
       "<tr>\n",
       "            <td></td>              <th>coef</th>     <th>std err</th>      <th>t</th>      <th>P>|t|</th>  <th>[0.025</th>    <th>0.975]</th>  \n",
       "</tr>\n",
       "<tr>\n",
       "  <th>Intercept</th>            <td>    6.6303</td> <td>    0.065</td> <td>  102.223</td> <td> 0.000</td> <td>    6.503</td> <td>    6.757</td>\n",
       "</tr>\n",
       "<tr>\n",
       "  <th>C(race)[T.2]</th>         <td>    0.3570</td> <td>    0.032</td> <td>   11.215</td> <td> 0.000</td> <td>    0.295</td> <td>    0.419</td>\n",
       "</tr>\n",
       "<tr>\n",
       "  <th>C(race)[T.3]</th>         <td>    0.2665</td> <td>    0.051</td> <td>    5.175</td> <td> 0.000</td> <td>    0.166</td> <td>    0.367</td>\n",
       "</tr>\n",
       "<tr>\n",
       "  <th>babysex == 1[T.True]</th> <td>    0.2952</td> <td>    0.026</td> <td>   11.216</td> <td> 0.000</td> <td>    0.244</td> <td>    0.347</td>\n",
       "</tr>\n",
       "<tr>\n",
       "  <th>nbrnaliv > 1[T.True]</th> <td>   -1.3783</td> <td>    0.108</td> <td>  -12.771</td> <td> 0.000</td> <td>   -1.590</td> <td>   -1.167</td>\n",
       "</tr>\n",
       "<tr>\n",
       "  <th>paydu == 1[T.True]</th>   <td>    0.1196</td> <td>    0.031</td> <td>    3.861</td> <td> 0.000</td> <td>    0.059</td> <td>    0.180</td>\n",
       "</tr>\n",
       "<tr>\n",
       "  <th>agepreg</th>              <td>    0.0074</td> <td>    0.003</td> <td>    2.921</td> <td> 0.004</td> <td>    0.002</td> <td>    0.012</td>\n",
       "</tr>\n",
       "<tr>\n",
       "  <th>totincr</th>              <td>    0.0122</td> <td>    0.004</td> <td>    3.110</td> <td> 0.002</td> <td>    0.005</td> <td>    0.020</td>\n",
       "</tr>\n",
       "</table>\n",
       "<table class=\"simpletable\">\n",
       "<tr>\n",
       "  <th>Omnibus:</th>       <td>398.813</td> <th>  Durbin-Watson:     </th> <td>   1.604</td> \n",
       "</tr>\n",
       "<tr>\n",
       "  <th>Prob(Omnibus):</th> <td> 0.000</td>  <th>  Jarque-Bera (JB):  </th> <td>1388.362</td> \n",
       "</tr>\n",
       "<tr>\n",
       "  <th>Skew:</th>          <td>-0.037</td>  <th>  Prob(JB):          </th> <td>3.32e-302</td>\n",
       "</tr>\n",
       "<tr>\n",
       "  <th>Kurtosis:</th>      <td> 4.947</td>  <th>  Cond. No.          </th> <td>    221.</td> \n",
       "</tr>\n",
       "</table><br/><br/>Notes:<br/>[1] Standard Errors assume that the covariance matrix of the errors is correctly specified."
      ],
      "text/plain": [
       "<class 'statsmodels.iolib.summary.Summary'>\n",
       "\"\"\"\n",
       "                            OLS Regression Results                            \n",
       "==============================================================================\n",
       "Dep. Variable:            totalwgt_lb   R-squared:                       0.060\n",
       "Model:                            OLS   Adj. R-squared:                  0.059\n",
       "Method:                 Least Squares   F-statistic:                     79.98\n",
       "Date:                Tue, 26 Jul 2022   Prob (F-statistic):          4.86e-113\n",
       "Time:                        19:00:35   Log-Likelihood:                -14295.\n",
       "No. Observations:                8781   AIC:                         2.861e+04\n",
       "Df Residuals:                    8773   BIC:                         2.866e+04\n",
       "Df Model:                           7                                         \n",
       "Covariance Type:            nonrobust                                         \n",
       "========================================================================================\n",
       "                           coef    std err          t      P>|t|      [0.025      0.975]\n",
       "----------------------------------------------------------------------------------------\n",
       "Intercept                6.6303      0.065    102.223      0.000       6.503       6.757\n",
       "C(race)[T.2]             0.3570      0.032     11.215      0.000       0.295       0.419\n",
       "C(race)[T.3]             0.2665      0.051      5.175      0.000       0.166       0.367\n",
       "babysex == 1[T.True]     0.2952      0.026     11.216      0.000       0.244       0.347\n",
       "nbrnaliv > 1[T.True]    -1.3783      0.108    -12.771      0.000      -1.590      -1.167\n",
       "paydu == 1[T.True]       0.1196      0.031      3.861      0.000       0.059       0.180\n",
       "agepreg                  0.0074      0.003      2.921      0.004       0.002       0.012\n",
       "totincr                  0.0122      0.004      3.110      0.002       0.005       0.020\n",
       "==============================================================================\n",
       "Omnibus:                      398.813   Durbin-Watson:                   1.604\n",
       "Prob(Omnibus):                  0.000   Jarque-Bera (JB):             1388.362\n",
       "Skew:                          -0.037   Prob(JB):                    3.32e-302\n",
       "Kurtosis:                       4.947   Cond. No.                         221.\n",
       "==============================================================================\n",
       "\n",
       "Notes:\n",
       "[1] Standard Errors assume that the covariance matrix of the errors is correctly specified.\n",
       "\"\"\""
      ]
     },
     "execution_count": 29,
     "metadata": {},
     "output_type": "execute_result"
    }
   ],
   "source": [
    "formula = ('totalwgt_lb ~ agepreg + C(race) + babysex==1 + '\n",
    "               'nbrnaliv>1 + paydu==1 + totincr')\n",
    "results = smf.ols(formula, data=join).fit()\n",
    "results.summary()"
   ]
  },
  {
   "cell_type": "markdown",
   "metadata": {},
   "source": [
    "## Logistic regression\n",
    "\n",
    "Example: suppose we are trying to predict `y` using explanatory variables `x1` and `x2`."
   ]
  },
  {
   "cell_type": "code",
   "execution_count": 30,
   "metadata": {},
   "outputs": [],
   "source": [
    "y = np.array([0, 1, 0, 1])\n",
    "x1 = np.array([0, 0, 0, 1])\n",
    "x2 = np.array([0, 1, 1, 1])"
   ]
  },
  {
   "cell_type": "markdown",
   "metadata": {},
   "source": [
    "According to the logit model the log odds for the $i$th element of $y$ is\n",
    "\n",
    "$\\log o = \\beta_0 + \\beta_1 x_1 + \\beta_2 x_2 $\n",
    "\n",
    "So let's start with an arbitrary guess about the elements of $\\beta$:\n",
    "\n"
   ]
  },
  {
   "cell_type": "code",
   "execution_count": 31,
   "metadata": {},
   "outputs": [],
   "source": [
    "beta = [-1.5, 2.8, 1.1]"
   ]
  },
  {
   "cell_type": "markdown",
   "metadata": {},
   "source": [
    "Plugging in the model, we get log odds."
   ]
  },
  {
   "cell_type": "code",
   "execution_count": 32,
   "metadata": {},
   "outputs": [
    {
     "data": {
      "text/plain": [
       "array([-1.5, -0.4, -0.4,  2.4])"
      ]
     },
     "execution_count": 32,
     "metadata": {},
     "output_type": "execute_result"
    }
   ],
   "source": [
    "log_o = beta[0] + beta[1] * x1 + beta[2] * x2\n",
    "log_o"
   ]
  },
  {
   "cell_type": "markdown",
   "metadata": {},
   "source": [
    "Which we can convert to odds."
   ]
  },
  {
   "cell_type": "code",
   "execution_count": 33,
   "metadata": {},
   "outputs": [
    {
     "data": {
      "text/plain": [
       "array([ 0.22313016,  0.67032005,  0.67032005, 11.02317638])"
      ]
     },
     "execution_count": 33,
     "metadata": {},
     "output_type": "execute_result"
    }
   ],
   "source": [
    "o = np.exp(log_o)\n",
    "o"
   ]
  },
  {
   "cell_type": "markdown",
   "metadata": {},
   "source": [
    "And then convert to probabilities."
   ]
  },
  {
   "cell_type": "code",
   "execution_count": 34,
   "metadata": {},
   "outputs": [
    {
     "data": {
      "text/plain": [
       "array([0.18242552, 0.40131234, 0.40131234, 0.9168273 ])"
      ]
     },
     "execution_count": 34,
     "metadata": {},
     "output_type": "execute_result"
    }
   ],
   "source": [
    "p = o / (o+1)\n",
    "p"
   ]
  },
  {
   "cell_type": "markdown",
   "metadata": {},
   "source": [
    "The likelihoods of the actual outcomes are $p$ where $y$ is 1 and $1-p$ where $y$ is 0. "
   ]
  },
  {
   "cell_type": "code",
   "execution_count": 35,
   "metadata": {},
   "outputs": [
    {
     "data": {
      "text/plain": [
       "array([0.81757448, 0.40131234, 0.59868766, 0.9168273 ])"
      ]
     },
     "execution_count": 35,
     "metadata": {},
     "output_type": "execute_result"
    }
   ],
   "source": [
    "likes = np.where(y, p, 1-p)\n",
    "likes"
   ]
  },
  {
   "cell_type": "markdown",
   "metadata": {},
   "source": [
    "The likelihood of $y$ given $\\beta$ is the product of `likes`:"
   ]
  },
  {
   "cell_type": "code",
   "execution_count": 36,
   "metadata": {},
   "outputs": [
    {
     "data": {
      "text/plain": [
       "0.1800933529673034"
      ]
     },
     "execution_count": 36,
     "metadata": {},
     "output_type": "execute_result"
    }
   ],
   "source": [
    "like = np.prod(likes)\n",
    "like"
   ]
  },
  {
   "cell_type": "markdown",
   "metadata": {},
   "source": [
    "Logistic regression works by searching for the values in $\\beta$ that maximize `like`.\n",
    "\n",
    "Here's an example using variables in the NSFG respondent file to predict whether a baby will be a boy or a girl."
   ]
  },
  {
   "cell_type": "code",
   "execution_count": 37,
   "metadata": {},
   "outputs": [],
   "source": [
    "import first\n",
    "live, firsts, others = first.MakeFrames()\n",
    "live = live[live.prglngth>30]\n",
    "live['boy'] = (live.babysex==1).astype(int)"
   ]
  },
  {
   "cell_type": "markdown",
   "metadata": {},
   "source": [
    "The mother's age seems to have a small effect."
   ]
  },
  {
   "cell_type": "code",
   "execution_count": 38,
   "metadata": {},
   "outputs": [
    {
     "name": "stdout",
     "output_type": "stream",
     "text": [
      "Optimization terminated successfully.\n",
      "         Current function value: 0.693015\n",
      "         Iterations 3\n"
     ]
    },
    {
     "data": {
      "text/html": [
       "<table class=\"simpletable\">\n",
       "<caption>Logit Regression Results</caption>\n",
       "<tr>\n",
       "  <th>Dep. Variable:</th>          <td>boy</td>       <th>  No. Observations:  </th>  <td>  8884</td>  \n",
       "</tr>\n",
       "<tr>\n",
       "  <th>Model:</th>                 <td>Logit</td>      <th>  Df Residuals:      </th>  <td>  8882</td>  \n",
       "</tr>\n",
       "<tr>\n",
       "  <th>Method:</th>                 <td>MLE</td>       <th>  Df Model:          </th>  <td>     1</td>  \n",
       "</tr>\n",
       "<tr>\n",
       "  <th>Date:</th>            <td>Tue, 26 Jul 2022</td> <th>  Pseudo R-squ.:     </th> <td>6.144e-06</td>\n",
       "</tr>\n",
       "<tr>\n",
       "  <th>Time:</th>                <td>19:01:22</td>     <th>  Log-Likelihood:    </th> <td> -6156.7</td> \n",
       "</tr>\n",
       "<tr>\n",
       "  <th>converged:</th>             <td>True</td>       <th>  LL-Null:           </th> <td> -6156.8</td> \n",
       "</tr>\n",
       "<tr>\n",
       "  <th>Covariance Type:</th>     <td>nonrobust</td>    <th>  LLR p-value:       </th>  <td>0.7833</td>  \n",
       "</tr>\n",
       "</table>\n",
       "<table class=\"simpletable\">\n",
       "<tr>\n",
       "      <td></td>         <th>coef</th>     <th>std err</th>      <th>z</th>      <th>P>|z|</th>  <th>[0.025</th>    <th>0.975]</th>  \n",
       "</tr>\n",
       "<tr>\n",
       "  <th>Intercept</th> <td>    0.0058</td> <td>    0.098</td> <td>    0.059</td> <td> 0.953</td> <td>   -0.185</td> <td>    0.197</td>\n",
       "</tr>\n",
       "<tr>\n",
       "  <th>agepreg</th>   <td>    0.0010</td> <td>    0.004</td> <td>    0.275</td> <td> 0.783</td> <td>   -0.006</td> <td>    0.009</td>\n",
       "</tr>\n",
       "</table>"
      ],
      "text/plain": [
       "<class 'statsmodels.iolib.summary.Summary'>\n",
       "\"\"\"\n",
       "                           Logit Regression Results                           \n",
       "==============================================================================\n",
       "Dep. Variable:                    boy   No. Observations:                 8884\n",
       "Model:                          Logit   Df Residuals:                     8882\n",
       "Method:                           MLE   Df Model:                            1\n",
       "Date:                Tue, 26 Jul 2022   Pseudo R-squ.:               6.144e-06\n",
       "Time:                        19:01:22   Log-Likelihood:                -6156.7\n",
       "converged:                       True   LL-Null:                       -6156.8\n",
       "Covariance Type:            nonrobust   LLR p-value:                    0.7833\n",
       "==============================================================================\n",
       "                 coef    std err          z      P>|z|      [0.025      0.975]\n",
       "------------------------------------------------------------------------------\n",
       "Intercept      0.0058      0.098      0.059      0.953      -0.185       0.197\n",
       "agepreg        0.0010      0.004      0.275      0.783      -0.006       0.009\n",
       "==============================================================================\n",
       "\"\"\""
      ]
     },
     "execution_count": 38,
     "metadata": {},
     "output_type": "execute_result"
    }
   ],
   "source": [
    "model = smf.logit('boy ~ agepreg', data=live)\n",
    "results = model.fit()\n",
    "results.summary()"
   ]
  },
  {
   "cell_type": "markdown",
   "metadata": {},
   "source": [
    "Here are the variables that seemed most promising."
   ]
  },
  {
   "cell_type": "code",
   "execution_count": 39,
   "metadata": {},
   "outputs": [
    {
     "name": "stdout",
     "output_type": "stream",
     "text": [
      "Optimization terminated successfully.\n",
      "         Current function value: 0.692944\n",
      "         Iterations 3\n"
     ]
    },
    {
     "data": {
      "text/html": [
       "<table class=\"simpletable\">\n",
       "<caption>Logit Regression Results</caption>\n",
       "<tr>\n",
       "  <th>Dep. Variable:</th>          <td>boy</td>       <th>  No. Observations:  </th>  <td>  8782</td>  \n",
       "</tr>\n",
       "<tr>\n",
       "  <th>Model:</th>                 <td>Logit</td>      <th>  Df Residuals:      </th>  <td>  8776</td>  \n",
       "</tr>\n",
       "<tr>\n",
       "  <th>Method:</th>                 <td>MLE</td>       <th>  Df Model:          </th>  <td>     5</td>  \n",
       "</tr>\n",
       "<tr>\n",
       "  <th>Date:</th>            <td>Tue, 26 Jul 2022</td> <th>  Pseudo R-squ.:     </th> <td>0.0001440</td>\n",
       "</tr>\n",
       "<tr>\n",
       "  <th>Time:</th>                <td>19:01:28</td>     <th>  Log-Likelihood:    </th> <td> -6085.4</td> \n",
       "</tr>\n",
       "<tr>\n",
       "  <th>converged:</th>             <td>True</td>       <th>  LL-Null:           </th> <td> -6086.3</td> \n",
       "</tr>\n",
       "<tr>\n",
       "  <th>Covariance Type:</th>     <td>nonrobust</td>    <th>  LLR p-value:       </th>  <td>0.8822</td>  \n",
       "</tr>\n",
       "</table>\n",
       "<table class=\"simpletable\">\n",
       "<tr>\n",
       "        <td></td>          <th>coef</th>     <th>std err</th>      <th>z</th>      <th>P>|z|</th>  <th>[0.025</th>    <th>0.975]</th>  \n",
       "</tr>\n",
       "<tr>\n",
       "  <th>Intercept</th>    <td>   -0.0301</td> <td>    0.104</td> <td>   -0.290</td> <td> 0.772</td> <td>   -0.234</td> <td>    0.173</td>\n",
       "</tr>\n",
       "<tr>\n",
       "  <th>C(race)[T.2]</th> <td>   -0.0224</td> <td>    0.051</td> <td>   -0.439</td> <td> 0.660</td> <td>   -0.122</td> <td>    0.077</td>\n",
       "</tr>\n",
       "<tr>\n",
       "  <th>C(race)[T.3]</th> <td>   -0.0005</td> <td>    0.083</td> <td>   -0.005</td> <td> 0.996</td> <td>   -0.163</td> <td>    0.162</td>\n",
       "</tr>\n",
       "<tr>\n",
       "  <th>agepreg</th>      <td>   -0.0027</td> <td>    0.006</td> <td>   -0.484</td> <td> 0.629</td> <td>   -0.014</td> <td>    0.008</td>\n",
       "</tr>\n",
       "<tr>\n",
       "  <th>hpagelb</th>      <td>    0.0047</td> <td>    0.004</td> <td>    1.112</td> <td> 0.266</td> <td>   -0.004</td> <td>    0.013</td>\n",
       "</tr>\n",
       "<tr>\n",
       "  <th>birthord</th>     <td>    0.0050</td> <td>    0.022</td> <td>    0.227</td> <td> 0.821</td> <td>   -0.038</td> <td>    0.048</td>\n",
       "</tr>\n",
       "</table>"
      ],
      "text/plain": [
       "<class 'statsmodels.iolib.summary.Summary'>\n",
       "\"\"\"\n",
       "                           Logit Regression Results                           \n",
       "==============================================================================\n",
       "Dep. Variable:                    boy   No. Observations:                 8782\n",
       "Model:                          Logit   Df Residuals:                     8776\n",
       "Method:                           MLE   Df Model:                            5\n",
       "Date:                Tue, 26 Jul 2022   Pseudo R-squ.:               0.0001440\n",
       "Time:                        19:01:28   Log-Likelihood:                -6085.4\n",
       "converged:                       True   LL-Null:                       -6086.3\n",
       "Covariance Type:            nonrobust   LLR p-value:                    0.8822\n",
       "================================================================================\n",
       "                   coef    std err          z      P>|z|      [0.025      0.975]\n",
       "--------------------------------------------------------------------------------\n",
       "Intercept       -0.0301      0.104     -0.290      0.772      -0.234       0.173\n",
       "C(race)[T.2]    -0.0224      0.051     -0.439      0.660      -0.122       0.077\n",
       "C(race)[T.3]    -0.0005      0.083     -0.005      0.996      -0.163       0.162\n",
       "agepreg         -0.0027      0.006     -0.484      0.629      -0.014       0.008\n",
       "hpagelb          0.0047      0.004      1.112      0.266      -0.004       0.013\n",
       "birthord         0.0050      0.022      0.227      0.821      -0.038       0.048\n",
       "================================================================================\n",
       "\"\"\""
      ]
     },
     "execution_count": 39,
     "metadata": {},
     "output_type": "execute_result"
    }
   ],
   "source": [
    "formula = 'boy ~ agepreg + hpagelb + birthord + C(race)'\n",
    "model = smf.logit(formula, data=live)\n",
    "results = model.fit()\n",
    "results.summary()"
   ]
  },
  {
   "cell_type": "markdown",
   "metadata": {},
   "source": [
    "To make a prediction, we have to extract the exogenous and endogenous variables."
   ]
  },
  {
   "cell_type": "code",
   "execution_count": 40,
   "metadata": {},
   "outputs": [],
   "source": [
    "endog = pd.DataFrame(model.endog, columns=[model.endog_names])\n",
    "exog = pd.DataFrame(model.exog, columns=model.exog_names)"
   ]
  },
  {
   "cell_type": "markdown",
   "metadata": {},
   "source": [
    "The baseline prediction strategy is to guess \"boy\".  In that case, we're right almost 51% of the time."
   ]
  },
  {
   "cell_type": "code",
   "execution_count": 41,
   "metadata": {},
   "outputs": [
    {
     "data": {
      "text/plain": [
       "0.507173764518333"
      ]
     },
     "execution_count": 41,
     "metadata": {},
     "output_type": "execute_result"
    }
   ],
   "source": [
    "actual = endog['boy']\n",
    "baseline = actual.mean()\n",
    "baseline"
   ]
  },
  {
   "cell_type": "markdown",
   "metadata": {},
   "source": [
    "If we use the previous model, we can compute the number of predictions we get right."
   ]
  },
  {
   "cell_type": "code",
   "execution_count": 42,
   "metadata": {},
   "outputs": [
    {
     "data": {
      "text/plain": [
       "(3944.0, 548.0)"
      ]
     },
     "execution_count": 42,
     "metadata": {},
     "output_type": "execute_result"
    }
   ],
   "source": [
    "predict = (results.predict() >= 0.5)\n",
    "true_pos = predict * actual\n",
    "true_neg = (1 - predict) * (1 - actual)\n",
    "sum(true_pos), sum(true_neg)"
   ]
  },
  {
   "cell_type": "markdown",
   "metadata": {},
   "source": [
    "And the accuracy, which is slightly higher than the baseline."
   ]
  },
  {
   "cell_type": "code",
   "execution_count": 43,
   "metadata": {},
   "outputs": [
    {
     "data": {
      "text/plain": [
       "0.5115007970849464"
      ]
     },
     "execution_count": 43,
     "metadata": {},
     "output_type": "execute_result"
    }
   ],
   "source": [
    "acc = (sum(true_pos) + sum(true_neg)) / len(actual)\n",
    "acc"
   ]
  },
  {
   "cell_type": "markdown",
   "metadata": {},
   "source": [
    "To make a prediction for an individual, we have to get their information into a `DataFrame`."
   ]
  },
  {
   "cell_type": "code",
   "execution_count": 44,
   "metadata": {},
   "outputs": [
    {
     "data": {
      "text/plain": [
       "0    0.513091\n",
       "dtype: float64"
      ]
     },
     "execution_count": 44,
     "metadata": {},
     "output_type": "execute_result"
    }
   ],
   "source": [
    "columns = ['agepreg', 'hpagelb', 'birthord', 'race']\n",
    "new = pd.DataFrame([[35, 39, 3, 2]], columns=columns)\n",
    "y = results.predict(new)\n",
    "y"
   ]
  },
  {
   "cell_type": "markdown",
   "metadata": {},
   "source": [
    "This person has a 51% chance of having a boy (according to the model)."
   ]
  },
  {
   "cell_type": "markdown",
   "metadata": {
    "collapsed": true
   },
   "source": [
    "## Exercises"
   ]
  },
  {
   "cell_type": "markdown",
   "metadata": {
    "collapsed": true
   },
   "source": [
    "**Exercise:** Suppose one of your co-workers is expecting a baby and you are participating in an office pool to predict the date of birth. Assuming that bets are placed during the 30th week of pregnancy, what variables could you use to make the best prediction? You should limit yourself to variables that are known before the birth, and likely to be available to the people in the pool."
   ]
  },
  {
   "cell_type": "code",
   "execution_count": 45,
   "metadata": {},
   "outputs": [],
   "source": [
    "import first\n",
    "live, firsts, others = first.MakeFrames()\n",
    "live = live[live.prglngth>30]"
   ]
  },
  {
   "cell_type": "code",
   "execution_count": 47,
   "metadata": {},
   "outputs": [
    {
     "data": {
      "text/html": [
       "<table class=\"simpletable\">\n",
       "<caption>OLS Regression Results</caption>\n",
       "<tr>\n",
       "  <th>Dep. Variable:</th>        <td>prglngth</td>     <th>  R-squared:         </th> <td>   0.011</td> \n",
       "</tr>\n",
       "<tr>\n",
       "  <th>Model:</th>                   <td>OLS</td>       <th>  Adj. R-squared:    </th> <td>   0.011</td> \n",
       "</tr>\n",
       "<tr>\n",
       "  <th>Method:</th>             <td>Least Squares</td>  <th>  F-statistic:       </th> <td>   34.28</td> \n",
       "</tr>\n",
       "<tr>\n",
       "  <th>Date:</th>             <td>Tue, 26 Jul 2022</td> <th>  Prob (F-statistic):</th> <td>5.09e-22</td> \n",
       "</tr>\n",
       "<tr>\n",
       "  <th>Time:</th>                 <td>19:12:25</td>     <th>  Log-Likelihood:    </th> <td> -18247.</td> \n",
       "</tr>\n",
       "<tr>\n",
       "  <th>No. Observations:</th>      <td>  8884</td>      <th>  AIC:               </th> <td>3.650e+04</td>\n",
       "</tr>\n",
       "<tr>\n",
       "  <th>Df Residuals:</th>          <td>  8880</td>      <th>  BIC:               </th> <td>3.653e+04</td>\n",
       "</tr>\n",
       "<tr>\n",
       "  <th>Df Model:</th>              <td>     3</td>      <th>                     </th>     <td> </td>    \n",
       "</tr>\n",
       "<tr>\n",
       "  <th>Covariance Type:</th>      <td>nonrobust</td>    <th>                     </th>     <td> </td>    \n",
       "</tr>\n",
       "</table>\n",
       "<table class=\"simpletable\">\n",
       "<tr>\n",
       "            <td></td>               <th>coef</th>     <th>std err</th>      <th>t</th>      <th>P>|t|</th>  <th>[0.025</th>    <th>0.975]</th>  \n",
       "</tr>\n",
       "<tr>\n",
       "  <th>Intercept</th>             <td>   38.7617</td> <td>    0.039</td> <td> 1006.410</td> <td> 0.000</td> <td>   38.686</td> <td>   38.837</td>\n",
       "</tr>\n",
       "<tr>\n",
       "  <th>birthord == 1[T.True]</th> <td>    0.1015</td> <td>    0.040</td> <td>    2.528</td> <td> 0.011</td> <td>    0.023</td> <td>    0.180</td>\n",
       "</tr>\n",
       "<tr>\n",
       "  <th>race == 2[T.True]</th>     <td>    0.1390</td> <td>    0.042</td> <td>    3.311</td> <td> 0.001</td> <td>    0.057</td> <td>    0.221</td>\n",
       "</tr>\n",
       "<tr>\n",
       "  <th>nbrnaliv > 1[T.True]</th>  <td>   -1.4944</td> <td>    0.164</td> <td>   -9.086</td> <td> 0.000</td> <td>   -1.817</td> <td>   -1.172</td>\n",
       "</tr>\n",
       "</table>\n",
       "<table class=\"simpletable\">\n",
       "<tr>\n",
       "  <th>Omnibus:</th>       <td>1587.470</td> <th>  Durbin-Watson:     </th> <td>   1.619</td>\n",
       "</tr>\n",
       "<tr>\n",
       "  <th>Prob(Omnibus):</th>  <td> 0.000</td>  <th>  Jarque-Bera (JB):  </th> <td>6160.751</td>\n",
       "</tr>\n",
       "<tr>\n",
       "  <th>Skew:</th>           <td>-0.852</td>  <th>  Prob(JB):          </th> <td>    0.00</td>\n",
       "</tr>\n",
       "<tr>\n",
       "  <th>Kurtosis:</th>       <td> 6.707</td>  <th>  Cond. No.          </th> <td>    10.9</td>\n",
       "</tr>\n",
       "</table><br/><br/>Notes:<br/>[1] Standard Errors assume that the covariance matrix of the errors is correctly specified."
      ],
      "text/plain": [
       "<class 'statsmodels.iolib.summary.Summary'>\n",
       "\"\"\"\n",
       "                            OLS Regression Results                            \n",
       "==============================================================================\n",
       "Dep. Variable:               prglngth   R-squared:                       0.011\n",
       "Model:                            OLS   Adj. R-squared:                  0.011\n",
       "Method:                 Least Squares   F-statistic:                     34.28\n",
       "Date:                Tue, 26 Jul 2022   Prob (F-statistic):           5.09e-22\n",
       "Time:                        19:12:25   Log-Likelihood:                -18247.\n",
       "No. Observations:                8884   AIC:                         3.650e+04\n",
       "Df Residuals:                    8880   BIC:                         3.653e+04\n",
       "Df Model:                           3                                         \n",
       "Covariance Type:            nonrobust                                         \n",
       "=========================================================================================\n",
       "                            coef    std err          t      P>|t|      [0.025      0.975]\n",
       "-----------------------------------------------------------------------------------------\n",
       "Intercept                38.7617      0.039   1006.410      0.000      38.686      38.837\n",
       "birthord == 1[T.True]     0.1015      0.040      2.528      0.011       0.023       0.180\n",
       "race == 2[T.True]         0.1390      0.042      3.311      0.001       0.057       0.221\n",
       "nbrnaliv > 1[T.True]     -1.4944      0.164     -9.086      0.000      -1.817      -1.172\n",
       "==============================================================================\n",
       "Omnibus:                     1587.470   Durbin-Watson:                   1.619\n",
       "Prob(Omnibus):                  0.000   Jarque-Bera (JB):             6160.751\n",
       "Skew:                          -0.852   Prob(JB):                         0.00\n",
       "Kurtosis:                       6.707   Cond. No.                         10.9\n",
       "==============================================================================\n",
       "\n",
       "Notes:\n",
       "[1] Standard Errors assume that the covariance matrix of the errors is correctly specified.\n",
       "\"\"\""
      ]
     },
     "execution_count": 47,
     "metadata": {},
     "output_type": "execute_result"
    }
   ],
   "source": [
    "import statsmodels.formula.api as smf\n",
    "\n",
    "# Set the particular fields to the formula.\n",
    "formula = 'prglngth ~ birthord==1 + race==2 + nbrnaliv>1'\n",
    "\n",
    "model = smf.ols(formula, data=live)\n",
    "results = model.fit()\n",
    "results.summary()"
   ]
  },
  {
   "cell_type": "markdown",
   "metadata": {},
   "source": [
    "**Exercise:** The Trivers-Willard hypothesis suggests that for many mammals the sex ratio depends on “maternal condition”; that is, factors like the mother’s age, size, health, and social status. See https://en.wikipedia.org/wiki/Trivers-Willard_hypothesis\n",
    "\n",
    "Some studies have shown this effect among humans, but results are mixed. In this chapter we tested some variables related to these factors, but didn’t find any with a statistically significant effect on sex ratio.\n",
    "\n",
    "As an exercise, use a data mining approach to test the other variables in the pregnancy and respondent files. Can you find any factors with a substantial effect?"
   ]
  },
  {
   "cell_type": "code",
   "execution_count": 50,
   "metadata": {},
   "outputs": [
    {
     "name": "stderr",
     "output_type": "stream",
     "text": [
      "C:\\Users\\Josh\\AppData\\Local\\Temp\\ipykernel_16732\\2265994059.py:5: PerformanceWarning: DataFrame is highly fragmented.  This is usually the result of calling `frame.insert` many times, which has poor performance.  Consider joining all columns at once using pd.concat(axis=1) instead. To get a de-fragmented frame, use `newframe = frame.copy()`\n",
      "  df['boy'] = (df.babysex==1).astype(int)\n"
     ]
    }
   ],
   "source": [
    "# Pull the GoMining function for reference.\n",
    "def GoMining(df):\n",
    "\n",
    "    # Segment the boy data from the dataframe.\n",
    "    df['boy'] = (df.babysex==1).astype(int)\n",
    "\n",
    "    variables = []\n",
    "    for name in df.columns:\n",
    "        try:\n",
    "            if df[name].var() < 1e-7:\n",
    "                continue\n",
    "\n",
    "            # Update the formula to use the boy and agepreg data.\n",
    "            formula = 'boy ~ agepreg + ' + name\n",
    "            model = smf.ols(formula, data=df)\n",
    "            if model.nobs < len(df)/2:\n",
    "                continue\n",
    "\n",
    "            results = model.fit()\n",
    "        except (ValueError, TypeError, patsy.PatsyError) as e:\n",
    "            continue\n",
    "        \n",
    "        variables.append((results.rsquared, name))\n",
    "\n",
    "    return variables\n",
    "\n",
    "# Call the function.\n",
    "variables = GoMining(join)"
   ]
  },
  {
   "cell_type": "code",
   "execution_count": 51,
   "metadata": {},
   "outputs": [
    {
     "name": "stdout",
     "output_type": "stream",
     "text": [
      "boy 1.0\n",
      "babysex 1.0 BD-2 SEX OF 1ST LIVEBORN BABY FROM THIS PREGNANCY\n",
      "totalwgt_lb 0.013301798084017546\n",
      "birthwgt_lb 0.012726691659959433 BD-3 BIRTHWEIGHT IN POUNDS - 1ST BABY FROM THIS PREGNANCY\n",
      "constat3 0.0014694928994313239 3RD PRIORITY CODE FOR CURRENT CONTRACEPTIVE STATUS\n",
      "lbw1 0.0014553556263094958 LOW BIRTHWEIGHT - BABY 1\n",
      "nplaced 0.0012686829487136286 # OF R'S BIO CHILDREN SHE PLACED FOR ADOPTION (BASED ON BPA)\n",
      "fmarout5 0.0012601736257893403 FORMAL MARITAL STATUS AT PREGNANCY OUTCOME\n",
      "rmarout6 0.0011335847593005877 INFORMAL MARITAL STATUS AT PREGNANCY OUTCOME - 6 CATEGORIES\n",
      "infever 0.0011227450406910977 EVER USED INFERTILITY SERVICES OF ANY KIND\n",
      "pmarpreg 0.0010038378902145206 WHETHER PREGNANCY ENDED BEFORE R'S 1ST MARRIAGE (PREMARITALLY)\n",
      "usefstp 0.000987049910458504 EF-3 USE METHOD AT FIRST SEX WITH 1ST PARTNER IN PAST 12 MONTHS?\n",
      "splstwk1 0.0009840191373363671 IF-1 H/P DOING WHAT LAST WEEK (EMPLOYMENT STATUS) 1ST MENTION\n",
      "outcom02 0.0009706165562226587 OUTCOME OF PREGNANCY - 2ND\n",
      "nummult34 0.0009135915842802822 NUMBER OF METHODS REPORTED IN (OCT 2001)\n",
      "coh1dur 0.0009062949725276992 DURATION (IN MONTHS) OF R'S FIRST COHABITATION\n",
      "brnout_r 0.0008915951898589292 IB-8 R BORN OUTSIDE OF US\n",
      "brnout 0.0008915951898589292 IB-8 R BORN OUTSIDE OF US\n",
      "nummult41 0.0008642255120749898 NUMBER OF METHODS REPORTED IN (MAY 2002)\n",
      "agepreg_i 0.0008285916082255707 AGEPREG IMPUTATION FLAG\n",
      "marout03 0.000815023004769877 FORMAL MARITAL STATUS WHEN PREGNANCY ENDED - 3RD\n",
      "educmom 0.0008067225309599246 MOTHER'S (OR MOTHER-FIGURE'S) EDUCATION\n",
      "abort12 0.0007896330819936459 FA-3B RECEIVED ABORTION LAST 12 MONTHS\n",
      "p1yhsage 0.0007786167229945073 CI-6 PARTNER'S AGE AT 1ST SEX-1ST REPORTED PARTNER IN LAST 12 MOS\n",
      "numfirsm1 0.0007762755082126871 TOTAL NUMBER OF RESPONSES IN EB-1 FIRSMETH - PRESCRIPTION METHODS\n",
      "bpa_bdscheck1 0.000734959429750659 WHETHER 1ST LIVEBORN BABY FROM THIS PREGNANCY WAS BPA OR BDS\n",
      "mar1con1_i 0.0007205236943017557 MAR1CON1 IMPUTATION FLAG\n",
      "nummult35 0.0007180366128797244 NUMBER OF METHODS REPORTED IN (NOV 2001)\n",
      "nummult39 0.0007121419419949815 NUMBER OF METHODS REPORTED IN (MAR 2002)\n",
      "agecon_i 0.0007111360296798708 AGECON IMPUTATION FLAG\n"
     ]
    },
    {
     "name": "stderr",
     "output_type": "stream",
     "text": [
      "C:\\Users\\Josh\\AppData\\Local\\Temp\\ipykernel_16732\\4248865890.py:11: FutureWarning: The frame.append method is deprecated and will be removed from pandas in a future version. Use pandas.concat instead.\n",
      "  all_vars = vars1.append(vars2)\n"
     ]
    }
   ],
   "source": [
    "# Use the mining report function from above.\n",
    "MiningReport(variables)"
   ]
  },
  {
   "cell_type": "code",
   "execution_count": 52,
   "metadata": {},
   "outputs": [
    {
     "name": "stdout",
     "output_type": "stream",
     "text": [
      "Optimization terminated successfully.\n",
      "         Current function value: 0.691874\n",
      "         Iterations 4\n"
     ]
    },
    {
     "data": {
      "text/html": [
       "<table class=\"simpletable\">\n",
       "<caption>Logit Regression Results</caption>\n",
       "<tr>\n",
       "  <th>Dep. Variable:</th>          <td>boy</td>       <th>  No. Observations:  </th>  <td>  8884</td>  \n",
       "</tr>\n",
       "<tr>\n",
       "  <th>Model:</th>                 <td>Logit</td>      <th>  Df Residuals:      </th>  <td>  8880</td>  \n",
       "</tr>\n",
       "<tr>\n",
       "  <th>Method:</th>                 <td>MLE</td>       <th>  Df Model:          </th>  <td>     3</td>  \n",
       "</tr>\n",
       "<tr>\n",
       "  <th>Date:</th>            <td>Tue, 26 Jul 2022</td> <th>  Pseudo R-squ.:     </th> <td>0.001653</td> \n",
       "</tr>\n",
       "<tr>\n",
       "  <th>Time:</th>                <td>19:56:20</td>     <th>  Log-Likelihood:    </th> <td> -6146.6</td> \n",
       "</tr>\n",
       "<tr>\n",
       "  <th>converged:</th>             <td>True</td>       <th>  LL-Null:           </th> <td> -6156.8</td> \n",
       "</tr>\n",
       "<tr>\n",
       "  <th>Covariance Type:</th>     <td>nonrobust</td>    <th>  LLR p-value:       </th> <td>0.0001432</td>\n",
       "</tr>\n",
       "</table>\n",
       "<table class=\"simpletable\">\n",
       "<tr>\n",
       "            <td></td>               <th>coef</th>     <th>std err</th>      <th>z</th>      <th>P>|z|</th>  <th>[0.025</th>    <th>0.975]</th>  \n",
       "</tr>\n",
       "<tr>\n",
       "  <th>Intercept</th>             <td>   -0.1805</td> <td>    0.118</td> <td>   -1.534</td> <td> 0.125</td> <td>   -0.411</td> <td>    0.050</td>\n",
       "</tr>\n",
       "<tr>\n",
       "  <th>fmarout5 == 5[T.True]</th> <td>    0.1582</td> <td>    0.049</td> <td>    3.217</td> <td> 0.001</td> <td>    0.062</td> <td>    0.255</td>\n",
       "</tr>\n",
       "<tr>\n",
       "  <th>infever == 1[T.True]</th>  <td>    0.2194</td> <td>    0.065</td> <td>    3.374</td> <td> 0.001</td> <td>    0.092</td> <td>    0.347</td>\n",
       "</tr>\n",
       "<tr>\n",
       "  <th>agepreg</th>               <td>    0.0050</td> <td>    0.004</td> <td>    1.172</td> <td> 0.241</td> <td>   -0.003</td> <td>    0.013</td>\n",
       "</tr>\n",
       "</table>"
      ],
      "text/plain": [
       "<class 'statsmodels.iolib.summary.Summary'>\n",
       "\"\"\"\n",
       "                           Logit Regression Results                           \n",
       "==============================================================================\n",
       "Dep. Variable:                    boy   No. Observations:                 8884\n",
       "Model:                          Logit   Df Residuals:                     8880\n",
       "Method:                           MLE   Df Model:                            3\n",
       "Date:                Tue, 26 Jul 2022   Pseudo R-squ.:                0.001653\n",
       "Time:                        19:56:20   Log-Likelihood:                -6146.6\n",
       "converged:                       True   LL-Null:                       -6156.8\n",
       "Covariance Type:            nonrobust   LLR p-value:                 0.0001432\n",
       "=========================================================================================\n",
       "                            coef    std err          z      P>|z|      [0.025      0.975]\n",
       "-----------------------------------------------------------------------------------------\n",
       "Intercept                -0.1805      0.118     -1.534      0.125      -0.411       0.050\n",
       "fmarout5 == 5[T.True]     0.1582      0.049      3.217      0.001       0.062       0.255\n",
       "infever == 1[T.True]      0.2194      0.065      3.374      0.001       0.092       0.347\n",
       "agepreg                   0.0050      0.004      1.172      0.241      -0.003       0.013\n",
       "=========================================================================================\n",
       "\"\"\""
      ]
     },
     "execution_count": 52,
     "metadata": {},
     "output_type": "execute_result"
    }
   ],
   "source": [
    "# Set the formula for the model to log.\n",
    "# infever (EVER USED INFERTILITY SERVICES OF ANY KIND) and fmarout (FORMAL MARITAL STATUS AT PREGNANCY OUTCOME)\n",
    "formula = 'boy ~ agepreg + fmarout5==5 + infever==1'\n",
    "\n",
    "# complete the model and provide a summary.\n",
    "model = smf.logit(formula, data=join)\n",
    "results = model.fit()\n",
    "results.summary() "
   ]
  },
  {
   "cell_type": "markdown",
   "metadata": {},
   "source": [
    "**Exercise:** If the quantity you want to predict is a count, you can use Poisson regression, which is implemented in StatsModels with a function called `poisson`. It works the same way as `ols` and `logit`. As an exercise, let’s use it to predict how many children a woman has born; in the NSFG dataset, this variable is called `numbabes`.\n",
    "\n",
    "Suppose you meet a woman who is 35 years old, black, and a college graduate whose annual household income exceeds $75,000. How many children would you predict she has born?"
   ]
  },
  {
   "cell_type": "code",
   "execution_count": 53,
   "metadata": {},
   "outputs": [
    {
     "name": "stderr",
     "output_type": "stream",
     "text": [
      "C:\\Users\\Josh\\AppData\\Local\\Temp\\ipykernel_16732\\280808359.py:5: PerformanceWarning: DataFrame is highly fragmented.  This is usually the result of calling `frame.insert` many times, which has poor performance.  Consider joining all columns at once using pd.concat(axis=1) instead. To get a de-fragmented frame, use `newframe = frame.copy()`\n",
      "  join['age2'] = join.age_r**2\n"
     ]
    }
   ],
   "source": [
    "# Use the join dataset along with the numbabes variable.\n",
    "join.numbabes.replace([97], np.nan, inplace=True)\n",
    "\n",
    "# Pull out the age2 element and use pow function.\n",
    "join['age2'] = join.age_r**2"
   ]
  },
  {
   "cell_type": "code",
   "execution_count": 56,
   "metadata": {},
   "outputs": [
    {
     "name": "stdout",
     "output_type": "stream",
     "text": [
      "Optimization terminated successfully.\n",
      "         Current function value: 1.677002\n",
      "         Iterations 7\n"
     ]
    },
    {
     "data": {
      "text/html": [
       "<table class=\"simpletable\">\n",
       "<caption>Poisson Regression Results</caption>\n",
       "<tr>\n",
       "  <th>Dep. Variable:</th>       <td>numbabes</td>     <th>  No. Observations:  </th>   <td>  8884</td>  \n",
       "</tr>\n",
       "<tr>\n",
       "  <th>Model:</th>                <td>Poisson</td>     <th>  Df Residuals:      </th>   <td>  8877</td>  \n",
       "</tr>\n",
       "<tr>\n",
       "  <th>Method:</th>                 <td>MLE</td>       <th>  Df Model:          </th>   <td>     6</td>  \n",
       "</tr>\n",
       "<tr>\n",
       "  <th>Date:</th>            <td>Tue, 26 Jul 2022</td> <th>  Pseudo R-squ.:     </th>   <td>0.03686</td> \n",
       "</tr>\n",
       "<tr>\n",
       "  <th>Time:</th>                <td>20:21:43</td>     <th>  Log-Likelihood:    </th>  <td> -14898.</td> \n",
       "</tr>\n",
       "<tr>\n",
       "  <th>converged:</th>             <td>True</td>       <th>  LL-Null:           </th>  <td> -15469.</td> \n",
       "</tr>\n",
       "<tr>\n",
       "  <th>Covariance Type:</th>     <td>nonrobust</td>    <th>  LLR p-value:       </th> <td>3.681e-243</td>\n",
       "</tr>\n",
       "</table>\n",
       "<table class=\"simpletable\">\n",
       "<tr>\n",
       "        <td></td>          <th>coef</th>     <th>std err</th>      <th>z</th>      <th>P>|z|</th>  <th>[0.025</th>    <th>0.975]</th>  \n",
       "</tr>\n",
       "<tr>\n",
       "  <th>Intercept</th>    <td>   -1.0324</td> <td>    0.169</td> <td>   -6.098</td> <td> 0.000</td> <td>   -1.364</td> <td>   -0.701</td>\n",
       "</tr>\n",
       "<tr>\n",
       "  <th>C(race)[T.2]</th> <td>   -0.1401</td> <td>    0.015</td> <td>   -9.479</td> <td> 0.000</td> <td>   -0.169</td> <td>   -0.111</td>\n",
       "</tr>\n",
       "<tr>\n",
       "  <th>C(race)[T.3]</th> <td>   -0.0991</td> <td>    0.025</td> <td>   -4.029</td> <td> 0.000</td> <td>   -0.147</td> <td>   -0.051</td>\n",
       "</tr>\n",
       "<tr>\n",
       "  <th>age_r</th>        <td>    0.1556</td> <td>    0.010</td> <td>   15.006</td> <td> 0.000</td> <td>    0.135</td> <td>    0.176</td>\n",
       "</tr>\n",
       "<tr>\n",
       "  <th>age2</th>         <td>   -0.0020</td> <td>    0.000</td> <td>  -13.102</td> <td> 0.000</td> <td>   -0.002</td> <td>   -0.002</td>\n",
       "</tr>\n",
       "<tr>\n",
       "  <th>totincr</th>      <td>   -0.0187</td> <td>    0.002</td> <td>   -9.830</td> <td> 0.000</td> <td>   -0.022</td> <td>   -0.015</td>\n",
       "</tr>\n",
       "<tr>\n",
       "  <th>educat</th>       <td>   -0.0471</td> <td>    0.003</td> <td>  -16.076</td> <td> 0.000</td> <td>   -0.053</td> <td>   -0.041</td>\n",
       "</tr>\n",
       "</table>"
      ],
      "text/plain": [
       "<class 'statsmodels.iolib.summary.Summary'>\n",
       "\"\"\"\n",
       "                          Poisson Regression Results                          \n",
       "==============================================================================\n",
       "Dep. Variable:               numbabes   No. Observations:                 8884\n",
       "Model:                        Poisson   Df Residuals:                     8877\n",
       "Method:                           MLE   Df Model:                            6\n",
       "Date:                Tue, 26 Jul 2022   Pseudo R-squ.:                 0.03686\n",
       "Time:                        20:21:43   Log-Likelihood:                -14898.\n",
       "converged:                       True   LL-Null:                       -15469.\n",
       "Covariance Type:            nonrobust   LLR p-value:                3.681e-243\n",
       "================================================================================\n",
       "                   coef    std err          z      P>|z|      [0.025      0.975]\n",
       "--------------------------------------------------------------------------------\n",
       "Intercept       -1.0324      0.169     -6.098      0.000      -1.364      -0.701\n",
       "C(race)[T.2]    -0.1401      0.015     -9.479      0.000      -0.169      -0.111\n",
       "C(race)[T.3]    -0.0991      0.025     -4.029      0.000      -0.147      -0.051\n",
       "age_r            0.1556      0.010     15.006      0.000       0.135       0.176\n",
       "age2            -0.0020      0.000    -13.102      0.000      -0.002      -0.002\n",
       "totincr         -0.0187      0.002     -9.830      0.000      -0.022      -0.015\n",
       "educat          -0.0471      0.003    -16.076      0.000      -0.053      -0.041\n",
       "================================================================================\n",
       "\"\"\""
      ]
     },
     "execution_count": 56,
     "metadata": {},
     "output_type": "execute_result"
    }
   ],
   "source": [
    "# Use the poisson function from the smf.\n",
    "# Set the formula first.\n",
    "formula = 'numbabes ~ age_r + age2 + C(race) + totincr + educat'\n",
    "\n",
    "model = smf.poisson(formula, data=join)\n",
    "results = model.fit()\n",
    "results.summary()"
   ]
  },
  {
   "cell_type": "markdown",
   "metadata": {},
   "source": [
    "Now we can predict the number of children for a woman who is 35 years old, black, and a college\n",
    "graduate whose annual household income exceeds $75,000"
   ]
  },
  {
   "cell_type": "code",
   "execution_count": 59,
   "metadata": {},
   "outputs": [
    {
     "data": {
      "text/plain": [
       "0    2.496802\n",
       "dtype: float64"
      ]
     },
     "execution_count": 59,
     "metadata": {},
     "output_type": "execute_result"
    }
   ],
   "source": [
    "# Pull in pandas\n",
    "import pandas\n",
    "\n",
    "# set the columns for the prediction.\n",
    "columns = ['age_r', 'age2', 'race', 'totincr', 'educat']\n",
    "\n",
    "# Use pandas to use the columns.\n",
    "new = pandas.DataFrame([[35, 35**2, 1, 14, 16]], columns=columns)\n",
    "results.predict(new)"
   ]
  }
 ],
 "metadata": {
  "kernelspec": {
   "display_name": "Python 3 (ipykernel)",
   "language": "python",
   "name": "python3"
  },
  "language_info": {
   "codemirror_mode": {
    "name": "ipython",
    "version": 3
   },
   "file_extension": ".py",
   "mimetype": "text/x-python",
   "name": "python",
   "nbconvert_exporter": "python",
   "pygments_lexer": "ipython3",
   "version": "3.7.11"
  }
 },
 "nbformat": 4,
 "nbformat_minor": 1
}
