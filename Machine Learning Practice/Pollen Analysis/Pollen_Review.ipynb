{
 "cells": [
  {
   "cell_type": "code",
   "execution_count": 3,
   "id": "f9611f78",
   "metadata": {},
   "outputs": [],
   "source": [
    "#Created by Joshua Greenert\n",
    "#This is a file to review the pollen counts for the area to see the general counts and timeframe from the getambee api."
   ]
  },
  {
   "cell_type": "code",
   "execution_count": 17,
   "id": "8033db7c",
   "metadata": {},
   "outputs": [],
   "source": [
    "# Endpoint\n",
    "# /history/pollen/by-lat-lng\n",
    "# https://api.ambeedata.com/history/pollen/by-lat-lng?lat=12&lng=77&from=2020-07-13 12:16:44&to=2020-07-18 08:16:44\n",
    "# Lat = 27.918289\n",
    "# long = -82.774940\n",
    "import requests\n",
    "from datetime import datetime\n",
    "\n",
    "def get_pollen_data(api_key, latitude, longitude, from_date, to_date):\n",
    "    headers = {'x-api-key': api_key }\n",
    "    endpoint = \"https://api.ambeedata.com/history/pollen/by-lat-lng?lat=\" +str(latitude)+ \"&lng=\"+str(longitude)+\"&from=\"+str(from_date)+\"&to=\"+str(to_date)\n",
    "    response = requests.get(endpoint, headers=headers)\n",
    "\n",
    "    # Get the response from the request.\n",
    "    jsonResponse = response.json()\n",
    "\n",
    "    # return the response from the api.\n",
    "    return jsonResponse\n",
    "\n"
   ]
  },
  {
   "cell_type": "code",
   "execution_count": 18,
   "id": "6148f23c",
   "metadata": {},
   "outputs": [
    {
     "data": {
      "text/plain": [
       "{'message': 'Only past 2 days data available!, please reach out to contactus@getambee.com',\n",
       " 'data': []}"
      ]
     },
     "execution_count": 18,
     "metadata": {},
     "output_type": "execute_result"
    }
   ],
   "source": [
    "# Test the api function call.\n",
    "# Set the api_key\n",
    "api_key = \"d2263cffccd8c433411b64b87c7ab387b4c899ce06889c6022ecd49e0ba7b2a0\"\n",
    "\n",
    "# Set the lat and long\n",
    "latitude = 27.918289\n",
    "longitude = -82.774940\n",
    "from_date = datetime(2021, 1, 1)\n",
    "to_date = datetime(2021, 12, 31)\n",
    "\n",
    "test = get_pollen_data(api_key, latitude, longitude, from_date, to_date)\n",
    "test"
   ]
  },
  {
   "cell_type": "code",
   "execution_count": 14,
   "id": "20cdffa9",
   "metadata": {},
   "outputs": [
    {
     "name": "stdout",
     "output_type": "stream",
     "text": [
      "2021-12-31 00:00:00\n"
     ]
    }
   ],
   "source": [
    "# Process the json to create arrays that can be"
   ]
  },
  {
   "cell_type": "code",
   "execution_count": null,
   "id": "5d079517",
   "metadata": {},
   "outputs": [],
   "source": [
    "# Use something like this to store the data once collected. (If it is able to be)\n",
    "df.to_csv('pollen_data.csv', index=False)  "
   ]
  }
 ],
 "metadata": {
  "kernelspec": {
   "display_name": "Python 3 (ipykernel)",
   "language": "python",
   "name": "python3"
  },
  "language_info": {
   "codemirror_mode": {
    "name": "ipython",
    "version": 3
   },
   "file_extension": ".py",
   "mimetype": "text/x-python",
   "name": "python",
   "nbconvert_exporter": "python",
   "pygments_lexer": "ipython3",
   "version": "3.9.12"
  }
 },
 "nbformat": 4,
 "nbformat_minor": 5
}
