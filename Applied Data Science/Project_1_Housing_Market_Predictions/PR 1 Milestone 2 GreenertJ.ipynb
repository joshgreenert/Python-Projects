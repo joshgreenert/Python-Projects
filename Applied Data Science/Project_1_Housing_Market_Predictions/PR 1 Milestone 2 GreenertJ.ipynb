{
 "cells": [
  {
   "cell_type": "markdown",
   "id": "82dd5b33",
   "metadata": {},
   "source": [
    "# Project 1: Milestone 2 - White Paper\n",
    "### DSC680-T301 Applied Data Science\n",
    "### Joshua Greenert\n",
    "### 3/18/2023"
   ]
  },
  {
   "cell_type": "markdown",
   "id": "3e328698",
   "metadata": {},
   "source": [
    "## Business Problem"
   ]
  },
  {
   "cell_type": "markdown",
   "id": "cbcf02df",
   "metadata": {},
   "source": [
    "Businesses and individuals alike invest in housing to provide for their family, or to rent out their property to gain residual income.  According to the Internal Revenue Service, in 2018 approximately 10.3 million individual filers reported they were owners of rental properties while owning 1.72 properties on average (Pew Research Center, 2021).  Throughout this project, we will attempt to discover whether these owners should be considering selling their investments, whether their homes will be massively underwater, and whether the housing market will remain stable for existing and new investors.  We will also be attempting to gain insight for millions of homeowners of whom may be worried during these tumultuous times."
   ]
  },
  {
   "cell_type": "markdown",
   "id": "a32330a3",
   "metadata": {},
   "source": [
    "## Background and History"
   ]
  },
  {
   "cell_type": "code",
   "execution_count": null,
   "id": "cce9dcc0",
   "metadata": {},
   "outputs": [],
   "source": []
  },
  {
   "cell_type": "markdown",
   "id": "a1a5390e",
   "metadata": {},
   "source": [
    "## Data Preparation"
   ]
  },
  {
   "cell_type": "code",
   "execution_count": 46,
   "id": "8ea6e4a2",
   "metadata": {},
   "outputs": [
    {
     "data": {
      "text/html": [
       "<div>\n",
       "<style scoped>\n",
       "    .dataframe tbody tr th:only-of-type {\n",
       "        vertical-align: middle;\n",
       "    }\n",
       "\n",
       "    .dataframe tbody tr th {\n",
       "        vertical-align: top;\n",
       "    }\n",
       "\n",
       "    .dataframe thead th {\n",
       "        text-align: right;\n",
       "    }\n",
       "</style>\n",
       "<table border=\"1\" class=\"dataframe\">\n",
       "  <thead>\n",
       "    <tr style=\"text-align: right;\">\n",
       "      <th></th>\n",
       "      <th>Unnamed: 0</th>\n",
       "      <th>Unnamed: 1</th>\n",
       "      <th>Unnamed: 2</th>\n",
       "      <th>Unnamed: 3</th>\n",
       "    </tr>\n",
       "  </thead>\n",
       "  <tbody>\n",
       "    <tr>\n",
       "      <th>0</th>\n",
       "      <td>Estimated Mean and Median House Prices for U.S...</td>\n",
       "      <td>NaN</td>\n",
       "      <td>NaN</td>\n",
       "      <td>NaN</td>\n",
       "    </tr>\n",
       "    <tr>\n",
       "      <th>1</th>\n",
       "      <td>Note: Underlying methodology and data sources ...</td>\n",
       "      <td>NaN</td>\n",
       "      <td>NaN</td>\n",
       "      <td>NaN</td>\n",
       "    </tr>\n",
       "    <tr>\n",
       "      <th>2</th>\n",
       "      <td>NaN</td>\n",
       "      <td>NaN</td>\n",
       "      <td>NaN</td>\n",
       "      <td>NaN</td>\n",
       "    </tr>\n",
       "    <tr>\n",
       "      <th>3</th>\n",
       "      <td>State</td>\n",
       "      <td>Year-Quarter</td>\n",
       "      <td>Average Price</td>\n",
       "      <td>Median Price</td>\n",
       "    </tr>\n",
       "    <tr>\n",
       "      <th>4</th>\n",
       "      <td>US</td>\n",
       "      <td>2000Q1</td>\n",
       "      <td>151780</td>\n",
       "      <td>125839</td>\n",
       "    </tr>\n",
       "  </tbody>\n",
       "</table>\n",
       "</div>"
      ],
      "text/plain": [
       "                                          Unnamed: 0    Unnamed: 1  \\\n",
       "0  Estimated Mean and Median House Prices for U.S...           NaN   \n",
       "1  Note: Underlying methodology and data sources ...           NaN   \n",
       "2                                                NaN           NaN   \n",
       "3                                              State  Year-Quarter   \n",
       "4                                                 US        2000Q1   \n",
       "\n",
       "      Unnamed: 2    Unnamed: 3  \n",
       "0            NaN           NaN  \n",
       "1            NaN           NaN  \n",
       "2            NaN           NaN  \n",
       "3  Average Price  Median Price  \n",
       "4         151780        125839  "
      ]
     },
     "execution_count": 46,
     "metadata": {},
     "output_type": "execute_result"
    }
   ],
   "source": [
    "# Set some required libraries\n",
    "import pandas as pd\n",
    "import numpy as np\n",
    "import matplotlib.pyplot as plt\n",
    "\n",
    "# Pull in the data.\n",
    "df_housing = pd.read_csv('Housing.csv')\n",
    "df_hpi = pd.read_csv('HPI_master.csv')\n",
    "df_state_stats = pd.read_excel('state_statistics_for_download.xls')\n",
    "\n",
    "# Show the head.\n",
    "df_state_stats.head(5)"
   ]
  },
  {
   "cell_type": "markdown",
   "id": "250dc7ac",
   "metadata": {},
   "source": [
    "### State Stats Dataset"
   ]
  },
  {
   "cell_type": "code",
   "execution_count": 47,
   "id": "e7d3647a",
   "metadata": {},
   "outputs": [],
   "source": [
    "# Fix the state stats dataframe.\n",
    "# Correct the row headers for the state stats.\n",
    "df_state_stats.columns = df_state_stats.iloc[3]\n",
    "\n",
    "#remove first row from DataFrame\n",
    "df_state_stats = df_state_stats[4:]\n",
    "\n",
    "# Remove all values of US from the State column\n",
    "df_state_stats = df_state_stats[df_state_stats['State'] != 'US']\n",
    "\n",
    "# Remove the rows with Q2, Q3, and Q4 data.\n",
    "df_state_stats = df_state_stats[~df_state_stats['Year-Quarter'].str.contains('Q[234]')]"
   ]
  },
  {
   "cell_type": "code",
   "execution_count": 48,
   "id": "0bec5868",
   "metadata": {},
   "outputs": [
    {
     "data": {
      "text/html": [
       "<div>\n",
       "<style scoped>\n",
       "    .dataframe tbody tr th:only-of-type {\n",
       "        vertical-align: middle;\n",
       "    }\n",
       "\n",
       "    .dataframe tbody tr th {\n",
       "        vertical-align: top;\n",
       "    }\n",
       "\n",
       "    .dataframe thead th {\n",
       "        text-align: right;\n",
       "    }\n",
       "</style>\n",
       "<table border=\"1\" class=\"dataframe\">\n",
       "  <thead>\n",
       "    <tr style=\"text-align: right;\">\n",
       "      <th>3</th>\n",
       "      <th>State</th>\n",
       "      <th>Year-Quarter</th>\n",
       "      <th>Average Price</th>\n",
       "      <th>Median Price</th>\n",
       "    </tr>\n",
       "  </thead>\n",
       "  <tbody>\n",
       "    <tr>\n",
       "      <th>46</th>\n",
       "      <td>AK</td>\n",
       "      <td>2000-01-01</td>\n",
       "      <td>159887</td>\n",
       "      <td>148406</td>\n",
       "    </tr>\n",
       "    <tr>\n",
       "      <th>50</th>\n",
       "      <td>AK</td>\n",
       "      <td>2001-01-01</td>\n",
       "      <td>168500</td>\n",
       "      <td>155637</td>\n",
       "    </tr>\n",
       "    <tr>\n",
       "      <th>54</th>\n",
       "      <td>AK</td>\n",
       "      <td>2002-01-01</td>\n",
       "      <td>175754</td>\n",
       "      <td>161283</td>\n",
       "    </tr>\n",
       "  </tbody>\n",
       "</table>\n",
       "</div>"
      ],
      "text/plain": [
       "3  State Year-Quarter Average Price Median Price\n",
       "46    AK   2000-01-01        159887       148406\n",
       "50    AK   2001-01-01        168500       155637\n",
       "54    AK   2002-01-01        175754       161283"
      ]
     },
     "execution_count": 48,
     "metadata": {},
     "output_type": "execute_result"
    }
   ],
   "source": [
    "# Loop through the dataframe and replace each year-quarter with an actual date object.\n",
    "import datetime\n",
    "\n",
    "for index, row in df_state_stats.iterrows():\n",
    "    year = int(row['Year-Quarter'][0:4])\n",
    "    date = datetime.date(year, 1, 1)\n",
    "    df_state_stats.at[index,'Year-Quarter'] = date\n",
    "\n",
    "# Show the head to confirm working\n",
    "df_state_stats.head(3)"
   ]
  },
  {
   "cell_type": "markdown",
   "id": "ffdf9745",
   "metadata": {},
   "source": [
    "### Housing Dataset"
   ]
  },
  {
   "cell_type": "code",
   "execution_count": 49,
   "id": "436e8e80",
   "metadata": {},
   "outputs": [
    {
     "data": {
      "text/html": [
       "<div>\n",
       "<style scoped>\n",
       "    .dataframe tbody tr th:only-of-type {\n",
       "        vertical-align: middle;\n",
       "    }\n",
       "\n",
       "    .dataframe tbody tr th {\n",
       "        vertical-align: top;\n",
       "    }\n",
       "\n",
       "    .dataframe thead th {\n",
       "        text-align: right;\n",
       "    }\n",
       "</style>\n",
       "<table border=\"1\" class=\"dataframe\">\n",
       "  <thead>\n",
       "    <tr style=\"text-align: right;\">\n",
       "      <th></th>\n",
       "      <th>price</th>\n",
       "      <th>area</th>\n",
       "      <th>bedrooms</th>\n",
       "      <th>bathrooms</th>\n",
       "      <th>stories</th>\n",
       "      <th>mainroad</th>\n",
       "      <th>guestroom</th>\n",
       "      <th>basement</th>\n",
       "      <th>hotwaterheating</th>\n",
       "      <th>airconditioning</th>\n",
       "      <th>parking</th>\n",
       "      <th>prefarea</th>\n",
       "      <th>furnishingstatus</th>\n",
       "    </tr>\n",
       "  </thead>\n",
       "  <tbody>\n",
       "    <tr>\n",
       "      <th>0</th>\n",
       "      <td>13300000</td>\n",
       "      <td>07420</td>\n",
       "      <td>4</td>\n",
       "      <td>2</td>\n",
       "      <td>3</td>\n",
       "      <td>yes</td>\n",
       "      <td>no</td>\n",
       "      <td>no</td>\n",
       "      <td>no</td>\n",
       "      <td>yes</td>\n",
       "      <td>2</td>\n",
       "      <td>yes</td>\n",
       "      <td>furnished</td>\n",
       "    </tr>\n",
       "    <tr>\n",
       "      <th>1</th>\n",
       "      <td>12250000</td>\n",
       "      <td>08960</td>\n",
       "      <td>4</td>\n",
       "      <td>4</td>\n",
       "      <td>4</td>\n",
       "      <td>yes</td>\n",
       "      <td>no</td>\n",
       "      <td>no</td>\n",
       "      <td>no</td>\n",
       "      <td>yes</td>\n",
       "      <td>3</td>\n",
       "      <td>no</td>\n",
       "      <td>furnished</td>\n",
       "    </tr>\n",
       "    <tr>\n",
       "      <th>2</th>\n",
       "      <td>12250000</td>\n",
       "      <td>09960</td>\n",
       "      <td>3</td>\n",
       "      <td>2</td>\n",
       "      <td>2</td>\n",
       "      <td>yes</td>\n",
       "      <td>no</td>\n",
       "      <td>yes</td>\n",
       "      <td>no</td>\n",
       "      <td>no</td>\n",
       "      <td>2</td>\n",
       "      <td>yes</td>\n",
       "      <td>semi-furnished</td>\n",
       "    </tr>\n",
       "    <tr>\n",
       "      <th>3</th>\n",
       "      <td>12215000</td>\n",
       "      <td>07500</td>\n",
       "      <td>4</td>\n",
       "      <td>2</td>\n",
       "      <td>2</td>\n",
       "      <td>yes</td>\n",
       "      <td>no</td>\n",
       "      <td>yes</td>\n",
       "      <td>no</td>\n",
       "      <td>yes</td>\n",
       "      <td>3</td>\n",
       "      <td>yes</td>\n",
       "      <td>furnished</td>\n",
       "    </tr>\n",
       "    <tr>\n",
       "      <th>4</th>\n",
       "      <td>11410000</td>\n",
       "      <td>07420</td>\n",
       "      <td>4</td>\n",
       "      <td>1</td>\n",
       "      <td>2</td>\n",
       "      <td>yes</td>\n",
       "      <td>yes</td>\n",
       "      <td>yes</td>\n",
       "      <td>no</td>\n",
       "      <td>yes</td>\n",
       "      <td>2</td>\n",
       "      <td>no</td>\n",
       "      <td>furnished</td>\n",
       "    </tr>\n",
       "  </tbody>\n",
       "</table>\n",
       "</div>"
      ],
      "text/plain": [
       "      price   area  bedrooms  bathrooms  stories mainroad guestroom basement  \\\n",
       "0  13300000  07420         4          2        3      yes        no       no   \n",
       "1  12250000  08960         4          4        4      yes        no       no   \n",
       "2  12250000  09960         3          2        2      yes        no      yes   \n",
       "3  12215000  07500         4          2        2      yes        no      yes   \n",
       "4  11410000  07420         4          1        2      yes       yes      yes   \n",
       "\n",
       "  hotwaterheating airconditioning  parking prefarea furnishingstatus  \n",
       "0              no             yes        2      yes        furnished  \n",
       "1              no             yes        3       no        furnished  \n",
       "2              no              no        2      yes   semi-furnished  \n",
       "3              no             yes        3      yes        furnished  \n",
       "4              no             yes        2       no        furnished  "
      ]
     },
     "execution_count": 49,
     "metadata": {},
     "output_type": "execute_result"
    }
   ],
   "source": [
    "# Fix the area codes so that they are strings and have 0's at the beginning if the number is less than 5 digits.\n",
    "for index, row in df_housing.iterrows():\n",
    "    if(len(str(row['area'])) < 5):\n",
    "        zipCode = \"0\" + str(row['area'])\n",
    "        df_housing.at[index,'area'] = zipCode\n",
    "    else:\n",
    "        df_housing.at[index,'area'] = str(row['area'])\n",
    "        \n",
    "df_housing.head(3)"
   ]
  },
  {
   "cell_type": "markdown",
   "id": "cf0ff437",
   "metadata": {},
   "source": [
    "### HPI Dataset"
   ]
  },
  {
   "cell_type": "code",
   "execution_count": 50,
   "id": "605cc989",
   "metadata": {},
   "outputs": [
    {
     "data": {
      "text/html": [
       "<div>\n",
       "<style scoped>\n",
       "    .dataframe tbody tr th:only-of-type {\n",
       "        vertical-align: middle;\n",
       "    }\n",
       "\n",
       "    .dataframe tbody tr th {\n",
       "        vertical-align: top;\n",
       "    }\n",
       "\n",
       "    .dataframe thead th {\n",
       "        text-align: right;\n",
       "    }\n",
       "</style>\n",
       "<table border=\"1\" class=\"dataframe\">\n",
       "  <thead>\n",
       "    <tr style=\"text-align: right;\">\n",
       "      <th></th>\n",
       "      <th>hpi_type</th>\n",
       "      <th>hpi_flavor</th>\n",
       "      <th>level</th>\n",
       "      <th>place_name</th>\n",
       "      <th>place_id</th>\n",
       "      <th>yr</th>\n",
       "      <th>index_nsa</th>\n",
       "    </tr>\n",
       "  </thead>\n",
       "  <tbody>\n",
       "    <tr>\n",
       "      <th>67915</th>\n",
       "      <td>traditional</td>\n",
       "      <td>all-transactions</td>\n",
       "      <td>State</td>\n",
       "      <td>Alaska</td>\n",
       "      <td>AK</td>\n",
       "      <td>1975-01-01</td>\n",
       "      <td>62.05</td>\n",
       "    </tr>\n",
       "    <tr>\n",
       "      <th>67919</th>\n",
       "      <td>traditional</td>\n",
       "      <td>all-transactions</td>\n",
       "      <td>State</td>\n",
       "      <td>Alaska</td>\n",
       "      <td>AK</td>\n",
       "      <td>1976-01-01</td>\n",
       "      <td>71.34</td>\n",
       "    </tr>\n",
       "    <tr>\n",
       "      <th>67923</th>\n",
       "      <td>traditional</td>\n",
       "      <td>all-transactions</td>\n",
       "      <td>State</td>\n",
       "      <td>Alaska</td>\n",
       "      <td>AK</td>\n",
       "      <td>1977-01-01</td>\n",
       "      <td>78.24</td>\n",
       "    </tr>\n",
       "  </tbody>\n",
       "</table>\n",
       "</div>"
      ],
      "text/plain": [
       "          hpi_type        hpi_flavor  level place_name place_id          yr  \\\n",
       "67915  traditional  all-transactions  State     Alaska       AK  1975-01-01   \n",
       "67919  traditional  all-transactions  State     Alaska       AK  1976-01-01   \n",
       "67923  traditional  all-transactions  State     Alaska       AK  1977-01-01   \n",
       "\n",
       "       index_nsa  \n",
       "67915      62.05  \n",
       "67919      71.34  \n",
       "67923      78.24  "
      ]
     },
     "execution_count": 50,
     "metadata": {},
     "output_type": "execute_result"
    }
   ],
   "source": [
    "# Remove all rows with level that is not equal to state.\n",
    "df_hpi = df_hpi[df_hpi['level'] == 'State']\n",
    "\n",
    "# Remove all the periods not equal to 1\n",
    "df_hpi = df_hpi[df_hpi['period'] == 1]\n",
    "\n",
    "# Update the year to be a date; otherwise visuals won't work right.\n",
    "for index, row in df_hpi.iterrows():\n",
    "    year = int(row['yr'])\n",
    "    date = datetime.date(year, 1, 1)\n",
    "    df_hpi.at[index,'yr'] = date\n",
    "\n",
    "# Drop all columns not needed\n",
    "df_hpi = df_hpi.drop(['period', 'index_sa', 'frequency'], axis = 1)\n",
    "\n",
    "# Show the head to confirm working\n",
    "df_hpi.head(3)"
   ]
  },
  {
   "cell_type": "markdown",
   "id": "fd8a7421",
   "metadata": {},
   "source": [
    "## Visualizations"
   ]
  },
  {
   "cell_type": "code",
   "execution_count": null,
   "id": "85b29913",
   "metadata": {},
   "outputs": [],
   "source": []
  },
  {
   "cell_type": "markdown",
   "id": "babcb524",
   "metadata": {},
   "source": [
    "## Methods"
   ]
  },
  {
   "cell_type": "code",
   "execution_count": null,
   "id": "59d729ad",
   "metadata": {},
   "outputs": [],
   "source": []
  },
  {
   "cell_type": "markdown",
   "id": "1f8bfe48",
   "metadata": {},
   "source": [
    "## Analysis"
   ]
  },
  {
   "cell_type": "code",
   "execution_count": null,
   "id": "a68db0e6",
   "metadata": {},
   "outputs": [],
   "source": []
  },
  {
   "cell_type": "markdown",
   "id": "02d8b5c7",
   "metadata": {},
   "source": [
    "## Conclusion"
   ]
  },
  {
   "cell_type": "code",
   "execution_count": null,
   "id": "300605e3",
   "metadata": {},
   "outputs": [],
   "source": []
  },
  {
   "cell_type": "markdown",
   "id": "f24c255a",
   "metadata": {},
   "source": [
    "## Assumptions"
   ]
  },
  {
   "cell_type": "code",
   "execution_count": null,
   "id": "d29803a7",
   "metadata": {},
   "outputs": [],
   "source": []
  },
  {
   "cell_type": "markdown",
   "id": "2c2a9ade",
   "metadata": {},
   "source": [
    "## Limitations"
   ]
  },
  {
   "cell_type": "code",
   "execution_count": null,
   "id": "b401330a",
   "metadata": {},
   "outputs": [],
   "source": []
  },
  {
   "cell_type": "markdown",
   "id": "31977e03",
   "metadata": {},
   "source": [
    "## Challenges"
   ]
  },
  {
   "cell_type": "code",
   "execution_count": null,
   "id": "30b049ce",
   "metadata": {},
   "outputs": [],
   "source": []
  },
  {
   "cell_type": "markdown",
   "id": "4c498729",
   "metadata": {},
   "source": [
    "## Future Uses and Additional Applications"
   ]
  },
  {
   "cell_type": "code",
   "execution_count": null,
   "id": "3446245a",
   "metadata": {},
   "outputs": [],
   "source": []
  },
  {
   "cell_type": "markdown",
   "id": "4532ff07",
   "metadata": {},
   "source": [
    "## Recommendations"
   ]
  },
  {
   "cell_type": "code",
   "execution_count": null,
   "id": "c279f1e7",
   "metadata": {},
   "outputs": [],
   "source": []
  },
  {
   "cell_type": "markdown",
   "id": "eb2ff9a5",
   "metadata": {},
   "source": [
    "## Implementation Plan"
   ]
  },
  {
   "cell_type": "code",
   "execution_count": null,
   "id": "f5a3b62d",
   "metadata": {},
   "outputs": [],
   "source": []
  },
  {
   "cell_type": "markdown",
   "id": "26565bf4",
   "metadata": {},
   "source": [
    "## Ethical Assessment"
   ]
  },
  {
   "cell_type": "code",
   "execution_count": null,
   "id": "456fc009",
   "metadata": {},
   "outputs": [],
   "source": []
  },
  {
   "cell_type": "markdown",
   "id": "8d76f41c",
   "metadata": {},
   "source": [
    "## Appendix"
   ]
  },
  {
   "cell_type": "code",
   "execution_count": null,
   "id": "594ea9f0",
   "metadata": {},
   "outputs": [],
   "source": []
  },
  {
   "cell_type": "markdown",
   "id": "1d4dfc3a",
   "metadata": {},
   "source": [
    "## 10 Questions From the Audience"
   ]
  },
  {
   "cell_type": "code",
   "execution_count": null,
   "id": "c4156a1e",
   "metadata": {},
   "outputs": [],
   "source": []
  },
  {
   "cell_type": "markdown",
   "id": "4ac3dd13",
   "metadata": {},
   "source": [
    "## References"
   ]
  },
  {
   "cell_type": "markdown",
   "id": "e62a552a",
   "metadata": {},
   "source": [
    "Federal Housing Finance Agency. (2022). House Price Index Datasets [Data set]. Retrieved from https://www.fhfa.gov/DataTools/Downloads/Pages/House-Price-Index-Datasets.aspx\n",
    "\n",
    "Parker, K., & Stepler, R. (2021, August 2). As national eviction ban expires, a look at who rents and who owns in the U.S. Pew Research Center. https://www.pewresearch.org/fact-tank/2021/08/02/as-national-eviction-ban-expires-a-look-at-who-rents-and-who-owns-in-the-u-s/\n",
    "\n",
    "Yasser, H. (2020). Housing Prices Dataset. Kaggle. Retrieved February 14, 2023, from https://www.kaggle.com/datasets/yasserh/housing-prices-dataset\n"
   ]
  }
 ],
 "metadata": {
  "kernelspec": {
   "display_name": "Python 3 (ipykernel)",
   "language": "python",
   "name": "python3"
  },
  "language_info": {
   "codemirror_mode": {
    "name": "ipython",
    "version": 3
   },
   "file_extension": ".py",
   "mimetype": "text/x-python",
   "name": "python",
   "nbconvert_exporter": "python",
   "pygments_lexer": "ipython3",
   "version": "3.9.12"
  }
 },
 "nbformat": 4,
 "nbformat_minor": 5
}
