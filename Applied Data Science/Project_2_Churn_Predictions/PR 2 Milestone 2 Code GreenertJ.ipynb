{
 "cells": [
  {
   "cell_type": "markdown",
   "id": "bb387a85",
   "metadata": {},
   "source": [
    "# Project 2: Milestone 2 - White Paper (Code)\n",
    "### DSC680-T301 Applied Data Science\n",
    "### Joshua Greenert\n",
    "### 4/15/2023"
   ]
  },
  {
   "cell_type": "code",
   "execution_count": 11,
   "id": "57a8d05d",
   "metadata": {},
   "outputs": [],
   "source": [
    "# Set some required libraries\n",
    "import pandas as pd\n",
    "import numpy as np\n",
    "import matplotlib.pyplot as plt\n",
    "\n",
    "# Set the dataframes\n",
    "df_telecom = pd.read_csv('telecomChurn.csv')\n",
    "df_bank = pd.read_csv('bankChurn.csv')"
   ]
  },
  {
   "cell_type": "markdown",
   "id": "4ea6b45d",
   "metadata": {},
   "source": [
    "## Data Preparation"
   ]
  },
  {
   "cell_type": "code",
   "execution_count": 12,
   "id": "9f8acd58",
   "metadata": {},
   "outputs": [],
   "source": [
    "# Prepare the telecom data.\n",
    "# Replace all values of yes and no values for churn column to 1s and 0s; can't use dummies \n",
    "# since they would make separate columns\n",
    "df_telecom['Churn'].replace({'Yes': 1, 'No': 0}, inplace = True)\n",
    "\n",
    "# Select the columns to make dummies for.\n",
    "dummy_columns = ['gender', 'SeniorCitizen', 'Partner', 'Dependents',\n",
    "       'PhoneService', 'MultipleLines', 'InternetService',\n",
    "       'OnlineSecurity', 'OnlineBackup', 'DeviceProtection', 'TechSupport',\n",
    "       'StreamingTV', 'StreamingMovies', 'Contract', 'PaperlessBilling',\n",
    "       'PaymentMethod']\n",
    "\n",
    "df_telecom = pd.concat([df_telecom, pd.get_dummies(df_telecom[dummy_columns])], axis = 1)\n",
    "\n",
    "# drop the original categorical columns that are now represented as dummies\n",
    "df_telecom.drop(dummy_columns, axis = 1, inplace = True)\n",
    "\n",
    "# drop the customer Id column as it can lead to overfitting/noise.\n",
    "df_telecom.drop('customerID', axis = 1, inplace = True)\n",
    "\n",
    "# Show the head\n",
    "df_telecom.head(3)"
   ]
  },
  {
   "cell_type": "code",
   "execution_count": 21,
   "id": "0d8d1a2e",
   "metadata": {},
   "outputs": [
    {
     "data": {
      "text/html": [
       "<div>\n",
       "<style scoped>\n",
       "    .dataframe tbody tr th:only-of-type {\n",
       "        vertical-align: middle;\n",
       "    }\n",
       "\n",
       "    .dataframe tbody tr th {\n",
       "        vertical-align: top;\n",
       "    }\n",
       "\n",
       "    .dataframe thead th {\n",
       "        text-align: right;\n",
       "    }\n",
       "</style>\n",
       "<table border=\"1\" class=\"dataframe\">\n",
       "  <thead>\n",
       "    <tr style=\"text-align: right;\">\n",
       "      <th></th>\n",
       "      <th>credit_score</th>\n",
       "      <th>age</th>\n",
       "      <th>tenure</th>\n",
       "      <th>balance</th>\n",
       "      <th>products_number</th>\n",
       "      <th>credit_card</th>\n",
       "      <th>active_member</th>\n",
       "      <th>estimated_salary</th>\n",
       "      <th>churn</th>\n",
       "      <th>gender_Female</th>\n",
       "      <th>gender_Male</th>\n",
       "    </tr>\n",
       "  </thead>\n",
       "  <tbody>\n",
       "    <tr>\n",
       "      <th>0</th>\n",
       "      <td>619</td>\n",
       "      <td>42</td>\n",
       "      <td>2</td>\n",
       "      <td>0.00</td>\n",
       "      <td>1</td>\n",
       "      <td>1</td>\n",
       "      <td>1</td>\n",
       "      <td>101348.88</td>\n",
       "      <td>1</td>\n",
       "      <td>1</td>\n",
       "      <td>0</td>\n",
       "    </tr>\n",
       "    <tr>\n",
       "      <th>1</th>\n",
       "      <td>608</td>\n",
       "      <td>41</td>\n",
       "      <td>1</td>\n",
       "      <td>83807.86</td>\n",
       "      <td>1</td>\n",
       "      <td>0</td>\n",
       "      <td>1</td>\n",
       "      <td>112542.58</td>\n",
       "      <td>0</td>\n",
       "      <td>1</td>\n",
       "      <td>0</td>\n",
       "    </tr>\n",
       "    <tr>\n",
       "      <th>2</th>\n",
       "      <td>502</td>\n",
       "      <td>42</td>\n",
       "      <td>8</td>\n",
       "      <td>159660.80</td>\n",
       "      <td>3</td>\n",
       "      <td>1</td>\n",
       "      <td>0</td>\n",
       "      <td>113931.57</td>\n",
       "      <td>1</td>\n",
       "      <td>1</td>\n",
       "      <td>0</td>\n",
       "    </tr>\n",
       "  </tbody>\n",
       "</table>\n",
       "</div>"
      ],
      "text/plain": [
       "   credit_score  age  tenure    balance  products_number  credit_card  \\\n",
       "0           619   42       2       0.00                1            1   \n",
       "1           608   41       1   83807.86                1            0   \n",
       "2           502   42       8  159660.80                3            1   \n",
       "\n",
       "   active_member  estimated_salary  churn  gender_Female  gender_Male  \n",
       "0              1         101348.88      1              1            0  \n",
       "1              1         112542.58      0              1            0  \n",
       "2              0         113931.57      1              1            0  "
      ]
     },
     "execution_count": 21,
     "metadata": {},
     "output_type": "execute_result"
    }
   ],
   "source": [
    "# Prepare the bank data.\n",
    "# Make dummies for the country and gender columns\n",
    "dummy_columns = [ 'gender']\n",
    "\n",
    "# Create dummies and add them to the dataframe.\n",
    "df_bank = pd.concat([df_bank, pd.get_dummies(df_bank[dummy_columns])], axis = 1)\n",
    "\n",
    "# drop the original categorical columns that are now represented as dummies\n",
    "df_bank.drop(dummy_columns, axis = 1, inplace = True)\n",
    "\n",
    "# Drop the columns that will hold no value or will create too many features.\n",
    "df_bank.drop(['customer_id', 'country'], axis=1, inplace=True)\n",
    "\n",
    "df_bank.head(3)"
   ]
  },
  {
   "cell_type": "markdown",
   "id": "2a71ac6d",
   "metadata": {},
   "source": [
    "## Visualizations"
   ]
  },
  {
   "cell_type": "code",
   "execution_count": 18,
   "id": "2e29828e",
   "metadata": {},
   "outputs": [
    {
     "data": {
      "image/png": "[encoded data removed]",
      "text/plain": [
       "<Figure size 1008x576 with 2 Axes>"
      ]
     },
     "metadata": {
      "needs_background": "light"
     },
     "output_type": "display_data"
    }
   ],
   "source": [
    "# create histograms of tenure, MonthlyCharges, and TotalCharges\n",
    "df_telecom[['tenure', 'MonthlyCharges', 'TotalCharges']].hist(figsize=(14, 8))\n",
    "plt.tight_layout()\n",
    "plt.show()"
   ]
  },
  {
   "cell_type": "code",
   "execution_count": null,
   "id": "ea1615ff",
   "metadata": {},
   "outputs": [],
   "source": []
  }
 ],
 "metadata": {
  "kernelspec": {
   "display_name": "Python 3 (ipykernel)",
   "language": "python",
   "name": "python3"
  },
  "language_info": {
   "codemirror_mode": {
    "name": "ipython",
    "version": 3
   },
   "file_extension": ".py",
   "mimetype": "text/x-python",
   "name": "python",
   "nbconvert_exporter": "python",
   "pygments_lexer": "ipython3",
   "version": "3.9.12"
  }
 },
 "nbformat": 4,
 "nbformat_minor": 5
}
