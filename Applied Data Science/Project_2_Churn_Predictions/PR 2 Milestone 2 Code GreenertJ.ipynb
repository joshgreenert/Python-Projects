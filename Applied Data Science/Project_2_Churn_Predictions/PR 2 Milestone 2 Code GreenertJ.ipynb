{
 "cells": [
  {
   "cell_type": "markdown",
   "id": "bb387a85",
   "metadata": {},
   "source": [
    "# Project 2: Milestone 2 - White Paper (Code)\n",
    "### DSC680-T301 Applied Data Science\n",
    "### Joshua Greenert\n",
    "### 4/15/2023"
   ]
  },
  {
   "cell_type": "code",
   "execution_count": 108,
   "id": "57a8d05d",
   "metadata": {},
   "outputs": [],
   "source": [
    "# Set some required libraries\n",
    "import pandas as pd\n",
    "import numpy as np\n",
    "import matplotlib.pyplot as plt\n",
    "\n",
    "# Set the dataframes\n",
    "df_telecom = pd.read_csv('telecomChurn.csv')\n",
    "df_bank = pd.read_csv('bankChurn.csv')"
   ]
  },
  {
   "cell_type": "markdown",
   "id": "4ea6b45d",
   "metadata": {},
   "source": [
    "## Data Preparation"
   ]
  },
  {
   "cell_type": "code",
   "execution_count": 109,
   "id": "9f8acd58",
   "metadata": {},
   "outputs": [
    {
     "data": {
      "text/html": [
       "<div>\n",
       "<style scoped>\n",
       "    .dataframe tbody tr th:only-of-type {\n",
       "        vertical-align: middle;\n",
       "    }\n",
       "\n",
       "    .dataframe tbody tr th {\n",
       "        vertical-align: top;\n",
       "    }\n",
       "\n",
       "    .dataframe thead th {\n",
       "        text-align: right;\n",
       "    }\n",
       "</style>\n",
       "<table border=\"1\" class=\"dataframe\">\n",
       "  <thead>\n",
       "    <tr style=\"text-align: right;\">\n",
       "      <th></th>\n",
       "      <th>tenure</th>\n",
       "      <th>MonthlyCharges</th>\n",
       "      <th>TotalCharges</th>\n",
       "      <th>Churn</th>\n",
       "      <th>gender_Female</th>\n",
       "      <th>gender_Male</th>\n",
       "      <th>Partner_No</th>\n",
       "      <th>Partner_Yes</th>\n",
       "      <th>Dependents_No</th>\n",
       "      <th>Dependents_Yes</th>\n",
       "      <th>...</th>\n",
       "      <th>StreamingMovies_Yes</th>\n",
       "      <th>Contract_Month-to-month</th>\n",
       "      <th>Contract_One year</th>\n",
       "      <th>Contract_Two year</th>\n",
       "      <th>PaperlessBilling_No</th>\n",
       "      <th>PaperlessBilling_Yes</th>\n",
       "      <th>PaymentMethod_Bank transfer (automatic)</th>\n",
       "      <th>PaymentMethod_Credit card (automatic)</th>\n",
       "      <th>PaymentMethod_Electronic check</th>\n",
       "      <th>PaymentMethod_Mailed check</th>\n",
       "    </tr>\n",
       "  </thead>\n",
       "  <tbody>\n",
       "    <tr>\n",
       "      <th>0</th>\n",
       "      <td>1</td>\n",
       "      <td>29.85</td>\n",
       "      <td>29.85</td>\n",
       "      <td>0</td>\n",
       "      <td>1</td>\n",
       "      <td>0</td>\n",
       "      <td>0</td>\n",
       "      <td>1</td>\n",
       "      <td>1</td>\n",
       "      <td>0</td>\n",
       "      <td>...</td>\n",
       "      <td>0</td>\n",
       "      <td>1</td>\n",
       "      <td>0</td>\n",
       "      <td>0</td>\n",
       "      <td>0</td>\n",
       "      <td>1</td>\n",
       "      <td>0</td>\n",
       "      <td>0</td>\n",
       "      <td>1</td>\n",
       "      <td>0</td>\n",
       "    </tr>\n",
       "    <tr>\n",
       "      <th>1</th>\n",
       "      <td>34</td>\n",
       "      <td>56.95</td>\n",
       "      <td>1889.5</td>\n",
       "      <td>0</td>\n",
       "      <td>0</td>\n",
       "      <td>1</td>\n",
       "      <td>1</td>\n",
       "      <td>0</td>\n",
       "      <td>1</td>\n",
       "      <td>0</td>\n",
       "      <td>...</td>\n",
       "      <td>0</td>\n",
       "      <td>0</td>\n",
       "      <td>1</td>\n",
       "      <td>0</td>\n",
       "      <td>1</td>\n",
       "      <td>0</td>\n",
       "      <td>0</td>\n",
       "      <td>0</td>\n",
       "      <td>0</td>\n",
       "      <td>1</td>\n",
       "    </tr>\n",
       "    <tr>\n",
       "      <th>2</th>\n",
       "      <td>2</td>\n",
       "      <td>53.85</td>\n",
       "      <td>108.15</td>\n",
       "      <td>1</td>\n",
       "      <td>0</td>\n",
       "      <td>1</td>\n",
       "      <td>1</td>\n",
       "      <td>0</td>\n",
       "      <td>1</td>\n",
       "      <td>0</td>\n",
       "      <td>...</td>\n",
       "      <td>0</td>\n",
       "      <td>1</td>\n",
       "      <td>0</td>\n",
       "      <td>0</td>\n",
       "      <td>0</td>\n",
       "      <td>1</td>\n",
       "      <td>0</td>\n",
       "      <td>0</td>\n",
       "      <td>0</td>\n",
       "      <td>1</td>\n",
       "    </tr>\n",
       "  </tbody>\n",
       "</table>\n",
       "<p>3 rows × 45 columns</p>\n",
       "</div>"
      ],
      "text/plain": [
       "   tenure  MonthlyCharges TotalCharges  Churn  gender_Female  gender_Male  \\\n",
       "0       1           29.85        29.85      0              1            0   \n",
       "1      34           56.95       1889.5      0              0            1   \n",
       "2       2           53.85       108.15      1              0            1   \n",
       "\n",
       "   Partner_No  Partner_Yes  Dependents_No  Dependents_Yes  ...  \\\n",
       "0           0            1              1               0  ...   \n",
       "1           1            0              1               0  ...   \n",
       "2           1            0              1               0  ...   \n",
       "\n",
       "   StreamingMovies_Yes  Contract_Month-to-month  Contract_One year  \\\n",
       "0                    0                        1                  0   \n",
       "1                    0                        0                  1   \n",
       "2                    0                        1                  0   \n",
       "\n",
       "   Contract_Two year  PaperlessBilling_No  PaperlessBilling_Yes  \\\n",
       "0                  0                    0                     1   \n",
       "1                  0                    1                     0   \n",
       "2                  0                    0                     1   \n",
       "\n",
       "   PaymentMethod_Bank transfer (automatic)  \\\n",
       "0                                        0   \n",
       "1                                        0   \n",
       "2                                        0   \n",
       "\n",
       "   PaymentMethod_Credit card (automatic)  PaymentMethod_Electronic check  \\\n",
       "0                                      0                               1   \n",
       "1                                      0                               0   \n",
       "2                                      0                               0   \n",
       "\n",
       "   PaymentMethod_Mailed check  \n",
       "0                           0  \n",
       "1                           1  \n",
       "2                           1  \n",
       "\n",
       "[3 rows x 45 columns]"
      ]
     },
     "execution_count": 109,
     "metadata": {},
     "output_type": "execute_result"
    }
   ],
   "source": [
    "# Prepare the telecom data.\n",
    "# Replace all values of yes and no values for churn column to 1s and 0s; can't use dummies \n",
    "# since they would make separate columns\n",
    "df_telecom['Churn'].replace({'Yes': 1, 'No': 0}, inplace = True)\n",
    "\n",
    "# Select the columns to make dummies for.\n",
    "dummy_columns = ['gender', 'SeniorCitizen', 'Partner', 'Dependents',\n",
    "       'PhoneService', 'MultipleLines', 'InternetService',\n",
    "       'OnlineSecurity', 'OnlineBackup', 'DeviceProtection', 'TechSupport',\n",
    "       'StreamingTV', 'StreamingMovies', 'Contract', 'PaperlessBilling',\n",
    "       'PaymentMethod']\n",
    "\n",
    "df_telecom = pd.concat([df_telecom, pd.get_dummies(df_telecom[dummy_columns])], axis = 1)\n",
    "\n",
    "# drop the original categorical columns that are now represented as dummies\n",
    "df_telecom.drop(dummy_columns, axis = 1, inplace = True)\n",
    "\n",
    "# drop the customer Id column as it can lead to overfitting/noise.\n",
    "df_telecom.drop('customerID', axis = 1, inplace = True)\n",
    "\n",
    "# remove whitespace characters from all string columns\n",
    "df_telecom = df_telecom.applymap(lambda x: x.strip() if isinstance(x, str) else x)\n",
    "\n",
    "# replace empty strings with NaN values in the 'TotalCharges' column\n",
    "df_telecom['TotalCharges'] = df_telecom['TotalCharges'].replace('', pd.NA)\n",
    "\n",
    "# drop all rows with missing values in the 'TotalCharges' column\n",
    "df_telecom = df_telecom.dropna(subset=['TotalCharges'])\n",
    "\n",
    "# reset the index of the resulting dataframe\n",
    "df_telecom = df_telecom.reset_index(drop=True)\n",
    "\n",
    "# Show the head\n",
    "df_telecom.head(3)"
   ]
  },
  {
   "cell_type": "code",
   "execution_count": 110,
   "id": "0d8d1a2e",
   "metadata": {},
   "outputs": [
    {
     "data": {
      "text/html": [
       "<div>\n",
       "<style scoped>\n",
       "    .dataframe tbody tr th:only-of-type {\n",
       "        vertical-align: middle;\n",
       "    }\n",
       "\n",
       "    .dataframe tbody tr th {\n",
       "        vertical-align: top;\n",
       "    }\n",
       "\n",
       "    .dataframe thead th {\n",
       "        text-align: right;\n",
       "    }\n",
       "</style>\n",
       "<table border=\"1\" class=\"dataframe\">\n",
       "  <thead>\n",
       "    <tr style=\"text-align: right;\">\n",
       "      <th></th>\n",
       "      <th>credit_score</th>\n",
       "      <th>age</th>\n",
       "      <th>tenure</th>\n",
       "      <th>balance</th>\n",
       "      <th>products_number</th>\n",
       "      <th>credit_card</th>\n",
       "      <th>active_member</th>\n",
       "      <th>estimated_salary</th>\n",
       "      <th>churn</th>\n",
       "      <th>gender_Female</th>\n",
       "      <th>gender_Male</th>\n",
       "    </tr>\n",
       "  </thead>\n",
       "  <tbody>\n",
       "    <tr>\n",
       "      <th>0</th>\n",
       "      <td>619</td>\n",
       "      <td>42</td>\n",
       "      <td>2</td>\n",
       "      <td>0.00</td>\n",
       "      <td>1</td>\n",
       "      <td>1</td>\n",
       "      <td>1</td>\n",
       "      <td>101348.88</td>\n",
       "      <td>1</td>\n",
       "      <td>1</td>\n",
       "      <td>0</td>\n",
       "    </tr>\n",
       "    <tr>\n",
       "      <th>1</th>\n",
       "      <td>608</td>\n",
       "      <td>41</td>\n",
       "      <td>1</td>\n",
       "      <td>83807.86</td>\n",
       "      <td>1</td>\n",
       "      <td>0</td>\n",
       "      <td>1</td>\n",
       "      <td>112542.58</td>\n",
       "      <td>0</td>\n",
       "      <td>1</td>\n",
       "      <td>0</td>\n",
       "    </tr>\n",
       "    <tr>\n",
       "      <th>2</th>\n",
       "      <td>502</td>\n",
       "      <td>42</td>\n",
       "      <td>8</td>\n",
       "      <td>159660.80</td>\n",
       "      <td>3</td>\n",
       "      <td>1</td>\n",
       "      <td>0</td>\n",
       "      <td>113931.57</td>\n",
       "      <td>1</td>\n",
       "      <td>1</td>\n",
       "      <td>0</td>\n",
       "    </tr>\n",
       "  </tbody>\n",
       "</table>\n",
       "</div>"
      ],
      "text/plain": [
       "   credit_score  age  tenure    balance  products_number  credit_card  \\\n",
       "0           619   42       2       0.00                1            1   \n",
       "1           608   41       1   83807.86                1            0   \n",
       "2           502   42       8  159660.80                3            1   \n",
       "\n",
       "   active_member  estimated_salary  churn  gender_Female  gender_Male  \n",
       "0              1         101348.88      1              1            0  \n",
       "1              1         112542.58      0              1            0  \n",
       "2              0         113931.57      1              1            0  "
      ]
     },
     "execution_count": 110,
     "metadata": {},
     "output_type": "execute_result"
    }
   ],
   "source": [
    "# Prepare the bank data.\n",
    "# Make dummies for the country and gender columns\n",
    "dummy_columns = [ 'gender']\n",
    "\n",
    "# Create dummies and add them to the dataframe.\n",
    "df_bank = pd.concat([df_bank, pd.get_dummies(df_bank[dummy_columns])], axis = 1)\n",
    "\n",
    "# drop the original categorical columns that are now represented as dummies\n",
    "df_bank.drop(dummy_columns, axis = 1, inplace = True)\n",
    "\n",
    "# Drop the columns that will hold no value or will create too many features.\n",
    "df_bank.drop(['customer_id', 'country'], axis=1, inplace=True)\n",
    "\n",
    "df_bank.head(3)"
   ]
  },
  {
   "cell_type": "markdown",
   "id": "2a71ac6d",
   "metadata": {},
   "source": [
    "## Visualizations"
   ]
  },
  {
   "cell_type": "code",
   "execution_count": 111,
   "id": "2e29828e",
   "metadata": {},
   "outputs": [
    {
     "data": {
      "image/png": "[encoded data removed]",
      "text/plain": [
       "<Figure size 1008x576 with 2 Axes>"
      ]
     },
     "metadata": {
      "needs_background": "light"
     },
     "output_type": "display_data"
    }
   ],
   "source": [
    "# create histograms of tenure and MonthlyCharges\n",
    "df_telecom[['MonthlyCharges', 'tenure']].hist(figsize=(14, 8))\n",
    "plt.tight_layout()\n",
    "plt.show()"
   ]
  },
  {
   "cell_type": "code",
   "execution_count": 112,
   "id": "acd32b64",
   "metadata": {},
   "outputs": [
    {
     "data": {
      "image/png": "[encoded data removed]",
      "text/plain": [
       "<Figure size 1008x576 with 1 Axes>"
      ]
     },
     "metadata": {
      "needs_background": "light"
     },
     "output_type": "display_data"
    }
   ],
   "source": [
    "# Filter the data to include only females and males, and the Churn column\n",
    "gender_df = df_telecom.loc[df_telecom['gender_Female'].isin([1,0]) & df_telecom['gender_Male'].isin([1,0]), ['gender_Female', 'Churn']]\n",
    "\n",
    "# Group the data by gender and Churn, and count the number of records\n",
    "gender_churn_counts = gender_df.groupby(['gender_Female', 'Churn']).size().reset_index(name='count')\n",
    "\n",
    "# Create a bar plot for churn by gender\n",
    "fig, ax = plt.subplots(figsize=(14, 8))\n",
    "\n",
    "# Plot the bars for female churn counts\n",
    "ax.bar(x=[0, 1], height=gender_churn_counts.loc[gender_churn_counts['gender_Female'] == 1]['count'], \n",
    "       width=0.4, color='blue', align='edge', label='Female')\n",
    "\n",
    "# Plot the bars for male churn counts\n",
    "ax.bar(x=[0.4, 1.4], height=gender_churn_counts.loc[gender_churn_counts['gender_Female'] == 0]['count'], \n",
    "       width=0.4, color='red', align='edge', label='Male')\n",
    "\n",
    "# Set the x-axis labels and title\n",
    "ax.set_xticks([0.2, 1.2])\n",
    "ax.set_xticklabels(['No Churn', 'Churn'])\n",
    "ax.set_xlabel('Churn')\n",
    "ax.set_ylabel('Count')\n",
    "ax.set_title('Churn for Customers by Gender')\n",
    "\n",
    "# Add the legend\n",
    "ax.legend()\n",
    "\n",
    "# Display the chart\n",
    "plt.show()"
   ]
  },
  {
   "cell_type": "code",
   "execution_count": 113,
   "id": "90b6cd65",
   "metadata": {},
   "outputs": [
    {
     "data": {
      "image/png": "[encoded data removed]",
      "text/plain": [
       "<Figure size 1008x576 with 1 Axes>"
      ]
     },
     "metadata": {
      "needs_background": "light"
     },
     "output_type": "display_data"
    }
   ],
   "source": [
    "# Create a histogram of age\n",
    "plt.figure(figsize=(14, 8))\n",
    "plt.hist(df_bank['age'], bins=20, color='blue')\n",
    "plt.xlabel('Age')\n",
    "plt.ylabel('Frequency')\n",
    "plt.title('Distribution of Age')\n",
    "plt.show()"
   ]
  },
  {
   "cell_type": "code",
   "execution_count": 114,
   "id": "0500349a",
   "metadata": {},
   "outputs": [
    {
     "data": {
      "image/png": "[encoded data removed]",
      "text/plain": [
       "<Figure size 1008x576 with 1 Axes>"
      ]
     },
     "metadata": {
      "needs_background": "light"
     },
     "output_type": "display_data"
    }
   ],
   "source": [
    "# Group the data by Churn, and count the number of records\n",
    "churn_counts = df_bank.groupby(['churn']).size().reset_index(name='count')\n",
    "\n",
    "# Create a bar plot of churn\n",
    "plt.figure(figsize=(14, 8))\n",
    "plt.bar(['No Churn', 'Churn'], churn_counts['count'], color=['green', 'red'])\n",
    "plt.xlabel('Churn')\n",
    "plt.ylabel('Count')\n",
    "plt.title('Churn in the Dataset')\n",
    "plt.show()"
   ]
  },
  {
   "cell_type": "code",
   "execution_count": 115,
   "id": "b9e38e0c",
   "metadata": {},
   "outputs": [
    {
     "data": {
      "image/png": "[encoded data removed]",
      "text/plain": [
       "<Figure size 1008x576 with 1 Axes>"
      ]
     },
     "metadata": {
      "needs_background": "light"
     },
     "output_type": "display_data"
    }
   ],
   "source": [
    "# Create a scatter plot of age vs. credit_score\n",
    "plt.figure(figsize=(14, 8))\n",
    "plt.scatter(df_bank['age'], df_bank['credit_score'], color='blue')\n",
    "plt.xlabel('Age')\n",
    "plt.ylabel('Credit Score')\n",
    "plt.title('Age vs. Credit Score')\n",
    "plt.show()"
   ]
  },
  {
   "cell_type": "markdown",
   "id": "1ff01aa5",
   "metadata": {},
   "source": [
    "## Build Models: Logistic Regression"
   ]
  },
  {
   "cell_type": "markdown",
   "id": "23f92fb1",
   "metadata": {},
   "source": [
    "### Telecommuncations Dataset"
   ]
  },
  {
   "cell_type": "code",
   "execution_count": 103,
   "id": "6a7f6176",
   "metadata": {},
   "outputs": [
    {
     "name": "stdout",
     "output_type": "stream",
     "text": [
      "Accuracy: 0.7896233120113717\n",
      "Precision: 0.625\n",
      "Recall: 0.5213903743315508\n",
      "F1-score: 0.5685131195335277\n",
      "AUC-ROC score: 0.8323273162120609\n"
     ]
    }
   ],
   "source": [
    "from sklearn.model_selection import train_test_split\n",
    "from sklearn.preprocessing import StandardScaler\n",
    "from sklearn.linear_model import LogisticRegression\n",
    "from sklearn.metrics import accuracy_score, precision_score, recall_score, f1_score, roc_auc_score\n",
    "\n",
    "# create a copy of the dataframe so that the data can be reran easily.\n",
    "df_telecom_copy = df_telecom.copy()\n",
    "\n",
    "# split the dataframe into training and testing sets\n",
    "X_train, X_test, y_train, y_test = train_test_split(df_telecom_copy.drop('Churn', axis=1), df_telecom_copy['Churn'], test_size=0.2, random_state=42)\n",
    "\n",
    "# scale the predictor variables\n",
    "scaler = StandardScaler()\n",
    "X_train_scaled = scaler.fit_transform(X_train)\n",
    "X_test_scaled = scaler.transform(X_test)\n",
    "\n",
    "# train the logistic regression model\n",
    "clf = LogisticRegression(random_state=42)\n",
    "clf.fit(X_train_scaled, y_train)\n",
    "\n",
    "# make predictions on the testing set\n",
    "y_pred = clf.predict(X_test_scaled)\n",
    "\n",
    "# evaluate the performance of the model\n",
    "print('Accuracy:', accuracy_score(y_test, y_pred))\n",
    "print('Precision:', precision_score(y_test, y_pred))\n",
    "print('Recall:', recall_score(y_test, y_pred))\n",
    "print('F1-score:', f1_score(y_test, y_pred))\n",
    "print('AUC-ROC score:', roc_auc_score(y_test, clf.predict_proba(X_test_scaled)[:,1]))"
   ]
  },
  {
   "cell_type": "code",
   "execution_count": 104,
   "id": "bc1ed01a",
   "metadata": {
    "scrolled": true
   },
   "outputs": [
    {
     "name": "stdout",
     "output_type": "stream",
     "text": [
      "                                             coef\n",
      "TotalCharges                             0.692176\n",
      "InternetService_Fiber optic              0.368638\n",
      "Contract_Month-to-month                  0.319266\n",
      "StreamingMovies_Yes                      0.156574\n",
      "StreamingTV_Yes                          0.151453\n",
      "OnlineSecurity_No                        0.121176\n",
      "TechSupport_No                           0.116333\n",
      "PaymentMethod_Electronic check           0.112786\n",
      "MultipleLines_Yes                        0.085553\n",
      "PaperlessBilling_Yes                     0.069489\n",
      "DeviceProtection_Yes                     0.063448\n",
      "Dependents_No                            0.062094\n",
      "OnlineBackup_No                          0.044174\n",
      "OnlineBackup_Yes                         0.037767\n",
      "Partner_Yes                              0.019798\n",
      "DeviceProtection_No                      0.019657\n",
      "gender_Female                            0.008101\n",
      "PhoneService_No                          0.001633\n",
      "MultipleLines_No phone service           0.001633\n",
      "PhoneService_Yes                        -0.001633\n",
      "gender_Male                             -0.008101\n",
      "PaymentMethod_Bank transfer (automatic) -0.014333\n",
      "Partner_No                              -0.019798\n",
      "TechSupport_Yes                         -0.040316\n",
      "PaymentMethod_Mailed check              -0.043132\n",
      "OnlineSecurity_Yes                      -0.045772\n",
      "Contract_One year                       -0.061912\n",
      "Dependents_Yes                          -0.062094\n",
      "StreamingTV_No                          -0.069257\n",
      "PaperlessBilling_No                     -0.069489\n",
      "PaymentMethod_Credit card (automatic)   -0.071026\n",
      "StreamingMovies_No                      -0.074947\n",
      "MultipleLines_No                        -0.085368\n",
      "DeviceProtection_No internet service    -0.096366\n",
      "InternetService_No                      -0.096366\n",
      "OnlineSecurity_No internet service      -0.096366\n",
      "StreamingMovies_No internet service     -0.096366\n",
      "StreamingTV_No internet service         -0.096366\n",
      "OnlineBackup_No internet service        -0.096366\n",
      "TechSupport_No internet service         -0.096366\n",
      "InternetService_DSL                     -0.301790\n",
      "Contract_Two year                       -0.313006\n",
      "MonthlyCharges                          -0.683878\n",
      "tenure                                  -1.429448\n"
     ]
    }
   ],
   "source": [
    "# Get the coefficients of the logistic regression model\n",
    "coefs = pd.DataFrame(clf.coef_.T, index=X_train.columns, columns=['coef'])\n",
    "coefs = coefs.sort_values(by='coef', ascending=False)\n",
    "print(coefs)"
   ]
  },
  {
   "cell_type": "markdown",
   "id": "257543fb",
   "metadata": {},
   "source": [
    "Based on the coefficients listed above, we can see that the main columns suspected to predict churn are TotalCharges, InternetService_Fiber_optic, Contract_Month_to_month, StreamingMovies_Yes, and StreamingTV_Yes.  As these values increase, so does the liklihood of the customer to churn.  The AUC-ROC (Area under the ROC curve) is 83.23% which indicates good performance, but the recall score is 52.14%; this indicates that the model can predict churning customers correctly half the time.  "
   ]
  },
  {
   "cell_type": "markdown",
   "id": "aba277f5",
   "metadata": {},
   "source": [
    "### Banking Dataset"
   ]
  },
  {
   "cell_type": "code",
   "execution_count": 106,
   "id": "499f5530",
   "metadata": {},
   "outputs": [
    {
     "name": "stdout",
     "output_type": "stream",
     "text": [
      "Accuracy: 0.814\n",
      "Precision: 0.5945945945945946\n",
      "Recall: 0.16793893129770993\n",
      "F1-score: 0.2619047619047619\n",
      "AUC-ROC score: 0.7652968643862491\n"
     ]
    }
   ],
   "source": [
    "# create a copy of the dataframe to rerun easily.\n",
    "df_bank_copy = df_bank.copy()\n",
    "\n",
    "# split the dataframe into training and testing sets\n",
    "X_train, X_test, y_train, y_test = train_test_split(df_bank_copy.drop('churn', axis=1), df_bank_copy['churn'], test_size=0.2, random_state=42)\n",
    "\n",
    "# scale the predictor variables\n",
    "scaler = StandardScaler()\n",
    "X_train_scaled = scaler.fit_transform(X_train)\n",
    "X_test_scaled = scaler.transform(X_test)\n",
    "\n",
    "# train the logistic regression model\n",
    "clf = LogisticRegression(random_state=42)\n",
    "clf.fit(X_train_scaled, y_train)\n",
    "\n",
    "# make predictions on the testing set\n",
    "y_pred = clf.predict(X_test_scaled)\n",
    "\n",
    "# evaluate the performance of the model\n",
    "print('Accuracy:', accuracy_score(y_test, y_pred))\n",
    "print('Precision:', precision_score(y_test, y_pred))\n",
    "print('Recall:', recall_score(y_test, y_pred))\n",
    "print('F1-score:', f1_score(y_test, y_pred))\n",
    "print('AUC-ROC score:', roc_auc_score(y_test, clf.predict_proba(X_test_scaled)[:,1]))"
   ]
  },
  {
   "cell_type": "code",
   "execution_count": 107,
   "id": "bf3c84ce",
   "metadata": {
    "scrolled": true
   },
   "outputs": [
    {
     "name": "stdout",
     "output_type": "stream",
     "text": [
      "                      coef\n",
      "age               0.755241\n",
      "balance           0.308227\n",
      "gender_Female     0.134424\n",
      "estimated_salary  0.019534\n",
      "credit_card      -0.003951\n",
      "products_number  -0.024642\n",
      "tenure           -0.040581\n",
      "credit_score     -0.066367\n",
      "gender_Male      -0.134424\n",
      "active_member    -0.534622\n"
     ]
    }
   ],
   "source": [
    "# Get the coefficients of the logistic regression model\n",
    "coefs = pd.DataFrame(clf.coef_.T, index=X_train.columns, columns=['coef'])\n",
    "coefs = coefs.sort_values(by='coef', ascending=False)\n",
    "print(coefs)"
   ]
  },
  {
   "cell_type": "markdown",
   "id": "64d4a299",
   "metadata": {},
   "source": [
    "Using the same model on the banking dataset, we can see the scores drop significantly for recall and f1-scores.  Since recall is the proportion of true positive predictions out of all actual positive cases, then only 16.8% of actual churn cases were correctly identified as such.  Additionally, since AUC_ROC scores of 0.5 indicates random classification, a score of 76.53% is slightly better than random but requires some improvement."
   ]
  },
  {
   "cell_type": "markdown",
   "id": "9b87da44",
   "metadata": {},
   "source": [
    "## Build Models: Decision Trees"
   ]
  },
  {
   "cell_type": "markdown",
   "id": "f66ae9d6",
   "metadata": {},
   "source": [
    "### Telecommunications Dataset"
   ]
  },
  {
   "cell_type": "code",
   "execution_count": 117,
   "id": "8a321e61",
   "metadata": {},
   "outputs": [
    {
     "name": "stdout",
     "output_type": "stream",
     "text": [
      "Accuracy: 0.7277896233120114\n",
      "Confusion Matrix:\n",
      " [[846 187]\n",
      " [196 178]]\n",
      "Classification Report:\n",
      "               precision    recall  f1-score   support\n",
      "\n",
      "           0       0.81      0.82      0.82      1033\n",
      "           1       0.49      0.48      0.48       374\n",
      "\n",
      "    accuracy                           0.73      1407\n",
      "   macro avg       0.65      0.65      0.65      1407\n",
      "weighted avg       0.73      0.73      0.73      1407\n",
      "\n"
     ]
    }
   ],
   "source": [
    "from sklearn.tree import DecisionTreeClassifier\n",
    "from sklearn.model_selection import train_test_split\n",
    "from sklearn.metrics import confusion_matrix, classification_report\n",
    "\n",
    "# create a copy of the dataframe so that the data can be reran easily.\n",
    "df_telecom_copy = df_telecom.copy()\n",
    "\n",
    "# split the dataframe into training and testing sets\n",
    "X = df_telecom_copy.drop('Churn', axis=1)\n",
    "y = df_telecom_copy['Churn']\n",
    "X_train, X_test, y_train, y_test = train_test_split(X, y, test_size=0.2, random_state=42)\n",
    "\n",
    "# create and fit the decision tree model\n",
    "dt = DecisionTreeClassifier(random_state=42)\n",
    "dt.fit(X_train, y_train)\n",
    "\n",
    "# make predictions on the testing set\n",
    "y_pred = dt.predict(X_test)\n",
    "\n",
    "# evaluate the performance of the model\n",
    "print('Accuracy:', accuracy_score(y_test, y_pred))\n",
    "print('Confusion Matrix:\\n', confusion_matrix(y_test, y_pred))\n",
    "print('Classification Report:\\n', classification_report(y_test, y_pred))"
   ]
  },
  {
   "cell_type": "markdown",
   "id": "e221fbbf",
   "metadata": {},
   "source": [
    "Like the logistic regression model used above, the decision tree model appear to have a high accuracy in terms of prediction, but low recall and f1-score for average.  This indicates tthat the model does not predict churn very well, at least for the telecommunications dataset."
   ]
  },
  {
   "cell_type": "markdown",
   "id": "ff393af7",
   "metadata": {},
   "source": [
    "### Banking Dataset"
   ]
  },
  {
   "cell_type": "code",
   "execution_count": 118,
   "id": "256ac2e0",
   "metadata": {},
   "outputs": [
    {
     "name": "stdout",
     "output_type": "stream",
     "text": [
      "Accuracy: 0.778\n",
      "Confusion Matrix:\n",
      " [[1362  245]\n",
      " [ 199  194]]\n",
      "Classification Report:\n",
      "               precision    recall  f1-score   support\n",
      "\n",
      "           0       0.87      0.85      0.86      1607\n",
      "           1       0.44      0.49      0.47       393\n",
      "\n",
      "    accuracy                           0.78      2000\n",
      "   macro avg       0.66      0.67      0.66      2000\n",
      "weighted avg       0.79      0.78      0.78      2000\n",
      "\n"
     ]
    }
   ],
   "source": [
    "# create a copy of the dataframe to rerun easily.\n",
    "df_bank_copy = df_bank.copy()\n",
    "\n",
    "# split the dataframe into training and testing sets\n",
    "X_train, X_test, y_train, y_test = train_test_split(df_bank_copy.drop('churn', axis=1), df_bank_copy['churn'], test_size=0.2, random_state=42)\n",
    "\n",
    "# create a decision tree classifier\n",
    "clf = DecisionTreeClassifier(random_state=42)\n",
    "\n",
    "# fit the model to the training data\n",
    "clf.fit(X_train, y_train)\n",
    "\n",
    "# make predictions on the testing set\n",
    "y_pred = clf.predict(X_test)\n",
    "\n",
    "# evaluate the performance of the model\n",
    "print('Accuracy:', accuracy_score(y_test, y_pred))\n",
    "print('Confusion Matrix:\\n', confusion_matrix(y_test, y_pred))\n",
    "print('Classification Report:\\n', classification_report(y_test, y_pred))"
   ]
  },
  {
   "cell_type": "markdown",
   "id": "9dd6fd0a",
   "metadata": {},
   "source": [
    "Once again, the logistic model actually outperforms the decision tree model for this dataset.  The reduced f1-score and recall values indicate a low chance of acccurately predicting churn (< 50%).  While the accuracy score is high again, this appears to be a red herring."
   ]
  },
  {
   "cell_type": "markdown",
   "id": "e7261942",
   "metadata": {},
   "source": [
    "## Build Models: Random Forest Regression"
   ]
  },
  {
   "cell_type": "markdown",
   "id": "f6aa59f0",
   "metadata": {},
   "source": [
    "### Telecommunications Dataset"
   ]
  },
  {
   "cell_type": "code",
   "execution_count": 119,
   "id": "91daa275",
   "metadata": {},
   "outputs": [
    {
     "name": "stdout",
     "output_type": "stream",
     "text": [
      "Accuracy: 0.7746979388770433\n",
      "Precision: 0.5993031358885017\n",
      "Recall: 0.45989304812834225\n",
      "F1-score: 0.5204236006051437\n",
      "AUC-ROC score: 0.808712229061298\n"
     ]
    }
   ],
   "source": [
    "from sklearn.ensemble import RandomForestClassifier\n",
    "\n",
    "# create a copy of the dataframe so that the data can be reran easily.\n",
    "df_telecom_copy = df_telecom.copy()\n",
    "\n",
    "# Split the dataframe into training and testing sets\n",
    "X_train, X_test, y_train, y_test = train_test_split(df_telecom_copy.drop('Churn', axis=1), df_telecom_copy['Churn'], test_size=0.2, random_state=42)\n",
    "\n",
    "# Create the random forest classifier\n",
    "clf = RandomForestClassifier(n_estimators=100, random_state=42)\n",
    "\n",
    "# Train the classifier\n",
    "clf.fit(X_train, y_train)\n",
    "\n",
    "# Make predictions on the testing set\n",
    "y_pred = clf.predict(X_test)\n",
    "\n",
    "# Evaluate the performance of the model\n",
    "print('Accuracy:', accuracy_score(y_test, y_pred))\n",
    "print('Precision:', precision_score(y_test, y_pred))\n",
    "print('Recall:', recall_score(y_test, y_pred))\n",
    "print('F1-score:', f1_score(y_test, y_pred))\n",
    "print('AUC-ROC score:', roc_auc_score(y_test, clf.predict_proba(X_test)[:,1]))"
   ]
  },
  {
   "cell_type": "markdown",
   "id": "3eea0052",
   "metadata": {},
   "source": [
    "Logistic Regression Values for Comparison </br>\n",
    "Accuracy: 0.7896233120113717 </br>\n",
    "Precision: 0.625 </br>\n",
    "Recall: 0.5213903743315508 </br>\n",
    "F1-score: 0.5685131195335277 </br>\n",
    "AUC-ROC score: 0.8323273162120609 </br>\n"
   ]
  },
  {
   "cell_type": "markdown",
   "id": "3a156171",
   "metadata": {},
   "source": [
    "When comparing our prediction scores against the logistic regression model, we can see that the random forest regression model is slightly underperformant.  Additional effort should therefore be applied to the first model used to gain a higher rate of accuracy to better predict churning customers.  This holds true for the telecommunications dataset, but let's see what happens for the banking dataset."
   ]
  },
  {
   "cell_type": "markdown",
   "id": "b8bda64b",
   "metadata": {},
   "source": [
    "### Banking Dataset"
   ]
  },
  {
   "cell_type": "code",
   "execution_count": 133,
   "id": "606b6bca",
   "metadata": {},
   "outputs": [
    {
     "name": "stdout",
     "output_type": "stream",
     "text": [
      "Accuracy: 0.8585\n",
      "Precision: 0.7433628318584071\n",
      "Recall: 0.42748091603053434\n",
      "F1-score: 0.5428109854604201\n",
      "AUC-ROC score: 0.8461232742882205\n"
     ]
    }
   ],
   "source": [
    "# create a copy of the dataframe to rerun easily.\n",
    "df_bank_copy = df_bank.copy()\n",
    "\n",
    "# split the dataframe into training and testing sets\n",
    "X_train, X_test, y_train, y_test = train_test_split(df_bank_copy.drop('churn', axis=1), df_bank_copy['churn'], test_size=0.2, random_state=42)\n",
    "\n",
    "# scale the predictor variables\n",
    "scaler = StandardScaler()\n",
    "X_train_scaled = scaler.fit_transform(X_train)\n",
    "X_test_scaled = scaler.transform(X_test)\n",
    "\n",
    "# train the random forest classifier model\n",
    "clf = RandomForestClassifier(random_state=42)\n",
    "clf.fit(X_train_scaled, y_train)\n",
    "\n",
    "# make predictions on the testing set\n",
    "y_pred = clf.predict(X_test_scaled)\n",
    "\n",
    "# evaluate the performance of the model\n",
    "print('Accuracy:', accuracy_score(y_test, y_pred))\n",
    "print('Precision:', precision_score(y_test, y_pred))\n",
    "print('Recall:', recall_score(y_test, y_pred))\n",
    "print('F1-score:', f1_score(y_test, y_pred))\n",
    "print('AUC-ROC score:', roc_auc_score(y_test, clf.predict_proba(X_test_scaled)[:,1]))"
   ]
  },
  {
   "cell_type": "markdown",
   "id": "aeb5473a",
   "metadata": {},
   "source": [
    "Logistic Regression Values for Comparison </br>\n",
    "Accuracy: 0.814 </br>\n",
    "Precision: 0.5945945945945946 </br>\n",
    "Recall: 0.16793893129770993 </br>\n",
    "F1-score: 0.2619047619047619 </br>\n",
    "AUC-ROC score: 0.7652968643862491 </br>"
   ]
  },
  {
   "cell_type": "markdown",
   "id": "a7df3b07",
   "metadata": {},
   "source": [
    "Interesting.  Unlike the telecommunications dataset, the banking dataset was far more performant with the random forest regression.  Additional tweaks will be required to ensure that the model can reach higher values for recall (the proportion of true positive predictions identified) and the f1-score (the mean of precision and recall)."
   ]
  },
  {
   "cell_type": "code",
   "execution_count": 136,
   "id": "54e537ea",
   "metadata": {
    "scrolled": true
   },
   "outputs": [
    {
     "name": "stdout",
     "output_type": "stream",
     "text": [
      "Feature importance ranking:\n",
      "1. age (0.245408)\n",
      "2. estimated_salary (0.158674)\n",
      "3. credit_score (0.157450)\n",
      "4. balance (0.142657)\n",
      "5. products_number (0.132474)\n",
      "6. tenure (0.085348)\n",
      "7. active_member (0.041884)\n",
      "8. credit_card (0.018926)\n",
      "9. gender_Female (0.008775)\n",
      "10. gender_Male (0.008404)\n"
     ]
    }
   ],
   "source": [
    "# Get the highest importants of each column.\n",
    "importances = clf.feature_importances_\n",
    "indices = np.argsort(importances)[::-1]\n",
    "\n",
    "print(\"Feature importance ranking:\")\n",
    "for f in range(X_train_scaled.shape[1]):\n",
    "    print(\"%d. %s (%f)\" % (f + 1, X_train.columns[indices[f]], importances[indices[f]]))"
   ]
  },
  {
   "cell_type": "markdown",
   "id": "0d6c8ee8",
   "metadata": {},
   "source": [
    "## Data Analysis"
   ]
  },
  {
   "cell_type": "code",
   "execution_count": 138,
   "id": "326c30b7",
   "metadata": {},
   "outputs": [
    {
     "data": {
      "image/png": "[encoded data removed]",
      "text/plain": [
       "<Figure size 1008x576 with 1 Axes>"
      ]
     },
     "metadata": {
      "needs_background": "light"
     },
     "output_type": "display_data"
    }
   ],
   "source": [
    "# VIew group by age for banking data.\n",
    "age_group = df_bank.groupby('age')\n",
    "\n",
    "age_group_counts = age_group['churn'].value_counts().unstack()\n",
    "age_group_counts.plot(kind='bar', stacked=True, figsize=(14, 8))\n",
    "plt.xlabel('Age')\n",
    "plt.ylabel('Count')\n",
    "plt.title('Churn by Age Group')\n",
    "plt.show()"
   ]
  },
  {
   "cell_type": "code",
   "execution_count": 165,
   "id": "cf078ac7",
   "metadata": {},
   "outputs": [
    {
     "data": {
      "image/png": "[encoded data removed]",
      "text/plain": [
       "<Figure size 1008x576 with 1 Axes>"
      ]
     },
     "metadata": {
      "needs_background": "light"
     },
     "output_type": "display_data"
    }
   ],
   "source": [
    "# Veiw by grouping for telecommunications data\n",
    "df_telecom_partial = df_telecom[['TotalCharges', 'Churn']]\n",
    "telecom_group = df_telecom_partial.groupby(['TotalCharges'])\n",
    "\n",
    "churn_by_group = telecom_group['Churn'].value_counts().unstack()\n",
    "churn_by_group.plot(kind='bar', stacked=True, figsize=(14, 8))\n",
    "plt.xlabel('Group')\n",
    "plt.ylabel('Count')\n",
    "plt.title('Churn by Group')\n",
    "plt.show()"
   ]
  },
  {
   "cell_type": "code",
   "execution_count": null,
   "id": "7ee5d19a",
   "metadata": {},
   "outputs": [],
   "source": []
  }
 ],
 "metadata": {
  "kernelspec": {
   "display_name": "Python 3 (ipykernel)",
   "language": "python",
   "name": "python3"
  },
  "language_info": {
   "codemirror_mode": {
    "name": "ipython",
    "version": 3
   },
   "file_extension": ".py",
   "mimetype": "text/x-python",
   "name": "python",
   "nbconvert_exporter": "python",
   "pygments_lexer": "ipython3",
   "version": "3.9.12"
  }
 },
 "nbformat": 4,
 "nbformat_minor": 5
}
