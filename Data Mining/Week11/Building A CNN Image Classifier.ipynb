{
 "cells": [
  {
   "cell_type": "markdown",
   "id": "4f96551b",
   "metadata": {},
   "source": [
    "# Building A CNN Image Classifier\n",
    "#### Joshua Greenert\n",
    "#### DSC550-T301 Data Mining\n",
    "#### 11/4/2022"
   ]
  },
  {
   "cell_type": "code",
   "execution_count": 6,
   "id": "0cc2816e",
   "metadata": {},
   "outputs": [
    {
     "name": "stdout",
     "output_type": "stream",
     "text": [
      "Downloading data from https://storage.googleapis.com/tensorflow/tf-keras-datasets/mnist.npz\n",
      "11490434/11490434 [==============================] - 0s 0us/step\n"
     ]
    }
   ],
   "source": [
    "# Load the MNIST data set.\n",
    "from keras.datasets import mnist\n",
    "\n",
    "(train_X, train_y), (test_X, test_y) = mnist.load_data()"
   ]
  },
  {
   "cell_type": "code",
   "execution_count": 2,
   "id": "0875bfd5",
   "metadata": {},
   "outputs": [],
   "source": [
    "# Display the first five images in the training data set (see section 8.1 in the Machine Learning with Python Cookbook). \n",
    "# Compare these to the first five training labels.\n"
   ]
  },
  {
   "cell_type": "code",
   "execution_count": 3,
   "id": "d954385b",
   "metadata": {},
   "outputs": [],
   "source": [
    "# Build and train a Keras CNN classifier on the MNIST training set.\n"
   ]
  },
  {
   "cell_type": "code",
   "execution_count": 4,
   "id": "7c4e83d1",
   "metadata": {},
   "outputs": [],
   "source": [
    "# Report the test accuracy of your model.\n"
   ]
  },
  {
   "cell_type": "code",
   "execution_count": 5,
   "id": "bdcafca0",
   "metadata": {},
   "outputs": [],
   "source": [
    "# Display a confusion matrix on the test set classifications.\n"
   ]
  },
  {
   "cell_type": "code",
   "execution_count": null,
   "id": "68759dc6",
   "metadata": {},
   "outputs": [],
   "source": [
    "#Summarize your results."
   ]
  }
 ],
 "metadata": {
  "kernelspec": {
   "display_name": "Python 3 (ipykernel)",
   "language": "python",
   "name": "python3"
  },
  "language_info": {
   "codemirror_mode": {
    "name": "ipython",
    "version": 3
   },
   "file_extension": ".py",
   "mimetype": "text/x-python",
   "name": "python",
   "nbconvert_exporter": "python",
   "pygments_lexer": "ipython3",
   "version": "3.9.12"
  }
 },
 "nbformat": 4,
 "nbformat_minor": 5
}
