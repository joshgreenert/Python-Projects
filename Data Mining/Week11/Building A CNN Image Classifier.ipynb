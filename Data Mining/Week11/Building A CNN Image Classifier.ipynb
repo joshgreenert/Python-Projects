{
 "cells": [
  {
   "cell_type": "markdown",
   "id": "7ffc0a03",
   "metadata": {},
   "source": [
    "# Building A CNN Image Classifier\n",
    "#### Joshua Greenert\n",
    "#### DSC550-T301 Data Mining\n",
    "#### 11/4/2022"
   ]
  },
  {
   "cell_type": "code",
   "execution_count": 41,
   "id": "4c546773",
   "metadata": {},
   "outputs": [],
   "source": [
    "# Load the MNIST data set.\n",
    "from keras.datasets import mnist\n",
    "\n",
    "(x_train, y_train), (x_test, y_test) = mnist.load_data()"
   ]
  },
  {
   "cell_type": "code",
   "execution_count": 42,
   "id": "65207160",
   "metadata": {},
   "outputs": [
    {
     "data": {
      "image/png": "[encoded data removed]",
      "text/plain": [
       "<Figure size 432x288 with 1 Axes>"
      ]
     },
     "metadata": {
      "needs_background": "light"
     },
     "output_type": "display_data"
    },
    {
     "data": {
      "image/png": "[encoded data removed]",
      "text/plain": [
       "<Figure size 432x288 with 1 Axes>"
      ]
     },
     "metadata": {
      "needs_background": "light"
     },
     "output_type": "display_data"
    },
    {
     "data": {
      "image/png": "[encoded data removed]",
      "text/plain": [
       "<Figure size 432x288 with 1 Axes>"
      ]
     },
     "metadata": {
      "needs_background": "light"
     },
     "output_type": "display_data"
    },
    {
     "data": {
      "image/png": "[encoded data removed]",
      "text/plain": [
       "<Figure size 432x288 with 1 Axes>"
      ]
     },
     "metadata": {
      "needs_background": "light"
     },
     "output_type": "display_data"
    },
    {
     "data": {
      "image/png": "[encoded data removed]",
      "text/plain": [
       "<Figure size 432x288 with 1 Axes>"
      ]
     },
     "metadata": {
      "needs_background": "light"
     },
     "output_type": "display_data"
    }
   ],
   "source": [
    "# Display the first five images in the training data set (see section 8.1 in the Machine Learning with Python Cookbook). \n",
    "# Compare these to the first five training labels.\n",
    "from matplotlib import pyplot as plt\n",
    "\n",
    "# Loop through the images and create a plot from the data.\n",
    "for i in range(5):  \n",
    "    plt.subplot(330 + 1 + i)\n",
    "    plt.imshow(x_train[i], cmap=plt.get_cmap('gray'))\n",
    "    plt.show()"
   ]
  },
  {
   "cell_type": "code",
   "execution_count": 43,
   "id": "0ef59715",
   "metadata": {},
   "outputs": [
    {
     "data": {
      "text/plain": [
       "array([5, 0, 4, 1, 9], dtype=uint8)"
      ]
     },
     "execution_count": 43,
     "metadata": {},
     "output_type": "execute_result"
    }
   ],
   "source": [
    "# Compare the images with the first 5 training labels\n",
    "y_train[:5]"
   ]
  },
  {
   "cell_type": "code",
   "execution_count": 44,
   "id": "5dcf9857",
   "metadata": {},
   "outputs": [
    {
     "name": "stdout",
     "output_type": "stream",
     "text": [
      "Epoch 1/20\n",
      "120/120 [==============================] - 40s 326ms/step - loss: 2.5325 - accuracy: 0.0904\n",
      "Epoch 2/20\n",
      "120/120 [==============================] - 39s 323ms/step - loss: 2.5111 - accuracy: 0.0904\n",
      "Epoch 3/20\n",
      "120/120 [==============================] - 39s 325ms/step - loss: 2.4900 - accuracy: 0.0904\n",
      "Epoch 4/20\n",
      "120/120 [==============================] - 40s 332ms/step - loss: 2.4694 - accuracy: 0.0904\n",
      "Epoch 5/20\n",
      "120/120 [==============================] - 40s 331ms/step - loss: 2.4490 - accuracy: 0.0904\n",
      "Epoch 6/20\n",
      "120/120 [==============================] - 39s 325ms/step - loss: 2.4301 - accuracy: 0.0904\n",
      "Epoch 7/20\n",
      "120/120 [==============================] - 39s 329ms/step - loss: 2.4110 - accuracy: 0.0904\n",
      "Epoch 8/20\n",
      "120/120 [==============================] - 39s 323ms/step - loss: 2.3923 - accuracy: 0.0904\n",
      "Epoch 9/20\n",
      "120/120 [==============================] - 39s 322ms/step - loss: 2.3742 - accuracy: 0.0904\n",
      "Epoch 10/20\n",
      "120/120 [==============================] - 39s 323ms/step - loss: 2.3568 - accuracy: 0.0904\n",
      "Epoch 11/20\n",
      "120/120 [==============================] - 39s 322ms/step - loss: 2.3402 - accuracy: 0.0904\n",
      "Epoch 12/20\n",
      "120/120 [==============================] - 40s 332ms/step - loss: 2.3236 - accuracy: 0.0905\n",
      "Epoch 13/20\n",
      "120/120 [==============================] - 41s 338ms/step - loss: 2.3081 - accuracy: 0.0921\n",
      "Epoch 14/20\n",
      "120/120 [==============================] - 41s 338ms/step - loss: 2.2926 - accuracy: 0.0976\n",
      "Epoch 15/20\n",
      "120/120 [==============================] - 40s 337ms/step - loss: 2.2774 - accuracy: 0.1137\n",
      "Epoch 16/20\n",
      "120/120 [==============================] - 40s 337ms/step - loss: 2.2630 - accuracy: 0.1480\n",
      "Epoch 17/20\n",
      "120/120 [==============================] - 40s 330ms/step - loss: 2.2490 - accuracy: 0.2056\n",
      "Epoch 18/20\n",
      "120/120 [==============================] - 40s 330ms/step - loss: 2.2354 - accuracy: 0.2725\n",
      "Epoch 19/20\n",
      "120/120 [==============================] - 40s 329ms/step - loss: 2.2222 - accuracy: 0.3267\n",
      "Epoch 20/20\n",
      "120/120 [==============================] - 41s 338ms/step - loss: 2.2088 - accuracy: 0.3631\n"
     ]
    },
    {
     "data": {
      "text/plain": [
       "<keras.callbacks.History at 0x22022431cd0>"
      ]
     },
     "execution_count": 44,
     "metadata": {},
     "output_type": "execute_result"
    }
   ],
   "source": [
    "import numpy as np\n",
    "import keras\n",
    "from keras.models import Model\n",
    "from keras.layers import Dense, Input\n",
    "from keras.layers import Conv2D, MaxPooling2D, Dropout, Flatten\n",
    "from keras import backend as k\n",
    "\n",
    "# Set constants for the rows and columns for images.\n",
    "img_rows, img_cols=28, 28\n",
    " \n",
    "# Reshape the data.\n",
    "if k.image_data_format() == 'channels_first':\n",
    "    x_train = x_train.reshape(x_train.shape[0], 1, img_rows, img_cols)\n",
    "    x_test = x_test.reshape(x_test.shape[0], 1, img_rows, img_cols)\n",
    "    inpx = (1, img_rows, img_cols)\n",
    "else:\n",
    "    x_train = x_train.reshape(x_train.shape[0], img_rows, img_cols, 1)\n",
    "    x_test = x_test.reshape(x_test.shape[0], img_rows, img_cols, 1)\n",
    "    inpx = (img_rows, img_cols, 1)\n",
    "    \n",
    "# Convert the data to floats.\n",
    "x_train = x_train.astype('float32')\n",
    "x_test = x_test.astype('float32')\n",
    "x_train /= 255\n",
    "x_test /= 255\n",
    "\n",
    "# Set the data to categorical.\n",
    "y_train = keras.utils.to_categorical(y_train)\n",
    "y_test = keras.utils.to_categorical(y_test)\n",
    "\n",
    "# Set up the layers of the model.\n",
    "inpx = Input(shape=inpx)\n",
    "layer1 = Conv2D(32, kernel_size=(3, 3), activation='relu')(inpx)\n",
    "layer2 = Conv2D(64, (3, 3), activation='relu')(layer1)\n",
    "layer3 = MaxPooling2D(pool_size=(3, 3))(layer2)\n",
    "layer4 = Dropout(0.5)(layer3)\n",
    "layer5 = Flatten()(layer4)\n",
    "layer6 = Dense(250, activation='sigmoid')(layer5)\n",
    "layer7 = Dense(10, activation='softmax')(layer6)\n",
    "\n",
    "# Compile the model\n",
    "model = Model([inpx], layer7)\n",
    "model.compile(optimizer=keras.optimizers.Adadelta(), loss=keras.losses.categorical_crossentropy, metrics=['accuracy'])\n",
    "\n",
    "# Fit the model and run for 20 epochs.\n",
    "model.fit(x_train, y_train, epochs=20, batch_size=500)"
   ]
  },
  {
   "cell_type": "code",
   "execution_count": 45,
   "id": "de8b922e",
   "metadata": {},
   "outputs": [
    {
     "name": "stdout",
     "output_type": "stream",
     "text": [
      "loss= 2.1974422931671143\n",
      "accuracy= 0.44359999895095825\n"
     ]
    }
   ],
   "source": [
    "# Report the test accuracy of your model.\n",
    "score = model.evaluate(x_test, y_test, verbose=0)\n",
    "print('loss=', score[0])\n",
    "print('accuracy=', score[1])"
   ]
  },
  {
   "cell_type": "code",
   "execution_count": 49,
   "id": "2dd11bc7",
   "metadata": {},
   "outputs": [
    {
     "name": "stdout",
     "output_type": "stream",
     "text": [
      "313/313 [==============================] - 3s 8ms/step\n"
     ]
    },
    {
     "data": {
      "text/plain": [
       "array([[ 885,    0,   40,    7,    0,   35,    0,    1,   12,    0],\n",
       "       [   0, 1052,   52,   10,    0,   21,    0,    0,    0,    0],\n",
       "       [  33,   24,  792,  129,    0,   25,    0,   14,   15,    0],\n",
       "       [ 153,   89,  115,  563,    0,   29,    0,   30,   31,    0],\n",
       "       [  16,   59,  629,    1,   21,  188,    0,   67,    1,    0],\n",
       "       [ 155,  106,  106,  105,    4,  253,    0,   23,  140,    0],\n",
       "       [  86,   61,  783,    5,    2,   20,    0,    0,    1,    0],\n",
       "       [  10,  152,   89,    6,    0,  164,    0,  607,    0,    0],\n",
       "       [ 138,   76,  296,   39,    0,   34,    0,  128,  263,    0],\n",
       "       [  53,   99,  344,    7,    1,  193,    0,  304,    8,    0]],\n",
       "      dtype=int64)"
      ]
     },
     "execution_count": 49,
     "metadata": {},
     "output_type": "execute_result"
    }
   ],
   "source": [
    "# Display a confusion matrix on the test set classifications.\n",
    "from sklearn.metrics import confusion_matrix\n",
    "\n",
    "# Use the test data for the predictions.\n",
    "prediction_y = model.predict(x_test)\n",
    "\n",
    "# Use np.argmax to ensure that the axis labels are correct.\n",
    "prediction_y = np.argmax(prediction_y, axis = 1)\n",
    "y_test = np.argmax(y_test, axis = 1)\n",
    "\n",
    "# Create the confusion matrix\n",
    "cm = confusion_matrix(y_test, prediction_y)\n",
    "cm"
   ]
  },
  {
   "cell_type": "code",
   "execution_count": 55,
   "id": "5f8d4865",
   "metadata": {},
   "outputs": [
    {
     "data": {
      "image/png": "[encoded data removed]",
      "text/plain": [
       "<Figure size 360x288 with 2 Axes>"
      ]
     },
     "metadata": {
      "needs_background": "light"
     },
     "output_type": "display_data"
    }
   ],
   "source": [
    "# Build a dataframe from the confusion matrix and display the data in a plot.\n",
    "import pandas as pd\n",
    "import seaborn as sns\n",
    "import matplotlib.pyplot as plt\n",
    "\n",
    "# build the dataframe.\n",
    "cm_df = pd.DataFrame(cm)\n",
    "\n",
    "# Plotting the confusion matrix using the sns heatmap.\n",
    "plt.figure(figsize=(5,4))\n",
    "sns.heatmap(cm_df, annot=False)\n",
    "\n",
    "plt.title('Confusion Matrix')\n",
    "plt.ylabel('Actal Values')\n",
    "plt.xlabel('Predicted Values')\n",
    "plt.show()"
   ]
  },
  {
   "cell_type": "markdown",
   "id": "a5444a52",
   "metadata": {},
   "source": [
    "## Conclusion"
   ]
  },
  {
   "cell_type": "markdown",
   "id": "64c26b7f",
   "metadata": {},
   "source": [
    "Using the dataset and tools from keras shows undoubtedly how neural networks can find answers through considerable efforts, or in the case of the mnist dataset, epochs.  Initially, the test was ran with 5 epochs to determine the accuracy of predicting the appropriate value for the images.  While this did have results that expressed a realistic accuracy, we can narrow the gap for a statistically significant value by providing a higher number of epochs for the neural network to attempt.  After attempting 20 epochs, we see that the accuracy produces a higher value closer to 50%.  Using the confusion matrix, we can see the values that were predicted and the actual values through a plotted heat map that isolates their respective significance.  While this may not appear valuable at the moment, further increases on the amount of epochs would show a considerably different graph overall."
   ]
  }
 ],
 "metadata": {
  "kernelspec": {
   "display_name": "Python 3 (ipykernel)",
   "language": "python",
   "name": "python3"
  },
  "language_info": {
   "codemirror_mode": {
    "name": "ipython",
    "version": 3
   },
   "file_extension": ".py",
   "mimetype": "text/x-python",
   "name": "python",
   "nbconvert_exporter": "python",
   "pygments_lexer": "ipython3",
   "version": "3.9.12"
  }
 },
 "nbformat": 4,
 "nbformat_minor": 5
}
