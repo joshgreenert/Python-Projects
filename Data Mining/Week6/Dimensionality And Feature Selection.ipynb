{
 "cells": [
  {
   "cell_type": "markdown",
   "id": "e0799c66",
   "metadata": {},
   "source": [
    "# Dimensionality and Feature Selection\n",
    "#### Joshua Greenert\n",
    "#### DSC550-T301 Data Mining\n",
    "#### 10/11/2022"
   ]
  },
  {
   "cell_type": "markdown",
   "id": "cae29e05",
   "metadata": {},
   "source": [
    "## Part 1"
   ]
  },
  {
   "cell_type": "code",
   "execution_count": 2,
   "id": "2255bf89",
   "metadata": {},
   "outputs": [
    {
     "data": {
      "text/html": [
       "<div>\n",
       "<style scoped>\n",
       "    .dataframe tbody tr th:only-of-type {\n",
       "        vertical-align: middle;\n",
       "    }\n",
       "\n",
       "    .dataframe tbody tr th {\n",
       "        vertical-align: top;\n",
       "    }\n",
       "\n",
       "    .dataframe thead th {\n",
       "        text-align: right;\n",
       "    }\n",
       "</style>\n",
       "<table border=\"1\" class=\"dataframe\">\n",
       "  <thead>\n",
       "    <tr style=\"text-align: right;\">\n",
       "      <th></th>\n",
       "      <th>Id</th>\n",
       "      <th>MSSubClass</th>\n",
       "      <th>MSZoning</th>\n",
       "      <th>LotFrontage</th>\n",
       "      <th>LotArea</th>\n",
       "      <th>Street</th>\n",
       "      <th>Alley</th>\n",
       "      <th>LotShape</th>\n",
       "      <th>LandContour</th>\n",
       "      <th>Utilities</th>\n",
       "      <th>...</th>\n",
       "      <th>PoolArea</th>\n",
       "      <th>PoolQC</th>\n",
       "      <th>Fence</th>\n",
       "      <th>MiscFeature</th>\n",
       "      <th>MiscVal</th>\n",
       "      <th>MoSold</th>\n",
       "      <th>YrSold</th>\n",
       "      <th>SaleType</th>\n",
       "      <th>SaleCondition</th>\n",
       "      <th>SalePrice</th>\n",
       "    </tr>\n",
       "  </thead>\n",
       "  <tbody>\n",
       "    <tr>\n",
       "      <th>0</th>\n",
       "      <td>1</td>\n",
       "      <td>60</td>\n",
       "      <td>RL</td>\n",
       "      <td>65.0</td>\n",
       "      <td>8450</td>\n",
       "      <td>Pave</td>\n",
       "      <td>NaN</td>\n",
       "      <td>Reg</td>\n",
       "      <td>Lvl</td>\n",
       "      <td>AllPub</td>\n",
       "      <td>...</td>\n",
       "      <td>0</td>\n",
       "      <td>NaN</td>\n",
       "      <td>NaN</td>\n",
       "      <td>NaN</td>\n",
       "      <td>0</td>\n",
       "      <td>2</td>\n",
       "      <td>2008</td>\n",
       "      <td>WD</td>\n",
       "      <td>Normal</td>\n",
       "      <td>208500</td>\n",
       "    </tr>\n",
       "    <tr>\n",
       "      <th>1</th>\n",
       "      <td>2</td>\n",
       "      <td>20</td>\n",
       "      <td>RL</td>\n",
       "      <td>80.0</td>\n",
       "      <td>9600</td>\n",
       "      <td>Pave</td>\n",
       "      <td>NaN</td>\n",
       "      <td>Reg</td>\n",
       "      <td>Lvl</td>\n",
       "      <td>AllPub</td>\n",
       "      <td>...</td>\n",
       "      <td>0</td>\n",
       "      <td>NaN</td>\n",
       "      <td>NaN</td>\n",
       "      <td>NaN</td>\n",
       "      <td>0</td>\n",
       "      <td>5</td>\n",
       "      <td>2007</td>\n",
       "      <td>WD</td>\n",
       "      <td>Normal</td>\n",
       "      <td>181500</td>\n",
       "    </tr>\n",
       "    <tr>\n",
       "      <th>2</th>\n",
       "      <td>3</td>\n",
       "      <td>60</td>\n",
       "      <td>RL</td>\n",
       "      <td>68.0</td>\n",
       "      <td>11250</td>\n",
       "      <td>Pave</td>\n",
       "      <td>NaN</td>\n",
       "      <td>IR1</td>\n",
       "      <td>Lvl</td>\n",
       "      <td>AllPub</td>\n",
       "      <td>...</td>\n",
       "      <td>0</td>\n",
       "      <td>NaN</td>\n",
       "      <td>NaN</td>\n",
       "      <td>NaN</td>\n",
       "      <td>0</td>\n",
       "      <td>9</td>\n",
       "      <td>2008</td>\n",
       "      <td>WD</td>\n",
       "      <td>Normal</td>\n",
       "      <td>223500</td>\n",
       "    </tr>\n",
       "    <tr>\n",
       "      <th>3</th>\n",
       "      <td>4</td>\n",
       "      <td>70</td>\n",
       "      <td>RL</td>\n",
       "      <td>60.0</td>\n",
       "      <td>9550</td>\n",
       "      <td>Pave</td>\n",
       "      <td>NaN</td>\n",
       "      <td>IR1</td>\n",
       "      <td>Lvl</td>\n",
       "      <td>AllPub</td>\n",
       "      <td>...</td>\n",
       "      <td>0</td>\n",
       "      <td>NaN</td>\n",
       "      <td>NaN</td>\n",
       "      <td>NaN</td>\n",
       "      <td>0</td>\n",
       "      <td>2</td>\n",
       "      <td>2006</td>\n",
       "      <td>WD</td>\n",
       "      <td>Abnorml</td>\n",
       "      <td>140000</td>\n",
       "    </tr>\n",
       "    <tr>\n",
       "      <th>4</th>\n",
       "      <td>5</td>\n",
       "      <td>60</td>\n",
       "      <td>RL</td>\n",
       "      <td>84.0</td>\n",
       "      <td>14260</td>\n",
       "      <td>Pave</td>\n",
       "      <td>NaN</td>\n",
       "      <td>IR1</td>\n",
       "      <td>Lvl</td>\n",
       "      <td>AllPub</td>\n",
       "      <td>...</td>\n",
       "      <td>0</td>\n",
       "      <td>NaN</td>\n",
       "      <td>NaN</td>\n",
       "      <td>NaN</td>\n",
       "      <td>0</td>\n",
       "      <td>12</td>\n",
       "      <td>2008</td>\n",
       "      <td>WD</td>\n",
       "      <td>Normal</td>\n",
       "      <td>250000</td>\n",
       "    </tr>\n",
       "  </tbody>\n",
       "</table>\n",
       "<p>5 rows × 81 columns</p>\n",
       "</div>"
      ],
      "text/plain": [
       "   Id  MSSubClass MSZoning  LotFrontage  LotArea Street Alley LotShape  \\\n",
       "0   1          60       RL         65.0     8450   Pave   NaN      Reg   \n",
       "1   2          20       RL         80.0     9600   Pave   NaN      Reg   \n",
       "2   3          60       RL         68.0    11250   Pave   NaN      IR1   \n",
       "3   4          70       RL         60.0     9550   Pave   NaN      IR1   \n",
       "4   5          60       RL         84.0    14260   Pave   NaN      IR1   \n",
       "\n",
       "  LandContour Utilities  ... PoolArea PoolQC Fence MiscFeature MiscVal MoSold  \\\n",
       "0         Lvl    AllPub  ...        0    NaN   NaN         NaN       0      2   \n",
       "1         Lvl    AllPub  ...        0    NaN   NaN         NaN       0      5   \n",
       "2         Lvl    AllPub  ...        0    NaN   NaN         NaN       0      9   \n",
       "3         Lvl    AllPub  ...        0    NaN   NaN         NaN       0      2   \n",
       "4         Lvl    AllPub  ...        0    NaN   NaN         NaN       0     12   \n",
       "\n",
       "  YrSold  SaleType  SaleCondition  SalePrice  \n",
       "0   2008        WD         Normal     208500  \n",
       "1   2007        WD         Normal     181500  \n",
       "2   2008        WD         Normal     223500  \n",
       "3   2006        WD        Abnorml     140000  \n",
       "4   2008        WD         Normal     250000  \n",
       "\n",
       "[5 rows x 81 columns]"
      ]
     },
     "execution_count": 2,
     "metadata": {},
     "output_type": "execute_result"
    }
   ],
   "source": [
    "#Import the housing data as a data frame and ensure that the data is loaded properly.\n",
    "import pandas as pd\n",
    "import numpy as np\n",
    "\n",
    "df_housing = pd.read_csv('train.csv')\n",
    "df_housing.head(5)"
   ]
  },
  {
   "cell_type": "code",
   "execution_count": null,
   "id": "9be43c6b",
   "metadata": {},
   "outputs": [],
   "source": [
    "# Drop the \"Id\" column and any features that are missing more than 40% of their values."
   ]
  },
  {
   "cell_type": "code",
   "execution_count": null,
   "id": "25830d33",
   "metadata": {},
   "outputs": [],
   "source": [
    "# For numerical columns, fill in any missing data with the median value."
   ]
  },
  {
   "cell_type": "code",
   "execution_count": null,
   "id": "0cbfaa27",
   "metadata": {},
   "outputs": [],
   "source": [
    "# For categorical columns, fill in any missing data with the most common value (mode)."
   ]
  },
  {
   "cell_type": "code",
   "execution_count": null,
   "id": "ddbaea93",
   "metadata": {},
   "outputs": [],
   "source": [
    "# Convert the categorical columns to dummy variables."
   ]
  },
  {
   "cell_type": "code",
   "execution_count": null,
   "id": "1a2672a3",
   "metadata": {},
   "outputs": [],
   "source": [
    "# Split the data into a training and test set, where the SalePrice column is the target."
   ]
  },
  {
   "cell_type": "code",
   "execution_count": null,
   "id": "8a12b3c5",
   "metadata": {},
   "outputs": [],
   "source": [
    "# Run a linear regression and report the R2-value and RMSE on the test set."
   ]
  },
  {
   "cell_type": "code",
   "execution_count": null,
   "id": "baf751fd",
   "metadata": {},
   "outputs": [],
   "source": [
    "# Fit and transform the training features with a PCA so that 90% of the variance is retained (see section 9.1 in the Machine Learning with Python Cookbook)."
   ]
  },
  {
   "cell_type": "code",
   "execution_count": null,
   "id": "9346e519",
   "metadata": {},
   "outputs": [],
   "source": [
    "# How many features are in the PCA-transformed matrix?"
   ]
  },
  {
   "cell_type": "code",
   "execution_count": null,
   "id": "aa71ac9e",
   "metadata": {},
   "outputs": [],
   "source": [
    "# Transform but DO NOT fit the test features with the same PCA."
   ]
  },
  {
   "cell_type": "code",
   "execution_count": null,
   "id": "e8451a95",
   "metadata": {},
   "outputs": [],
   "source": [
    "# Repeat step 7 with your PCA transformed data."
   ]
  },
  {
   "cell_type": "code",
   "execution_count": null,
   "id": "c58d3403",
   "metadata": {},
   "outputs": [],
   "source": [
    "# Take your original training features (from step 6) and apply a min-max scaler to them."
   ]
  },
  {
   "cell_type": "code",
   "execution_count": null,
   "id": "1d5ffeb6",
   "metadata": {},
   "outputs": [],
   "source": [
    "# Find the min-max scaled features in your training set that have a variance above 0.1 (see Section 10.1 in the Machine Learning with Python Cookbook)."
   ]
  },
  {
   "cell_type": "code",
   "execution_count": null,
   "id": "9bcd98a6",
   "metadata": {},
   "outputs": [],
   "source": [
    "# Transform but DO NOT fit the test features with the same steps applied in steps 11 and 12."
   ]
  },
  {
   "cell_type": "code",
   "execution_count": null,
   "id": "ac963d2e",
   "metadata": {},
   "outputs": [],
   "source": [
    "# Repeat step 7 with the high variance data."
   ]
  },
  {
   "cell_type": "code",
   "execution_count": null,
   "id": "e18797cd",
   "metadata": {},
   "outputs": [],
   "source": [
    "# Summarize your findings"
   ]
  },
  {
   "cell_type": "markdown",
   "id": "8e86d819",
   "metadata": {},
   "source": [
    "## Part 2"
   ]
  },
  {
   "cell_type": "code",
   "execution_count": null,
   "id": "6c1d08f3",
   "metadata": {},
   "outputs": [],
   "source": [
    "# Import the data as a data frame and ensure it is loaded correctly."
   ]
  },
  {
   "cell_type": "code",
   "execution_count": null,
   "id": "2bc9deb5",
   "metadata": {},
   "outputs": [],
   "source": [
    "# Convert the categorical features (all of them) to dummy variables."
   ]
  },
  {
   "cell_type": "code",
   "execution_count": null,
   "id": "74b1a46c",
   "metadata": {},
   "outputs": [],
   "source": [
    "# Split the data into a training and test set."
   ]
  },
  {
   "cell_type": "code",
   "execution_count": null,
   "id": "6b1779cb",
   "metadata": {},
   "outputs": [],
   "source": [
    "# Fit a decision tree classifier on the training set."
   ]
  },
  {
   "cell_type": "code",
   "execution_count": null,
   "id": "8fdc695c",
   "metadata": {},
   "outputs": [],
   "source": [
    "# Report the accuracy and create a confusion matrix for the model prediction on the test set."
   ]
  },
  {
   "cell_type": "code",
   "execution_count": null,
   "id": "5ed8392b",
   "metadata": {},
   "outputs": [],
   "source": [
    "# Create a visualization of the decision tree."
   ]
  },
  {
   "cell_type": "code",
   "execution_count": null,
   "id": "1a35cf57",
   "metadata": {},
   "outputs": [],
   "source": [
    "# Use a χ2-statistic selector to pick the five best features for this data (see section 10.4 of the Machine Learning with"
   ]
  },
  {
   "cell_type": "code",
   "execution_count": null,
   "id": "2aa3ce7c",
   "metadata": {},
   "outputs": [],
   "source": [
    "# Which five features were selected in step 7? Hint: Use the get_support function."
   ]
  },
  {
   "cell_type": "code",
   "execution_count": null,
   "id": "341b5a33",
   "metadata": {},
   "outputs": [],
   "source": [
    "# Repeat steps 4 and 5 with the five best features selected in step 7."
   ]
  },
  {
   "cell_type": "code",
   "execution_count": null,
   "id": "e5461c59",
   "metadata": {},
   "outputs": [],
   "source": [
    "# Summarize your findings."
   ]
  }
 ],
 "metadata": {
  "kernelspec": {
   "display_name": "Python 3 (ipykernel)",
   "language": "python",
   "name": "python3"
  },
  "language_info": {
   "codemirror_mode": {
    "name": "ipython",
    "version": 3
   },
   "file_extension": ".py",
   "mimetype": "text/x-python",
   "name": "python",
   "nbconvert_exporter": "python",
   "pygments_lexer": "ipython3",
   "version": "3.9.12"
  }
 },
 "nbformat": 4,
 "nbformat_minor": 5
}
