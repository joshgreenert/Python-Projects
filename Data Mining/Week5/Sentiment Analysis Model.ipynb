{
 "cells": [
  {
   "cell_type": "markdown",
   "id": "5093bd9e",
   "metadata": {},
   "source": [
    "# Machine Learning: Sentiment Analysis\n",
    "#### Joshua Greenert\n",
    "#### DSC550-T301 Data Mining\n",
    "#### 9/15/2022"
   ]
  },
  {
   "cell_type": "markdown",
   "id": "80cd799f",
   "metadata": {},
   "source": [
    "## Part 1"
   ]
  },
  {
   "cell_type": "code",
   "execution_count": 9,
   "id": "804527aa",
   "metadata": {},
   "outputs": [
    {
     "data": {
      "text/html": [
       "<div>\n",
       "<style scoped>\n",
       "    .dataframe tbody tr th:only-of-type {\n",
       "        vertical-align: middle;\n",
       "    }\n",
       "\n",
       "    .dataframe tbody tr th {\n",
       "        vertical-align: top;\n",
       "    }\n",
       "\n",
       "    .dataframe thead th {\n",
       "        text-align: right;\n",
       "    }\n",
       "</style>\n",
       "<table border=\"1\" class=\"dataframe\">\n",
       "  <thead>\n",
       "    <tr style=\"text-align: right;\">\n",
       "      <th></th>\n",
       "      <th>id</th>\n",
       "      <th>sentiment</th>\n",
       "      <th>review</th>\n",
       "    </tr>\n",
       "  </thead>\n",
       "  <tbody>\n",
       "    <tr>\n",
       "      <th>0</th>\n",
       "      <td>5814_8</td>\n",
       "      <td>1</td>\n",
       "      <td>With all this stuff going down at the moment w...</td>\n",
       "    </tr>\n",
       "    <tr>\n",
       "      <th>1</th>\n",
       "      <td>2381_9</td>\n",
       "      <td>1</td>\n",
       "      <td>\\The Classic War of the Worlds\\\" by Timothy Hi...</td>\n",
       "    </tr>\n",
       "    <tr>\n",
       "      <th>2</th>\n",
       "      <td>7759_3</td>\n",
       "      <td>0</td>\n",
       "      <td>The film starts with a manager (Nicholas Bell)...</td>\n",
       "    </tr>\n",
       "    <tr>\n",
       "      <th>3</th>\n",
       "      <td>3630_4</td>\n",
       "      <td>0</td>\n",
       "      <td>It must be assumed that those who praised this...</td>\n",
       "    </tr>\n",
       "    <tr>\n",
       "      <th>4</th>\n",
       "      <td>9495_8</td>\n",
       "      <td>1</td>\n",
       "      <td>Superbly trashy and wondrously unpretentious 8...</td>\n",
       "    </tr>\n",
       "  </tbody>\n",
       "</table>\n",
       "</div>"
      ],
      "text/plain": [
       "       id  sentiment                                             review\n",
       "0  5814_8          1  With all this stuff going down at the moment w...\n",
       "1  2381_9          1  \\The Classic War of the Worlds\\\" by Timothy Hi...\n",
       "2  7759_3          0  The film starts with a manager (Nicholas Bell)...\n",
       "3  3630_4          0  It must be assumed that those who praised this...\n",
       "4  9495_8          1  Superbly trashy and wondrously unpretentious 8..."
      ]
     },
     "execution_count": 9,
     "metadata": {},
     "output_type": "execute_result"
    }
   ],
   "source": [
    "# Load the libraries\n",
    "import numpy as np\n",
    "import pandas as pd\n",
    "from textblob import TextBlob\n",
    "\n",
    "bagOfWords = pd.read_csv('labeledTrainData.tsv', sep='\\t')\n",
    "bagOfWords.head(5)"
   ]
  },
  {
   "cell_type": "code",
   "execution_count": 10,
   "id": "8dab9076",
   "metadata": {},
   "outputs": [],
   "source": [
    "# Split this into a training and test set.\n",
    "from sklearn.model_selection import train_test_split\n",
    "\n",
    "train, test = train_test_split(bagOfWords)"
   ]
  },
  {
   "cell_type": "code",
   "execution_count": 11,
   "id": "d0a50f36",
   "metadata": {},
   "outputs": [
    {
     "data": {
      "text/plain": [
       "(18750, 66591)"
      ]
     },
     "execution_count": 11,
     "metadata": {},
     "output_type": "execute_result"
    }
   ],
   "source": [
    "from sklearn.feature_extraction.text import TfidfVectorizer\n",
    "\n",
    "corpus = train['review']\n",
    "\n",
    "# Vectorize the corpus.\n",
    "vectorizer = TfidfVectorizer()\n",
    "train_tf_idf = vectorizer.fit_transform(corpus)\n",
    "\n",
    "train_tf_idf.shape"
   ]
  },
  {
   "cell_type": "code",
   "execution_count": 8,
   "id": "d7934e0c",
   "metadata": {},
   "outputs": [
    {
     "data": {
      "text/plain": [
       "(6250, 42626)"
      ]
     },
     "execution_count": 8,
     "metadata": {},
     "output_type": "execute_result"
    }
   ],
   "source": [
    "# Apply but DO NOT FIT the tf-idf vectorization to the test set (Why?).\n",
    "from sklearn.feature_extraction.text import TfidfVectorizer\n",
    "\n",
    "corpus = test['review']\n",
    "\n",
    "# Vectorize the corpus.\n",
    "vectorizer = TfidfVectorizer()\n",
    "test_tf_idf = vectorizer.fit_transform(corpus)\n",
    "\n",
    "'''\n",
    "The reason that we shouldn't perform a fit to our test set usually stems from using the test set to \n",
    "cross-validate our training set.  This can skew results and impair our dataset from useful testing processes.\n",
    "'''\n",
    "test_tf_idf.shape"
   ]
  },
  {
   "cell_type": "code",
   "execution_count": 38,
   "id": "324ad3aa",
   "metadata": {},
   "outputs": [],
   "source": [
    "# Train a logistic regression using the training data.\n",
    "from sklearn.linear_model import LogisticRegression\n",
    "\n",
    "target = train.sentiment\n",
    "features = train_tf_idf\n",
    "\n",
    "# Create the logistic regression.\n",
    "logistic_regression = LogisticRegression(random_state = 0)\n",
    "\n",
    "# Create the model from the features and target.\n",
    "model = logistic_regression.fit(features, target)"
   ]
  },
  {
   "cell_type": "code",
   "execution_count": 47,
   "id": "7a305ef8",
   "metadata": {},
   "outputs": [
    {
     "data": {
      "text/plain": [
       "0.89264"
      ]
     },
     "execution_count": 47,
     "metadata": {},
     "output_type": "execute_result"
    }
   ],
   "source": [
    "# Find the model accuracy on test set.\n",
    "from sklearn.metrics import accuracy_score\n",
    "\n",
    "target = test.sentiment\n",
    "features = test_tf_idf\n",
    "\n",
    "# Create the logistic regression.\n",
    "logistic_regression = LogisticRegression(random_state = 0)\n",
    "\n",
    "# Create the model from the features and target.\n",
    "model = logistic_regression.fit(features, target)\n",
    "\n",
    "# Create the predictions from the model.\n",
    "predictions = model.predict(test_tf_idf)\n",
    "\n",
    "# Create the score from the predictions.\n",
    "score = accuracy_score(target,predictions)\n",
    "\n",
    "score"
   ]
  },
  {
   "cell_type": "code",
   "execution_count": 51,
   "id": "35bab0d7",
   "metadata": {},
   "outputs": [
    {
     "data": {
      "text/plain": [
       "array([[2771,  344],\n",
       "       [ 327, 2808]], dtype=int64)"
      ]
     },
     "execution_count": 51,
     "metadata": {},
     "output_type": "execute_result"
    }
   ],
   "source": [
    "# Create a confusion matrix for the test set predictions.\n",
    "from sklearn import metrics\n",
    "\n",
    "# Create the confusion matrix based on acutal and predicted values.\n",
    "confusion_matrix = metrics.confusion_matrix(target, predictions)\n",
    "confusion_matrix"
   ]
  },
  {
   "cell_type": "code",
   "execution_count": 60,
   "id": "37ab86f4",
   "metadata": {},
   "outputs": [
    {
     "name": "stdout",
     "output_type": "stream",
     "text": [
      "Precision: 0.8908629441624365\n",
      "Recall: 0.8956937799043062\n",
      "F1 score: 0.8932718307618897\n"
     ]
    }
   ],
   "source": [
    "# Get the precision, recall, and F1-score for the test set predictions.\n",
    "from sklearn.metrics import precision_score\n",
    "from sklearn.metrics import recall_score\n",
    "from sklearn.metrics import f1_score\n",
    "\n",
    "# Create the metrics\n",
    "precision = precision_score(target, predictions, average='binary')\n",
    "recall = recall_score(target, predictions, average='binary')\n",
    "f1score = f1_score(target, predictions, average='binary')\n",
    "\n",
    "# Print the metrics\n",
    "print(f\"Precision: {precision}\")\n",
    "print(f\"Recall: {recall}\")\n",
    "print(f\"F1 score: {f1score}\")"
   ]
  },
  {
   "cell_type": "code",
   "execution_count": 65,
   "id": "99ec2731",
   "metadata": {},
   "outputs": [
    {
     "data": {
      "image/png": "[encoded data removed]",
      "text/plain": [
       "<Figure size 432x288 with 1 Axes>"
      ]
     },
     "metadata": {
      "needs_background": "light"
     },
     "output_type": "display_data"
    }
   ],
   "source": [
    "# Create a ROC curve for the test set.\n",
    "from sklearn.metrics import roc_curve\n",
    "import matplotlib.pyplot as plt\n",
    "\n",
    "# Create the roc curve from the y test and predictions.\n",
    "fpr, tpr, _ = roc_curve(target,  predictions)\n",
    "\n",
    "# Plot the roc curve.\n",
    "plt.plot(fpr,tpr)\n",
    "plt.ylabel('True Positive Rate')\n",
    "plt.xlabel('False Positive Rate')\n",
    "plt.show()"
   ]
  },
  {
   "cell_type": "markdown",
   "id": "b1a59b4f",
   "metadata": {},
   "source": [
    "## Part 2"
   ]
  },
  {
   "cell_type": "code",
   "execution_count": 66,
   "id": "836ba6ff",
   "metadata": {},
   "outputs": [],
   "source": [
    "# Pick another classification model you learned about this week and repeat steps (5) – (9).\n",
    "from sklearn.tree import DecisionTreeClassifier\n",
    "\n",
    "# Create the classifier.\n",
    "decision_tree = DecisionTreeClassifier()\n",
    "\n",
    "target = train.sentiment\n",
    "features = train_tf_idf\n",
    "\n",
    "# Create the model from the features and target.\n",
    "model = decision_tree.fit(features, target)"
   ]
  },
  {
   "cell_type": "code",
   "execution_count": 69,
   "id": "02ef71f1",
   "metadata": {},
   "outputs": [
    {
     "data": {
      "text/plain": [
       "0.99936"
      ]
     },
     "execution_count": 69,
     "metadata": {},
     "output_type": "execute_result"
    }
   ],
   "source": [
    "# Find the model accuracy on test set.\n",
    "test_target = test.sentiment\n",
    "test_features = test_tf_idf\n",
    "\n",
    "# Create the model from the features and target.\n",
    "test_model = decision_tree.fit(test_features, test_target)\n",
    "\n",
    "# Create the predictions from the model.\n",
    "test_predictions = test_model.predict(test_tf_idf)\n",
    "\n",
    "# Create the score from the predictions.\n",
    "test_score = accuracy_score(test_target,test_predictions)\n",
    "\n",
    "test_score"
   ]
  },
  {
   "cell_type": "code",
   "execution_count": 71,
   "id": "7808c191",
   "metadata": {},
   "outputs": [
    {
     "data": {
      "text/plain": [
       "array([[3115,    0],\n",
       "       [   4, 3131]], dtype=int64)"
      ]
     },
     "execution_count": 71,
     "metadata": {},
     "output_type": "execute_result"
    }
   ],
   "source": [
    "# Create a confusion matrix for the test set predictions.\n",
    "confusion_matrix = metrics.confusion_matrix(test_target, test_predictions)\n",
    "confusion_matrix"
   ]
  },
  {
   "cell_type": "code",
   "execution_count": 72,
   "id": "7ab5fb86",
   "metadata": {},
   "outputs": [
    {
     "name": "stdout",
     "output_type": "stream",
     "text": [
      "Precision: 1.0\n",
      "Recall: 0.9987240829346092\n",
      "F1 score: 0.999361634216406\n"
     ]
    }
   ],
   "source": [
    "# Get the precision, recall, and F1-score for the test set predictions.\n",
    "\n",
    "# Create the metrics\n",
    "precision = precision_score(test_target, test_predictions, average='binary')\n",
    "recall = recall_score(test_target, test_predictions, average='binary')\n",
    "f1score = f1_score(test_target, test_predictions, average='binary')\n",
    "\n",
    "# Print the metrics\n",
    "print(f\"Precision: {precision}\")\n",
    "print(f\"Recall: {recall}\")\n",
    "print(f\"F1 score: {f1score}\")"
   ]
  },
  {
   "cell_type": "code",
   "execution_count": 73,
   "id": "cdeef321",
   "metadata": {},
   "outputs": [
    {
     "data": {
      "image/png": "[encoded data removed]",
      "text/plain": [
       "<Figure size 432x288 with 1 Axes>"
      ]
     },
     "metadata": {
      "needs_background": "light"
     },
     "output_type": "display_data"
    }
   ],
   "source": [
    "# Create a ROC curve for the test set.\n",
    "\n",
    "# Create the roc curve from the y test and predictions.\n",
    "fpr, tpr, _ = roc_curve(test_target,  test_predictions)\n",
    "\n",
    "# Plot the roc curve.\n",
    "plt.plot(fpr,tpr)\n",
    "plt.ylabel('True Positive Rate')\n",
    "plt.xlabel('False Positive Rate')\n",
    "plt.show()"
   ]
  }
 ],
 "metadata": {
  "kernelspec": {
   "display_name": "Python 3 (ipykernel)",
   "language": "python",
   "name": "python3"
  },
  "language_info": {
   "codemirror_mode": {
    "name": "ipython",
    "version": 3
   },
   "file_extension": ".py",
   "mimetype": "text/x-python",
   "name": "python",
   "nbconvert_exporter": "python",
   "pygments_lexer": "ipython3",
   "version": "3.9.12"
  },
  "vscode": {
   "interpreter": {
    "hash": "9650cb4e16cdd4a8e8e2d128bf38d875813998db22a3c986335f89e0cb4d7bb2"
   }
  }
 },
 "nbformat": 4,
 "nbformat_minor": 5
}
