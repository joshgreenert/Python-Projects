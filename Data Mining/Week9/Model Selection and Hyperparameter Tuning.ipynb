{
 "cells": [
  {
   "cell_type": "markdown",
   "id": "f9192706",
   "metadata": {},
   "source": [
    "# Model Selection & Hyperparameter Tuning\n",
    "#### Joshua Greenert\n",
    "#### DSC550-T301 Data Mining\n",
    "#### 10/24/2022"
   ]
  },
  {
   "cell_type": "code",
   "execution_count": 50,
   "id": "bbabe3c5",
   "metadata": {},
   "outputs": [
    {
     "data": {
      "text/html": [
       "<div>\n",
       "<style scoped>\n",
       "    .dataframe tbody tr th:only-of-type {\n",
       "        vertical-align: middle;\n",
       "    }\n",
       "\n",
       "    .dataframe tbody tr th {\n",
       "        vertical-align: top;\n",
       "    }\n",
       "\n",
       "    .dataframe thead th {\n",
       "        text-align: right;\n",
       "    }\n",
       "</style>\n",
       "<table border=\"1\" class=\"dataframe\">\n",
       "  <thead>\n",
       "    <tr style=\"text-align: right;\">\n",
       "      <th></th>\n",
       "      <th>Loan_ID</th>\n",
       "      <th>Gender</th>\n",
       "      <th>Married</th>\n",
       "      <th>Dependents</th>\n",
       "      <th>Education</th>\n",
       "      <th>Self_Employed</th>\n",
       "      <th>ApplicantIncome</th>\n",
       "      <th>CoapplicantIncome</th>\n",
       "      <th>LoanAmount</th>\n",
       "      <th>Loan_Amount_Term</th>\n",
       "      <th>Credit_History</th>\n",
       "      <th>Property_Area</th>\n",
       "      <th>Loan_Status</th>\n",
       "    </tr>\n",
       "  </thead>\n",
       "  <tbody>\n",
       "    <tr>\n",
       "      <th>0</th>\n",
       "      <td>LP001002</td>\n",
       "      <td>Male</td>\n",
       "      <td>No</td>\n",
       "      <td>0</td>\n",
       "      <td>Graduate</td>\n",
       "      <td>No</td>\n",
       "      <td>5849</td>\n",
       "      <td>0.0</td>\n",
       "      <td>NaN</td>\n",
       "      <td>360.0</td>\n",
       "      <td>1.0</td>\n",
       "      <td>Urban</td>\n",
       "      <td>Y</td>\n",
       "    </tr>\n",
       "    <tr>\n",
       "      <th>1</th>\n",
       "      <td>LP001003</td>\n",
       "      <td>Male</td>\n",
       "      <td>Yes</td>\n",
       "      <td>1</td>\n",
       "      <td>Graduate</td>\n",
       "      <td>No</td>\n",
       "      <td>4583</td>\n",
       "      <td>1508.0</td>\n",
       "      <td>128.0</td>\n",
       "      <td>360.0</td>\n",
       "      <td>1.0</td>\n",
       "      <td>Rural</td>\n",
       "      <td>N</td>\n",
       "    </tr>\n",
       "    <tr>\n",
       "      <th>2</th>\n",
       "      <td>LP001005</td>\n",
       "      <td>Male</td>\n",
       "      <td>Yes</td>\n",
       "      <td>0</td>\n",
       "      <td>Graduate</td>\n",
       "      <td>Yes</td>\n",
       "      <td>3000</td>\n",
       "      <td>0.0</td>\n",
       "      <td>66.0</td>\n",
       "      <td>360.0</td>\n",
       "      <td>1.0</td>\n",
       "      <td>Urban</td>\n",
       "      <td>Y</td>\n",
       "    </tr>\n",
       "    <tr>\n",
       "      <th>3</th>\n",
       "      <td>LP001006</td>\n",
       "      <td>Male</td>\n",
       "      <td>Yes</td>\n",
       "      <td>0</td>\n",
       "      <td>Not Graduate</td>\n",
       "      <td>No</td>\n",
       "      <td>2583</td>\n",
       "      <td>2358.0</td>\n",
       "      <td>120.0</td>\n",
       "      <td>360.0</td>\n",
       "      <td>1.0</td>\n",
       "      <td>Urban</td>\n",
       "      <td>Y</td>\n",
       "    </tr>\n",
       "    <tr>\n",
       "      <th>4</th>\n",
       "      <td>LP001008</td>\n",
       "      <td>Male</td>\n",
       "      <td>No</td>\n",
       "      <td>0</td>\n",
       "      <td>Graduate</td>\n",
       "      <td>No</td>\n",
       "      <td>6000</td>\n",
       "      <td>0.0</td>\n",
       "      <td>141.0</td>\n",
       "      <td>360.0</td>\n",
       "      <td>1.0</td>\n",
       "      <td>Urban</td>\n",
       "      <td>Y</td>\n",
       "    </tr>\n",
       "  </tbody>\n",
       "</table>\n",
       "</div>"
      ],
      "text/plain": [
       "    Loan_ID Gender Married Dependents     Education Self_Employed  \\\n",
       "0  LP001002   Male      No          0      Graduate            No   \n",
       "1  LP001003   Male     Yes          1      Graduate            No   \n",
       "2  LP001005   Male     Yes          0      Graduate           Yes   \n",
       "3  LP001006   Male     Yes          0  Not Graduate            No   \n",
       "4  LP001008   Male      No          0      Graduate            No   \n",
       "\n",
       "   ApplicantIncome  CoapplicantIncome  LoanAmount  Loan_Amount_Term  \\\n",
       "0             5849                0.0         NaN             360.0   \n",
       "1             4583             1508.0       128.0             360.0   \n",
       "2             3000                0.0        66.0             360.0   \n",
       "3             2583             2358.0       120.0             360.0   \n",
       "4             6000                0.0       141.0             360.0   \n",
       "\n",
       "   Credit_History Property_Area Loan_Status  \n",
       "0             1.0         Urban           Y  \n",
       "1             1.0         Rural           N  \n",
       "2             1.0         Urban           Y  \n",
       "3             1.0         Urban           Y  \n",
       "4             1.0         Urban           Y  "
      ]
     },
     "execution_count": 50,
     "metadata": {},
     "output_type": "execute_result"
    }
   ],
   "source": [
    "# Import the dataset and ensure that it loaded properly\n",
    "import pandas as pd\n",
    "import numpy as np\n",
    "\n",
    "df_loan = pd.read_csv('Loan_Train.csv')\n",
    "df_loan.head(5)"
   ]
  },
  {
   "cell_type": "code",
   "execution_count": 51,
   "id": "5db4a607",
   "metadata": {},
   "outputs": [],
   "source": [
    "# Prepare the data for modeling by performing the following steps\n",
    "#  Drop the column “Load_ID.”\n",
    "df_loan = df_loan.drop('Loan_ID', axis = 1)\n",
    "\n",
    "#  Drop any rows with missing data.\n",
    "df_loan = df_loan.dropna(how = \"any\")\n",
    "\n",
    "#  Convert the categorical features into dummy variables.\n",
    "categorical_columns = df_loan.select_dtypes( include ='object').columns\n",
    "df_loan_new = pd.get_dummies(df_loan, columns = categorical_columns)"
   ]
  },
  {
   "cell_type": "code",
   "execution_count": 52,
   "id": "441ae9e9",
   "metadata": {},
   "outputs": [],
   "source": [
    "# Split the data into a training and test set, where the “Loan_Status” column is the target.\n",
    "from sklearn.model_selection import train_test_split\n",
    "\n",
    "train, test = train_test_split(df_loan_new)\n",
    "\n",
    "# Set the target and the features.\n",
    "target_test = test.Loan_Status_Y\n",
    "features_test = test.drop(['Loan_Status_Y'],axis=1).values\n",
    "\n",
    "# Set the ones for train set.\n",
    "target_train = train.Loan_Status_Y\n",
    "features_train = train.drop(['Loan_Status_Y'],axis=1).values"
   ]
  },
  {
   "cell_type": "code",
   "execution_count": 62,
   "id": "94b7e67c",
   "metadata": {},
   "outputs": [
    {
     "name": "stdout",
     "output_type": "stream",
     "text": [
      "Training set score: 0.9555555555555556\n"
     ]
    }
   ],
   "source": [
    "# Create a pipeline with a min-max scaler and a KNN classifier (see section 15.3 in the Machine Learning with Python Cookbook).\n",
    "from sklearn.preprocessing import MinMaxScaler\n",
    "from sklearn.neighbors import KNeighborsClassifier\n",
    "from sklearn.pipeline import Pipeline\n",
    "\n",
    "# Create a pipeline.\n",
    "pipe = Pipeline([('scaler', MinMaxScaler()),('knn', KNeighborsClassifier())])\n",
    "\n",
    "# Fit the data to the pipe \n",
    "pipe.fit(features_train, target_train)\n",
    "\n",
    "# Find the score for the training set.\n",
    "print('Training set score: ' + str(pipe.score(features_train, target_train)))"
   ]
  },
  {
   "cell_type": "code",
   "execution_count": 63,
   "id": "75ab9ac1",
   "metadata": {},
   "outputs": [
    {
     "name": "stdout",
     "output_type": "stream",
     "text": [
      "Test set score: 0.8916666666666667\n"
     ]
    }
   ],
   "source": [
    "# Fit a default KNN classifier to the data with this pipeline. Report the model accuracy on the test set. \n",
    "# Note: Fitting a pipeline model works just like fitting a regular model.\n",
    "pipe.fit(features_test, target_test)\n",
    "\n",
    "# Find the score for the test set.\n",
    "print('Test set score: ' + str(pipe.score(features_test, target_test)))"
   ]
  },
  {
   "cell_type": "code",
   "execution_count": 64,
   "id": "ef43adf6",
   "metadata": {},
   "outputs": [],
   "source": [
    "# Create a search space for your KNN classifier where your “n_neighbors” parameter varies from 1 to 10. \n",
    "# (see section 15.3 in the Machine Learning with Python Cookbook).\n",
    "# Create a space of candidate values.\n",
    "search_space = [{\"knn__n_neighbors\": [1, 2, 3, 4, 5, 6, 7, 8, 9, 10]}]"
   ]
  },
  {
   "cell_type": "code",
   "execution_count": 65,
   "id": "d2e6348e",
   "metadata": {},
   "outputs": [],
   "source": [
    "# Fit a grid search with your pipeline, search space, and 5-fold cross-validation to find the best value for\n",
    "# the “n_neighbors” parameter.\n",
    "from sklearn.model_selection import GridSearchCV\n",
    "\n",
    "# set the knn\n",
    "knn = KNeighborsClassifier(n_neighbors = 5, n_jobs = -1)\n",
    "pipe = Pipeline([('scaler', MinMaxScaler()),('knn', knn)])\n",
    "\n",
    "# Create a grid search.\n",
    "classifier = GridSearchCV(pipe, search_space, cv = 5, verbose = 0).fit(features_test, target_test)"
   ]
  },
  {
   "cell_type": "code",
   "execution_count": 66,
   "id": "2b4dd828",
   "metadata": {},
   "outputs": [
    {
     "data": {
      "text/plain": [
       "0.8916666666666666"
      ]
     },
     "execution_count": 66,
     "metadata": {},
     "output_type": "execute_result"
    }
   ],
   "source": [
    "# Find the accuracy of the grid search best model on the test set. \n",
    "# Note: It is possible that this will not be an improvement over the default model, but likely it will be.\n",
    "best_result = classifier.best_score_\n",
    "best_result"
   ]
  },
  {
   "cell_type": "code",
   "execution_count": 11,
   "id": "c3b5f83e",
   "metadata": {},
   "outputs": [],
   "source": [
    "# Now, repeat steps 6 and 7 with the same pipeline, but expand your search space to include logistic regression \n",
    "# and random forest models with the hyperparameter values in section 12.3 of the Machine Learning with Python Cookbook.\n"
   ]
  },
  {
   "cell_type": "code",
   "execution_count": 12,
   "id": "1bb354c6",
   "metadata": {},
   "outputs": [],
   "source": [
    "# What are the best model and hyperparameters found in the grid search? Find the accuracy of this model on the test set."
   ]
  },
  {
   "cell_type": "code",
   "execution_count": null,
   "id": "39dd6ef9",
   "metadata": {},
   "outputs": [],
   "source": [
    "# Summarize your results."
   ]
  }
 ],
 "metadata": {
  "kernelspec": {
   "display_name": "Python 3 (ipykernel)",
   "language": "python",
   "name": "python3"
  },
  "language_info": {
   "codemirror_mode": {
    "name": "ipython",
    "version": 3
   },
   "file_extension": ".py",
   "mimetype": "text/x-python",
   "name": "python",
   "nbconvert_exporter": "python",
   "pygments_lexer": "ipython3",
   "version": "3.9.12"
  }
 },
 "nbformat": 4,
 "nbformat_minor": 5
}
