{
 "cells": [
  {
   "cell_type": "markdown",
   "id": "1679f97e",
   "metadata": {},
   "source": [
    "# Term Project Final Writeup\n",
    "#### Joshua Greenert\n",
    "#### DSC550-T301 Data Mining\n",
    "#### 11/12/2022"
   ]
  },
  {
   "cell_type": "markdown",
   "id": "a1cfad14",
   "metadata": {},
   "source": [
    "## Introduction"
   ]
  },
  {
   "cell_type": "markdown",
   "id": "c0b6ceb0",
   "metadata": {},
   "source": [
    "   ### Introduce the problem: Part 1"
   ]
  },
  {
   "cell_type": "markdown",
   "id": "181c4671",
   "metadata": {},
   "source": [
    "        In the world of ecommerce, the flow of data is constant.  As smaller businesses enter into the atmosphere, they too need to understand the structure of the data and how it can pinpoint areas of opportunity for their respective business.  However, without having some guidance on what key indicators predict revenue-generating  processes, it can become difficult to survive amongst larger organizations."
   ]
  },
  {
   "cell_type": "markdown",
   "id": "b222af67",
   "metadata": {},
   "source": [
    "   ### Justify why it is important/useful to solve this problem: Part 2"
   ]
  },
  {
   "cell_type": "markdown",
   "id": "9c8147de",
   "metadata": {},
   "source": [
    "        With indicators specified on how revenue can be generated from the data, users and businesses alike can set up their websites to gain the largest amount of revenue possible.  Similar to A B testing, these small businesses can understand what is working, and what isn’t working, with their current products and overall design strategies.  From this information, they can implement changes to better engage with their users, gain a stronger brand recognition, and further enhance their overall marketing strategies."
   ]
  },
  {
   "cell_type": "markdown",
   "id": "3eafb871",
   "metadata": {},
   "source": [
    "   ### How would you pitch this problem to a group of stakeholders to gain buy-in to proceed?: Part 3"
   ]
  },
  {
   "cell_type": "markdown",
   "id": "582650e5",
   "metadata": {},
   "source": [
    "        In order to appropriately pitch this problem to stakeholders, we would need to first focus on the underlying issues within the business.  Generally speaking, this means isolating the value that’s being returned in terms of profit for the business as a whole.  We can create graphs that express the company's projected growth with a focused marketing plan alongside the actual anticipated growth of the company.  "
   ]
  },
  {
   "cell_type": "markdown",
   "id": "b48a33d0",
   "metadata": {},
   "source": [
    "   ### Explain where you obtained your data: Part 4"
   ]
  },
  {
   "cell_type": "markdown",
   "id": "d5b0d263",
   "metadata": {},
   "source": [
    "        The data for this exploratory data analysis was obtained from Kaggle and includes 12.330 unique user sessions.  Additionally, special care was provided by the authors of the dataset to ensure that the data spanned across one year while not being too heavily focused on any particular campaign or special occasion."
   ]
  },
  {
   "cell_type": "markdown",
   "id": "4f17961f",
   "metadata": {},
   "source": [
    "## Summary of Milestones"
   ]
  },
  {
   "cell_type": "markdown",
   "id": "2651bf24",
   "metadata": {},
   "source": [
    "   ### EDA; include any visuals you think are important to your project: Part 1"
   ]
  },
  {
   "cell_type": "code",
   "execution_count": null,
   "id": "bf65424e",
   "metadata": {},
   "outputs": [],
   "source": []
  },
  {
   "cell_type": "markdown",
   "id": "1ec1cf47",
   "metadata": {},
   "source": [
    "   ### Data preparation: Part 2"
   ]
  },
  {
   "cell_type": "code",
   "execution_count": null,
   "id": "4cdf6607",
   "metadata": {},
   "outputs": [],
   "source": []
  },
  {
   "cell_type": "markdown",
   "id": "00ce6b1e",
   "metadata": {},
   "source": [
    "   ### Model building and evaluation: Part 3"
   ]
  },
  {
   "cell_type": "code",
   "execution_count": null,
   "id": "7bc8d26c",
   "metadata": {},
   "outputs": [],
   "source": []
  },
  {
   "cell_type": "markdown",
   "id": "dcd28300",
   "metadata": {},
   "source": [
    "## Conclusion"
   ]
  },
  {
   "cell_type": "code",
   "execution_count": 3,
   "id": "d48638cf",
   "metadata": {},
   "outputs": [
    {
     "name": "stdout",
     "output_type": "stream",
     "text": [
      "Object `you` not found.\n",
      "Object `deployed` not found.\n",
      "Object `recommendations` not found.\n",
      "Object `explored` not found.\n"
     ]
    }
   ],
   "source": [
    "What does the analysis/model building tell you?\n",
    "Is this model ready to be deployed?\n",
    "What are your recommendations?\n",
    "What are some of the potential challenges or additional opportunities that still need to be explored?"
   ]
  },
  {
   "cell_type": "code",
   "execution_count": null,
   "id": "8ad4b595",
   "metadata": {},
   "outputs": [],
   "source": []
  }
 ],
 "metadata": {
  "kernelspec": {
   "display_name": "Python 3 (ipykernel)",
   "language": "python",
   "name": "python3"
  },
  "language_info": {
   "codemirror_mode": {
    "name": "ipython",
    "version": 3
   },
   "file_extension": ".py",
   "mimetype": "text/x-python",
   "name": "python",
   "nbconvert_exporter": "python",
   "pygments_lexer": "ipython3",
   "version": "3.9.12"
  }
 },
 "nbformat": 4,
 "nbformat_minor": 5
}
