{
 "cells": [
  {
   "cell_type": "markdown",
   "id": "143e9424",
   "metadata": {},
   "source": [
    "# Term Project Final Writeup\n",
    "#### Joshua Greenert\n",
    "#### DSC550-T301 Data Mining\n",
    "#### 11/12/2022"
   ]
  },
  {
   "cell_type": "markdown",
   "id": "f272686e",
   "metadata": {},
   "source": [
    "## Introduction"
   ]
  },
  {
   "cell_type": "markdown",
   "id": "4aa85cff",
   "metadata": {},
   "source": [
    "### Introduce the problem: Part 1"
   ]
  },
  {
   "cell_type": "code",
   "execution_count": null,
   "id": "4372ea76",
   "metadata": {},
   "outputs": [],
   "source": []
  },
  {
   "cell_type": "markdown",
   "id": "160cbc34",
   "metadata": {},
   "source": [
    "### Justify why it is important/useful to solve this problem: Part 2"
   ]
  },
  {
   "cell_type": "code",
   "execution_count": null,
   "id": "56f3b51c",
   "metadata": {},
   "outputs": [],
   "source": []
  },
  {
   "cell_type": "markdown",
   "id": "7d392f9c",
   "metadata": {},
   "source": [
    "### How would you pitch this problem to a group of stakeholders to gain buy-in to proceed?: Part 3"
   ]
  },
  {
   "cell_type": "code",
   "execution_count": null,
   "id": "514ae116",
   "metadata": {},
   "outputs": [],
   "source": []
  },
  {
   "cell_type": "markdown",
   "id": "505fc8e3",
   "metadata": {},
   "source": [
    "### Explain where you obtained your data: Part 4"
   ]
  },
  {
   "cell_type": "code",
   "execution_count": null,
   "id": "1770e0d4",
   "metadata": {},
   "outputs": [],
   "source": []
  },
  {
   "cell_type": "markdown",
   "id": "1deb387f",
   "metadata": {},
   "source": [
    "## Summary of Milestones"
   ]
  },
  {
   "cell_type": "markdown",
   "id": "a6eaa503",
   "metadata": {},
   "source": [
    "### EDA; include any visuals you think are important to your project: Part 1"
   ]
  },
  {
   "cell_type": "code",
   "execution_count": null,
   "id": "7db5d611",
   "metadata": {},
   "outputs": [],
   "source": []
  },
  {
   "cell_type": "markdown",
   "id": "0db4b96b",
   "metadata": {},
   "source": [
    "### Data preparation: Part 2"
   ]
  },
  {
   "cell_type": "code",
   "execution_count": null,
   "id": "ae8ad18a",
   "metadata": {},
   "outputs": [],
   "source": []
  },
  {
   "cell_type": "markdown",
   "id": "1070a15b",
   "metadata": {},
   "source": [
    "### Model building and evaluation: Part 3"
   ]
  },
  {
   "cell_type": "code",
   "execution_count": null,
   "id": "64f0da0d",
   "metadata": {},
   "outputs": [],
   "source": []
  },
  {
   "cell_type": "markdown",
   "id": "64500002",
   "metadata": {},
   "source": [
    "## Conclusion"
   ]
  },
  {
   "cell_type": "code",
   "execution_count": 3,
   "id": "bd6955ed",
   "metadata": {},
   "outputs": [
    {
     "name": "stdout",
     "output_type": "stream",
     "text": [
      "Object `you` not found.\n",
      "Object `deployed` not found.\n",
      "Object `recommendations` not found.\n",
      "Object `explored` not found.\n"
     ]
    }
   ],
   "source": [
    "What does the analysis/model building tell you?\n",
    "Is this model ready to be deployed?\n",
    "What are your recommendations?\n",
    "What are some of the potential challenges or additional opportunities that still need to be explored?"
   ]
  },
  {
   "cell_type": "code",
   "execution_count": null,
   "id": "54c83966",
   "metadata": {},
   "outputs": [],
   "source": []
  }
 ],
 "metadata": {
  "kernelspec": {
   "display_name": "Python 3 (ipykernel)",
   "language": "python",
   "name": "python3"
  },
  "language_info": {
   "codemirror_mode": {
    "name": "ipython",
    "version": 3
   },
   "file_extension": ".py",
   "mimetype": "text/x-python",
   "name": "python",
   "nbconvert_exporter": "python",
   "pygments_lexer": "ipython3",
   "version": "3.9.12"
  }
 },
 "nbformat": 4,
 "nbformat_minor": 5
}
