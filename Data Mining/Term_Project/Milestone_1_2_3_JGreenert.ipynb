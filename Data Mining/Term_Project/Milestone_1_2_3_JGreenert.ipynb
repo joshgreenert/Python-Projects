{
 "cells": [
  {
   "cell_type": "markdown",
   "id": "1c91f580",
   "metadata": {},
   "source": [
    "# Milestone 1: Consumer Intent\n",
    "#### Joshua Greenert\n",
    "#### DSC550-T301 Data Mining\n",
    "#### 10/8/2022"
   ]
  },
  {
   "cell_type": "code",
   "execution_count": 1,
   "id": "406d3a0b",
   "metadata": {},
   "outputs": [
    {
     "data": {
      "text/html": [
       "<div>\n",
       "<style scoped>\n",
       "    .dataframe tbody tr th:only-of-type {\n",
       "        vertical-align: middle;\n",
       "    }\n",
       "\n",
       "    .dataframe tbody tr th {\n",
       "        vertical-align: top;\n",
       "    }\n",
       "\n",
       "    .dataframe thead th {\n",
       "        text-align: right;\n",
       "    }\n",
       "</style>\n",
       "<table border=\"1\" class=\"dataframe\">\n",
       "  <thead>\n",
       "    <tr style=\"text-align: right;\">\n",
       "      <th></th>\n",
       "      <th>Administrative</th>\n",
       "      <th>Administrative_Duration</th>\n",
       "      <th>Informational</th>\n",
       "      <th>Informational_Duration</th>\n",
       "      <th>ProductRelated</th>\n",
       "      <th>ProductRelated_Duration</th>\n",
       "      <th>BounceRates</th>\n",
       "      <th>ExitRates</th>\n",
       "      <th>PageValues</th>\n",
       "      <th>SpecialDay</th>\n",
       "      <th>Month</th>\n",
       "      <th>OperatingSystems</th>\n",
       "      <th>Browser</th>\n",
       "      <th>Region</th>\n",
       "      <th>TrafficType</th>\n",
       "      <th>VisitorType</th>\n",
       "      <th>Weekend</th>\n",
       "      <th>Revenue</th>\n",
       "    </tr>\n",
       "  </thead>\n",
       "  <tbody>\n",
       "    <tr>\n",
       "      <th>0</th>\n",
       "      <td>0</td>\n",
       "      <td>0.0</td>\n",
       "      <td>0</td>\n",
       "      <td>0.0</td>\n",
       "      <td>1</td>\n",
       "      <td>0.000000</td>\n",
       "      <td>0.20</td>\n",
       "      <td>0.20</td>\n",
       "      <td>0.0</td>\n",
       "      <td>0.0</td>\n",
       "      <td>Feb</td>\n",
       "      <td>1</td>\n",
       "      <td>1</td>\n",
       "      <td>1</td>\n",
       "      <td>1</td>\n",
       "      <td>Returning_Visitor</td>\n",
       "      <td>False</td>\n",
       "      <td>False</td>\n",
       "    </tr>\n",
       "    <tr>\n",
       "      <th>1</th>\n",
       "      <td>0</td>\n",
       "      <td>0.0</td>\n",
       "      <td>0</td>\n",
       "      <td>0.0</td>\n",
       "      <td>2</td>\n",
       "      <td>64.000000</td>\n",
       "      <td>0.00</td>\n",
       "      <td>0.10</td>\n",
       "      <td>0.0</td>\n",
       "      <td>0.0</td>\n",
       "      <td>Feb</td>\n",
       "      <td>2</td>\n",
       "      <td>2</td>\n",
       "      <td>1</td>\n",
       "      <td>2</td>\n",
       "      <td>Returning_Visitor</td>\n",
       "      <td>False</td>\n",
       "      <td>False</td>\n",
       "    </tr>\n",
       "    <tr>\n",
       "      <th>2</th>\n",
       "      <td>0</td>\n",
       "      <td>0.0</td>\n",
       "      <td>0</td>\n",
       "      <td>0.0</td>\n",
       "      <td>1</td>\n",
       "      <td>0.000000</td>\n",
       "      <td>0.20</td>\n",
       "      <td>0.20</td>\n",
       "      <td>0.0</td>\n",
       "      <td>0.0</td>\n",
       "      <td>Feb</td>\n",
       "      <td>4</td>\n",
       "      <td>1</td>\n",
       "      <td>9</td>\n",
       "      <td>3</td>\n",
       "      <td>Returning_Visitor</td>\n",
       "      <td>False</td>\n",
       "      <td>False</td>\n",
       "    </tr>\n",
       "    <tr>\n",
       "      <th>3</th>\n",
       "      <td>0</td>\n",
       "      <td>0.0</td>\n",
       "      <td>0</td>\n",
       "      <td>0.0</td>\n",
       "      <td>2</td>\n",
       "      <td>2.666667</td>\n",
       "      <td>0.05</td>\n",
       "      <td>0.14</td>\n",
       "      <td>0.0</td>\n",
       "      <td>0.0</td>\n",
       "      <td>Feb</td>\n",
       "      <td>3</td>\n",
       "      <td>2</td>\n",
       "      <td>2</td>\n",
       "      <td>4</td>\n",
       "      <td>Returning_Visitor</td>\n",
       "      <td>False</td>\n",
       "      <td>False</td>\n",
       "    </tr>\n",
       "    <tr>\n",
       "      <th>4</th>\n",
       "      <td>0</td>\n",
       "      <td>0.0</td>\n",
       "      <td>0</td>\n",
       "      <td>0.0</td>\n",
       "      <td>10</td>\n",
       "      <td>627.500000</td>\n",
       "      <td>0.02</td>\n",
       "      <td>0.05</td>\n",
       "      <td>0.0</td>\n",
       "      <td>0.0</td>\n",
       "      <td>Feb</td>\n",
       "      <td>3</td>\n",
       "      <td>3</td>\n",
       "      <td>1</td>\n",
       "      <td>4</td>\n",
       "      <td>Returning_Visitor</td>\n",
       "      <td>True</td>\n",
       "      <td>False</td>\n",
       "    </tr>\n",
       "  </tbody>\n",
       "</table>\n",
       "</div>"
      ],
      "text/plain": [
       "   Administrative  Administrative_Duration  Informational  \\\n",
       "0               0                      0.0              0   \n",
       "1               0                      0.0              0   \n",
       "2               0                      0.0              0   \n",
       "3               0                      0.0              0   \n",
       "4               0                      0.0              0   \n",
       "\n",
       "   Informational_Duration  ProductRelated  ProductRelated_Duration  \\\n",
       "0                     0.0               1                 0.000000   \n",
       "1                     0.0               2                64.000000   \n",
       "2                     0.0               1                 0.000000   \n",
       "3                     0.0               2                 2.666667   \n",
       "4                     0.0              10               627.500000   \n",
       "\n",
       "   BounceRates  ExitRates  PageValues  SpecialDay Month  OperatingSystems  \\\n",
       "0         0.20       0.20         0.0         0.0   Feb                 1   \n",
       "1         0.00       0.10         0.0         0.0   Feb                 2   \n",
       "2         0.20       0.20         0.0         0.0   Feb                 4   \n",
       "3         0.05       0.14         0.0         0.0   Feb                 3   \n",
       "4         0.02       0.05         0.0         0.0   Feb                 3   \n",
       "\n",
       "   Browser  Region  TrafficType        VisitorType  Weekend  Revenue  \n",
       "0        1       1            1  Returning_Visitor    False    False  \n",
       "1        2       1            2  Returning_Visitor    False    False  \n",
       "2        1       9            3  Returning_Visitor    False    False  \n",
       "3        2       2            4  Returning_Visitor    False    False  \n",
       "4        3       1            4  Returning_Visitor     True    False  "
      ]
     },
     "execution_count": 1,
     "metadata": {},
     "output_type": "execute_result"
    }
   ],
   "source": [
    "# What is the best time to advertise to online customers?\n",
    "import pandas as pd\n",
    "import matplotlib.pyplot as plt\n",
    "import numpy as np\n",
    "\n",
    "df_consumer = pd.read_csv('online_shoppers_intention.csv')\n",
    "df_consumer.head(5)"
   ]
  },
  {
   "cell_type": "code",
   "execution_count": 2,
   "id": "98cf11cb",
   "metadata": {},
   "outputs": [
    {
     "data": {
      "image/png": "[encoded data removed]",
      "text/plain": [
       "<Figure size 432x288 with 1 Axes>"
      ]
     },
     "metadata": {
      "needs_background": "light"
     },
     "output_type": "display_data"
    }
   ],
   "source": [
    "# Create a graph to visualize product views by month.\n",
    "plt.title('Monthly Product Related Views')\n",
    "plt.xlabel('Month')\n",
    "plt.ylabel('Product Related')\n",
    "plt.plot(df_consumer.Month, df_consumer.ProductRelated)\n",
    "plt.show()\n"
   ]
  },
  {
   "cell_type": "markdown",
   "id": "96b16d52",
   "metadata": {},
   "source": [
    "According to the information shown, there appears to be missing data within the months of Feb, Mar, and May while January and April are completely missing from the dataset.  However, based on the data we can glean from the plot, we can see that there are far more product related page views in November and December which makes sense due to the holidays."
   ]
  },
  {
   "cell_type": "code",
   "execution_count": 3,
   "id": "fe4eeeb5",
   "metadata": {},
   "outputs": [
    {
     "data": {
      "image/png": "[encoded data removed]",
      "text/plain": [
       "<Figure size 432x288 with 1 Axes>"
      ]
     },
     "metadata": {
      "needs_background": "light"
     },
     "output_type": "display_data"
    }
   ],
   "source": [
    "# Create a graph to visualize product views by month.\n",
    "plt.title('Monthly Bounce Rates')\n",
    "plt.xlabel('Month')\n",
    "plt.ylabel('Bounce Rates')\n",
    "plt.plot(df_consumer.Month, df_consumer.BounceRates)\n",
    "plt.show()"
   ]
  },
  {
   "cell_type": "markdown",
   "id": "9012d0c6",
   "metadata": {},
   "source": [
    "Once again, the data appears to be missing for the months of February, March, and May.  When reviewing this data for future information, it may be wise to either fill those values in to match other months or remove those months from the dataset altogether."
   ]
  },
  {
   "cell_type": "code",
   "execution_count": 4,
   "id": "a66e6a9c",
   "metadata": {},
   "outputs": [
    {
     "name": "stdout",
     "output_type": "stream",
     "text": [
      " Revenue on Weekends: 499\n",
      " Revenue on Weekdays: 1409\n",
      " Weekends with No Revenue: 2369\n",
      " Weekdays with No Revenue: 8053\n"
     ]
    },
    {
     "data": {
      "image/png": "[encoded data removed]",
      "text/plain": [
       "<Figure size 432x288 with 1 Axes>"
      ]
     },
     "metadata": {
      "needs_background": "light"
     },
     "output_type": "display_data"
    }
   ],
   "source": [
    "# Convert all boolean values to 0 and 1s.\n",
    "df_consumer[\"Weekend\"] = df_consumer[\"Weekend\"].astype(int)\n",
    "df_consumer[\"Revenue\"] = df_consumer[\"Revenue\"].astype(int)\n",
    "\n",
    "# Determine the weekend amounts where revenue is true.\n",
    "weekendRevenueCount = 0\n",
    "nonweekendRevenueCount = 0\n",
    "noSalesOnWeekend = 0\n",
    "noSalesOnWeekday = 0\n",
    "\n",
    "# Loop through all objects and collect the counts to compares whether weekends do better than week days.\n",
    "for index, row in df_consumer.iterrows():\n",
    "    if(row['Weekend'] and row['Revenue']):\n",
    "        weekendRevenueCount = weekendRevenueCount + 1\n",
    "    elif(row['Weekend'] == False and row['Revenue']):\n",
    "        nonweekendRevenueCount = nonweekendRevenueCount + 1\n",
    "    elif(row['Weekend'] and row['Revenue'] == False):\n",
    "        noSalesOnWeekend = noSalesOnWeekend + 1\n",
    "    else:\n",
    "        noSalesOnWeekday = noSalesOnWeekday +1\n",
    "\n",
    "# Print the results of the loop.\n",
    "print(f\" Revenue on Weekends: {weekendRevenueCount}\\n \\\n",
    "Revenue on Weekdays: {nonweekendRevenueCount}\\n \\\n",
    "Weekends with No Revenue: {noSalesOnWeekend}\\n \\\n",
    "Weekdays with No Revenue: {noSalesOnWeekday}\")\n",
    "\n",
    "# Create a new dataframe with values.\n",
    "df_weekend_calculations = pd.DataFrame({'Revenue on Weekends': weekendRevenueCount, \\\n",
    "                                        'Revenue on Weekdays': nonweekendRevenueCount, \\\n",
    "                                       'Weekends No Revenue': noSalesOnWeekend, \\\n",
    "                                       'Weekdays No Revenue': noSalesOnWeekday}, index = [\"Weekend $\"])\n",
    "\n",
    "# Display the new bar graph to show non sales with days with sales\n",
    "ax = df_weekend_calculations.plot.bar( rot=0)"
   ]
  },
  {
   "cell_type": "markdown",
   "id": "7df9aab0",
   "metadata": {},
   "source": [
    "When coming into the assessment, my assumption was that the weekends would have the most online sales.  However, according to the data, the most online sales take place during the weekdays by almost three times the amount!  This data may suggest that companies should focus their advertisement campaigns on the weekdays more than the weekends since there are more sales that happen on those days; alternatively, there are only two days in the weekend where there are five days in the week.  If the weekends suggest such a high percentage of that week for sales, it may prove the opposite."
   ]
  },
  {
   "cell_type": "code",
   "execution_count": 5,
   "id": "236a7d27",
   "metadata": {},
   "outputs": [
    {
     "name": "stdout",
     "output_type": "stream",
     "text": [
      "This data shows some outliers while seeming to indicate that holidays aren't valuable for online product sales. \n",
      "Let's dig deeper to make sure.\n",
      "\n",
      "Revenue On Holiday: 10\n",
      "Revenue Near Holiday: 67\n",
      "Revenue Not Near/On Holiday: 1831\n"
     ]
    },
    {
     "data": {
      "image/png": "[encoded data removed]",
      "text/plain": [
       "<Figure size 432x288 with 1 Axes>"
      ]
     },
     "metadata": {
      "needs_background": "light"
     },
     "output_type": "display_data"
    }
   ],
   "source": [
    "# Create a graph to visualize special days (holidays) with product-related page views.\n",
    "df_consumer.plot.scatter(x = 'SpecialDay', y = 'ProductRelated', s = 100);\n",
    "print(\"This data shows some outliers while seeming to indicate that holidays aren't valuable for online product sales. \\n\\\n",
    "Let's dig deeper to make sure.\\n\")\n",
    "\n",
    "# Calculate the amounts for the revenue bought on days not equal to zero to compare with ones that were.\n",
    "revenueNotNearHoliday = 0\n",
    "revenueNearHoliday = 0\n",
    "revenueOnHoliday = 0\n",
    "for index, row in df_consumer.iterrows():\n",
    "    if(row['Revenue'] and row['SpecialDay'] == 0):\n",
    "        revenueNotNearHoliday = revenueNotNearHoliday + 1\n",
    "    elif(row['Revenue'] and row['SpecialDay'] == 1):\n",
    "        revenueOnHoliday = revenueOnHoliday + 1\n",
    "    elif(row['Revenue'] and row['SpecialDay'] != 1 and row['SpecialDay'] != 0):\n",
    "        revenueNearHoliday = revenueNearHoliday + 1\n",
    "        \n",
    "# Print the results to see them visually.        \n",
    "print(f\"Revenue On Holiday: {revenueOnHoliday}\\n\\\n",
    "Revenue Near Holiday: {revenueNearHoliday}\\n\\\n",
    "Revenue Not Near/On Holiday: {revenueNotNearHoliday}\")"
   ]
  },
  {
   "cell_type": "markdown",
   "id": "645206e1",
   "metadata": {},
   "source": [
    "According to the data provided, online purchases are not entirely significant, but they aren't entirely insignificant\n",
    "either.  If 4% of total online sales come from holidays, or days near the holiday, then it would make sense to advertise\n",
    "during special days throughout the year to maximize the amount that a company can make from their consumers."
   ]
  },
  {
   "cell_type": "markdown",
   "id": "31936710",
   "metadata": {},
   "source": [
    "## Conclusion"
   ]
  },
  {
   "cell_type": "markdown",
   "id": "642f4c54",
   "metadata": {},
   "source": [
    "Based on the graphs and data recorded above, there are quite a few takeaways from this exploratory data analysis.  First, the assumption that weekends would have the most sales — instead of weekdays — is notable false.  If the weekends count for two days and weekdays count for five days, then the weekdays account for thirty-two more sales per week than the weekends.  Second, the days that people are ordering products online appears to be less focused than initially assumed.  With the graphs on product searches compared with the special days calculations, we can see that holidays do bring a bit more attention to products, but don't always reach the goal of a conversion.  Finally, since the dataset lacks information for three months of data, it may be difficult to surmise a conclusion regarding any particular month.  Moving forward, the month column may need to be stripped from the dataset along with other miscellaneous columns that don't provide information succintly. "
   ]
  },
  {
   "cell_type": "markdown",
   "id": "66068b8e",
   "metadata": {},
   "source": [
    "# Milestone 2: Data Preparation\n",
    "#### Joshua Greenert\n",
    "#### DSC550-T301 Data Mining\n",
    "#### 10/22/2022"
   ]
  },
  {
   "cell_type": "code",
   "execution_count": 6,
   "id": "d4bb498e",
   "metadata": {},
   "outputs": [],
   "source": [
    "# Round the numbers of product related duration to be 2 spots in decimals.\n",
    "df_consumer['ProductRelated_Duration'] = df_consumer['ProductRelated_Duration'].round(decimals = 2)"
   ]
  },
  {
   "cell_type": "markdown",
   "id": "611bfa7a",
   "metadata": {},
   "source": [
    "The product related duration column has data that could be useful to determine how much time the average user spends on a page before making a purchase.  This could assist is understanding more about the timing related to the overall sale for businesses, and how this may impact their servers when multiple users are browsing through."
   ]
  },
  {
   "cell_type": "code",
   "execution_count": 7,
   "id": "d2e0d78f",
   "metadata": {},
   "outputs": [],
   "source": [
    "# Get dummies for the months to use continous variables instead of catagorical.\n",
    "df_consumer_new = pd.get_dummies(df_consumer, columns = ['Month'])"
   ]
  },
  {
   "cell_type": "markdown",
   "id": "7b087436",
   "metadata": {},
   "source": [
    "The month is currently set up as a categorical variable and indicates what month the user visited during.  This can be updated to a dummy number to use in later machine learning to better isolate the month to which sales are best suited for.  Likewise, the month may give insight to business owners as to when to start the marketting campaigns, or paid marketting campaigns need to be ended.  In either case, this feature may prove critical to the overall objective of the EDA."
   ]
  },
  {
   "cell_type": "code",
   "execution_count": 8,
   "id": "961dc2d7",
   "metadata": {},
   "outputs": [],
   "source": [
    "# Get dummies for the VisitorType columns to use continous variables instead of catagorical.\n",
    "df_consumer_final = pd.get_dummies(df_consumer_new, columns = ['VisitorType'])"
   ]
  },
  {
   "cell_type": "markdown",
   "id": "21f91328",
   "metadata": {},
   "source": [
    "As the final item to update for the data preparation step, we need to convert the visitorType field to be a set of dummies for the future machine learning process.  In future steps, this will assist to determine if this feature is valuable or not when at the stage of setting up the feature selection.  Understanding, though, that this feature may not be valuable since it may not be relevant since some users tend to purchase products from websites for the first time, and never return."
   ]
  },
  {
   "cell_type": "code",
   "execution_count": 9,
   "id": "8767fa38",
   "metadata": {},
   "outputs": [],
   "source": [
    "# Remove the aministrative columns\n",
    "df_consumer_final = df_consumer_final.drop(['Administrative'],axis=1)\n",
    "df_consumer_final = df_consumer_final.drop(['Administrative_Duration'],axis=1)"
   ]
  },
  {
   "cell_type": "markdown",
   "id": "f50fcac3",
   "metadata": {},
   "source": [
    "The administrative and administrative duration columns aren't going to assist in understanding consumer actions, nor will they assist in understanding the target revenue.  These columns can be removed since admin user information isn't essential to future feature selection."
   ]
  },
  {
   "cell_type": "code",
   "execution_count": 11,
   "id": "6a8bdfc9",
   "metadata": {},
   "outputs": [
    {
     "data": {
      "text/plain": [
       "Index(['Informational', 'Informational_Duration', 'ProductRelated',\n",
       "       'ProductRelated_Duration', 'BounceRates', 'ExitRates', 'PageValues',\n",
       "       'SpecialDay', 'OperatingSystems', 'Browser', 'Region', 'TrafficType',\n",
       "       'Weekend', 'Revenue', 'Month_Aug', 'Month_Dec', 'Month_Feb',\n",
       "       'Month_Jul', 'Month_June', 'Month_Mar', 'Month_May', 'Month_Nov',\n",
       "       'Month_Oct', 'Month_Sep', 'VisitorType_New_Visitor',\n",
       "       'VisitorType_Other', 'VisitorType_Returning_Visitor'],\n",
       "      dtype='object')"
      ]
     },
     "execution_count": 11,
     "metadata": {},
     "output_type": "execute_result"
    }
   ],
   "source": [
    "# Display the prepared dataframe.\n",
    "df_consumer_final.head(5)"
   ]
  },
  {
   "cell_type": "markdown",
   "id": "ed81cdd3",
   "metadata": {},
   "source": [
    "# Milestone 3: Model Building and Evaluation\n",
    "#### Joshua Greenert\n",
    "#### DSC550-T301 Data Mining\n",
    "#### 11/1/2022"
   ]
  },
  {
   "cell_type": "markdown",
   "id": "08dc20c4",
   "metadata": {},
   "source": [
    "## Step 1: Split Train and Test Data"
   ]
  },
  {
   "cell_type": "code",
   "execution_count": 12,
   "id": "fc6d6afa",
   "metadata": {},
   "outputs": [],
   "source": [
    "# Split the data to train and test data, then set up the targets and features.\n",
    "from sklearn.model_selection import train_test_split\n",
    "\n",
    "train, test = train_test_split(df_consumer_final)\n",
    "\n",
    "# Set the target as revenue.\n",
    "target_test = test.Revenue\n",
    "features_test = test.drop(['Revenue'],axis=1).values\n",
    "\n",
    "# Set the ones for train set.\n",
    "target_train = train.Revenue\n",
    "features_train = train.drop(['Revenue'],axis=1).values"
   ]
  },
  {
   "cell_type": "markdown",
   "id": "08226b58",
   "metadata": {},
   "source": [
    "## Step 2a: Hyperparameter Tuning"
   ]
  },
  {
   "cell_type": "code",
   "execution_count": 18,
   "id": "0187ef22",
   "metadata": {},
   "outputs": [],
   "source": [
    "# Use hyperparameter tuning to attempt to find the best classifier to use.\n",
    "from sklearn.linear_model import LogisticRegression\n",
    "from sklearn.ensemble import RandomForestClassifier\n",
    "from sklearn.model_selection import GridSearchCV\n",
    "from sklearn.neighbors import KNeighborsClassifier\n",
    "from sklearn.pipeline import Pipeline\n",
    "from sklearn.preprocessing import MinMaxScaler\n",
    "\n",
    "# Set the k nearest neighbors and the pipe.\n",
    "knn = KNeighborsClassifier(n_neighbors = 5, n_jobs = -1)\n",
    "pipe = Pipeline([('scaler', MinMaxScaler()),('classifier', knn)])\n",
    "log_model = LogisticRegression(solver='lbfgs', max_iter=1000)\n",
    "\n",
    "# Create a search space.\n",
    "search_space = [{'classifier': [log_model],\n",
    "                \"classifier__penalty\": [ 'l2'],\n",
    "                \"classifier__C\": np.logspace(0, 4, 10)},\n",
    "               {\"classifier\": [RandomForestClassifier()],\n",
    "               \"classifier__n_estimators\": [10, 100, 1000],\n",
    "               \"classifier__max_features\": [1, 2, 3]}]\n",
    "\n",
    "# Create a grid search classifier.\n",
    "classifier = GridSearchCV(pipe, search_space, scoring='accuracy', cv = 5, verbose = 0)"
   ]
  },
  {
   "cell_type": "code",
   "execution_count": 19,
   "id": "5a264c61",
   "metadata": {},
   "outputs": [
    {
     "data": {
      "text/plain": [
       "RandomForestClassifier(max_features=3, n_estimators=1000)"
      ]
     },
     "execution_count": 19,
     "metadata": {},
     "output_type": "execute_result"
    }
   ],
   "source": [
    "# Fit the features and target to the classifier.\n",
    "best_model = classifier.fit(features_train, target_train)\n",
    "best_model.best_estimator_.get_params()[\"classifier\"]"
   ]
  },
  {
   "cell_type": "markdown",
   "id": "3d8b5f5e",
   "metadata": {},
   "source": [
    "## Step 2b: Hyperparameter Tuning Continued"
   ]
  },
  {
   "cell_type": "code",
   "execution_count": 20,
   "id": "7e37b293",
   "metadata": {},
   "outputs": [],
   "source": [
    "# The result of the last test determined that the random forest classifier was best estimator.  Need more tests...\n",
    "# Add in additional libraries.\n",
    "from sklearn.ensemble import GradientBoostingClassifier\n",
    "from sklearn.model_selection import RandomizedSearchCV\n",
    "from sklearn.tree import DecisionTreeClassifier\n",
    "from sklearn.naive_bayes import MultinomialNB\n",
    "from sklearn.svm import SVC\n",
    "\n",
    "# Initialze the estimators\n",
    "clf1 = RandomForestClassifier(random_state=42)\n",
    "clf2 = SVC(probability=True, random_state=42)\n",
    "clf4 = DecisionTreeClassifier(random_state=42)\n",
    "clf6 = MultinomialNB()\n",
    "clf7 = GradientBoostingClassifier(random_state=42)\n",
    "\n",
    "# Initiaze the hyperparameters for each dictionary\n",
    "param1 = {}\n",
    "param1['classifier__n_estimators'] = [10, 50, 100, 250]\n",
    "param1['classifier__max_depth'] = [5, 10, 20]\n",
    "param1['classifier__class_weight'] = [None, {0:1,1:5}, {0:1,1:10}, {0:1,1:25}]\n",
    "param1['classifier'] = [clf1]\n",
    "\n",
    "param2 = {}\n",
    "param2['classifier__C'] = [10**-2, 10**-1, 10**0, 10**1, 10**2]\n",
    "param2['classifier__class_weight'] = [None, {0:1,1:5}, {0:1,1:10}, {0:1,1:25}]\n",
    "param2['classifier'] = [clf2]\n",
    "\n",
    "param4 = {}\n",
    "param4['classifier__max_depth'] = [5,10,25,None]\n",
    "param4['classifier__min_samples_split'] = [2,5,10]\n",
    "param4['classifier__class_weight'] = [None, {0:1,1:5}, {0:1,1:10}, {0:1,1:25}]\n",
    "param4['classifier'] = [clf4]\n",
    "\n",
    "param6 = {}\n",
    "param6['classifier__alpha'] = [10**0, 10**1, 10**2]\n",
    "param6['classifier'] = [clf6]\n",
    "\n",
    "param7 = {}\n",
    "param7['classifier__n_estimators'] = [10, 50, 100, 250]\n",
    "param7['classifier__max_depth'] = [5, 10, 20]\n",
    "param7['classifier'] = [clf7]\n",
    "\n",
    "# Fit a new pipeline for the testing of other classifiers.\n",
    "pipeline = Pipeline([('classifier', clf1)])\n",
    "params = [param1, param2, param4, param6, param7]"
   ]
  },
  {
   "cell_type": "code",
   "execution_count": 21,
   "id": "70cd0fd2",
   "metadata": {},
   "outputs": [],
   "source": [
    "# Fit the classifiers into the grid search.\n",
    "grid_search_fit = GridSearchCV(pipeline, params, cv=3, n_jobs=-1, scoring='roc_auc').fit(features_train, target_train)"
   ]
  },
  {
   "cell_type": "code",
   "execution_count": 22,
   "id": "eda94c04",
   "metadata": {},
   "outputs": [
    {
     "data": {
      "text/plain": [
       "{'classifier': GradientBoostingClassifier(max_depth=5, n_estimators=50, random_state=42),\n",
       " 'classifier__max_depth': 5,\n",
       " 'classifier__n_estimators': 50}"
      ]
     },
     "execution_count": 22,
     "metadata": {},
     "output_type": "execute_result"
    }
   ],
   "source": [
    "# Show the best parameters.\n",
    "grid_search_fit.best_params_"
   ]
  },
  {
   "cell_type": "code",
   "execution_count": 23,
   "id": "f5ca2236",
   "metadata": {},
   "outputs": [
    {
     "data": {
      "text/plain": [
       "0.9276985902779611"
      ]
     },
     "execution_count": 23,
     "metadata": {},
     "output_type": "execute_result"
    }
   ],
   "source": [
    "# Show the best score.\n",
    "grid_search_fit.best_score_"
   ]
  },
  {
   "cell_type": "markdown",
   "id": "0a6833ee",
   "metadata": {},
   "source": [
    "## Step 3: Feature Selection"
   ]
  },
  {
   "cell_type": "code",
   "execution_count": 26,
   "id": "b897aec7",
   "metadata": {},
   "outputs": [
    {
     "name": "stdout",
     "output_type": "stream",
     "text": [
      "Original number of features: 26\n",
      "Reduced number of features: 3\n"
     ]
    }
   ],
   "source": [
    "# Use the chi squared to find the top 3 best features.\n",
    "from sklearn.feature_selection import SelectKBest\n",
    "from sklearn.feature_selection import chi2\n",
    "\n",
    "chi2_selector = SelectKBest(chi2, k = 3)\n",
    "features_kbest = chi2_selector.fit_transform(features_train, target_train)\n",
    "\n",
    "# Show the results.\n",
    "print(f\"Original number of features: {features_train.shape[1]}\")\n",
    "print(f\"Reduced number of features: {features_kbest.shape[1]}\")"
   ]
  },
  {
   "cell_type": "code",
   "execution_count": 27,
   "id": "41d74358",
   "metadata": {},
   "outputs": [
    {
     "name": "stdout",
     "output_type": "stream",
     "text": [
      "Index(['Informational_Duration', 'ProductRelated_Duration', 'PageValues'], dtype='object')\n"
     ]
    }
   ],
   "source": [
    "# Set the feature filter, set the feature names.\n",
    "cols = chi2_selector.get_support(indices = True)\n",
    "features_names = df_consumer_final.columns[cols]\n",
    "\n",
    "print(features_names)"
   ]
  },
  {
   "cell_type": "code",
   "execution_count": 30,
   "id": "53904e52",
   "metadata": {},
   "outputs": [
    {
     "name": "stdout",
     "output_type": "stream",
     "text": [
      "Accuracy Score: 0.9951335568292419\n",
      "[[7829    0]\n",
      " [  45 1373]]\n"
     ]
    }
   ],
   "source": [
    "# Create a decision tree to review the chi and create another model to test the training data.\n",
    "from sklearn.tree import DecisionTreeClassifier\n",
    "from sklearn import metrics\n",
    "from sklearn.metrics import accuracy_score\n",
    "\n",
    "# Create the classifier.\n",
    "decision_tree = DecisionTreeClassifier()\n",
    "\n",
    "# Fit a decision tree classifier on the training set.\n",
    "model_kbest = decision_tree.fit(features_kbest, target_train)\n",
    "\n",
    "# Report the accuracy and create a confusion matrix for the model prediction on the test set.\n",
    "predictions_kbest = model_kbest.predict(features_kbest)\n",
    "\n",
    "# Create the score from the predictions.\n",
    "score_kbest = accuracy_score(target_train,predictions_kbest)\n",
    "\n",
    "confusion_matrix_kbest = metrics.confusion_matrix(target_train, predictions_kbest)\n",
    "\n",
    "# Show the accuracy.\n",
    "print(f\"Accuracy Score: {score_kbest}\")\n",
    "print(confusion_matrix_kbest)"
   ]
  },
  {
   "cell_type": "code",
   "execution_count": 34,
   "id": "a32eab8f",
   "metadata": {},
   "outputs": [
    {
     "name": "stdout",
     "output_type": "stream",
     "text": [
      "Test data\n",
      "R2: 0.9604281543950698\n",
      "RMSE: 0.19892673426397534\n",
      "MAE: 0.03957184560493026\n"
     ]
    }
   ],
   "source": [
    "# Use selected model and confirm conclusion with test data.\n",
    "from sklearn.metrics import r2_score\n",
    "from sklearn.metrics import mean_squared_error \n",
    "\n",
    "# Create function for MAE\n",
    "def mae(y_true, predictions):\n",
    "    y_true, predictions = np.array(y_true), np.array(predictions)\n",
    "    return np.mean(np.abs(y_true - predictions))\n",
    "\n",
    "gradient_classifier = GradientBoostingClassifier(max_depth=5, n_estimators=50, random_state=42)\n",
    "model = gradient_classifier.fit(features_test, target_test)\n",
    "\n",
    "# Calculate the values for test data.\n",
    "target_probabilities = model.predict(features_test)\n",
    "\n",
    "# Get the results from the test data metrics\n",
    "print(\"Test data\")\n",
    "print(f\"R2: {gradient_classifier.score(features_test, target_test)}\")\n",
    "print(f\"RMSE: {mean_squared_error(target_test, target_probabilities, squared = False)}\")\n",
    "print(f\"MAE: {mae(target_test, target_probabilities)}\")"
   ]
  },
  {
   "cell_type": "code",
   "execution_count": 37,
   "id": "f12f3681",
   "metadata": {},
   "outputs": [
    {
     "name": "stdout",
     "output_type": "stream",
     "text": [
      "Test data\n",
      "R2: 0.9471294193966915\n",
      "RMSE: 0.22993603589543868\n",
      "MAE: 0.052870580603308466\n"
     ]
    }
   ],
   "source": [
    "# Repeat the chi selector again with the test data to determine if the numbers get more accurate.\n",
    "chi2_selector = SelectKBest(chi2, k = 3)\n",
    "features_kbest = chi2_selector.fit_transform(features_test, target_test)\n",
    "\n",
    "gradient_classifier = GradientBoostingClassifier(max_depth=5, n_estimators=50, random_state=42)\n",
    "model = gradient_classifier.fit(features_kbest, target_test)\n",
    "\n",
    "# Calculate the values for test data.\n",
    "target_probabilities = model.predict(features_kbest)\n",
    "\n",
    "# Get the results from the test data metrics\n",
    "print(\"Test data\")\n",
    "print(f\"R2: {gradient_classifier.score(features_kbest, target_test)}\")\n",
    "print(f\"RMSE: {mean_squared_error(target_test, target_probabilities, squared = False)}\")\n",
    "print(f\"MAE: {mae(target_test, target_probabilities)}\")"
   ]
  },
  {
   "cell_type": "markdown",
   "id": "3aa9d98c",
   "metadata": {},
   "source": [
    "## Conclusion"
   ]
  },
  {
   "cell_type": "markdown",
   "id": "2dfa240b",
   "metadata": {},
   "source": [
    "After running tests against the training data to determine the appropriate model, the initial winner was the random forest classifier; this made sense when comparing it with the logistic regression model.  Additional tests against this model with alternatives provided a new winner as the gradient boosting classifier. After analyzing the training data for feature selection, the top three (per chi-squared) were determined as 'Informational_Duration', 'ProductRelated_Duration', and 'PageValues'.  Using the test data with the selected model, the results confirm an R2 (Coefficient of Determination) value of 96.04, an RMSE (Root Mean Squared Error) of 19.89, and a MAE (Mean Absolute Error) of 0.03.  When reattempting this process with the reduced three features, the scores provided move further away from the target very slightly.  Therefore, it's likely that our first set of features provide minor insights into our dataset; whereas, the three features selected provide the most insight for testing the model."
   ]
  }
 ],
 "metadata": {
  "kernelspec": {
   "display_name": "Python 3 (ipykernel)",
   "language": "python",
   "name": "python3"
  },
  "language_info": {
   "codemirror_mode": {
    "name": "ipython",
    "version": 3
   },
   "file_extension": ".py",
   "mimetype": "text/x-python",
   "name": "python",
   "nbconvert_exporter": "python",
   "pygments_lexer": "ipython3",
   "version": "3.9.12"
  }
 },
 "nbformat": 4,
 "nbformat_minor": 5
}
