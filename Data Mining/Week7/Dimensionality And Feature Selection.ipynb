{
 "cells": [
  {
   "cell_type": "markdown",
   "id": "e0799c66",
   "metadata": {},
   "source": [
    "# Dimensionality and Feature Selection\n",
    "#### Joshua Greenert\n",
    "#### DSC550-T301 Data Mining\n",
    "#### 10/11/2022"
   ]
  },
  {
   "cell_type": "markdown",
   "id": "cae29e05",
   "metadata": {},
   "source": [
    "## Part 1"
   ]
  },
  {
   "cell_type": "code",
   "execution_count": 1,
   "id": "2255bf89",
   "metadata": {},
   "outputs": [
    {
     "data": {
      "text/html": [
       "<div>\n",
       "<style scoped>\n",
       "    .dataframe tbody tr th:only-of-type {\n",
       "        vertical-align: middle;\n",
       "    }\n",
       "\n",
       "    .dataframe tbody tr th {\n",
       "        vertical-align: top;\n",
       "    }\n",
       "\n",
       "    .dataframe thead th {\n",
       "        text-align: right;\n",
       "    }\n",
       "</style>\n",
       "<table border=\"1\" class=\"dataframe\">\n",
       "  <thead>\n",
       "    <tr style=\"text-align: right;\">\n",
       "      <th></th>\n",
       "      <th>Id</th>\n",
       "      <th>MSSubClass</th>\n",
       "      <th>MSZoning</th>\n",
       "      <th>LotFrontage</th>\n",
       "      <th>LotArea</th>\n",
       "      <th>Street</th>\n",
       "      <th>Alley</th>\n",
       "      <th>LotShape</th>\n",
       "      <th>LandContour</th>\n",
       "      <th>Utilities</th>\n",
       "      <th>...</th>\n",
       "      <th>PoolArea</th>\n",
       "      <th>PoolQC</th>\n",
       "      <th>Fence</th>\n",
       "      <th>MiscFeature</th>\n",
       "      <th>MiscVal</th>\n",
       "      <th>MoSold</th>\n",
       "      <th>YrSold</th>\n",
       "      <th>SaleType</th>\n",
       "      <th>SaleCondition</th>\n",
       "      <th>SalePrice</th>\n",
       "    </tr>\n",
       "  </thead>\n",
       "  <tbody>\n",
       "    <tr>\n",
       "      <th>0</th>\n",
       "      <td>1</td>\n",
       "      <td>60</td>\n",
       "      <td>RL</td>\n",
       "      <td>65.0</td>\n",
       "      <td>8450</td>\n",
       "      <td>Pave</td>\n",
       "      <td>NaN</td>\n",
       "      <td>Reg</td>\n",
       "      <td>Lvl</td>\n",
       "      <td>AllPub</td>\n",
       "      <td>...</td>\n",
       "      <td>0</td>\n",
       "      <td>NaN</td>\n",
       "      <td>NaN</td>\n",
       "      <td>NaN</td>\n",
       "      <td>0</td>\n",
       "      <td>2</td>\n",
       "      <td>2008</td>\n",
       "      <td>WD</td>\n",
       "      <td>Normal</td>\n",
       "      <td>208500</td>\n",
       "    </tr>\n",
       "    <tr>\n",
       "      <th>1</th>\n",
       "      <td>2</td>\n",
       "      <td>20</td>\n",
       "      <td>RL</td>\n",
       "      <td>80.0</td>\n",
       "      <td>9600</td>\n",
       "      <td>Pave</td>\n",
       "      <td>NaN</td>\n",
       "      <td>Reg</td>\n",
       "      <td>Lvl</td>\n",
       "      <td>AllPub</td>\n",
       "      <td>...</td>\n",
       "      <td>0</td>\n",
       "      <td>NaN</td>\n",
       "      <td>NaN</td>\n",
       "      <td>NaN</td>\n",
       "      <td>0</td>\n",
       "      <td>5</td>\n",
       "      <td>2007</td>\n",
       "      <td>WD</td>\n",
       "      <td>Normal</td>\n",
       "      <td>181500</td>\n",
       "    </tr>\n",
       "    <tr>\n",
       "      <th>2</th>\n",
       "      <td>3</td>\n",
       "      <td>60</td>\n",
       "      <td>RL</td>\n",
       "      <td>68.0</td>\n",
       "      <td>11250</td>\n",
       "      <td>Pave</td>\n",
       "      <td>NaN</td>\n",
       "      <td>IR1</td>\n",
       "      <td>Lvl</td>\n",
       "      <td>AllPub</td>\n",
       "      <td>...</td>\n",
       "      <td>0</td>\n",
       "      <td>NaN</td>\n",
       "      <td>NaN</td>\n",
       "      <td>NaN</td>\n",
       "      <td>0</td>\n",
       "      <td>9</td>\n",
       "      <td>2008</td>\n",
       "      <td>WD</td>\n",
       "      <td>Normal</td>\n",
       "      <td>223500</td>\n",
       "    </tr>\n",
       "    <tr>\n",
       "      <th>3</th>\n",
       "      <td>4</td>\n",
       "      <td>70</td>\n",
       "      <td>RL</td>\n",
       "      <td>60.0</td>\n",
       "      <td>9550</td>\n",
       "      <td>Pave</td>\n",
       "      <td>NaN</td>\n",
       "      <td>IR1</td>\n",
       "      <td>Lvl</td>\n",
       "      <td>AllPub</td>\n",
       "      <td>...</td>\n",
       "      <td>0</td>\n",
       "      <td>NaN</td>\n",
       "      <td>NaN</td>\n",
       "      <td>NaN</td>\n",
       "      <td>0</td>\n",
       "      <td>2</td>\n",
       "      <td>2006</td>\n",
       "      <td>WD</td>\n",
       "      <td>Abnorml</td>\n",
       "      <td>140000</td>\n",
       "    </tr>\n",
       "    <tr>\n",
       "      <th>4</th>\n",
       "      <td>5</td>\n",
       "      <td>60</td>\n",
       "      <td>RL</td>\n",
       "      <td>84.0</td>\n",
       "      <td>14260</td>\n",
       "      <td>Pave</td>\n",
       "      <td>NaN</td>\n",
       "      <td>IR1</td>\n",
       "      <td>Lvl</td>\n",
       "      <td>AllPub</td>\n",
       "      <td>...</td>\n",
       "      <td>0</td>\n",
       "      <td>NaN</td>\n",
       "      <td>NaN</td>\n",
       "      <td>NaN</td>\n",
       "      <td>0</td>\n",
       "      <td>12</td>\n",
       "      <td>2008</td>\n",
       "      <td>WD</td>\n",
       "      <td>Normal</td>\n",
       "      <td>250000</td>\n",
       "    </tr>\n",
       "  </tbody>\n",
       "</table>\n",
       "<p>5 rows × 81 columns</p>\n",
       "</div>"
      ],
      "text/plain": [
       "   Id  MSSubClass MSZoning  LotFrontage  LotArea Street Alley LotShape  \\\n",
       "0   1          60       RL         65.0     8450   Pave   NaN      Reg   \n",
       "1   2          20       RL         80.0     9600   Pave   NaN      Reg   \n",
       "2   3          60       RL         68.0    11250   Pave   NaN      IR1   \n",
       "3   4          70       RL         60.0     9550   Pave   NaN      IR1   \n",
       "4   5          60       RL         84.0    14260   Pave   NaN      IR1   \n",
       "\n",
       "  LandContour Utilities  ... PoolArea PoolQC Fence MiscFeature MiscVal MoSold  \\\n",
       "0         Lvl    AllPub  ...        0    NaN   NaN         NaN       0      2   \n",
       "1         Lvl    AllPub  ...        0    NaN   NaN         NaN       0      5   \n",
       "2         Lvl    AllPub  ...        0    NaN   NaN         NaN       0      9   \n",
       "3         Lvl    AllPub  ...        0    NaN   NaN         NaN       0      2   \n",
       "4         Lvl    AllPub  ...        0    NaN   NaN         NaN       0     12   \n",
       "\n",
       "  YrSold  SaleType  SaleCondition  SalePrice  \n",
       "0   2008        WD         Normal     208500  \n",
       "1   2007        WD         Normal     181500  \n",
       "2   2008        WD         Normal     223500  \n",
       "3   2006        WD        Abnorml     140000  \n",
       "4   2008        WD         Normal     250000  \n",
       "\n",
       "[5 rows x 81 columns]"
      ]
     },
     "execution_count": 1,
     "metadata": {},
     "output_type": "execute_result"
    }
   ],
   "source": [
    "#Import the housing data as a data frame and ensure that the data is loaded properly.\n",
    "import pandas as pd\n",
    "import numpy as np\n",
    "\n",
    "df_housing = pd.read_csv('train.csv')\n",
    "df_housing.head(5)"
   ]
  },
  {
   "cell_type": "code",
   "execution_count": 2,
   "id": "9be43c6b",
   "metadata": {},
   "outputs": [
    {
     "data": {
      "text/plain": [
       "(1460, 75)"
      ]
     },
     "execution_count": 2,
     "metadata": {},
     "output_type": "execute_result"
    }
   ],
   "source": [
    "# Drop the \"Id\" column and any features that are missing more than 40% of their values.\n",
    "df_housing = df_housing.drop('Id', axis = 1)\n",
    "\n",
    "# Create the percent of all features and set it to a dataframe to find which other columns to drop.\n",
    "percent_missing = df_housing.isnull().sum() * 100 / len(df_housing)\n",
    "missing_value_df = pd.DataFrame({'column_name': df_housing.columns,\n",
    "                                 'percent_missing': percent_missing})\n",
    "# Sort the values.\n",
    "missing_value_df.sort_values('percent_missing', inplace=True, ascending=False)\n",
    "\n",
    "# Remove the PoolQC, MiscFeature, Alley, Fence, and FireplaceQu columns\n",
    "df_housing = df_housing.drop(['PoolQC', 'MiscFeature', \n",
    "                'Alley', 'Fence','FireplaceQu'], axis = 1)\n",
    "df_housing.shape"
   ]
  },
  {
   "cell_type": "code",
   "execution_count": 3,
   "id": "25830d33",
   "metadata": {},
   "outputs": [],
   "source": [
    "# For numerical columns, fill in any missing data with the median value.\n",
    "# Numeric columns left with missing values: LotFrontage, GarageYrBlt, MasVnrArea\n",
    "df_housing['LotFrontage'] = df_housing['LotFrontage'].fillna(df_housing['LotFrontage'].median())\n",
    "df_housing['GarageYrBlt'] = df_housing['GarageYrBlt'].fillna(df_housing['GarageYrBlt'].median())\n",
    "df_housing['MasVnrArea'] = df_housing['MasVnrArea'].fillna(df_housing['MasVnrArea'].median())"
   ]
  },
  {
   "cell_type": "code",
   "execution_count": 4,
   "id": "0cbfaa27",
   "metadata": {},
   "outputs": [],
   "source": [
    "# For categorical columns, fill in any missing data with the most common value (mode).\n",
    "# Categorical columns left with missing values: GarageType, GarageCond, GarageFinish, GarageQual, BsmtFinType2, BsmtExposure,\n",
    "#  BsmtFinType1, BsmtCond, BsmtQual, MasVnrType, Electrical\n",
    "categorical_columns = df_housing.select_dtypes( include ='object').columns\n",
    "\n",
    "df_housing[categorical_columns] = df_housing[categorical_columns].apply(lambda x: x.fillna(x.value_counts().index[0]))"
   ]
  },
  {
   "cell_type": "code",
   "execution_count": 5,
   "id": "ddbaea93",
   "metadata": {},
   "outputs": [],
   "source": [
    "# Convert the categorical columns to dummy variables.\n",
    "# Set the new columns to the dataframe\n",
    "df_housing_new = pd.get_dummies(df_housing, columns = categorical_columns)"
   ]
  },
  {
   "cell_type": "code",
   "execution_count": 6,
   "id": "1a2672a3",
   "metadata": {},
   "outputs": [],
   "source": [
    "# Split the data into a training and test set, where the SalePrice column is the target.\n",
    "from sklearn.model_selection import train_test_split\n",
    "\n",
    "train, test = train_test_split(df_housing_new)"
   ]
  },
  {
   "cell_type": "code",
   "execution_count": 7,
   "id": "8a12b3c5",
   "metadata": {},
   "outputs": [
    {
     "name": "stdout",
     "output_type": "stream",
     "text": [
      "R2: 0.9681007533979658\n",
      "RMSE: 13000.965333800068\n"
     ]
    }
   ],
   "source": [
    "# Run a linear regression and report the R2-value and RMSE on the test set.\n",
    "from sklearn.linear_model import LinearRegression\n",
    "from sklearn.metrics import r2_score\n",
    "from sklearn.metrics import mean_squared_error \n",
    "\n",
    "# Set the target and the features.\n",
    "target = test.SalePrice\n",
    "features = test.drop(['SalePrice'],axis=1).values\n",
    "\n",
    "# Set the ones for train set.\n",
    "target_train = test.SalePrice\n",
    "features_train = test.drop(['SalePrice'],axis=1).values\n",
    "\n",
    "# Create the linear regression model\n",
    "regression = LinearRegression()\n",
    "\n",
    "# Fit the linear Regression\n",
    "model = regression.fit(features, target)\n",
    "\n",
    "# Calculate the values for train data.\n",
    "target_probabilities = model.predict(features)\n",
    "\n",
    "# Print the R2 and RMSE\n",
    "print(f\"R2: {regression.score(features, target)}\")\n",
    "print(f\"RMSE: {mean_squared_error(target, target_probabilities, squared = False)}\")"
   ]
  },
  {
   "cell_type": "code",
   "execution_count": 8,
   "id": "baf751fd",
   "metadata": {},
   "outputs": [
    {
     "name": "stdout",
     "output_type": "stream",
     "text": [
      "Original number of features: 270\n",
      "Reduced number of features: 1\n"
     ]
    }
   ],
   "source": [
    "# Fit and transform the training features with a PCA so that 90% of the variance is retained.\n",
    "from sklearn.decomposition import PCA\n",
    "\n",
    "# Create the PCA\n",
    "pca = PCA(n_components = 0.90, whiten = True)\n",
    "\n",
    "# conduct PCA\n",
    "features_pca = pca.fit_transform(features)\n",
    "\n",
    "# Show the results.\n",
    "print(f\"Original number of features: {features.shape[1]}\")\n",
    "print(f\"Reduced number of features: {features_pca.shape[1]}\")"
   ]
  },
  {
   "cell_type": "code",
   "execution_count": 9,
   "id": "aa71ac9e",
   "metadata": {},
   "outputs": [],
   "source": [
    "# Transform but DO NOT fit the test features with the same PCA.\n",
    "new_features_pca = pca.transform(features)"
   ]
  },
  {
   "cell_type": "code",
   "execution_count": 10,
   "id": "e8451a95",
   "metadata": {},
   "outputs": [
    {
     "name": "stdout",
     "output_type": "stream",
     "text": [
      "R2: 0.07207060431975632\n",
      "RMSE: 70120.15278552662\n"
     ]
    }
   ],
   "source": [
    "# Repeat step 7 with your PCA transformed data.\n",
    "# Fit the linear Regression\n",
    "model = regression.fit(features_pca, target)\n",
    "\n",
    "# Calculate the values for train data.\n",
    "target_probabilities = model.predict(features_pca)\n",
    "\n",
    "# Print the R2 and RMSE\n",
    "print(f\"R2: {regression.score(features_pca, target)}\")\n",
    "print(f\"RMSE: {mean_squared_error(target, target_probabilities, squared = False)}\")"
   ]
  },
  {
   "cell_type": "code",
   "execution_count": 11,
   "id": "c58d3403",
   "metadata": {},
   "outputs": [],
   "source": [
    "# Take your original training features (from step 6) and apply a min-max scaler to them.\n",
    "from sklearn.preprocessing import MinMaxScaler\n",
    "\n",
    "# Create a min max scaler.\n",
    "scaler = MinMaxScaler()\n",
    "\n",
    "# Transform the data.\n",
    "scaled = scaler.fit_transform(features_train)"
   ]
  },
  {
   "cell_type": "code",
   "execution_count": 12,
   "id": "1d5ffeb6",
   "metadata": {},
   "outputs": [
    {
     "data": {
      "text/plain": [
       "array([1.44545130e+03, 5.79551240e+02, 6.09127247e+07, 1.69543254e+00,\n",
       "       1.18952149e+00, 7.82730268e+02, 4.22851597e+02, 3.51536460e+04,\n",
       "       2.51940951e+05, 3.88597711e+04, 2.01180999e+05, 2.37191220e+05,\n",
       "       1.89648597e+05, 1.90468012e+05, 8.70005359e+02, 3.29882233e+05,\n",
       "       2.81073372e-01, 3.68849690e-02, 3.06804278e-01, 2.44353537e-01,\n",
       "       5.81002064e-01, 3.17958341e-02, 2.33900544e+00, 4.17264027e-01,\n",
       "       5.34817594e+02, 5.05385626e-01, 4.05650813e+04, 1.40719126e+04,\n",
       "       4.63926301e+03, 3.62321078e+03, 1.18481609e+03, 3.62121881e+03,\n",
       "       4.85497094e+03, 3.25519985e+04, 7.21591293e+00, 1.84930756e+00,\n",
       "       2.73221993e-03, 3.43479077e-02, 8.15162319e-03, 1.60000000e-01,\n",
       "       1.29885532e-01, 5.44942766e-03, 5.44942766e-03, 2.30091950e-01,\n",
       "       2.92287484e-02, 5.44942766e-03, 2.38874085e-01, 3.94070182e-02,\n",
       "       2.92287484e-02, 2.66466504e-02, 8.89022331e-02, 0.00000000e+00,\n",
       "       0.00000000e+00, 1.46368925e-01, 5.66410208e-02, 3.94070182e-02,\n",
       "       0.00000000e+00, 2.01358604e-01, 4.44060799e-02, 3.43479077e-02,\n",
       "       1.08388065e-02, 1.08388065e-02, 2.73221993e-03, 2.73221993e-03,\n",
       "       4.68830925e-02, 2.14374179e-02, 1.03929443e-01, 2.92287484e-02,\n",
       "       5.66410208e-02, 4.68830925e-02, 2.40495403e-02, 1.61681366e-02,\n",
       "       4.68830925e-02, 1.31777069e-01, 1.08388065e-02, 4.93450929e-02,\n",
       "       3.43479077e-02, 3.43479077e-02, 5.42240570e-02, 1.08388065e-02,\n",
       "       5.66410208e-02, 3.68849690e-02, 4.93450929e-02, 1.35109777e-02,\n",
       "       3.43479077e-02, 5.44942766e-03, 1.35109777e-02, 4.68830925e-02,\n",
       "       8.89022331e-02, 2.73221993e-03, 1.08388065e-02, 5.44942766e-03,\n",
       "       1.08388065e-02, 0.00000000e+00, 5.44942766e-03, 0.00000000e+00,\n",
       "       2.73221993e-03, 1.08388065e-02, 0.00000000e+00, 2.73221993e-03,\n",
       "       0.00000000e+00, 0.00000000e+00, 5.44942766e-03, 1.20202665e-01,\n",
       "       8.15162319e-03, 2.92287484e-02, 3.17958341e-02, 6.38018390e-02,\n",
       "       9.10940139e-02, 1.35109777e-02, 2.49983111e-01, 0.00000000e+00,\n",
       "       2.73221993e-03, 2.11626947e-01, 2.66466504e-02, 5.17920811e-02,\n",
       "       1.08388065e-02, 1.66455245e-01, 8.15162319e-03, 1.51593169e-01,\n",
       "       2.73221993e-03, 2.73221993e-03, 2.73221993e-03, 2.92287484e-02,\n",
       "       0.00000000e+00, 2.73221993e-03, 2.73221993e-03, 8.15162319e-03,\n",
       "       8.15162319e-03, 5.44942766e-03, 1.08388065e-02, 0.00000000e+00,\n",
       "       0.00000000e+00, 3.94070182e-02, 0.00000000e+00, 3.94070182e-02,\n",
       "       1.26057422e-01, 0.00000000e+00, 1.22169263e-01, 8.22368174e-02,\n",
       "       2.73221993e-03, 1.88102834e-02, 2.21610058e-01, 1.35515106e-01,\n",
       "       1.08388065e-02, 8.15162319e-03, 0.00000000e+00, 5.44942766e-03,\n",
       "       2.14374179e-02, 0.00000000e+00, 3.94070182e-02, 1.10144492e-01,\n",
       "       8.15162319e-03, 1.24120848e-01, 0.00000000e+00, 1.10144492e-01,\n",
       "       2.73221993e-03, 2.14374179e-02, 2.20679302e-01, 1.22169263e-01,\n",
       "       2.14374179e-02, 8.15162319e-03, 2.06072434e-01, 2.38288609e-01,\n",
       "       8.44736348e-02, 2.92287484e-02, 8.15162319e-03, 2.23426534e-01,\n",
       "       2.34460499e-01, 2.73221993e-03, 1.88102834e-02, 1.12186151e-01,\n",
       "       0.00000000e+00, 1.27978983e-01, 7.31394258e-02, 2.46530306e-01,\n",
       "       2.48632014e-01, 8.15162319e-03, 2.73221993e-03, 5.44942766e-03,\n",
       "       7.31394258e-02, 1.35109777e-02, 2.47956465e-01, 2.47701257e-01,\n",
       "       2.92287484e-02, 6.85006568e-02, 0.00000000e+00, 9.32707825e-02,\n",
       "       1.41009570e-01, 8.66954400e-02, 6.38018390e-02, 2.22525802e-01,\n",
       "       1.46368925e-01, 7.31394258e-02, 2.04916495e-01, 7.54362920e-02,\n",
       "       8.89022331e-02, 1.98911616e-01, 1.61681366e-02, 2.92287484e-02,\n",
       "       8.15162319e-03, 4.44060799e-02, 2.40495403e-02, 1.10144492e-01,\n",
       "       0.00000000e+00, 1.88102834e-02, 8.15162319e-03, 8.15162319e-03,\n",
       "       0.00000000e+00, 2.73221993e-03, 2.49007318e-01, 4.68830925e-02,\n",
       "       1.37361606e-01, 2.73221993e-03, 2.15800338e-01, 4.44060799e-02,\n",
       "       4.44060799e-02, 5.90429724e-02, 2.66466504e-02, 0.00000000e+00,\n",
       "       0.00000000e+00, 8.22368174e-02, 5.66410208e-02, 2.14374179e-02,\n",
       "       2.43017452e-01, 2.49998123e-01, 1.35109777e-02, 0.00000000e+00,\n",
       "       1.35109777e-02, 1.61681366e-02, 8.15162319e-03, 0.00000000e+00,\n",
       "       4.93450929e-02, 2.73221993e-03, 2.14779508e-01, 5.44942766e-03,\n",
       "       5.17920811e-02, 2.73221993e-03, 1.85775943e-01, 2.03745543e-01,\n",
       "       1.98911616e-01, 2.46530306e-01, 0.00000000e+00, 2.66466504e-02,\n",
       "       1.08388065e-02, 0.00000000e+00, 3.68849690e-02, 0.00000000e+00,\n",
       "       1.88102834e-02, 2.73221993e-03, 2.73221993e-03, 2.40495403e-02,\n",
       "       4.19140552e-02, 3.43479077e-02, 7.31394258e-02, 2.14374179e-02,\n",
       "       2.73221993e-03, 2.73221993e-03, 8.15162319e-03, 2.73221993e-03,\n",
       "       2.73221993e-03, 6.85006568e-02, 2.73221993e-03, 1.03929443e-01,\n",
       "       5.42240570e-02, 2.73221993e-03, 8.15162319e-03, 1.08388065e-02,\n",
       "       1.31777069e-01, 7.08275474e-02])"
      ]
     },
     "execution_count": 12,
     "metadata": {},
     "output_type": "execute_result"
    }
   ],
   "source": [
    "# Find the min-max scaled features in your training set that have a variance above 0.1 \n",
    "from sklearn.feature_selection import VarianceThreshold\n",
    "\n",
    "# Create a threshold of .1\n",
    "thresholder = VarianceThreshold(threshold = .1)\n",
    "\n",
    "# Create a high feature variance matrix.\n",
    "features_high_variance = thresholder.fit_transform(scaled)\n",
    "\n",
    "thresholder.fit(features_train).variances_"
   ]
  },
  {
   "cell_type": "code",
   "execution_count": 14,
   "id": "9bcd98a6",
   "metadata": {},
   "outputs": [],
   "source": [
    "# Transform but DO NOT fit the test features with the same steps applied in steps 11 and 12.\n",
    "new_features_pca = pca.transform(features)\n",
    "\n",
    "# The direction for this one is a bit ambiguous..."
   ]
  },
  {
   "cell_type": "code",
   "execution_count": 17,
   "id": "ac963d2e",
   "metadata": {},
   "outputs": [
    {
     "name": "stdout",
     "output_type": "stream",
     "text": [
      "R2: 0.6580492102255844\n",
      "RMSE: 42566.42656369853\n"
     ]
    }
   ],
   "source": [
    "# Repeat step 7 with the high variance data.\n",
    "# Fit the linear Regression\n",
    "model = regression.fit(features_high_variance, target)\n",
    "\n",
    "# Calculate the values for train data.\n",
    "target_probabilities = model.predict(features_high_variance)\n",
    "\n",
    "# Print the R2 and RMSE\n",
    "print(f\"R2: {regression.score(features_high_variance, target)}\")\n",
    "print(f\"RMSE: {mean_squared_error(target, target_probabilities, squared = False)}\")"
   ]
  },
  {
   "cell_type": "markdown",
   "id": "354b1e3c",
   "metadata": {},
   "source": [
    "When using the model for feature selection, we obtain a reduced amount of features that bring us closer to the end goal of predicting the target.  However, the R2 values are insignificant and the RMSE are extremely high which indicates that they too are also not statistically significant.  When we use the high variance, we can get a closer prediction with the R2 values which  accounts for 65% of the variance."
   ]
  },
  {
   "cell_type": "markdown",
   "id": "8e86d819",
   "metadata": {},
   "source": [
    "## Part 2"
   ]
  },
  {
   "cell_type": "code",
   "execution_count": 85,
   "id": "6c1d08f3",
   "metadata": {},
   "outputs": [
    {
     "data": {
      "text/html": [
       "<div>\n",
       "<style scoped>\n",
       "    .dataframe tbody tr th:only-of-type {\n",
       "        vertical-align: middle;\n",
       "    }\n",
       "\n",
       "    .dataframe tbody tr th {\n",
       "        vertical-align: top;\n",
       "    }\n",
       "\n",
       "    .dataframe thead th {\n",
       "        text-align: right;\n",
       "    }\n",
       "</style>\n",
       "<table border=\"1\" class=\"dataframe\">\n",
       "  <thead>\n",
       "    <tr style=\"text-align: right;\">\n",
       "      <th></th>\n",
       "      <th>class</th>\n",
       "      <th>cap-shape</th>\n",
       "      <th>cap-surface</th>\n",
       "      <th>cap-color</th>\n",
       "      <th>bruises</th>\n",
       "      <th>odor</th>\n",
       "      <th>gill-attachment</th>\n",
       "      <th>gill-spacing</th>\n",
       "      <th>gill-size</th>\n",
       "      <th>gill-color</th>\n",
       "      <th>...</th>\n",
       "      <th>stalk-surface-below-ring</th>\n",
       "      <th>stalk-color-above-ring</th>\n",
       "      <th>stalk-color-below-ring</th>\n",
       "      <th>veil-type</th>\n",
       "      <th>veil-color</th>\n",
       "      <th>ring-number</th>\n",
       "      <th>ring-type</th>\n",
       "      <th>spore-print-color</th>\n",
       "      <th>population</th>\n",
       "      <th>habitat</th>\n",
       "    </tr>\n",
       "  </thead>\n",
       "  <tbody>\n",
       "    <tr>\n",
       "      <th>0</th>\n",
       "      <td>p</td>\n",
       "      <td>x</td>\n",
       "      <td>s</td>\n",
       "      <td>n</td>\n",
       "      <td>t</td>\n",
       "      <td>p</td>\n",
       "      <td>f</td>\n",
       "      <td>c</td>\n",
       "      <td>n</td>\n",
       "      <td>k</td>\n",
       "      <td>...</td>\n",
       "      <td>s</td>\n",
       "      <td>w</td>\n",
       "      <td>w</td>\n",
       "      <td>p</td>\n",
       "      <td>w</td>\n",
       "      <td>o</td>\n",
       "      <td>p</td>\n",
       "      <td>k</td>\n",
       "      <td>s</td>\n",
       "      <td>u</td>\n",
       "    </tr>\n",
       "    <tr>\n",
       "      <th>1</th>\n",
       "      <td>e</td>\n",
       "      <td>x</td>\n",
       "      <td>s</td>\n",
       "      <td>y</td>\n",
       "      <td>t</td>\n",
       "      <td>a</td>\n",
       "      <td>f</td>\n",
       "      <td>c</td>\n",
       "      <td>b</td>\n",
       "      <td>k</td>\n",
       "      <td>...</td>\n",
       "      <td>s</td>\n",
       "      <td>w</td>\n",
       "      <td>w</td>\n",
       "      <td>p</td>\n",
       "      <td>w</td>\n",
       "      <td>o</td>\n",
       "      <td>p</td>\n",
       "      <td>n</td>\n",
       "      <td>n</td>\n",
       "      <td>g</td>\n",
       "    </tr>\n",
       "    <tr>\n",
       "      <th>2</th>\n",
       "      <td>e</td>\n",
       "      <td>b</td>\n",
       "      <td>s</td>\n",
       "      <td>w</td>\n",
       "      <td>t</td>\n",
       "      <td>l</td>\n",
       "      <td>f</td>\n",
       "      <td>c</td>\n",
       "      <td>b</td>\n",
       "      <td>n</td>\n",
       "      <td>...</td>\n",
       "      <td>s</td>\n",
       "      <td>w</td>\n",
       "      <td>w</td>\n",
       "      <td>p</td>\n",
       "      <td>w</td>\n",
       "      <td>o</td>\n",
       "      <td>p</td>\n",
       "      <td>n</td>\n",
       "      <td>n</td>\n",
       "      <td>m</td>\n",
       "    </tr>\n",
       "    <tr>\n",
       "      <th>3</th>\n",
       "      <td>p</td>\n",
       "      <td>x</td>\n",
       "      <td>y</td>\n",
       "      <td>w</td>\n",
       "      <td>t</td>\n",
       "      <td>p</td>\n",
       "      <td>f</td>\n",
       "      <td>c</td>\n",
       "      <td>n</td>\n",
       "      <td>n</td>\n",
       "      <td>...</td>\n",
       "      <td>s</td>\n",
       "      <td>w</td>\n",
       "      <td>w</td>\n",
       "      <td>p</td>\n",
       "      <td>w</td>\n",
       "      <td>o</td>\n",
       "      <td>p</td>\n",
       "      <td>k</td>\n",
       "      <td>s</td>\n",
       "      <td>u</td>\n",
       "    </tr>\n",
       "    <tr>\n",
       "      <th>4</th>\n",
       "      <td>e</td>\n",
       "      <td>x</td>\n",
       "      <td>s</td>\n",
       "      <td>g</td>\n",
       "      <td>f</td>\n",
       "      <td>n</td>\n",
       "      <td>f</td>\n",
       "      <td>w</td>\n",
       "      <td>b</td>\n",
       "      <td>k</td>\n",
       "      <td>...</td>\n",
       "      <td>s</td>\n",
       "      <td>w</td>\n",
       "      <td>w</td>\n",
       "      <td>p</td>\n",
       "      <td>w</td>\n",
       "      <td>o</td>\n",
       "      <td>e</td>\n",
       "      <td>n</td>\n",
       "      <td>a</td>\n",
       "      <td>g</td>\n",
       "    </tr>\n",
       "  </tbody>\n",
       "</table>\n",
       "<p>5 rows × 23 columns</p>\n",
       "</div>"
      ],
      "text/plain": [
       "  class cap-shape cap-surface cap-color bruises odor gill-attachment  \\\n",
       "0     p         x           s         n       t    p               f   \n",
       "1     e         x           s         y       t    a               f   \n",
       "2     e         b           s         w       t    l               f   \n",
       "3     p         x           y         w       t    p               f   \n",
       "4     e         x           s         g       f    n               f   \n",
       "\n",
       "  gill-spacing gill-size gill-color  ... stalk-surface-below-ring  \\\n",
       "0            c         n          k  ...                        s   \n",
       "1            c         b          k  ...                        s   \n",
       "2            c         b          n  ...                        s   \n",
       "3            c         n          n  ...                        s   \n",
       "4            w         b          k  ...                        s   \n",
       "\n",
       "  stalk-color-above-ring stalk-color-below-ring veil-type veil-color  \\\n",
       "0                      w                      w         p          w   \n",
       "1                      w                      w         p          w   \n",
       "2                      w                      w         p          w   \n",
       "3                      w                      w         p          w   \n",
       "4                      w                      w         p          w   \n",
       "\n",
       "  ring-number ring-type spore-print-color population habitat  \n",
       "0           o         p                 k          s       u  \n",
       "1           o         p                 n          n       g  \n",
       "2           o         p                 n          n       m  \n",
       "3           o         p                 k          s       u  \n",
       "4           o         e                 n          a       g  \n",
       "\n",
       "[5 rows x 23 columns]"
      ]
     },
     "execution_count": 85,
     "metadata": {},
     "output_type": "execute_result"
    }
   ],
   "source": [
    "# Import the data as a data frame and ensure it is loaded correctly.\n",
    "df_mushrooms = pd.read_csv('mushrooms.csv')\n",
    "df_mushrooms.head(5)"
   ]
  },
  {
   "cell_type": "code",
   "execution_count": 86,
   "id": "2bc9deb5",
   "metadata": {},
   "outputs": [],
   "source": [
    "# Convert the categorical features (all of them) to dummy variables.\n",
    "categorical_columns = df_mushrooms.select_dtypes( include ='object').columns\n",
    "df_mushrooms_new = pd.get_dummies(df_mushrooms, columns = categorical_columns)"
   ]
  },
  {
   "cell_type": "code",
   "execution_count": 87,
   "id": "74b1a46c",
   "metadata": {},
   "outputs": [],
   "source": [
    "# Split the data into a training and test set.\n",
    "train, test = train_test_split(df_mushrooms_new)"
   ]
  },
  {
   "cell_type": "code",
   "execution_count": 88,
   "id": "6b1779cb",
   "metadata": {},
   "outputs": [],
   "source": [
    "# Fit a decision tree classifier on the training set.\n",
    "from sklearn.tree import DecisionTreeClassifier\n",
    "\n",
    "# Create the classifier.\n",
    "decision_tree = DecisionTreeClassifier()\n",
    "\n",
    "target = train['class_e']\n",
    "features = train.drop(['class_e'],axis=1).values\n",
    "\n",
    "# Create the same values for the test set to use later.\n",
    "target_test = test['class_e']\n",
    "features_test = test.drop(['class_e'],axis=1).values\n",
    "\n",
    "# Create the model from the features and target.\n",
    "model = decision_tree.fit(features, target)\n",
    "\n",
    "# Create a model for the test set as well.\n",
    "model_test = decision_tree.fit(features_test, target_test)"
   ]
  },
  {
   "cell_type": "code",
   "execution_count": 89,
   "id": "8fdc695c",
   "metadata": {},
   "outputs": [
    {
     "name": "stdout",
     "output_type": "stream",
     "text": [
      "Accuracy Score: 1.0\n"
     ]
    }
   ],
   "source": [
    "# Report the accuracy and create a confusion matrix for the model prediction on the test set.\n",
    "from sklearn import metrics\n",
    "from sklearn.metrics import accuracy_score\n",
    "\n",
    "# Create the predictions from the model.\n",
    "predictions_test = model_test.predict(features_test)\n",
    "\n",
    "# Create the score from the predictions.\n",
    "score_test = accuracy_score(target_test,predictions_test)\n",
    "\n",
    "confusion_matrix = metrics.confusion_matrix(target_test, predictions_test)\n",
    "\n",
    "# Show the accuracy.\n",
    "print(f\"Accuracy Score: {score_test}\")"
   ]
  },
  {
   "cell_type": "code",
   "execution_count": 90,
   "id": "5ed8392b",
   "metadata": {},
   "outputs": [
    {
     "data": {
      "image/png": "[encoded data removed]",
      "text/plain": [
       "<Figure size 1800x1440 with 1 Axes>"
      ]
     },
     "metadata": {
      "needs_background": "light"
     },
     "output_type": "display_data"
    }
   ],
   "source": [
    "# Create a visualization of the decision tree.\n",
    "from sklearn import tree\n",
    "from matplotlib import pyplot as plt\n",
    "\n",
    "fig = plt.figure(figsize=(25,20))\n",
    "_ = tree.plot_tree(decision_tree,\n",
    "                   filled=True)"
   ]
  },
  {
   "cell_type": "code",
   "execution_count": 91,
   "id": "1a35cf57",
   "metadata": {},
   "outputs": [
    {
     "name": "stdout",
     "output_type": "stream",
     "text": [
      "Original number of features: 118\n",
      "Reduced number of features: 5\n"
     ]
    }
   ],
   "source": [
    "# Use a χ2-statistic selector to pick the five best features for this data (chi2)\n",
    "from sklearn.feature_selection import SelectKBest\n",
    "from sklearn.feature_selection import chi2\n",
    "\n",
    "# Select 5 features with the highest chi-squared statistics.\n",
    "chi2_selector = SelectKBest(chi2, k = 5)\n",
    "features_kbest = chi2_selector.fit_transform(features, target)\n",
    "\n",
    "# Show the results.\n",
    "print(f\"Original number of features: {features.shape[1]}\")\n",
    "print(f\"Reduced number of features: {features_kbest.shape[1]}\")"
   ]
  },
  {
   "cell_type": "code",
   "execution_count": 92,
   "id": "2aa3ce7c",
   "metadata": {},
   "outputs": [
    {
     "name": "stdout",
     "output_type": "stream",
     "text": [
      "Index(['class_e', 'odor_c', 'odor_m', 'stalk-surface-above-ring_f',\n",
      "       'stalk-surface-below-ring_f'],\n",
      "      dtype='object')\n"
     ]
    }
   ],
   "source": [
    "# Which five features were selected in step 7? Hint: Use the get_support function.\n",
    "from numpy import array \n",
    "\n",
    "# Set the feature filter, set the feature names.\n",
    "cols = chi2_selector.get_support(indices = True)\n",
    "features_names = df_mushrooms_new.columns[cols]\n",
    "\n",
    "print(features_names)"
   ]
  },
  {
   "cell_type": "code",
   "execution_count": 75,
   "id": "341b5a33",
   "metadata": {},
   "outputs": [
    {
     "name": "stdout",
     "output_type": "stream",
     "text": [
      "Accuracy Score: 1.0\n",
      "[[2953    0]\n",
      " [   0 3140]]\n"
     ]
    }
   ],
   "source": [
    "# Repeat steps 4 and 5 with the five best features selected in step 7.\n",
    "# Fit a decision tree classifier on the training set.\n",
    "model_kbest = decision_tree.fit(features_kbest, target)\n",
    "\n",
    "# Report the accuracy and create a confusion matrix for the model prediction on the test set.\n",
    "predictions_kbest = model_kbest.predict(features_kbest)\n",
    "\n",
    "# Create the score from the predictions.\n",
    "score_kbest = accuracy_score(target,predictions_kbest)\n",
    "\n",
    "confusion_matrix_kbest = metrics.confusion_matrix(target, predictions_kbest)\n",
    "\n",
    "# Show the accuracy.\n",
    "print(f\"Accuracy Score: {score_kbest}\")\n",
    "print(confusion_matrix_kbest)"
   ]
  },
  {
   "cell_type": "markdown",
   "id": "ba56b95d",
   "metadata": {},
   "source": [
    "When attemtping to find what features assist in determining which mushrooms are edible through the use of the chi2 selector, we found that the resulting 5 features were class_e (edible), odor_c (creosote), odor_m (musty), stalk-surface-above-ring_f (fibrous), and stalk-surface-below-ring_f (fibrous); these features are specific to each category after replacing the categories with the dummies.  According to the accuracy score, we can predict them with 100% certainty."
   ]
  },
  {
   "cell_type": "code",
   "execution_count": null,
   "id": "97a261fe",
   "metadata": {},
   "outputs": [],
   "source": []
  }
 ],
 "metadata": {
  "kernelspec": {
   "display_name": "Python 3 (ipykernel)",
   "language": "python",
   "name": "python3"
  },
  "language_info": {
   "codemirror_mode": {
    "name": "ipython",
    "version": 3
   },
   "file_extension": ".py",
   "mimetype": "text/x-python",
   "name": "python",
   "nbconvert_exporter": "python",
   "pygments_lexer": "ipython3",
   "version": "3.9.12"
  }
 },
 "nbformat": 4,
 "nbformat_minor": 5
}
