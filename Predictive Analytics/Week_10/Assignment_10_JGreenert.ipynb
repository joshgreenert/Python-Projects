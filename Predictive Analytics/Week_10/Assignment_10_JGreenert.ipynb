{
 "cells": [
  {
   "cell_type": "markdown",
   "id": "855a082b",
   "metadata": {},
   "source": [
    "# Predictive Analytics: Assignment 10.2\n",
    "#### Joshua Greenert\n",
    "#### DSC630-T301 Predictive Analytics\n",
    "#### 2/14/2023"
   ]
  },
  {
   "cell_type": "code",
   "execution_count": 82,
   "id": "e786bf48",
   "metadata": {},
   "outputs": [
    {
     "data": {
      "text/html": [
       "<div>\n",
       "<style scoped>\n",
       "    .dataframe tbody tr th:only-of-type {\n",
       "        vertical-align: middle;\n",
       "    }\n",
       "\n",
       "    .dataframe tbody tr th {\n",
       "        vertical-align: top;\n",
       "    }\n",
       "\n",
       "    .dataframe thead th {\n",
       "        text-align: right;\n",
       "    }\n",
       "</style>\n",
       "<table border=\"1\" class=\"dataframe\">\n",
       "  <thead>\n",
       "    <tr style=\"text-align: right;\">\n",
       "      <th></th>\n",
       "      <th>userId</th>\n",
       "      <th>movieId</th>\n",
       "      <th>rating</th>\n",
       "      <th>timestamp</th>\n",
       "    </tr>\n",
       "  </thead>\n",
       "  <tbody>\n",
       "    <tr>\n",
       "      <th>0</th>\n",
       "      <td>1</td>\n",
       "      <td>296</td>\n",
       "      <td>5.0</td>\n",
       "      <td>1147880044</td>\n",
       "    </tr>\n",
       "    <tr>\n",
       "      <th>1</th>\n",
       "      <td>1</td>\n",
       "      <td>306</td>\n",
       "      <td>3.5</td>\n",
       "      <td>1147868817</td>\n",
       "    </tr>\n",
       "    <tr>\n",
       "      <th>2</th>\n",
       "      <td>1</td>\n",
       "      <td>307</td>\n",
       "      <td>5.0</td>\n",
       "      <td>1147868828</td>\n",
       "    </tr>\n",
       "    <tr>\n",
       "      <th>3</th>\n",
       "      <td>1</td>\n",
       "      <td>665</td>\n",
       "      <td>5.0</td>\n",
       "      <td>1147878820</td>\n",
       "    </tr>\n",
       "    <tr>\n",
       "      <th>4</th>\n",
       "      <td>1</td>\n",
       "      <td>899</td>\n",
       "      <td>3.5</td>\n",
       "      <td>1147868510</td>\n",
       "    </tr>\n",
       "  </tbody>\n",
       "</table>\n",
       "</div>"
      ],
      "text/plain": [
       "   userId  movieId  rating   timestamp\n",
       "0       1      296     5.0  1147880044\n",
       "1       1      306     3.5  1147868817\n",
       "2       1      307     5.0  1147868828\n",
       "3       1      665     5.0  1147878820\n",
       "4       1      899     3.5  1147868510"
      ]
     },
     "execution_count": 82,
     "metadata": {},
     "output_type": "execute_result"
    }
   ],
   "source": [
    "# Import the required libaries.\n",
    "import numpy as np\n",
    "import pandas as pd\n",
    "import matplotlib.pyplot as plt\n",
    "\n",
    "# Pull in the data to begin preparation.\n",
    "df_ratings = pd.read_csv('../../../../../Downloads/ml-25m/ratings.csv')\n",
    "df_ratings.head(5)"
   ]
  },
  {
   "cell_type": "code",
   "execution_count": 83,
   "id": "bc3b706d",
   "metadata": {},
   "outputs": [],
   "source": [
    "# Pull in the links, movies, and tags datasets to use later.\n",
    "df_movies = pd.read_csv('../../../../../Downloads/ml-25m/movies.csv')\n",
    "df_links = pd.read_csv('../../../../../Downloads/ml-25m/links.csv')\n",
    "df_tags = pd.read_csv('../../../../../Downloads/ml-25m/tags.csv')"
   ]
  },
  {
   "cell_type": "code",
   "execution_count": 84,
   "id": "736a42ed",
   "metadata": {},
   "outputs": [],
   "source": [
    "# Merge the datasets together to obtain one full dataframe.\n",
    "merged_data = df_ratings.merge(df_movies,on='movieId', how='left')"
   ]
  },
  {
   "cell_type": "code",
   "execution_count": 85,
   "id": "b10054db",
   "metadata": {},
   "outputs": [
    {
     "name": "stdout",
     "output_type": "stream",
     "text": [
      "Total Movies: 59047 \n",
      "Total Users: 162541 \n",
      "Total Ratings: 25000095\n"
     ]
    }
   ],
   "source": [
    "# Create a new dataframe with userId, movieId, and rating.\n",
    "df_user_recommended = merged_data[['userId', 'movieId', 'rating']].copy()\n",
    "\n",
    "# Set the values to use for the csr matrix dimensions.\n",
    "n_ratings = len(df_user_recommended)\n",
    "n_movies = len(df_user_recommended['movieId'].unique())\n",
    "n_users = len(df_user_recommended['userId'].unique())\n",
    "\n",
    "# print the n ratings to ensure they are valid.\n",
    "print(f\"Total Movies: {n_movies} \\nTotal Users: {n_users} \\nTotal Ratings: {n_ratings}\")"
   ]
  },
  {
   "cell_type": "code",
   "execution_count": 86,
   "id": "ee6bb2b8",
   "metadata": {},
   "outputs": [],
   "source": [
    "# Map the indices to users and movie ids.\n",
    "user_map = dict(zip(np.unique(df_user_recommended['userId']), list(range(n_users))))\n",
    "movie_map = dict(zip(np.unique(df_user_recommended['movieId']), list(range(n_movies))))\n",
    "\n",
    "user_i_map = dict(zip(list(range(n_users)), np.unique(df_user_recommended['userId'])))\n",
    "movie_i_map = dict(zip(list(range(n_movies)), np.unique(df_user_recommended['movieId'])))\n",
    "\n",
    "# Create indices for the csr matrix to be used next.\n",
    "user_index = [user_map[i] for i in df_user_recommended['userId']]\n",
    "movie_index = [movie_map[i] for i in df_user_recommended['movieId']]"
   ]
  },
  {
   "cell_type": "code",
   "execution_count": 87,
   "id": "5e6b5748",
   "metadata": {},
   "outputs": [],
   "source": [
    "# Create the csr_matrix for comparison\n",
    "from scipy.sparse import csr_matrix\n",
    "\n",
    "matrix = csr_matrix((df_user_recommended[\"rating\"], (movie_index, user_index)), shape=(n_movies, n_users))"
   ]
  },
  {
   "cell_type": "code",
   "execution_count": 88,
   "id": "89b11205",
   "metadata": {},
   "outputs": [],
   "source": [
    "# Map the movies to the ids.\n",
    "movie_names_mapped = dict(zip(merged_data['movieId'], merged_data['title']))"
   ]
  },
  {
   "cell_type": "code",
   "execution_count": 102,
   "id": "182d8b60",
   "metadata": {},
   "outputs": [],
   "source": [
    "'''\n",
    "This function will use K nearest neighbors to determine the best matching movie from the list.  Afterwards, the movie\n",
    "list will be returned along with a links.\n",
    "\n",
    "@param: name - the name of the movie\n",
    "@param: total_matches - the total number of movies to return\n",
    "'''\n",
    "from sklearn.neighbors import NearestNeighbors\n",
    "\n",
    "def find_related_movies(name, total_matches):\n",
    "    \n",
    "    # Increment total matches since we'll be removing the one that matches the closest (i.e the same movie)\n",
    "    total_matches += 1\n",
    "    \n",
    "    # Create a variable to hold our neighbors.\n",
    "    neighbour_ids_with_distance = {}\n",
    "    \n",
    "    # Look up the movie the user entered with contains (less strict) and obtain the movieId\n",
    "    user_movie_id = next((k for k, v in movie_names_mapped.items() if v == name), None)\n",
    "    \n",
    "    # Prepare a vector for the KNN model.\n",
    "    movie_index_mapped = movie_map[user_movie_id]\n",
    "    movie_vector = matrix[movie_index_mapped]\n",
    "    \n",
    "    # Set the KNN model and fit it.\n",
    "    knn = NearestNeighbors(algorithm = 'brute', metric='cosine')\n",
    "    knn.fit(matrix)\n",
    "    \n",
    "    # reshape and determine distances for KNN values.\n",
    "    movie_vector_reshaped = movie_vector.reshape(1, -1)\n",
    "    distances, indices = knn.kneighbors(movie_vector_reshaped, n_neighbors=total_matches)\n",
    "    \n",
    "    # Loop over the data and flatten the distances.\n",
    "    for i in range(0,len(distances.flatten())):\n",
    "        n = indices.flatten()[i]\n",
    "        neighbour_id = movie_i_map[n]\n",
    "        \n",
    "        neighbour_ids_with_distance[movie_names_mapped[neighbour_id]] = distances.flatten()[i]\n",
    "        \n",
    "    # Remove the same movie from the list.    \n",
    "    neighbour_ids_with_distance.pop(movie_names_mapped[user_movie_id], None)\n",
    "    \n",
    "    # Sort the data by accuracy\n",
    "    sorted_neighbours = sorted(neighbour_ids_with_distance.items(), key=lambda x: x[1], reverse=False)\n",
    "    \n",
    "    # Print the games and their related accuracy.\n",
    "    count = 1\n",
    "    movie_link = \"https://www.themoviedb.org/movie/\"\n",
    "    \n",
    "    print(f\"Movies related to: {movie_names_mapped[user_movie_id]}\\n\")\n",
    "    for movie, accuracy in sorted_neighbours:\n",
    "        if count == total_matches:\n",
    "            break\n",
    "        else:\n",
    "            # Set the movie link to pass with the data.\n",
    "            next_movie_id = next((k for k, v in movie_names_mapped.items() if v == movie), None)\n",
    "            tmdb_id = df_links.loc[df_links['movieId'] == next_movie_id, 'tmdbId'].item()\n",
    "            \n",
    "            neighbour_movie_link = movie_link + str(int(tmdb_id))\n",
    "            \n",
    "            print(f\"{movie}: {neighbour_movie_link}\")\n",
    "            count += 1\n",
    "    "
   ]
  },
  {
   "cell_type": "markdown",
   "id": "722f4f3b",
   "metadata": {},
   "source": [
    "## Test the Results"
   ]
  },
  {
   "cell_type": "code",
   "execution_count": 103,
   "id": "cf4cc74c",
   "metadata": {},
   "outputs": [
    {
     "name": "stdout",
     "output_type": "stream",
     "text": [
      "Movies related to: Toy Story (1995)\n",
      "\n",
      "Star Wars: Episode IV - A New Hope (1977): https://www.themoviedb.org/movie/11\n",
      "Toy Story 2 (1999): https://www.themoviedb.org/movie/863\n",
      "Back to the Future (1985): https://www.themoviedb.org/movie/105\n",
      "Forrest Gump (1994): https://www.themoviedb.org/movie/13\n",
      "Jurassic Park (1993): https://www.themoviedb.org/movie/329\n"
     ]
    }
   ],
   "source": [
    "# Test 1\n",
    "movie_name = \"Toy Story (1995)\"\n",
    "total_matches = 5\n",
    " \n",
    "find_related_movies(movie_name, total_matches)"
   ]
  },
  {
   "cell_type": "code",
   "execution_count": 104,
   "id": "14e7ac55",
   "metadata": {},
   "outputs": [
    {
     "name": "stdout",
     "output_type": "stream",
     "text": [
      "Movies related to: Toy Story 2 (1999)\n",
      "\n",
      "Toy Story (1995): https://www.themoviedb.org/movie/862\n",
      "Bug's Life, A (1998): https://www.themoviedb.org/movie/9487\n",
      "Monsters, Inc. (2001): https://www.themoviedb.org/movie/585\n",
      "Shrek (2001): https://www.themoviedb.org/movie/808\n",
      "Finding Nemo (2003): https://www.themoviedb.org/movie/12\n",
      "Ghostbusters (a.k.a. Ghost Busters) (1984): https://www.themoviedb.org/movie/620\n",
      "Chicken Run (2000): https://www.themoviedb.org/movie/7443\n",
      "Men in Black (a.k.a. MIB) (1997): https://www.themoviedb.org/movie/607\n",
      "Back to the Future (1985): https://www.themoviedb.org/movie/105\n",
      "Sixth Sense, The (1999): https://www.themoviedb.org/movie/745\n"
     ]
    }
   ],
   "source": [
    "# Test 2\n",
    "movie_name = \"Toy Story 2 (1999)\"\n",
    "total_matches = 10\n",
    " \n",
    "find_related_movies(movie_name, total_matches)"
   ]
  },
  {
   "cell_type": "code",
   "execution_count": 105,
   "id": "88db42c6",
   "metadata": {},
   "outputs": [
    {
     "name": "stdout",
     "output_type": "stream",
     "text": [
      "Movies related to: Fight Club (1999)\n",
      "\n",
      "Matrix, The (1999): https://www.themoviedb.org/movie/603\n",
      "Memento (2000): https://www.themoviedb.org/movie/77\n",
      "American Beauty (1999): https://www.themoviedb.org/movie/14\n",
      "Lord of the Rings: The Fellowship of the Ring, The (2001): https://www.themoviedb.org/movie/120\n",
      "Pulp Fiction (1994): https://www.themoviedb.org/movie/680\n",
      "American History X (1998): https://www.themoviedb.org/movie/73\n",
      "Lord of the Rings: The Return of the King, The (2003): https://www.themoviedb.org/movie/122\n",
      "Kill Bill: Vol. 1 (2003): https://www.themoviedb.org/movie/24\n",
      "Lord of the Rings: The Two Towers, The (2002): https://www.themoviedb.org/movie/121\n",
      "Dark Knight, The (2008): https://www.themoviedb.org/movie/155\n"
     ]
    }
   ],
   "source": [
    "# Test 3\n",
    "movie_name = \"Fight Club (1999)\"\n",
    "total_matches = 10\n",
    " \n",
    "find_related_movies(movie_name, total_matches)"
   ]
  },
  {
   "cell_type": "markdown",
   "id": "f3c4d541",
   "metadata": {},
   "source": [
    "## Conclusion"
   ]
  },
  {
   "cell_type": "markdown",
   "id": "0d9b11e9",
   "metadata": {},
   "source": [
    "Based on the data that were provided, I decided to use a K-Nearest Neighbors (KNN) model to generate predictions based on how close the ratings were with each respective movie title.  Once the list of movies were collected, I looped through the results and created a link — using the links dataset — on the \"tmdbId\" column to allow the user to easily navigate to the movie suggestion for review.  Based on the tests shown above with the movies \"Toy Story\", \"Toy Story 2\", and \"Fight Club\", we can easily see that the model has fairly decent accuracy in terms of recommendations.  For instance, the test on \"Toy STory\" and \"Toy Story 2\" both reference one another, as they should, along with other movies that fall into either a children's movie theme or an action/adventure theme.  Alternatively, the suggestions for \"Fight Club\" match a darker theme of movie with mentions such as \"Kill Bill\" and \"American History X\".  Overall, the KNN recommendation model shows promise in generating accurate and relevant movie suggestions based on user input, while also providing links to the recommended movies for user perusal. "
   ]
  }
 ],
 "metadata": {
  "kernelspec": {
   "display_name": "Python 3 (ipykernel)",
   "language": "python",
   "name": "python3"
  },
  "language_info": {
   "codemirror_mode": {
    "name": "ipython",
    "version": 3
   },
   "file_extension": ".py",
   "mimetype": "text/x-python",
   "name": "python",
   "nbconvert_exporter": "python",
   "pygments_lexer": "ipython3",
   "version": "3.9.12"
  }
 },
 "nbformat": 4,
 "nbformat_minor": 5
}
