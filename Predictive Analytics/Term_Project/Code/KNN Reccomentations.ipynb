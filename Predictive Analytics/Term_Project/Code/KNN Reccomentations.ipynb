{
 "cells": [
  {
   "cell_type": "code",
   "execution_count": 5,
   "metadata": {},
   "outputs": [],
   "source": [
    "# Import the required libaries.\n",
    "import numpy as np\n",
    "import pandas as pd\n",
    "import matplotlib.pyplot as plt\n",
    "import re\n",
    "from sklearn.metrics.pairwise import cosine_similarity\n",
    "from sklearn.neighbors import NearestNeighbors\n",
    "from scipy.sparse import csr_matrix"
   ]
  },
  {
   "cell_type": "code",
   "execution_count": 6,
   "metadata": {},
   "outputs": [],
   "source": [
    "# Pull in the dataframe.\n",
    "# Josh G\n",
    "# df_reviews = pd.read_csv('../../../../../Downloads/steam_reviews.csv', low_memory=False)\n",
    "# Gabe\n",
    "df_reviews = pd.read_csv('steam_reviews.csv', low_memory=False)"
   ]
  },
  {
   "cell_type": "code",
   "execution_count": 7,
   "metadata": {},
   "outputs": [
    {
     "data": {
      "text/plain": [
       "Index(['Unnamed: 0', 'app_id', 'app_name', 'review_id', 'language', 'review',\n",
       "       'timestamp_created', 'timestamp_updated', 'recommended',\n",
       "       'votes_helpful', 'votes_funny', 'weighted_vote_score', 'comment_count',\n",
       "       'steam_purchase', 'received_for_free', 'written_during_early_access',\n",
       "       'author.steamid', 'author.num_games_owned', 'author.num_reviews',\n",
       "       'author.playtime_forever', 'author.playtime_last_two_weeks',\n",
       "       'author.playtime_at_review', 'author.last_played'],\n",
       "      dtype='object')"
      ]
     },
     "execution_count": 7,
     "metadata": {},
     "output_type": "execute_result"
    }
   ],
   "source": [
    "# Display the columns for the dataframe.\n",
    "df_reviews.columns"
   ]
  },
  {
   "cell_type": "code",
   "execution_count": 8,
   "metadata": {},
   "outputs": [
    {
     "data": {
      "text/html": [
       "<div>\n",
       "<style scoped>\n",
       "    .dataframe tbody tr th:only-of-type {\n",
       "        vertical-align: middle;\n",
       "    }\n",
       "\n",
       "    .dataframe tbody tr th {\n",
       "        vertical-align: top;\n",
       "    }\n",
       "\n",
       "    .dataframe thead th {\n",
       "        text-align: right;\n",
       "    }\n",
       "</style>\n",
       "<table border=\"1\" class=\"dataframe\">\n",
       "  <thead>\n",
       "    <tr style=\"text-align: right;\">\n",
       "      <th></th>\n",
       "      <th>app_id</th>\n",
       "      <th>author.steamid</th>\n",
       "      <th>recommended</th>\n",
       "    </tr>\n",
       "  </thead>\n",
       "  <tbody>\n",
       "    <tr>\n",
       "      <th>10532434</th>\n",
       "      <td>207610</td>\n",
       "      <td>76561198108835349</td>\n",
       "      <td>True</td>\n",
       "    </tr>\n",
       "    <tr>\n",
       "      <th>11979307</th>\n",
       "      <td>284160</td>\n",
       "      <td>76561198967899084</td>\n",
       "      <td>True</td>\n",
       "    </tr>\n",
       "    <tr>\n",
       "      <th>17793929</th>\n",
       "      <td>356190</td>\n",
       "      <td>76561198110933302</td>\n",
       "      <td>True</td>\n",
       "    </tr>\n",
       "    <tr>\n",
       "      <th>16095414</th>\n",
       "      <td>281990</td>\n",
       "      <td>76561198053145739</td>\n",
       "      <td>True</td>\n",
       "    </tr>\n",
       "    <tr>\n",
       "      <th>10779140</th>\n",
       "      <td>457140</td>\n",
       "      <td>76561198068984077</td>\n",
       "      <td>True</td>\n",
       "    </tr>\n",
       "  </tbody>\n",
       "</table>\n",
       "</div>"
      ],
      "text/plain": [
       "          app_id     author.steamid  recommended\n",
       "10532434  207610  76561198108835349         True\n",
       "11979307  284160  76561198967899084         True\n",
       "17793929  356190  76561198110933302         True\n",
       "16095414  281990  76561198053145739         True\n",
       "10779140  457140  76561198068984077         True"
      ]
     },
     "execution_count": 8,
     "metadata": {},
     "output_type": "execute_result"
    }
   ],
   "source": [
    "# Get and show a small sample.\n",
    "user_rec_df = df_reviews[[\"app_id\",\"author.steamid\", \"recommended\"]].copy()\n",
    "user_rec_df.sample(5)"
   ]
  },
  {
   "cell_type": "code",
   "execution_count": 9,
   "metadata": {},
   "outputs": [
    {
     "name": "stdout",
     "output_type": "stream",
     "text": [
      "21747371 315 12406560\n"
     ]
    }
   ],
   "source": [
    "# going to be using thesee to create the user review matrix dimensions\n",
    "n_ratings = len(user_rec_df)\n",
    "n_games = len(user_rec_df['app_id'].unique())\n",
    "n_users = len(user_rec_df['author.steamid'].unique())\n",
    "\n",
    "print(n_ratings, n_games, n_users)"
   ]
  },
  {
   "cell_type": "code",
   "execution_count": 10,
   "metadata": {},
   "outputs": [
    {
     "name": "stdout",
     "output_type": "stream",
     "text": [
      "True\n",
      "True\n"
     ]
    }
   ],
   "source": [
    "# maps idices to users and game IDs\n",
    "user_map = dict(zip(np.unique(user_rec_df[\"author.steamid\"]), list(range(n_users))))\n",
    "game_map = dict(zip(np.unique(user_rec_df[\"app_id\"]), list(range(n_games))))\n",
    "\n",
    "print(len(user_map) == n_users)\n",
    "print(len(game_map) == n_games)\n",
    "\n",
    "user_i_map = dict(zip(list(range(n_users)), np.unique(user_rec_df[\"author.steamid\"])))\n",
    "game_i_map = dict(zip(list(range(n_games)), np.unique(user_rec_df[\"app_id\"])))"
   ]
  },
  {
   "cell_type": "code",
   "execution_count": 11,
   "metadata": {},
   "outputs": [],
   "source": [
    "# creating indices for csr_matrix\n",
    "user_index = [user_map[i] for i in user_rec_df['author.steamid']]\n",
    "game_index = [game_map[i] for i in user_rec_df['app_id']]"
   ]
  },
  {
   "cell_type": "code",
   "execution_count": 12,
   "metadata": {},
   "outputs": [],
   "source": [
    "# creates csr matrix\n",
    "matrix = csr_matrix((user_rec_df[\"recommended\"], (game_index, user_index)), shape=(n_games, n_users))"
   ]
  },
  {
   "cell_type": "code",
   "execution_count": 13,
   "metadata": {},
   "outputs": [],
   "source": [
    "# creating a dictionary to pull the name of games from based on IDs\n",
    "game_names = dict(zip(df_reviews['app_id'], df_reviews['app_name']))"
   ]
  },
  {
   "cell_type": "code",
   "execution_count": 14,
   "metadata": {},
   "outputs": [],
   "source": [
    "def find_related_games(game_id, total_matches):\n",
    "    neighbour_ids_with_distance = {}\n",
    "    \n",
    "    game_index = game_map[game_id]\n",
    "    game_vector = matrix[game_index]\n",
    "    total_matches += 1\n",
    "    \n",
    "    kNN = NearestNeighbors(algorithm = 'brute', metric='cosine')\n",
    "    kNN.fit(matrix)\n",
    "    \n",
    "    game_vec = game_vector.reshape(1,-1)\n",
    "    distances, indices = kNN.kneighbors(game_vec, n_neighbors=total_matches)\n",
    "    \n",
    "    for i in range(0,len(distances.flatten())):\n",
    "        n = indices.flatten()[i]\n",
    "        neighbour_id = game_i_map[n]\n",
    "        neighbour_ids_with_distance[game_names[neighbour_id]] = distances.flatten()[i]\n",
    "    neighbour_ids_with_distance.pop(game_names[game_id], None)\n",
    "    \n",
    "    # Sort the data by accuracy\n",
    "    sorted_neighbour_ids_with_distance = sorted(neighbour_ids_with_distance.items(), key=lambda x: x[1], reverse=False)\n",
    "    \n",
    "    # Print the games and their related accuracy.\n",
    "    print(f\"Games related to: {game_names[game_id]}\\n\")\n",
    "    for game_name, accuracy in sorted_neighbour_ids_with_distance:\n",
    "        print(f\"{game_name}: {accuracy:.2f}\")"
   ]
  },
  {
   "cell_type": "code",
   "execution_count": 15,
   "metadata": {},
   "outputs": [
    {
     "name": "stdout",
     "output_type": "stream",
     "text": [
      "Games related to: Just Cause 3\n",
      "\n",
      "Just Cause 4: 0.94\n",
      "Grand Theft Auto V: 0.95\n",
      "Watch_Dogs 2: 0.95\n",
      "Dying Light: 0.95\n",
      "Rise of the Tomb Raider: 0.96\n",
      "Far Cry 5: 0.96\n",
      "DOOM: 0.96\n",
      "The Witcher 3: Wild Hunt: 0.96\n",
      "Fallout 4: 0.96\n",
      "Garry's Mod: 0.96\n"
     ]
    }
   ],
   "source": [
    "# Set a test game id and run the function.\n",
    "game_id = 225540\n",
    " \n",
    "find_related_games(game_id, 10)"
   ]
  },
  {
   "cell_type": "code",
   "execution_count": 16,
   "metadata": {},
   "outputs": [
    {
     "name": "stdout",
     "output_type": "stream",
     "text": [
      "Games related to: Garry's Mod\n",
      "\n",
      "PAYDAY 2: 0.90\n",
      "Terraria: 0.91\n",
      "Portal 2: 0.91\n",
      "Counter-Strike: Source: 0.93\n",
      "Half-Life: 0.93\n",
      "Grand Theft Auto V: 0.93\n",
      "Tom Clancy's Rainbow Six Siege: 0.93\n",
      "Among Us: 0.93\n",
      "Rust: 0.94\n",
      "People Playground: 0.94\n"
     ]
    }
   ],
   "source": [
    "# Perform another test to see the results.\n",
    "game_id = 4000\n",
    "  \n",
    "find_related_games(game_id, 10)"
   ]
  },
  {
   "cell_type": "code",
   "execution_count": 17,
   "metadata": {},
   "outputs": [
    {
     "name": "stdout",
     "output_type": "stream",
     "text": [
      "Games related to: Stardew Valley\n",
      "\n",
      "Terraria: 0.93\n",
      "Don't Starve Together: 0.95\n",
      "Undertale: 0.96\n",
      "Slime Rancher: 0.96\n",
      "My Time At Portia: 0.96\n",
      "Hollow Knight: 0.96\n",
      "The Witcher 3: Wild Hunt: 0.96\n",
      "RimWorld: 0.96\n",
      "The Elder Scrolls V: Skyrim: 0.96\n",
      "The Binding of Isaac: Rebirth: 0.96\n"
     ]
    }
   ],
   "source": [
    "# Perform another test to see the results.\n",
    "game_id = 413150\n",
    "\n",
    "find_related_games(game_id, 10)"
   ]
  },
  {
   "cell_type": "code",
   "execution_count": null,
   "metadata": {},
   "outputs": [],
   "source": []
  }
 ],
 "metadata": {
  "kernelspec": {
   "display_name": "Python 3 (ipykernel)",
   "language": "python",
   "name": "python3"
  },
  "language_info": {
   "codemirror_mode": {
    "name": "ipython",
    "version": 3
   },
   "file_extension": ".py",
   "mimetype": "text/x-python",
   "name": "python",
   "nbconvert_exporter": "python",
   "pygments_lexer": "ipython3",
   "version": "3.9.13"
  },
  "vscode": {
   "interpreter": {
    "hash": "ad2bdc8ecc057115af97d19610ffacc2b4e99fae6737bb82f5d7fb13d2f2c186"
   }
  }
 },
 "nbformat": 4,
 "nbformat_minor": 2
}
