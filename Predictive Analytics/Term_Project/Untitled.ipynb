{
 "cells": [
  {
   "cell_type": "code",
   "execution_count": 18,
   "id": "319ea166",
   "metadata": {},
   "outputs": [
    {
     "name": "stdout",
     "output_type": "stream",
     "text": [
      "(21023, 'miley cyrus')\n"
     ]
    }
   ],
   "source": [
    "# Get the data\n",
    "\n",
    "import sqlite3\n",
    "from sqlite3 import Error\n",
    "\n",
    "database = \"database.sqlite\"\n",
    "\n",
    "conn = None\n",
    "try:\n",
    "    conn = sqlite3.connect(database)\n",
    "except Error as e:\n",
    "    print(e)\n",
    "\n",
    "cur = conn.cursor()\n",
    "cur.execute(\"SELECT * FROM artists where artist like '%miley%'\")\n",
    "\n",
    "rows = cur.fetchall()\n",
    "\n",
    "for row in rows:\n",
    "    print(row)"
   ]
  },
  {
   "cell_type": "code",
   "execution_count": null,
   "id": "ed0aff82",
   "metadata": {},
   "outputs": [],
   "source": []
  }
 ],
 "metadata": {
  "kernelspec": {
   "display_name": "Python 3 (ipykernel)",
   "language": "python",
   "name": "python3"
  },
  "language_info": {
   "codemirror_mode": {
    "name": "ipython",
    "version": 3
   },
   "file_extension": ".py",
   "mimetype": "text/x-python",
   "name": "python",
   "nbconvert_exporter": "python",
   "pygments_lexer": "ipython3",
   "version": "3.9.12"
  }
 },
 "nbformat": 4,
 "nbformat_minor": 5
}
