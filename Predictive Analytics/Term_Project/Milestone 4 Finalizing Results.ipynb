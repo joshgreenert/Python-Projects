{
 "cells": [
  {
   "cell_type": "markdown",
   "id": "1e277979",
   "metadata": {},
   "source": [
    "# Predictive Analytics: Milestone 4\n",
    "#### Joshua Greenert, Gabriel Avinaz, and Mithil Patel\n",
    "#### DSC630-T301 Predictive Analytics\n",
    "#### 2/10/2023"
   ]
  },
  {
   "cell_type": "markdown",
   "id": "519b7ed8",
   "metadata": {},
   "source": [
    "### Milestone 2: Data Selection and Proposal"
   ]
  },
  {
   "cell_type": "markdown",
   "id": "7a748e15",
   "metadata": {},
   "source": [
    "#### Introduction "
   ]
  },
  {
   "cell_type": "markdown",
   "id": "1afb1927",
   "metadata": {},
   "source": [
    "Since antiquity, games have been an integral aspect of human society – especially for cultural development and social interaction. With the advancement of human civilization, the way games are being played has drastically changed over the eons as modern games are primarily played electronically (video games). With over 3 billion players worldwide and approximately 200 billion dollars in revenue, the video gaming industry is constantly looking to attract new customers and boost playtime. As a result, we will implement a collaborative recommendation system to assist users in finding similar games that may interest them. By utilizing a collaborative filtering system, we can use historical review information to determine whether a product might interest one of our customers. We will experiment with two approaches to determine which application would be better for an e-commerce implementation.  "
   ]
  },
  {
   "cell_type": "markdown",
   "id": "a57aed83",
   "metadata": {},
   "source": [
    "#### What types of model(s) do you plan to use and why, and how do you intend to evaluate your results?"
   ]
  },
  {
   "cell_type": "markdown",
   "id": "87f833e1",
   "metadata": {},
   "source": [
    "We will implement a collaborative recommendation system to assist users in finding similar games that may interest them. By utilizing a collaborative filtering system, we can use historical review information to determine whether a product might interest one of our customers. We will experiment with two approaches to determine which application would be better for an e-commerce implementation.  \n",
    "  \n",
    "Our first approach will implement memory-based collaborative filtering, which utilizes the collective review information of other users to find similar games. We’ll be implementing both item-item and user-item methods to determine which provides a better result for our users. These two methods offer predictions based on what similar users like and what users who like a particular game are likely to enjoy. We’ll use several distance measurement algorithms to determine which provides a more accurate recommendation such as: cosine similarity, Pearson Correlation, and K-nearest neighbors. The models created using these methods should perform fastest while providing acceptable accuracy.  For our model-based collaborative filtering, we will train a few machine learning (ML) algorithms to make recommendations and find similar games. Our project will focus on utilizing matrix factorization algorithms to make this determination but will be looking to implement a deep learning approach given the time. The process of applying different ML algorithms is fairly simple, so we’ll be looking to implement the most we can: SVD, PMF, and NMF, then compare our results with the memory-based results.  \n",
    "  \n",
    "  Our second approach to creating a recommendation system for our games library is by implementing a content-based filtering system utilizing natural language processing and available user reviews. This process will use a vectorized matrix of user reviews to find games that have been reviewed in a similar way. We can implement many of the techniques from our memory-based collaborative filtering process into this one and measure performance across each of our distance-measuring algorithms.  We can utilize a standard train-test methodology from many of the of the models we will be implementing while cross referencing our suggested games with user-rated games.  We also have user information in our data set as to whether they would make a recommendation for the game they are reviewing.  We can utilize this data in testing our results accuracy. "
   ]
  },
  {
   "cell_type": "markdown",
   "id": "979113ed",
   "metadata": {},
   "source": [
    "#### What do you hope to learn?"
   ]
  },
  {
   "cell_type": "markdown",
   "id": "2f00a436",
   "metadata": {},
   "source": [
    "We hope to learn consumers’ interests and buying patterns which can help our company optimize revenue by focusing resources on developing games customers will more likely enjoy.  Additionally, we intend to learn appropriate methods to develop recommendation systems for alternative enterprises and future outsourcing.  Finally, while going through this process, we expect to learn data from our models that can be used for other points of interest for the company and our personal career development."
   ]
  },
  {
   "cell_type": "markdown",
   "id": "e7e55815",
   "metadata": {},
   "source": [
    "#### Are there any risks or ethical implications with your proposal?"
   ]
  },
  {
   "cell_type": "markdown",
   "id": "b247c3e9",
   "metadata": {},
   "source": [
    "Fortunately, all of the personal information of each individual review has been stripped from the data provided from the Steam API.  Instead of the actual user’s profile information, a review_id value is used instead.  However, the comments may contain personal or sensitive information which will be appropriately handled or removed to ensure the safety and security of all users.  Besides potential user-provided information, there are no additional risks or ethical concerns within this project.  "
   ]
  },
  {
   "cell_type": "markdown",
   "id": "4dab2369",
   "metadata": {},
   "source": [
    "#### What is your contingency plan?"
   ]
  },
  {
   "cell_type": "markdown",
   "id": "fd60ca16",
   "metadata": {},
   "source": [
    "In the event that our findings aren’t conclusive, our dataset proves too massive to work with, or our data doesn’t express a proper recommendation system as intended, we have collected another dataset to use instead.  This database revolves around used cars posted to Craigslist and would have a similar strategy to our current proposal.  We would use the dataset to review models for recommendations for users based upon their interests and preferences.  From that information, we would predict cars that users would be interested in while also being local to their respective area based on the information from the dataset.  All parties have agreed that if our project doesn’t appear feasible by the end of week 3, we will be shifting gears to this alternative to salvage the time we have remaining."
   ]
  },
  {
   "cell_type": "markdown",
   "id": "8c5e4a1d",
   "metadata": {},
   "source": [
    "#### Additional important information"
   ]
  },
  {
   "cell_type": "markdown",
   "id": "03e0a53f",
   "metadata": {},
   "source": [
    "As the project progresses, we plan to implement a deep learning algorithm if we are able to add it into the scope; at the moment, we anticipate our limited time will be a factor that prevents us from doing so.  With a deep learning algorithm, we would be able to enhance our accuracy and predict better recommendations for our users.  "
   ]
  },
  {
   "cell_type": "markdown",
   "id": "35226057",
   "metadata": {},
   "source": [
    "### Milestone 3: Preliminary Analysis"
   ]
  },
  {
   "cell_type": "markdown",
   "id": "bfb6304e",
   "metadata": {},
   "source": [
    "#### Will I be able to answer the questions I want to answer with the data I have?"
   ]
  },
  {
   "cell_type": "markdown",
   "id": "9bd827c0",
   "metadata": {},
   "source": [
    "The data are proving to be far more time-consuming than initially expected.  Nevertheless, the data should be more than capable of providing a model of a working recommendation system that can suggest games to users based on their game preference.  Additionally, our team has utilized a supplemental dataset to create alternative options for our recommendations."
   ]
  },
  {
   "cell_type": "markdown",
   "id": "253fa2c5",
   "metadata": {},
   "source": [
    "#### What visualizations are especially useful for explaining my data?"
   ]
  },
  {
   "cell_type": "markdown",
   "id": "708d0550",
   "metadata": {},
   "source": [
    "Histogram plots were one of the most useful visualizations in evaluating our data.  It helped us determine that a large number of users that left reviews on the steam application would only leave a review for one game.  This has a significant effect on how we can treat the data going forward, especially with the collaborative filtering models we were going to attempt to implement.  Bar plots can be used to display our model’s outputs, showing ratios of similarity with each game.  Scatterplots were one of the more important visualizations in determining how to measure our aggregate review data for each game.  It helped us determine how the average score changed between positive reviews and those weighted for quality."
   ]
  },
  {
   "cell_type": "markdown",
   "id": "99019a5b",
   "metadata": {},
   "source": [
    "#### Do I need to adjust the data and/or driving questions?"
   ]
  },
  {
   "cell_type": "markdown",
   "id": "53b4a4c1",
   "metadata": {},
   "source": [
    "Due to the size of our data selected, we have implemented a checkpoint inside of our file where a csv file is exported after a rigorous six-hour lemmatization.  This export can then be used to continue the process of creating the remainder of the model while utilizing the results of the previous steps.  While an adjustment to the process and data was a serious consideration, the checkpoint simplifies the approach and allows us to begin further development without the need to start from the beginning."
   ]
  },
  {
   "cell_type": "markdown",
   "id": "17df70b3",
   "metadata": {},
   "source": [
    "#### Do I need to adjust my model/evaluation choices?"
   ]
  },
  {
   "cell_type": "markdown",
   "id": "fb9cc3cd",
   "metadata": {},
   "source": [
    "For the most part, our models and methodology appear to be functioning as intended.  Our intention is to use Term Frequency-Inverse Document Frequency (TFIDF) vectorized user reviews and game descriptions with cosine similarity as a metric to measure the closeness of each recommendation.  Additionally, we plan to have a collaborative filtering model utilizing K Nearest Neighbor (KNN), random forest, and XGBoost as classifiers based on the user’s review history.  The expectation is to utilize GridSearchCV to find the ideal model and parameters for this method.  Nothing at the moment appears to require a significant change, but we learned from our visualizations that we can gain a significant amount of efficiency by dropping users that have only contributed a single review from the collaborative dataset, and we will still have plenty of entries after the fact to split up data into training and test sets."
   ]
  },
  {
   "cell_type": "markdown",
   "id": "37da88d3",
   "metadata": {},
   "source": [
    "#### Are my original expectations still reasonable?"
   ]
  },
  {
   "cell_type": "markdown",
   "id": "24ee2d11",
   "metadata": {},
   "source": [
    "Our initial expectations were to create a prediction model that could make recommendations based on the reviews from Steam users.  This expectation still shows promise as we’ve completed the majority of the modeling process.  However, the expectation to create a neural network with the dataset may prove challenging based on the size of the dataset, and how long the process took for lemmatization.  Alternatively, we’ve chosen to include an alternative dataset for an additional option on recommendation systems."
   ]
  },
  {
   "cell_type": "markdown",
   "id": "4882a84e",
   "metadata": {},
   "source": [
    "### Milestone 4: Finalizing Results"
   ]
  },
  {
   "cell_type": "markdown",
   "id": "5dffc5ee",
   "metadata": {},
   "source": [
    "#### Explain your process for preparing the data"
   ]
  },
  {
   "cell_type": "markdown",
   "id": "3a9d4cce",
   "metadata": {},
   "source": [
    "Our initial dataset contained a massive amount of rows and comments from Steam users.  However, most of the reviews were in other languages.  First, we removed all of the other languages besides “english” to ensure we could use and understand the results of the model.  Next, we dropped columns that we estimated were insignificant to our process and made dummies for the remaining categorical variables.  We imported libraries for keyword sentiment analysis and proceeded to lemmatize the comments from each user to remove stop words and contractions; this process (in code) took over 6 hours!  Afterwards, we created a checkpoint to begin the final processes with our dataset by adding another dataset to use for cosine similarity.  Here are some of the steps performed in code:"
   ]
  },
  {
   "cell_type": "code",
   "execution_count": null,
   "id": "f14f65bf",
   "metadata": {},
   "outputs": [],
   "source": [
    "# Using the language column, we can remove all other languages besides english.\n",
    "df_steam_reviews = df_steam_reviews[df_steam_reviews['language'] == 'english']\n",
    "\n",
    "# Drop the columns that we don't need.\n",
    "df_steam_reviews = df_steam_reviews.drop(['Unnamed: 0', 'review_id', 'language','author.num_games_owned', \n",
    "                                          'author.last_played' ], axis = 1)\n",
    "\n",
    "# Make dummies of the columns that can conform.\n",
    "df_reviews_dummies = pd.get_dummies(df_steam_reviews, columns=['recommended', 'steam_purchase', 'received_for_free',\n",
    "                                                              'written_during_early_access'])\n",
    "\n",
    "# Calling the process_sentence_lemmatize function through the apply method; skipped some steps to reduce file size.\n",
    "# This is the part that took 6 hours!\n",
    "df_reviews_dummies['prepped_review_lemm'] = df_reviews_dummies.review.apply(process_sentence_lemmatize)  \n",
    "\n",
    "# Calling the process_sentence_lemmatize function through the apply method.\n",
    "df_steam_games['prepped_description_lemm'] = df_steam_games['Short Description'].apply(process_sentence_lemmatize)"
   ]
  },
  {
   "cell_type": "markdown",
   "id": "9bdcf1aa",
   "metadata": {},
   "source": [
    "#### Build and evaluate at least one model"
   ]
  },
  {
   "cell_type": "code",
   "execution_count": null,
   "id": "56720ef0",
   "metadata": {},
   "outputs": [],
   "source": [
    "# Import the required libaries.\n",
    "import numpy as np\n",
    "import pandas as pd\n",
    "import matplotlib.pyplot as plt\n",
    "import re\n",
    "from sklearn.feature_extraction.text import TfidfVectorizer\n",
    "from sklearn.metrics.pairwise import cosine_similarity\n",
    "from sklearn.neighbors import NearestNeighbors\n",
    "from scipy.sparse import csr_matrix"
   ]
  }
 ],
 "metadata": {
  "kernelspec": {
   "display_name": "Python 3 (ipykernel)",
   "language": "python",
   "name": "python3"
  },
  "language_info": {
   "codemirror_mode": {
    "name": "ipython",
    "version": 3
   },
   "file_extension": ".py",
   "mimetype": "text/x-python",
   "name": "python",
   "nbconvert_exporter": "python",
   "pygments_lexer": "ipython3",
   "version": "3.9.12"
  }
 },
 "nbformat": 4,
 "nbformat_minor": 5
}
