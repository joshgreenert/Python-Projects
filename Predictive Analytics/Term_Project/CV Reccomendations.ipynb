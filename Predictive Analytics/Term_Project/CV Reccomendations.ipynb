{
 "cells": [
  {
   "cell_type": "code",
   "execution_count": 3,
   "metadata": {},
   "outputs": [],
   "source": [
    "import pandas as pd\n",
    "import numpy as np\n",
    "from sklearn.ensemble import RandomForestRegressor\n",
    "from sklearn.model_selection import train_test_split\n",
    "from sklearn.metrics import mean_squared_error\n",
    "from sklearn.metrics.pairwise import cosine_similarity\n",
    "from sklearn.feature_extraction.text import TfidfVectorizer"
   ]
  },
  {
   "cell_type": "code",
   "execution_count": 4,
   "metadata": {},
   "outputs": [],
   "source": [
    "df_steam_games = pd.read_csv('Prepped_games_out.csv')"
   ]
  },
  {
   "cell_type": "code",
   "execution_count": 5,
   "metadata": {},
   "outputs": [],
   "source": [
    "df_steam_games[\"Score\"] = df_steam_games[\"Positive Reviews\"] / df_steam_games['Total Reviews']\n",
    "df_rec_data = df_steam_games[['prepped_description_lemm', 'Score']]\n",
    "df_rec_data = df_rec_data.dropna()"
   ]
  },
  {
   "cell_type": "code",
   "execution_count": 6,
   "metadata": {},
   "outputs": [
    {
     "data": {
      "text/plain": [
       "Index(['App ID', 'Name', 'Short Description', 'Positive Reviews',\n",
       "       'Negative Reviews', 'Total Reviews', 'prepped_description_lemm',\n",
       "       'Score'],\n",
       "      dtype='object')"
      ]
     },
     "execution_count": 6,
     "metadata": {},
     "output_type": "execute_result"
    }
   ],
   "source": [
    "df_steam_games.columns"
   ]
  },
  {
   "cell_type": "code",
   "execution_count": 7,
   "metadata": {},
   "outputs": [],
   "source": [
    "vectorizer = TfidfVectorizer(token_pattern=r\"(?u)\\b\\w+\\b\", stop_words=None, ngram_range=(2,2), analyzer='word')\n",
    "descriptions_vec = vectorizer.fit_transform(df_rec_data['prepped_description_lemm'])"
   ]
  },
  {
   "cell_type": "code",
   "execution_count": 8,
   "metadata": {},
   "outputs": [
    {
     "name": "stdout",
     "output_type": "stream",
     "text": [
      "(43967, 563318) (10992, 563318)\n",
      "(43967,) (10992,)\n"
     ]
    }
   ],
   "source": [
    "descriptions_vec_train, descriptions_vec_test, score_train, score_test = train_test_split(descriptions_vec, df_rec_data['Score'], test_size=0.2)\n",
    "print(descriptions_vec_train.shape, descriptions_vec_test.shape)\n",
    "print(score_train.shape, score_test.shape)"
   ]
  },
  {
   "cell_type": "code",
   "execution_count": 9,
   "metadata": {},
   "outputs": [
    {
     "data": {
      "text/plain": [
       "RandomForestRegressor(max_depth=3, random_state=42)"
      ]
     },
     "execution_count": 9,
     "metadata": {},
     "output_type": "execute_result"
    }
   ],
   "source": [
    "rf = RandomForestRegressor(n_estimators=100, random_state=42, max_depth=3)\n",
    "rf.fit(descriptions_vec_train, score_train)"
   ]
  },
  {
   "cell_type": "code",
   "execution_count": null,
   "metadata": {},
   "outputs": [],
   "source": [
    "def recommend_movies(movie_name, num_recommendations=10):\n",
    "    # Find the movie description\n",
    "    movie_index = np.where(df_steam_games['APP ID'] == movie_name)[0][0]\n",
    "    movie_description = descriptions_vec[movie_index]\n",
    "    \n",
    "    # Compute the cosine similarities\n",
    "    similarities = cosine_similarity(descriptions_vec, movie_description)\n",
    "    similar_movies = np.argsort(-similarities)[1:num_recommendations+1]\n",
    "    \n",
    "    # Use the Random Forest model to make ratings predictions for the similar movies\n",
    "    similar_movies_descriptions = descriptions_vec[similar_movies]\n",
    "    similar_movies_ratings = rf.predict(similar_movies_descriptions)\n",
    "    \n",
    "    # Return the recommendations\n",
    "    recommendations = pd.DataFrame({'Movie': df_steam_games['APP ID'][similar_movies], 'Rating': similar_movies_ratings})\n",
    "    return recommendations"
   ]
  },
  {
   "cell_type": "code",
   "execution_count": null,
   "metadata": {},
   "outputs": [],
   "source": [
    "\n"
   ]
  }
 ],
 "metadata": {
  "kernelspec": {
   "display_name": "base",
   "language": "python",
   "name": "python3"
  },
  "language_info": {
   "codemirror_mode": {
    "name": "ipython",
    "version": 3
   },
   "file_extension": ".py",
   "mimetype": "text/x-python",
   "name": "python",
   "nbconvert_exporter": "python",
   "pygments_lexer": "ipython3",
   "version": "3.9.13"
  },
  "orig_nbformat": 4,
  "vscode": {
   "interpreter": {
    "hash": "ad2bdc8ecc057115af97d19610ffacc2b4e99fae6737bb82f5d7fb13d2f2c186"
   }
  }
 },
 "nbformat": 4,
 "nbformat_minor": 2
}
