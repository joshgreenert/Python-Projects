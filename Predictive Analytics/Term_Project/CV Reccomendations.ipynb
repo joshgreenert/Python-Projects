{
 "cells": [
  {
   "cell_type": "code",
   "execution_count": 1,
   "metadata": {},
   "outputs": [],
   "source": [
    "import numpy as np\n",
    "import pandas as pd\n",
    "import matplotlib.pyplot as plt\n",
    "import re\n",
    "from sklearn.feature_extraction.text import TfidfVectorizer\n",
    "from sklearn.metrics.pairwise import cosine_similarity\n",
    "from sklearn.neighbors import NearestNeighbors\n",
    "from scipy.sparse import csr_matrix"
   ]
  },
  {
   "cell_type": "code",
   "execution_count": 2,
   "metadata": {},
   "outputs": [],
   "source": [
    "df_reviews = pd.read_csv('steam_reviews.csv', low_memory=False)"
   ]
  },
  {
   "cell_type": "code",
   "execution_count": 4,
   "metadata": {},
   "outputs": [],
   "source": [
    "df_reviews = df_reviews[['app_id', 'app_name', 'review_id','recommended']]"
   ]
  },
  {
   "cell_type": "code",
   "execution_count": 7,
   "metadata": {},
   "outputs": [
    {
     "data": {
      "text/html": [
       "<div>\n",
       "<style scoped>\n",
       "    .dataframe tbody tr th:only-of-type {\n",
       "        vertical-align: middle;\n",
       "    }\n",
       "\n",
       "    .dataframe tbody tr th {\n",
       "        vertical-align: top;\n",
       "    }\n",
       "\n",
       "    .dataframe thead th {\n",
       "        text-align: right;\n",
       "    }\n",
       "</style>\n",
       "<table border=\"1\" class=\"dataframe\">\n",
       "  <thead>\n",
       "    <tr style=\"text-align: right;\">\n",
       "      <th></th>\n",
       "      <th>app_id</th>\n",
       "      <th>app_name</th>\n",
       "      <th>review_id</th>\n",
       "      <th>recommended</th>\n",
       "    </tr>\n",
       "  </thead>\n",
       "  <tbody>\n",
       "    <tr>\n",
       "      <th>13910007</th>\n",
       "      <td>578080</td>\n",
       "      <td>PLAYERUNKNOWN'S BATTLEGROUNDS</td>\n",
       "      <td>73370560</td>\n",
       "      <td>True</td>\n",
       "    </tr>\n",
       "    <tr>\n",
       "      <th>13596531</th>\n",
       "      <td>271590</td>\n",
       "      <td>Grand Theft Auto V</td>\n",
       "      <td>29039212</td>\n",
       "      <td>True</td>\n",
       "    </tr>\n",
       "    <tr>\n",
       "      <th>18385837</th>\n",
       "      <td>105600</td>\n",
       "      <td>Terraria</td>\n",
       "      <td>83216816</td>\n",
       "      <td>True</td>\n",
       "    </tr>\n",
       "    <tr>\n",
       "      <th>21025964</th>\n",
       "      <td>493340</td>\n",
       "      <td>Planet Coaster</td>\n",
       "      <td>39844043</td>\n",
       "      <td>True</td>\n",
       "    </tr>\n",
       "    <tr>\n",
       "      <th>3507638</th>\n",
       "      <td>40800</td>\n",
       "      <td>Super Meat Boy</td>\n",
       "      <td>30804334</td>\n",
       "      <td>True</td>\n",
       "    </tr>\n",
       "    <tr>\n",
       "      <th>10312537</th>\n",
       "      <td>1113000</td>\n",
       "      <td>Persona 4 Golden</td>\n",
       "      <td>70740399</td>\n",
       "      <td>True</td>\n",
       "    </tr>\n",
       "    <tr>\n",
       "      <th>14925221</th>\n",
       "      <td>578080</td>\n",
       "      <td>PLAYERUNKNOWN'S BATTLEGROUNDS</td>\n",
       "      <td>38617890</td>\n",
       "      <td>True</td>\n",
       "    </tr>\n",
       "    <tr>\n",
       "      <th>7368058</th>\n",
       "      <td>252490</td>\n",
       "      <td>Rust</td>\n",
       "      <td>73677187</td>\n",
       "      <td>True</td>\n",
       "    </tr>\n",
       "    <tr>\n",
       "      <th>10617538</th>\n",
       "      <td>435150</td>\n",
       "      <td>Divinity: Original Sin 2</td>\n",
       "      <td>46099106</td>\n",
       "      <td>True</td>\n",
       "    </tr>\n",
       "    <tr>\n",
       "      <th>18034017</th>\n",
       "      <td>322330</td>\n",
       "      <td>Don't Starve Together</td>\n",
       "      <td>81767698</td>\n",
       "      <td>True</td>\n",
       "    </tr>\n",
       "  </tbody>\n",
       "</table>\n",
       "</div>"
      ],
      "text/plain": [
       "           app_id                       app_name  review_id  recommended\n",
       "13910007   578080  PLAYERUNKNOWN'S BATTLEGROUNDS   73370560         True\n",
       "13596531   271590             Grand Theft Auto V   29039212         True\n",
       "18385837   105600                       Terraria   83216816         True\n",
       "21025964   493340                 Planet Coaster   39844043         True\n",
       "3507638     40800                 Super Meat Boy   30804334         True\n",
       "10312537  1113000               Persona 4 Golden   70740399         True\n",
       "14925221   578080  PLAYERUNKNOWN'S BATTLEGROUNDS   38617890         True\n",
       "7368058    252490                           Rust   73677187         True\n",
       "10617538   435150       Divinity: Original Sin 2   46099106         True\n",
       "18034017   322330          Don't Starve Together   81767698         True"
      ]
     },
     "execution_count": 7,
     "metadata": {},
     "output_type": "execute_result"
    }
   ],
   "source": [
    "df_reviews.sample(10)"
   ]
  }
 ],
 "metadata": {
  "kernelspec": {
   "display_name": "base",
   "language": "python",
   "name": "python3"
  },
  "language_info": {
   "codemirror_mode": {
    "name": "ipython",
    "version": 3
   },
   "file_extension": ".py",
   "mimetype": "text/x-python",
   "name": "python",
   "nbconvert_exporter": "python",
   "pygments_lexer": "ipython3",
   "version": "3.9.13"
  },
  "orig_nbformat": 4,
  "vscode": {
   "interpreter": {
    "hash": "ad2bdc8ecc057115af97d19610ffacc2b4e99fae6737bb82f5d7fb13d2f2c186"
   }
  }
 },
 "nbformat": 4,
 "nbformat_minor": 2
}
