{
 "cells": [
  {
   "cell_type": "code",
   "execution_count": 1,
   "id": "d8534b2f",
   "metadata": {},
   "outputs": [],
   "source": [
    "# Import the required libaries.\n",
    "import numpy as np\n",
    "import pandas as pd\n",
    "import matplotlib.pyplot as plt\n",
    "import re\n",
    "from sklearn.feature_extraction.text import TfidfVectorizer\n",
    "from sklearn.metrics.pairwise import cosine_similarity\n",
    "from sklearn.neighbors import NearestNeighbors\n",
    "from scipy.sparse import csr_matrix\n",
    "import nltk\n",
    "from nltk.stem.porter import PorterStemmer\n",
    "from nltk.tokenize import word_tokenize\n",
    "from nltk.stem import WordNetLemmatizer\n",
    "from nltk.corpus import stopwords\n",
    "stop_words = set(stopwords.words('english'))"
   ]
  },
  {
   "cell_type": "code",
   "execution_count": 2,
   "id": "71bc1bea",
   "metadata": {},
   "outputs": [],
   "source": [
    "# Pull in the dataframe.\n",
    "# Josh G\n",
    "df_reviews = pd.read_csv('../../../../../Downloads/steam_reviews.csv', low_memory=False)\n",
    "# Gabe\n",
    "# df_reviews = pd.read_csv('steam_reviews.csv', low_memory=False)"
   ]
  },
  {
   "cell_type": "code",
   "execution_count": 3,
   "metadata": {},
   "outputs": [
    {
     "data": {
      "text/plain": [
       "Index(['Unnamed: 0', 'app_id', 'app_name', 'review_id', 'language', 'review',\n",
       "       'timestamp_created', 'timestamp_updated', 'recommended',\n",
       "       'votes_helpful', 'votes_funny', 'weighted_vote_score', 'comment_count',\n",
       "       'steam_purchase', 'received_for_free', 'written_during_early_access',\n",
       "       'author.steamid', 'author.num_games_owned', 'author.num_reviews',\n",
       "       'author.playtime_forever', 'author.playtime_last_two_weeks',\n",
       "       'author.playtime_at_review', 'author.last_played'],\n",
       "      dtype='object')"
      ]
     },
     "execution_count": 3,
     "metadata": {},
     "output_type": "execute_result"
    }
   ],
   "source": [
    "# Display the columns for the dataframe.\n",
    "df_reviews.columns"
   ]
  },
  {
   "cell_type": "code",
   "execution_count": 4,
   "metadata": {},
   "outputs": [
    {
     "data": {
      "text/html": [
       "<div>\n",
       "<style scoped>\n",
       "    .dataframe tbody tr th:only-of-type {\n",
       "        vertical-align: middle;\n",
       "    }\n",
       "\n",
       "    .dataframe tbody tr th {\n",
       "        vertical-align: top;\n",
       "    }\n",
       "\n",
       "    .dataframe thead th {\n",
       "        text-align: right;\n",
       "    }\n",
       "</style>\n",
       "<table border=\"1\" class=\"dataframe\">\n",
       "  <thead>\n",
       "    <tr style=\"text-align: right;\">\n",
       "      <th></th>\n",
       "      <th>app_id</th>\n",
       "      <th>author.steamid</th>\n",
       "      <th>recommended</th>\n",
       "    </tr>\n",
       "  </thead>\n",
       "  <tbody>\n",
       "    <tr>\n",
       "      <th>7632068</th>\n",
       "      <td>252490</td>\n",
       "      <td>76561198152256027</td>\n",
       "      <td>True</td>\n",
       "    </tr>\n",
       "    <tr>\n",
       "      <th>2711190</th>\n",
       "      <td>240720</td>\n",
       "      <td>76561198375035879</td>\n",
       "      <td>True</td>\n",
       "    </tr>\n",
       "    <tr>\n",
       "      <th>1061998</th>\n",
       "      <td>4000</td>\n",
       "      <td>76561198987385081</td>\n",
       "      <td>True</td>\n",
       "    </tr>\n",
       "    <tr>\n",
       "      <th>16637670</th>\n",
       "      <td>346110</td>\n",
       "      <td>76561198051136506</td>\n",
       "      <td>True</td>\n",
       "    </tr>\n",
       "    <tr>\n",
       "      <th>192594</th>\n",
       "      <td>292030</td>\n",
       "      <td>76561198314917983</td>\n",
       "      <td>True</td>\n",
       "    </tr>\n",
       "  </tbody>\n",
       "</table>\n",
       "</div>"
      ],
      "text/plain": [
       "          app_id     author.steamid  recommended\n",
       "7632068   252490  76561198152256027         True\n",
       "2711190   240720  76561198375035879         True\n",
       "1061998     4000  76561198987385081         True\n",
       "16637670  346110  76561198051136506         True\n",
       "192594    292030  76561198314917983         True"
      ]
     },
     "execution_count": 4,
     "metadata": {},
     "output_type": "execute_result"
    }
   ],
   "source": [
    "user_rec_df = df_reviews[[\"app_id\",\"author.steamid\", \"recommended\"]].copy()\n",
    "user_rec_df.sample(5)"
   ]
  },
  {
   "cell_type": "code",
   "execution_count": 5,
   "metadata": {},
   "outputs": [
    {
     "name": "stdout",
     "output_type": "stream",
     "text": [
      "21747371 315 12406560\n"
     ]
    }
   ],
   "source": [
    "# going to be using thesee to create the user review matrix dimensions\n",
    "n_ratings = len(user_rec_df)\n",
    "n_games = len(user_rec_df['app_id'].unique())\n",
    "n_users = len(user_rec_df['author.steamid'].unique())\n",
    "\n",
    "print(n_ratings, n_games, n_users)"
   ]
  },
  {
   "cell_type": "code",
   "execution_count": 6,
   "metadata": {},
   "outputs": [
    {
     "name": "stdout",
     "output_type": "stream",
     "text": [
      "True\n",
      "True\n"
     ]
    }
   ],
   "source": [
    "#maps idices to users and game IDs\n",
    "user_map = dict(zip(np.unique(user_rec_df[\"author.steamid\"]), list(range(n_users))))\n",
    "game_map = dict(zip(np.unique(user_rec_df[\"app_id\"]), list(range(n_games))))\n",
    "\n",
    "print(len(user_map) == n_users)\n",
    "print(len(game_map) == n_games)\n",
    "\n",
    "user_i_map = dict(zip(list(range(n_users)), np.unique(user_rec_df[\"author.steamid\"])))\n",
    "game_i_map = dict(zip(list(range(n_games)), np.unique(user_rec_df[\"app_id\"])))"
   ]
  },
  {
   "cell_type": "code",
   "execution_count": 7,
   "metadata": {},
   "outputs": [],
   "source": [
    "# creating indices for csr_matrix\n",
    "user_index = [user_map[i] for i in user_rec_df['author.steamid']]\n",
    "game_index = [game_map[i] for i in user_rec_df['app_id']]"
   ]
  },
  {
   "cell_type": "code",
   "execution_count": 8,
   "metadata": {},
   "outputs": [],
   "source": [
    "# creates csr matrix\n",
    "matrix = csr_matrix((user_rec_df[\"recommended\"], (game_index, user_index)), shape=(n_games, n_users))"
   ]
  },
  {
   "cell_type": "code",
   "execution_count": 9,
   "metadata": {},
   "outputs": [],
   "source": [
    "# creating a dictionary to pull the name of games from based on IDs\n",
    "game_names = dict(zip(df_reviews['app_id'], df_reviews['app_name']))"
   ]
  },
  {
   "cell_type": "code",
   "execution_count": 22,
   "metadata": {},
   "outputs": [],
   "source": [
    "def find_related_games(game_id, k):\n",
    "    # going to store the IDs for nearest games\n",
    "    neighbour_ids = []\n",
    "    \n",
    "    # Honestly kinda confused as to what's going on here. I think the vectors are the euclidean distances \n",
    "    # of the other games in relation to the movie_id\n",
    "    game_index = game_map[game_id]\n",
    "    game_vector = matrix[game_index]\n",
    "    k+=1\n",
    "    # knn model fits created matrix so the \n",
    "    kNN = NearestNeighbors(algorithm = 'brute', metric='cosine')\n",
    "    kNN.fit(matrix)\n",
    "    game_vec = game_vector.reshape(1,-1)\n",
    "    # uses kneighborst to fin the 'k' most related games\n",
    "    distances, indices = kNN.kneighbors(game_vec, n_neighbors=k)\n",
    "    # adds returned list of games to neighbor_ids\n",
    "    for i in range(0,len(distances.flatten())):\n",
    "        n = indices.flatten()[i]\n",
    "        neighbour_ids.append(game_i_map[n])\n",
    "    neighbour_ids.pop(0)\n",
    "    \n",
    "    # Print the data related to the game.\n",
    "    print(f\"Games related to: {game_names[game_id]}\\n\")\n",
    "    for i in range(len(neighbour_ids)):\n",
    "        print(game_names[neighbour_ids[i]])"
   ]
  },
  {
   "cell_type": "code",
   "execution_count": 23,
   "metadata": {},
   "outputs": [
    {
     "name": "stdout",
     "output_type": "stream",
     "text": [
      "Games related to: Just Cause 3\n",
      "\n",
      "Just Cause 4\n",
      "Grand Theft Auto V\n",
      "Watch_Dogs 2\n",
      "Dying Light\n",
      "Rise of the Tomb Raider\n",
      "Far Cry 5\n",
      "DOOM\n",
      "The Witcher 3: Wild Hunt\n",
      "Fallout 4\n",
      "Garry's Mod\n"
     ]
    }
   ],
   "source": [
    "# Set a test game id and run the function.\n",
    "game_id = 225540\n",
    " \n",
    "find_related_games(game_id, k=10)"
   ]
  },
  {
   "cell_type": "code",
   "execution_count": 24,
   "metadata": {},
   "outputs": [
    {
     "name": "stdout",
     "output_type": "stream",
     "text": [
      "Games related to: Garry's Mod\n",
      "\n",
      "PAYDAY 2\n",
      "Terraria\n",
      "Portal 2\n",
      "Counter-Strike: Source\n",
      "Half-Life\n",
      "Grand Theft Auto V\n",
      "Tom Clancy's Rainbow Six Siege\n",
      "Among Us\n",
      "Rust\n",
      "People Playground\n"
     ]
    }
   ],
   "source": [
    "# Perform another test to see the results.\n",
    "game_id = 4000\n",
    "  \n",
    "find_related_games(game_id, k=10)"
   ]
  },
  {
   "cell_type": "code",
   "execution_count": 25,
   "metadata": {},
   "outputs": [
    {
     "name": "stdout",
     "output_type": "stream",
     "text": [
      "Games related to: Stardew Valley\n",
      "\n",
      "Terraria\n",
      "Don't Starve Together\n",
      "Undertale\n",
      "Slime Rancher\n",
      "My Time At Portia\n",
      "Hollow Knight\n",
      "The Witcher 3: Wild Hunt\n",
      "RimWorld\n",
      "The Elder Scrolls V: Skyrim\n",
      "The Binding of Isaac: Rebirth\n"
     ]
    }
   ],
   "source": [
    "# Perform another test to see the results.\n",
    "game_id = 413150\n",
    "\n",
    "find_related_games(game_id, k=10)"
   ]
  },
  {
   "cell_type": "code",
   "execution_count": null,
   "metadata": {},
   "outputs": [],
   "source": []
  }
 ],
 "metadata": {
  "kernelspec": {
   "display_name": "Python 3 (ipykernel)",
   "language": "python",
   "name": "python3"
  },
  "language_info": {
   "codemirror_mode": {
    "name": "ipython",
    "version": 3
   },
   "file_extension": ".py",
   "mimetype": "text/x-python",
   "name": "python",
   "nbconvert_exporter": "python",
   "pygments_lexer": "ipython3",
   "version": "3.9.12"
  },
  "vscode": {
   "interpreter": {
    "hash": "ad2bdc8ecc057115af97d19610ffacc2b4e99fae6737bb82f5d7fb13d2f2c186"
   }
  }
 },
 "nbformat": 4,
 "nbformat_minor": 2
}
