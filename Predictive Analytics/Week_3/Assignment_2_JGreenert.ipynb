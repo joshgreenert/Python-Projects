{
 "cells": [
  {
   "cell_type": "markdown",
   "id": "e1d30438",
   "metadata": {},
   "source": [
    "# Predictive Analytics: Assignment 3.2\n",
    "#### Joshua Greenert\n",
    "#### DSC630-T301 Predictive Analytics\n",
    "#### 12/14/2022"
   ]
  },
  {
   "cell_type": "code",
   "execution_count": 1,
   "id": "66b9e5ce",
   "metadata": {},
   "outputs": [
    {
     "data": {
      "text/html": [
       "<div>\n",
       "<style scoped>\n",
       "    .dataframe tbody tr th:only-of-type {\n",
       "        vertical-align: middle;\n",
       "    }\n",
       "\n",
       "    .dataframe tbody tr th {\n",
       "        vertical-align: top;\n",
       "    }\n",
       "\n",
       "    .dataframe thead th {\n",
       "        text-align: right;\n",
       "    }\n",
       "</style>\n",
       "<table border=\"1\" class=\"dataframe\">\n",
       "  <thead>\n",
       "    <tr style=\"text-align: right;\">\n",
       "      <th></th>\n",
       "      <th>month</th>\n",
       "      <th>day</th>\n",
       "      <th>attend</th>\n",
       "      <th>day_of_week</th>\n",
       "      <th>opponent</th>\n",
       "      <th>temp</th>\n",
       "      <th>skies</th>\n",
       "      <th>day_night</th>\n",
       "      <th>cap</th>\n",
       "      <th>shirt</th>\n",
       "      <th>fireworks</th>\n",
       "      <th>bobblehead</th>\n",
       "    </tr>\n",
       "  </thead>\n",
       "  <tbody>\n",
       "    <tr>\n",
       "      <th>0</th>\n",
       "      <td>APR</td>\n",
       "      <td>10</td>\n",
       "      <td>56000</td>\n",
       "      <td>Tuesday</td>\n",
       "      <td>Pirates</td>\n",
       "      <td>67</td>\n",
       "      <td>Clear</td>\n",
       "      <td>Day</td>\n",
       "      <td>NO</td>\n",
       "      <td>NO</td>\n",
       "      <td>NO</td>\n",
       "      <td>NO</td>\n",
       "    </tr>\n",
       "    <tr>\n",
       "      <th>1</th>\n",
       "      <td>APR</td>\n",
       "      <td>11</td>\n",
       "      <td>29729</td>\n",
       "      <td>Wednesday</td>\n",
       "      <td>Pirates</td>\n",
       "      <td>58</td>\n",
       "      <td>Cloudy</td>\n",
       "      <td>Night</td>\n",
       "      <td>NO</td>\n",
       "      <td>NO</td>\n",
       "      <td>NO</td>\n",
       "      <td>NO</td>\n",
       "    </tr>\n",
       "    <tr>\n",
       "      <th>2</th>\n",
       "      <td>APR</td>\n",
       "      <td>12</td>\n",
       "      <td>28328</td>\n",
       "      <td>Thursday</td>\n",
       "      <td>Pirates</td>\n",
       "      <td>57</td>\n",
       "      <td>Cloudy</td>\n",
       "      <td>Night</td>\n",
       "      <td>NO</td>\n",
       "      <td>NO</td>\n",
       "      <td>NO</td>\n",
       "      <td>NO</td>\n",
       "    </tr>\n",
       "    <tr>\n",
       "      <th>3</th>\n",
       "      <td>APR</td>\n",
       "      <td>13</td>\n",
       "      <td>31601</td>\n",
       "      <td>Friday</td>\n",
       "      <td>Padres</td>\n",
       "      <td>54</td>\n",
       "      <td>Cloudy</td>\n",
       "      <td>Night</td>\n",
       "      <td>NO</td>\n",
       "      <td>NO</td>\n",
       "      <td>YES</td>\n",
       "      <td>NO</td>\n",
       "    </tr>\n",
       "    <tr>\n",
       "      <th>4</th>\n",
       "      <td>APR</td>\n",
       "      <td>14</td>\n",
       "      <td>46549</td>\n",
       "      <td>Saturday</td>\n",
       "      <td>Padres</td>\n",
       "      <td>57</td>\n",
       "      <td>Cloudy</td>\n",
       "      <td>Night</td>\n",
       "      <td>NO</td>\n",
       "      <td>NO</td>\n",
       "      <td>NO</td>\n",
       "      <td>NO</td>\n",
       "    </tr>\n",
       "  </tbody>\n",
       "</table>\n",
       "</div>"
      ],
      "text/plain": [
       "  month  day  attend day_of_week opponent  temp   skies day_night cap shirt  \\\n",
       "0   APR   10   56000     Tuesday  Pirates    67  Clear        Day  NO    NO   \n",
       "1   APR   11   29729   Wednesday  Pirates    58  Cloudy     Night  NO    NO   \n",
       "2   APR   12   28328    Thursday  Pirates    57  Cloudy     Night  NO    NO   \n",
       "3   APR   13   31601      Friday   Padres    54  Cloudy     Night  NO    NO   \n",
       "4   APR   14   46549    Saturday   Padres    57  Cloudy     Night  NO    NO   \n",
       "\n",
       "  fireworks bobblehead  \n",
       "0        NO         NO  \n",
       "1        NO         NO  \n",
       "2        NO         NO  \n",
       "3       YES         NO  \n",
       "4        NO         NO  "
      ]
     },
     "execution_count": 1,
     "metadata": {},
     "output_type": "execute_result"
    }
   ],
   "source": [
    "# Import the required libaries.\n",
    "import numpy as np\n",
    "import pandas as pd\n",
    "import matplotlib.pyplot as plt\n",
    "\n",
    "# Pull in the data to begin preparation.\n",
    "df_mlb = pd.read_csv('dodgers-2022.csv')\n",
    "df_mlb.head(5)"
   ]
  },
  {
   "cell_type": "code",
   "execution_count": 5,
   "id": "9d523cb9",
   "metadata": {},
   "outputs": [
    {
     "data": {
      "image/png": "[encoded data removed]",
      "text/plain": [
       "<Figure size 432x288 with 1 Axes>"
      ]
     },
     "metadata": {
      "needs_background": "light"
     },
     "output_type": "display_data"
    }
   ],
   "source": [
    "# Create some scatter plots to check the data.\n",
    "ax = df_mlb.plot.scatter(x='attend', y='day', colormap='viridis')"
   ]
  },
  {
   "cell_type": "markdown",
   "id": "605ae56e",
   "metadata": {},
   "source": [
    "There's nothing statistically significant with the day from this observation.  The hope was to find out whether there were more attendees during the beginning or end of the month.  However, this appears to be scattered randomly."
   ]
  },
  {
   "cell_type": "markdown",
   "id": "5888eafb",
   "metadata": {},
   "source": [
    "## Data Preparation"
   ]
  },
  {
   "cell_type": "code",
   "execution_count": 7,
   "id": "c8f34e21",
   "metadata": {},
   "outputs": [
    {
     "data": {
      "text/html": [
       "<div>\n",
       "<style scoped>\n",
       "    .dataframe tbody tr th:only-of-type {\n",
       "        vertical-align: middle;\n",
       "    }\n",
       "\n",
       "    .dataframe tbody tr th {\n",
       "        vertical-align: top;\n",
       "    }\n",
       "\n",
       "    .dataframe thead th {\n",
       "        text-align: right;\n",
       "    }\n",
       "</style>\n",
       "<table border=\"1\" class=\"dataframe\">\n",
       "  <thead>\n",
       "    <tr style=\"text-align: right;\">\n",
       "      <th></th>\n",
       "      <th>day</th>\n",
       "      <th>attend</th>\n",
       "      <th>temp</th>\n",
       "      <th>month_APR</th>\n",
       "      <th>month_AUG</th>\n",
       "      <th>month_JUL</th>\n",
       "      <th>month_JUN</th>\n",
       "      <th>month_MAY</th>\n",
       "      <th>month_OCT</th>\n",
       "      <th>month_SEP</th>\n",
       "      <th>...</th>\n",
       "      <th>day_night_Day</th>\n",
       "      <th>day_night_Night</th>\n",
       "      <th>cap_NO</th>\n",
       "      <th>cap_YES</th>\n",
       "      <th>shirt_NO</th>\n",
       "      <th>shirt_YES</th>\n",
       "      <th>fireworks_NO</th>\n",
       "      <th>fireworks_YES</th>\n",
       "      <th>bobblehead_NO</th>\n",
       "      <th>bobblehead_YES</th>\n",
       "    </tr>\n",
       "  </thead>\n",
       "  <tbody>\n",
       "    <tr>\n",
       "      <th>0</th>\n",
       "      <td>10</td>\n",
       "      <td>56000</td>\n",
       "      <td>67</td>\n",
       "      <td>1</td>\n",
       "      <td>0</td>\n",
       "      <td>0</td>\n",
       "      <td>0</td>\n",
       "      <td>0</td>\n",
       "      <td>0</td>\n",
       "      <td>0</td>\n",
       "      <td>...</td>\n",
       "      <td>1</td>\n",
       "      <td>0</td>\n",
       "      <td>1</td>\n",
       "      <td>0</td>\n",
       "      <td>1</td>\n",
       "      <td>0</td>\n",
       "      <td>1</td>\n",
       "      <td>0</td>\n",
       "      <td>1</td>\n",
       "      <td>0</td>\n",
       "    </tr>\n",
       "    <tr>\n",
       "      <th>1</th>\n",
       "      <td>11</td>\n",
       "      <td>29729</td>\n",
       "      <td>58</td>\n",
       "      <td>1</td>\n",
       "      <td>0</td>\n",
       "      <td>0</td>\n",
       "      <td>0</td>\n",
       "      <td>0</td>\n",
       "      <td>0</td>\n",
       "      <td>0</td>\n",
       "      <td>...</td>\n",
       "      <td>0</td>\n",
       "      <td>1</td>\n",
       "      <td>1</td>\n",
       "      <td>0</td>\n",
       "      <td>1</td>\n",
       "      <td>0</td>\n",
       "      <td>1</td>\n",
       "      <td>0</td>\n",
       "      <td>1</td>\n",
       "      <td>0</td>\n",
       "    </tr>\n",
       "    <tr>\n",
       "      <th>2</th>\n",
       "      <td>12</td>\n",
       "      <td>28328</td>\n",
       "      <td>57</td>\n",
       "      <td>1</td>\n",
       "      <td>0</td>\n",
       "      <td>0</td>\n",
       "      <td>0</td>\n",
       "      <td>0</td>\n",
       "      <td>0</td>\n",
       "      <td>0</td>\n",
       "      <td>...</td>\n",
       "      <td>0</td>\n",
       "      <td>1</td>\n",
       "      <td>1</td>\n",
       "      <td>0</td>\n",
       "      <td>1</td>\n",
       "      <td>0</td>\n",
       "      <td>1</td>\n",
       "      <td>0</td>\n",
       "      <td>1</td>\n",
       "      <td>0</td>\n",
       "    </tr>\n",
       "    <tr>\n",
       "      <th>3</th>\n",
       "      <td>13</td>\n",
       "      <td>31601</td>\n",
       "      <td>54</td>\n",
       "      <td>1</td>\n",
       "      <td>0</td>\n",
       "      <td>0</td>\n",
       "      <td>0</td>\n",
       "      <td>0</td>\n",
       "      <td>0</td>\n",
       "      <td>0</td>\n",
       "      <td>...</td>\n",
       "      <td>0</td>\n",
       "      <td>1</td>\n",
       "      <td>1</td>\n",
       "      <td>0</td>\n",
       "      <td>1</td>\n",
       "      <td>0</td>\n",
       "      <td>0</td>\n",
       "      <td>1</td>\n",
       "      <td>1</td>\n",
       "      <td>0</td>\n",
       "    </tr>\n",
       "    <tr>\n",
       "      <th>4</th>\n",
       "      <td>14</td>\n",
       "      <td>46549</td>\n",
       "      <td>57</td>\n",
       "      <td>1</td>\n",
       "      <td>0</td>\n",
       "      <td>0</td>\n",
       "      <td>0</td>\n",
       "      <td>0</td>\n",
       "      <td>0</td>\n",
       "      <td>0</td>\n",
       "      <td>...</td>\n",
       "      <td>0</td>\n",
       "      <td>1</td>\n",
       "      <td>1</td>\n",
       "      <td>0</td>\n",
       "      <td>1</td>\n",
       "      <td>0</td>\n",
       "      <td>1</td>\n",
       "      <td>0</td>\n",
       "      <td>1</td>\n",
       "      <td>0</td>\n",
       "    </tr>\n",
       "  </tbody>\n",
       "</table>\n",
       "<p>5 rows × 46 columns</p>\n",
       "</div>"
      ],
      "text/plain": [
       "   day  attend  temp  month_APR  month_AUG  month_JUL  month_JUN  month_MAY  \\\n",
       "0   10   56000    67          1          0          0          0          0   \n",
       "1   11   29729    58          1          0          0          0          0   \n",
       "2   12   28328    57          1          0          0          0          0   \n",
       "3   13   31601    54          1          0          0          0          0   \n",
       "4   14   46549    57          1          0          0          0          0   \n",
       "\n",
       "   month_OCT  month_SEP  ...  day_night_Day  day_night_Night  cap_NO  cap_YES  \\\n",
       "0          0          0  ...              1                0       1        0   \n",
       "1          0          0  ...              0                1       1        0   \n",
       "2          0          0  ...              0                1       1        0   \n",
       "3          0          0  ...              0                1       1        0   \n",
       "4          0          0  ...              0                1       1        0   \n",
       "\n",
       "   shirt_NO  shirt_YES  fireworks_NO  fireworks_YES  bobblehead_NO  \\\n",
       "0         1          0             1              0              1   \n",
       "1         1          0             1              0              1   \n",
       "2         1          0             1              0              1   \n",
       "3         1          0             0              1              1   \n",
       "4         1          0             1              0              1   \n",
       "\n",
       "   bobblehead_YES  \n",
       "0               0  \n",
       "1               0  \n",
       "2               0  \n",
       "3               0  \n",
       "4               0  \n",
       "\n",
       "[5 rows x 46 columns]"
      ]
     },
     "execution_count": 7,
     "metadata": {},
     "output_type": "execute_result"
    }
   ],
   "source": [
    "# Make dummies from the data.\n",
    "df_mlb_dummies = pd.get_dummies(df_mlb)\n",
    "\n",
    "# Show the new dataframe.\n",
    "df_mlb_dummies.head(5)"
   ]
  },
  {
   "cell_type": "markdown",
   "id": "fcb3f0dc",
   "metadata": {},
   "source": [
    "We can convert all of the categorical values to dummies so that the data can be researched further with predictions.  Additionally, certain columns can be removed since they would provide potential for false positives.  These columns include any of the columns that include a yes or no (cap, shirt, fireworks, bobblehead); the columns that are listed as no in this dataset provide no real insight to the outcome.  Therefore, we can remove them to improve our future predictions/feature selection."
   ]
  },
  {
   "cell_type": "code",
   "execution_count": 11,
   "id": "2b14d74b",
   "metadata": {},
   "outputs": [
    {
     "data": {
      "text/html": [
       "<div>\n",
       "<style scoped>\n",
       "    .dataframe tbody tr th:only-of-type {\n",
       "        vertical-align: middle;\n",
       "    }\n",
       "\n",
       "    .dataframe tbody tr th {\n",
       "        vertical-align: top;\n",
       "    }\n",
       "\n",
       "    .dataframe thead th {\n",
       "        text-align: right;\n",
       "    }\n",
       "</style>\n",
       "<table border=\"1\" class=\"dataframe\">\n",
       "  <thead>\n",
       "    <tr style=\"text-align: right;\">\n",
       "      <th></th>\n",
       "      <th>day</th>\n",
       "      <th>attend</th>\n",
       "      <th>temp</th>\n",
       "      <th>month_APR</th>\n",
       "      <th>month_AUG</th>\n",
       "      <th>month_JUL</th>\n",
       "      <th>month_JUN</th>\n",
       "      <th>month_MAY</th>\n",
       "      <th>month_OCT</th>\n",
       "      <th>month_SEP</th>\n",
       "      <th>...</th>\n",
       "      <th>opponent_Snakes</th>\n",
       "      <th>opponent_White Sox</th>\n",
       "      <th>skies_Clear</th>\n",
       "      <th>skies_Cloudy</th>\n",
       "      <th>day_night_Day</th>\n",
       "      <th>day_night_Night</th>\n",
       "      <th>cap_YES</th>\n",
       "      <th>shirt_YES</th>\n",
       "      <th>fireworks_YES</th>\n",
       "      <th>bobblehead_YES</th>\n",
       "    </tr>\n",
       "  </thead>\n",
       "  <tbody>\n",
       "    <tr>\n",
       "      <th>0</th>\n",
       "      <td>10</td>\n",
       "      <td>56000</td>\n",
       "      <td>67</td>\n",
       "      <td>1</td>\n",
       "      <td>0</td>\n",
       "      <td>0</td>\n",
       "      <td>0</td>\n",
       "      <td>0</td>\n",
       "      <td>0</td>\n",
       "      <td>0</td>\n",
       "      <td>...</td>\n",
       "      <td>0</td>\n",
       "      <td>0</td>\n",
       "      <td>1</td>\n",
       "      <td>0</td>\n",
       "      <td>1</td>\n",
       "      <td>0</td>\n",
       "      <td>0</td>\n",
       "      <td>0</td>\n",
       "      <td>0</td>\n",
       "      <td>0</td>\n",
       "    </tr>\n",
       "    <tr>\n",
       "      <th>1</th>\n",
       "      <td>11</td>\n",
       "      <td>29729</td>\n",
       "      <td>58</td>\n",
       "      <td>1</td>\n",
       "      <td>0</td>\n",
       "      <td>0</td>\n",
       "      <td>0</td>\n",
       "      <td>0</td>\n",
       "      <td>0</td>\n",
       "      <td>0</td>\n",
       "      <td>...</td>\n",
       "      <td>0</td>\n",
       "      <td>0</td>\n",
       "      <td>0</td>\n",
       "      <td>1</td>\n",
       "      <td>0</td>\n",
       "      <td>1</td>\n",
       "      <td>0</td>\n",
       "      <td>0</td>\n",
       "      <td>0</td>\n",
       "      <td>0</td>\n",
       "    </tr>\n",
       "    <tr>\n",
       "      <th>2</th>\n",
       "      <td>12</td>\n",
       "      <td>28328</td>\n",
       "      <td>57</td>\n",
       "      <td>1</td>\n",
       "      <td>0</td>\n",
       "      <td>0</td>\n",
       "      <td>0</td>\n",
       "      <td>0</td>\n",
       "      <td>0</td>\n",
       "      <td>0</td>\n",
       "      <td>...</td>\n",
       "      <td>0</td>\n",
       "      <td>0</td>\n",
       "      <td>0</td>\n",
       "      <td>1</td>\n",
       "      <td>0</td>\n",
       "      <td>1</td>\n",
       "      <td>0</td>\n",
       "      <td>0</td>\n",
       "      <td>0</td>\n",
       "      <td>0</td>\n",
       "    </tr>\n",
       "    <tr>\n",
       "      <th>3</th>\n",
       "      <td>13</td>\n",
       "      <td>31601</td>\n",
       "      <td>54</td>\n",
       "      <td>1</td>\n",
       "      <td>0</td>\n",
       "      <td>0</td>\n",
       "      <td>0</td>\n",
       "      <td>0</td>\n",
       "      <td>0</td>\n",
       "      <td>0</td>\n",
       "      <td>...</td>\n",
       "      <td>0</td>\n",
       "      <td>0</td>\n",
       "      <td>0</td>\n",
       "      <td>1</td>\n",
       "      <td>0</td>\n",
       "      <td>1</td>\n",
       "      <td>0</td>\n",
       "      <td>0</td>\n",
       "      <td>1</td>\n",
       "      <td>0</td>\n",
       "    </tr>\n",
       "    <tr>\n",
       "      <th>4</th>\n",
       "      <td>14</td>\n",
       "      <td>46549</td>\n",
       "      <td>57</td>\n",
       "      <td>1</td>\n",
       "      <td>0</td>\n",
       "      <td>0</td>\n",
       "      <td>0</td>\n",
       "      <td>0</td>\n",
       "      <td>0</td>\n",
       "      <td>0</td>\n",
       "      <td>...</td>\n",
       "      <td>0</td>\n",
       "      <td>0</td>\n",
       "      <td>0</td>\n",
       "      <td>1</td>\n",
       "      <td>0</td>\n",
       "      <td>1</td>\n",
       "      <td>0</td>\n",
       "      <td>0</td>\n",
       "      <td>0</td>\n",
       "      <td>0</td>\n",
       "    </tr>\n",
       "  </tbody>\n",
       "</table>\n",
       "<p>5 rows × 42 columns</p>\n",
       "</div>"
      ],
      "text/plain": [
       "   day  attend  temp  month_APR  month_AUG  month_JUL  month_JUN  month_MAY  \\\n",
       "0   10   56000    67          1          0          0          0          0   \n",
       "1   11   29729    58          1          0          0          0          0   \n",
       "2   12   28328    57          1          0          0          0          0   \n",
       "3   13   31601    54          1          0          0          0          0   \n",
       "4   14   46549    57          1          0          0          0          0   \n",
       "\n",
       "   month_OCT  month_SEP  ...  opponent_Snakes  opponent_White Sox  \\\n",
       "0          0          0  ...                0                   0   \n",
       "1          0          0  ...                0                   0   \n",
       "2          0          0  ...                0                   0   \n",
       "3          0          0  ...                0                   0   \n",
       "4          0          0  ...                0                   0   \n",
       "\n",
       "   skies_Clear   skies_Cloudy  day_night_Day  day_night_Night  cap_YES  \\\n",
       "0             1             0              1                0        0   \n",
       "1             0             1              0                1        0   \n",
       "2             0             1              0                1        0   \n",
       "3             0             1              0                1        0   \n",
       "4             0             1              0                1        0   \n",
       "\n",
       "   shirt_YES  fireworks_YES  bobblehead_YES  \n",
       "0          0              0               0  \n",
       "1          0              0               0  \n",
       "2          0              0               0  \n",
       "3          0              1               0  \n",
       "4          0              0               0  \n",
       "\n",
       "[5 rows x 42 columns]"
      ]
     },
     "execution_count": 11,
     "metadata": {},
     "output_type": "execute_result"
    }
   ],
   "source": [
    "# Remove the columns that don't provide insight.\n",
    "df_mlb_dummies.drop(['cap_NO', 'shirt_NO', 'fireworks_NO', 'bobblehead_NO'], axis=1, inplace=True)\n",
    "\n",
    "# Show the dataframe.\n",
    "df_mlb_dummies.head(5)"
   ]
  },
  {
   "cell_type": "markdown",
   "id": "ff538eaa",
   "metadata": {},
   "source": [
    "## Charts and Graphs"
   ]
  },
  {
   "cell_type": "code",
   "execution_count": 14,
   "id": "ad6777a5",
   "metadata": {},
   "outputs": [
    {
     "data": {
      "image/png": "[encoded data removed]",
      "text/plain": [
       "<Figure size 432x288 with 1 Axes>"
      ]
     },
     "metadata": {
      "needs_background": "light"
     },
     "output_type": "display_data"
    }
   ],
   "source": [
    "# Review the temperature.\n",
    "ax = df_mlb_dummies.plot.scatter(x='attend', y='temp')"
   ]
  },
  {
   "cell_type": "markdown",
   "id": "1d9fe908",
   "metadata": {},
   "source": [
    "On the surface, this data doesn't look to provide much insight.  However, the data shows that at the highest levels of attendance typically has a range of 68 to 80 degrees for the weather.  This may prove useful later on the feature selection phase."
   ]
  },
  {
   "cell_type": "code",
   "execution_count": 40,
   "id": "8138c9e6",
   "metadata": {},
   "outputs": [
    {
     "data": {
      "image/png": "[encoded data removed]",
      "text/plain": [
       "<Figure size 432x288 with 1 Axes>"
      ]
     },
     "metadata": {
      "needs_background": "light"
     },
     "output_type": "display_data"
    }
   ],
   "source": [
    "# Bar graphs with yes values for item giveaways.\n",
    "# Set a new dataframe for this subplot process.\n",
    "df_giveaways = pd.DataFrame(df_mlb_dummies, columns=['attend', 'cap_YES', 'shirt_YES', 'fireworks_YES', 'bobblehead_YES'])\n",
    "\n",
    "# Show the caps.\n",
    "ax = df_giveaways.plot.scatter(x='cap_YES', y='attend', rot=10)"
   ]
  },
  {
   "cell_type": "code",
   "execution_count": 37,
   "id": "41922f55",
   "metadata": {},
   "outputs": [
    {
     "data": {
      "image/png": "[encoded data removed]",
      "text/plain": [
       "<Figure size 432x288 with 1 Axes>"
      ]
     },
     "metadata": {
      "needs_background": "light"
     },
     "output_type": "display_data"
    }
   ],
   "source": [
    "# Show the shirts.\n",
    "ax = df_giveaways.plot.scatter(x='shirt_YES', y='attend', rot=10)"
   ]
  },
  {
   "cell_type": "code",
   "execution_count": 36,
   "id": "e5038f89",
   "metadata": {},
   "outputs": [
    {
     "data": {
      "image/png": "[encoded data removed]",
      "text/plain": [
       "<Figure size 432x288 with 1 Axes>"
      ]
     },
     "metadata": {
      "needs_background": "light"
     },
     "output_type": "display_data"
    }
   ],
   "source": [
    "# Show the fireworks.\n",
    "ax = df_giveaways.plot.scatter(x='fireworks_YES', y='attend', rot=10)"
   ]
  },
  {
   "cell_type": "code",
   "execution_count": 35,
   "id": "d6a851d1",
   "metadata": {},
   "outputs": [
    {
     "data": {
      "image/png": "[encoded data removed]",
      "text/plain": [
       "<Figure size 432x288 with 1 Axes>"
      ]
     },
     "metadata": {
      "needs_background": "light"
     },
     "output_type": "display_data"
    }
   ],
   "source": [
    "# Show the bobbleheads.\n",
    "ax = df_giveaways.plot.scatter(x='bobblehead_YES', y='attend', rot=10)"
   ]
  },
  {
   "cell_type": "markdown",
   "id": "55d113aa",
   "metadata": {},
   "source": [
    "When initially revewing the data, I presumed that the giveaways wouldn't be too insightful.  After providing more scatter plots, it's clear that bobblehead giveaways appear during the same time as the highest attendance.  Meanwhile, caps and fireworks didn't appear to be This is not conclusive yet, but may be a potential solution for the final recommendations."
   ]
  },
  {
   "cell_type": "code",
   "execution_count": null,
   "id": "ab44046c",
   "metadata": {},
   "outputs": [],
   "source": []
  }
 ],
 "metadata": {
  "kernelspec": {
   "display_name": "Python 3 (ipykernel)",
   "language": "python",
   "name": "python3"
  },
  "language_info": {
   "codemirror_mode": {
    "name": "ipython",
    "version": 3
   },
   "file_extension": ".py",
   "mimetype": "text/x-python",
   "name": "python",
   "nbconvert_exporter": "python",
   "pygments_lexer": "ipython3",
   "version": "3.9.12"
  }
 },
 "nbformat": 4,
 "nbformat_minor": 5
}
