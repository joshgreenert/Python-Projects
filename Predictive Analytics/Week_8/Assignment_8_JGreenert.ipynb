{
 "cells": [
  {
   "cell_type": "markdown",
   "id": "e8472fcd",
   "metadata": {},
   "source": [
    "# Predictive Analytics: Assignment 8.2\n",
    "#### Joshua Greenert\n",
    "#### DSC630-T301 Predictive Analytics\n",
    "#### 1/29/2023"
   ]
  },
  {
   "cell_type": "code",
   "execution_count": 2,
   "id": "d7a97668",
   "metadata": {},
   "outputs": [
    {
     "data": {
      "text/html": [
       "<div>\n",
       "<style scoped>\n",
       "    .dataframe tbody tr th:only-of-type {\n",
       "        vertical-align: middle;\n",
       "    }\n",
       "\n",
       "    .dataframe tbody tr th {\n",
       "        vertical-align: top;\n",
       "    }\n",
       "\n",
       "    .dataframe thead th {\n",
       "        text-align: right;\n",
       "    }\n",
       "</style>\n",
       "<table border=\"1\" class=\"dataframe\">\n",
       "  <thead>\n",
       "    <tr style=\"text-align: right;\">\n",
       "      <th></th>\n",
       "      <th>YEAR</th>\n",
       "      <th>JAN</th>\n",
       "      <th>FEB</th>\n",
       "      <th>MAR</th>\n",
       "      <th>APR</th>\n",
       "      <th>MAY</th>\n",
       "      <th>JUN</th>\n",
       "      <th>JUL</th>\n",
       "      <th>AUG</th>\n",
       "      <th>SEP</th>\n",
       "      <th>OCT</th>\n",
       "      <th>NOV</th>\n",
       "      <th>DEC</th>\n",
       "    </tr>\n",
       "  </thead>\n",
       "  <tbody>\n",
       "    <tr>\n",
       "      <th>0</th>\n",
       "      <td>1992</td>\n",
       "      <td>146925</td>\n",
       "      <td>147223</td>\n",
       "      <td>146805</td>\n",
       "      <td>148032</td>\n",
       "      <td>149010</td>\n",
       "      <td>149800</td>\n",
       "      <td>150761.0</td>\n",
       "      <td>151067.0</td>\n",
       "      <td>152588.0</td>\n",
       "      <td>153521.0</td>\n",
       "      <td>153583.0</td>\n",
       "      <td>155614.0</td>\n",
       "    </tr>\n",
       "    <tr>\n",
       "      <th>1</th>\n",
       "      <td>1993</td>\n",
       "      <td>157555</td>\n",
       "      <td>156266</td>\n",
       "      <td>154752</td>\n",
       "      <td>158979</td>\n",
       "      <td>160605</td>\n",
       "      <td>160127</td>\n",
       "      <td>162816.0</td>\n",
       "      <td>162506.0</td>\n",
       "      <td>163258.0</td>\n",
       "      <td>164685.0</td>\n",
       "      <td>166594.0</td>\n",
       "      <td>168161.0</td>\n",
       "    </tr>\n",
       "    <tr>\n",
       "      <th>2</th>\n",
       "      <td>1994</td>\n",
       "      <td>167518</td>\n",
       "      <td>169649</td>\n",
       "      <td>172766</td>\n",
       "      <td>173106</td>\n",
       "      <td>172329</td>\n",
       "      <td>174241</td>\n",
       "      <td>174781.0</td>\n",
       "      <td>177295.0</td>\n",
       "      <td>178787.0</td>\n",
       "      <td>180561.0</td>\n",
       "      <td>180703.0</td>\n",
       "      <td>181524.0</td>\n",
       "    </tr>\n",
       "    <tr>\n",
       "      <th>3</th>\n",
       "      <td>1995</td>\n",
       "      <td>182413</td>\n",
       "      <td>179488</td>\n",
       "      <td>181013</td>\n",
       "      <td>181686</td>\n",
       "      <td>183536</td>\n",
       "      <td>186081</td>\n",
       "      <td>185431.0</td>\n",
       "      <td>186806.0</td>\n",
       "      <td>187366.0</td>\n",
       "      <td>186565.0</td>\n",
       "      <td>189055.0</td>\n",
       "      <td>190774.0</td>\n",
       "    </tr>\n",
       "    <tr>\n",
       "      <th>4</th>\n",
       "      <td>1996</td>\n",
       "      <td>189135</td>\n",
       "      <td>192266</td>\n",
       "      <td>194029</td>\n",
       "      <td>194744</td>\n",
       "      <td>196205</td>\n",
       "      <td>196136</td>\n",
       "      <td>196187.0</td>\n",
       "      <td>196218.0</td>\n",
       "      <td>198859.0</td>\n",
       "      <td>200509.0</td>\n",
       "      <td>200174.0</td>\n",
       "      <td>201284.0</td>\n",
       "    </tr>\n",
       "  </tbody>\n",
       "</table>\n",
       "</div>"
      ],
      "text/plain": [
       "   YEAR     JAN     FEB     MAR     APR     MAY     JUN       JUL       AUG  \\\n",
       "0  1992  146925  147223  146805  148032  149010  149800  150761.0  151067.0   \n",
       "1  1993  157555  156266  154752  158979  160605  160127  162816.0  162506.0   \n",
       "2  1994  167518  169649  172766  173106  172329  174241  174781.0  177295.0   \n",
       "3  1995  182413  179488  181013  181686  183536  186081  185431.0  186806.0   \n",
       "4  1996  189135  192266  194029  194744  196205  196136  196187.0  196218.0   \n",
       "\n",
       "        SEP       OCT       NOV       DEC  \n",
       "0  152588.0  153521.0  153583.0  155614.0  \n",
       "1  163258.0  164685.0  166594.0  168161.0  \n",
       "2  178787.0  180561.0  180703.0  181524.0  \n",
       "3  187366.0  186565.0  189055.0  190774.0  \n",
       "4  198859.0  200509.0  200174.0  201284.0  "
      ]
     },
     "execution_count": 2,
     "metadata": {},
     "output_type": "execute_result"
    }
   ],
   "source": [
    "# Import the required libaries.\n",
    "import numpy as np\n",
    "import pandas as pd\n",
    "import matplotlib.pyplot as plt\n",
    "\n",
    "# Pull in the data to begin preparation.\n",
    "df_sales = pd.read_csv('us_retail_sales.csv')\n",
    "df_sales.head(5)"
   ]
  },
  {
   "cell_type": "markdown",
   "id": "975a5af0",
   "metadata": {},
   "source": [
    "## Plot the data with proper labeling and make some observations on the graph."
   ]
  },
  {
   "cell_type": "code",
   "execution_count": 8,
   "id": "da3c8cd2",
   "metadata": {
    "scrolled": true
   },
   "outputs": [
    {
     "data": {
      "image/png": "[encoded data removed]",
      "text/plain": [
       "<Figure size 432x288 with 1 Axes>"
      ]
     },
     "metadata": {
      "needs_background": "light"
     },
     "output_type": "display_data"
    }
   ],
   "source": [
    "# Plot 6 months of data simultaneously.\n",
    "plt.scatter(x = df_sales[\"JAN\"], y = df_sales[\"YEAR\"])\n",
    "plt.scatter(x = df_sales[\"FEB\"], y = df_sales[\"YEAR\"])\n",
    "plt.scatter(x = df_sales[\"MAR\"], y = df_sales[\"YEAR\"])\n",
    "plt.scatter(x = df_sales[\"APR\"], y = df_sales[\"YEAR\"])\n",
    "plt.scatter(x = df_sales[\"MAY\"], y = df_sales[\"YEAR\"])\n",
    "plt.scatter(x = df_sales[\"JUN\"], y = df_sales[\"YEAR\"])\n",
    "plt.show()"
   ]
  },
  {
   "cell_type": "markdown",
   "id": "d41e87f5",
   "metadata": {},
   "source": [
    "The data displayed from the first 6 months appears almost identical.  However, the biggest difference in values happens in the year 2020 which could be the result of incomplete data or some significant event (i.e. Covid)."
   ]
  },
  {
   "cell_type": "code",
   "execution_count": 9,
   "id": "834b4099",
   "metadata": {
    "scrolled": true
   },
   "outputs": [
    {
     "data": {
      "image/png": "[encoded data removed]",
      "text/plain": [
       "<Figure size 432x288 with 1 Axes>"
      ]
     },
     "metadata": {
      "needs_background": "light"
     },
     "output_type": "display_data"
    }
   ],
   "source": [
    "# Plot 6 months of data simultaneously.\n",
    "plt.scatter(x = df_sales[\"JUL\"], y = df_sales[\"YEAR\"])\n",
    "plt.scatter(x = df_sales[\"AUG\"], y = df_sales[\"YEAR\"])\n",
    "plt.scatter(x = df_sales[\"SEP\"], y = df_sales[\"YEAR\"])\n",
    "plt.scatter(x = df_sales[\"OCT\"], y = df_sales[\"YEAR\"])\n",
    "plt.scatter(x = df_sales[\"NOV\"], y = df_sales[\"YEAR\"])\n",
    "plt.scatter(x = df_sales[\"DEC\"], y = df_sales[\"YEAR\"])\n",
    "plt.show()"
   ]
  },
  {
   "cell_type": "markdown",
   "id": "de880a6d",
   "metadata": {},
   "source": [
    "Similar to the previous observation, we see an almost identical dataset between each scatterplot.  They almost appear to overlap one another.  Based on the trends, it appears that there is a massive dip downwards from 2005 to 2010 like the previous graph as well.  This can be rationalized with understanding about the 2008 economic crisis that took place.  Since the data appear to be similiar with an upward trend, we can assume that our predictions should be higher than the year prior to the most recent one.  Alternatively, if economic factors are at play, such as the impact of Covid, we can likewise expect a downtrend."
   ]
  },
  {
   "cell_type": "markdown",
   "id": "faf042bd",
   "metadata": {},
   "source": [
    "## Split this data into a training and test set. Use the last year of data (July 2020 – June 2021) of data as your test set and the rest as your training set.\n"
   ]
  },
  {
   "cell_type": "code",
   "execution_count": null,
   "id": "3291452e",
   "metadata": {},
   "outputs": [],
   "source": [
    "# Set the data to the last year of the data.\n"
   ]
  },
  {
   "cell_type": "markdown",
   "id": "d5c2cf25",
   "metadata": {},
   "source": [
    "## Use the training set to build a predictive model for the monthly retail sales."
   ]
  },
  {
   "cell_type": "code",
   "execution_count": null,
   "id": "41b1ae0e",
   "metadata": {},
   "outputs": [],
   "source": []
  },
  {
   "cell_type": "markdown",
   "id": "502216b4",
   "metadata": {},
   "source": [
    "## Use the model to predict the monthly retail sales on the last year of data."
   ]
  },
  {
   "cell_type": "code",
   "execution_count": null,
   "id": "a46e8e5a",
   "metadata": {},
   "outputs": [],
   "source": []
  },
  {
   "cell_type": "markdown",
   "id": "0a01e6cd",
   "metadata": {},
   "source": [
    "## Report the RMSE of the model predictions on the test set."
   ]
  },
  {
   "cell_type": "code",
   "execution_count": null,
   "id": "a5a9fde3",
   "metadata": {},
   "outputs": [],
   "source": []
  }
 ],
 "metadata": {
  "kernelspec": {
   "display_name": "Python 3 (ipykernel)",
   "language": "python",
   "name": "python3"
  },
  "language_info": {
   "codemirror_mode": {
    "name": "ipython",
    "version": 3
   },
   "file_extension": ".py",
   "mimetype": "text/x-python",
   "name": "python",
   "nbconvert_exporter": "python",
   "pygments_lexer": "ipython3",
   "version": "3.9.12"
  }
 },
 "nbformat": 4,
 "nbformat_minor": 5
}
