{
 "cells": [
  {
   "cell_type": "markdown",
   "id": "621ec7d0",
   "metadata": {},
   "source": [
    "# Predictive Analytics: Assignment 1.2\n",
    "#### Joshua Greenert\n",
    "#### DSC630-T301 Predictive Analytics\n",
    "#### 11/30/2022"
   ]
  },
  {
   "cell_type": "markdown",
   "id": "0e243d80",
   "metadata": {},
   "source": [
    "### Write a summary of your data and identify at least two questions to explore visually with your data.\n"
   ]
  },
  {
   "cell_type": "markdown",
   "id": "a0d14118",
   "metadata": {},
   "source": [
    "The dataset selected contains information over cars that were sold from 1992 to 2020.  In addition to the year sold, the data contains information about the fuel type, killometers driven, selling price, transmission type, seller type, and owner (whether it was the first owner or beyond).  This dataset was selected from Kaggle on 11/30/2022 from the URL linked below.\n",
    "https://www.kaggle.com/datasets/akshaydattatraykhare/car-details-dataset?resource=download\n",
    "The two questions that we'll explore in this exploratory data analysis are: \n",
    "\n",
    "**What car manufacturer (otherwise known as the make) typically sells at the highest price for first owners?**\n",
    "\n",
    "**How many average miles are used up on the car for first owners?**"
   ]
  },
  {
   "cell_type": "markdown",
   "id": "8b0f693a",
   "metadata": {},
   "source": [
    "### Prepare the data"
   ]
  },
  {
   "cell_type": "code",
   "execution_count": 1,
   "id": "5a5795a9",
   "metadata": {
    "scrolled": true
   },
   "outputs": [
    {
     "data": {
      "text/html": [
       "<div>\n",
       "<style scoped>\n",
       "    .dataframe tbody tr th:only-of-type {\n",
       "        vertical-align: middle;\n",
       "    }\n",
       "\n",
       "    .dataframe tbody tr th {\n",
       "        vertical-align: top;\n",
       "    }\n",
       "\n",
       "    .dataframe thead th {\n",
       "        text-align: right;\n",
       "    }\n",
       "</style>\n",
       "<table border=\"1\" class=\"dataframe\">\n",
       "  <thead>\n",
       "    <tr style=\"text-align: right;\">\n",
       "      <th></th>\n",
       "      <th>name</th>\n",
       "      <th>year</th>\n",
       "      <th>selling_price</th>\n",
       "      <th>km_driven</th>\n",
       "      <th>fuel</th>\n",
       "      <th>seller_type</th>\n",
       "      <th>transmission</th>\n",
       "      <th>owner</th>\n",
       "    </tr>\n",
       "  </thead>\n",
       "  <tbody>\n",
       "    <tr>\n",
       "      <th>0</th>\n",
       "      <td>Maruti 800 AC</td>\n",
       "      <td>2007</td>\n",
       "      <td>60000</td>\n",
       "      <td>70000</td>\n",
       "      <td>Petrol</td>\n",
       "      <td>Individual</td>\n",
       "      <td>Manual</td>\n",
       "      <td>First Owner</td>\n",
       "    </tr>\n",
       "    <tr>\n",
       "      <th>1</th>\n",
       "      <td>Maruti Wagon R LXI Minor</td>\n",
       "      <td>2007</td>\n",
       "      <td>135000</td>\n",
       "      <td>50000</td>\n",
       "      <td>Petrol</td>\n",
       "      <td>Individual</td>\n",
       "      <td>Manual</td>\n",
       "      <td>First Owner</td>\n",
       "    </tr>\n",
       "    <tr>\n",
       "      <th>2</th>\n",
       "      <td>Hyundai Verna 1.6 SX</td>\n",
       "      <td>2012</td>\n",
       "      <td>600000</td>\n",
       "      <td>100000</td>\n",
       "      <td>Diesel</td>\n",
       "      <td>Individual</td>\n",
       "      <td>Manual</td>\n",
       "      <td>First Owner</td>\n",
       "    </tr>\n",
       "    <tr>\n",
       "      <th>3</th>\n",
       "      <td>Datsun RediGO T Option</td>\n",
       "      <td>2017</td>\n",
       "      <td>250000</td>\n",
       "      <td>46000</td>\n",
       "      <td>Petrol</td>\n",
       "      <td>Individual</td>\n",
       "      <td>Manual</td>\n",
       "      <td>First Owner</td>\n",
       "    </tr>\n",
       "    <tr>\n",
       "      <th>4</th>\n",
       "      <td>Honda Amaze VX i-DTEC</td>\n",
       "      <td>2014</td>\n",
       "      <td>450000</td>\n",
       "      <td>141000</td>\n",
       "      <td>Diesel</td>\n",
       "      <td>Individual</td>\n",
       "      <td>Manual</td>\n",
       "      <td>Second Owner</td>\n",
       "    </tr>\n",
       "  </tbody>\n",
       "</table>\n",
       "</div>"
      ],
      "text/plain": [
       "                       name  year  selling_price  km_driven    fuel  \\\n",
       "0             Maruti 800 AC  2007          60000      70000  Petrol   \n",
       "1  Maruti Wagon R LXI Minor  2007         135000      50000  Petrol   \n",
       "2      Hyundai Verna 1.6 SX  2012         600000     100000  Diesel   \n",
       "3    Datsun RediGO T Option  2017         250000      46000  Petrol   \n",
       "4     Honda Amaze VX i-DTEC  2014         450000     141000  Diesel   \n",
       "\n",
       "  seller_type transmission         owner  \n",
       "0  Individual       Manual   First Owner  \n",
       "1  Individual       Manual   First Owner  \n",
       "2  Individual       Manual   First Owner  \n",
       "3  Individual       Manual   First Owner  \n",
       "4  Individual       Manual  Second Owner  "
      ]
     },
     "execution_count": 1,
     "metadata": {},
     "output_type": "execute_result"
    }
   ],
   "source": [
    "# Import the required libaries.\n",
    "import numpy as np\n",
    "import pandas as pd\n",
    "import matplotlib.pyplot as plt\n",
    "\n",
    "# Pull in the data from the GitHub Repo.\n",
    "df_cars = pd.read_csv(\"car_details.csv\")\n",
    "df_cars.head(5)"
   ]
  },
  {
   "cell_type": "code",
   "execution_count": 2,
   "id": "7aef4986",
   "metadata": {},
   "outputs": [
    {
     "data": {
      "text/html": [
       "<div>\n",
       "<style scoped>\n",
       "    .dataframe tbody tr th:only-of-type {\n",
       "        vertical-align: middle;\n",
       "    }\n",
       "\n",
       "    .dataframe tbody tr th {\n",
       "        vertical-align: top;\n",
       "    }\n",
       "\n",
       "    .dataframe thead th {\n",
       "        text-align: right;\n",
       "    }\n",
       "</style>\n",
       "<table border=\"1\" class=\"dataframe\">\n",
       "  <thead>\n",
       "    <tr style=\"text-align: right;\">\n",
       "      <th></th>\n",
       "      <th>name</th>\n",
       "      <th>year</th>\n",
       "      <th>selling_price</th>\n",
       "      <th>km_driven</th>\n",
       "      <th>fuel</th>\n",
       "      <th>seller_type</th>\n",
       "      <th>transmission</th>\n",
       "      <th>owner</th>\n",
       "      <th>make</th>\n",
       "    </tr>\n",
       "  </thead>\n",
       "  <tbody>\n",
       "    <tr>\n",
       "      <th>0</th>\n",
       "      <td>Maruti 800 AC</td>\n",
       "      <td>2007</td>\n",
       "      <td>60000</td>\n",
       "      <td>70000</td>\n",
       "      <td>Petrol</td>\n",
       "      <td>Individual</td>\n",
       "      <td>Manual</td>\n",
       "      <td>First Owner</td>\n",
       "      <td>Maruti</td>\n",
       "    </tr>\n",
       "    <tr>\n",
       "      <th>1</th>\n",
       "      <td>Maruti Wagon R LXI Minor</td>\n",
       "      <td>2007</td>\n",
       "      <td>135000</td>\n",
       "      <td>50000</td>\n",
       "      <td>Petrol</td>\n",
       "      <td>Individual</td>\n",
       "      <td>Manual</td>\n",
       "      <td>First Owner</td>\n",
       "      <td>Maruti</td>\n",
       "    </tr>\n",
       "    <tr>\n",
       "      <th>2</th>\n",
       "      <td>Hyundai Verna 1.6 SX</td>\n",
       "      <td>2012</td>\n",
       "      <td>600000</td>\n",
       "      <td>100000</td>\n",
       "      <td>Diesel</td>\n",
       "      <td>Individual</td>\n",
       "      <td>Manual</td>\n",
       "      <td>First Owner</td>\n",
       "      <td>Hyundai</td>\n",
       "    </tr>\n",
       "    <tr>\n",
       "      <th>3</th>\n",
       "      <td>Datsun RediGO T Option</td>\n",
       "      <td>2017</td>\n",
       "      <td>250000</td>\n",
       "      <td>46000</td>\n",
       "      <td>Petrol</td>\n",
       "      <td>Individual</td>\n",
       "      <td>Manual</td>\n",
       "      <td>First Owner</td>\n",
       "      <td>Datsun</td>\n",
       "    </tr>\n",
       "    <tr>\n",
       "      <th>4</th>\n",
       "      <td>Honda Amaze VX i-DTEC</td>\n",
       "      <td>2014</td>\n",
       "      <td>450000</td>\n",
       "      <td>141000</td>\n",
       "      <td>Diesel</td>\n",
       "      <td>Individual</td>\n",
       "      <td>Manual</td>\n",
       "      <td>Second Owner</td>\n",
       "      <td>Honda</td>\n",
       "    </tr>\n",
       "  </tbody>\n",
       "</table>\n",
       "</div>"
      ],
      "text/plain": [
       "                       name  year  selling_price  km_driven    fuel  \\\n",
       "0             Maruti 800 AC  2007          60000      70000  Petrol   \n",
       "1  Maruti Wagon R LXI Minor  2007         135000      50000  Petrol   \n",
       "2      Hyundai Verna 1.6 SX  2012         600000     100000  Diesel   \n",
       "3    Datsun RediGO T Option  2017         250000      46000  Petrol   \n",
       "4     Honda Amaze VX i-DTEC  2014         450000     141000  Diesel   \n",
       "\n",
       "  seller_type transmission         owner     make  \n",
       "0  Individual       Manual   First Owner   Maruti  \n",
       "1  Individual       Manual   First Owner   Maruti  \n",
       "2  Individual       Manual   First Owner  Hyundai  \n",
       "3  Individual       Manual   First Owner   Datsun  \n",
       "4  Individual       Manual  Second Owner    Honda  "
      ]
     },
     "execution_count": 2,
     "metadata": {},
     "output_type": "execute_result"
    }
   ],
   "source": [
    "# Split the make from the front of the car name; Use every first word as the indicator of what the car make is.\n",
    "car_make = []\n",
    "\n",
    "# loop over all of the cars, split them by space, and add the first word to the array.\n",
    "for row in df_cars.name:\n",
    "    carSplit = row.split(\" \")\n",
    "    car_make.append(carSplit[0])\n",
    "    \n",
    "# Add the new column to the dataframe.\n",
    "df_cars['make'] = car_make\n",
    "\n",
    "# Show that the operation was successful.\n",
    "df_cars.head(5)"
   ]
  },
  {
   "cell_type": "markdown",
   "id": "1168efe5",
   "metadata": {},
   "source": [
    "### Create a histogram or bar graph from your data.\n"
   ]
  },
  {
   "cell_type": "code",
   "execution_count": 25,
   "id": "02dd15a9",
   "metadata": {},
   "outputs": [
    {
     "data": {
      "text/html": [
       "<div>\n",
       "<style scoped>\n",
       "    .dataframe tbody tr th:only-of-type {\n",
       "        vertical-align: middle;\n",
       "    }\n",
       "\n",
       "    .dataframe tbody tr th {\n",
       "        vertical-align: top;\n",
       "    }\n",
       "\n",
       "    .dataframe thead th {\n",
       "        text-align: right;\n",
       "    }\n",
       "</style>\n",
       "<table border=\"1\" class=\"dataframe\">\n",
       "  <thead>\n",
       "    <tr style=\"text-align: right;\">\n",
       "      <th></th>\n",
       "      <th></th>\n",
       "      <th>year</th>\n",
       "      <th>selling_price</th>\n",
       "      <th>km_driven</th>\n",
       "    </tr>\n",
       "    <tr>\n",
       "      <th>name</th>\n",
       "      <th>owner</th>\n",
       "      <th></th>\n",
       "      <th></th>\n",
       "      <th></th>\n",
       "    </tr>\n",
       "  </thead>\n",
       "  <tbody>\n",
       "    <tr>\n",
       "      <th>Audi RS7 2015-2019 Sportback Performance</th>\n",
       "      <th>First Owner</th>\n",
       "      <td>2016.0</td>\n",
       "      <td>8900000.0</td>\n",
       "      <td>13000.0</td>\n",
       "    </tr>\n",
       "    <tr>\n",
       "      <th>Mercedes-Benz S-Class S 350d Connoisseurs Edition</th>\n",
       "      <th>First Owner</th>\n",
       "      <td>2017.0</td>\n",
       "      <td>8150000.0</td>\n",
       "      <td>6500.0</td>\n",
       "    </tr>\n",
       "    <tr>\n",
       "      <th>Mercedes-Benz GLS 2016-2020 350d 4MATIC</th>\n",
       "      <th>First Owner</th>\n",
       "      <td>2016.0</td>\n",
       "      <td>5500000.0</td>\n",
       "      <td>77350.0</td>\n",
       "    </tr>\n",
       "    <tr>\n",
       "      <th>BMW X5 xDrive 30d xLine</th>\n",
       "      <th>First Owner</th>\n",
       "      <td>2019.0</td>\n",
       "      <td>4950000.0</td>\n",
       "      <td>30000.0</td>\n",
       "    </tr>\n",
       "    <tr>\n",
       "      <th>Audi A5 Sportback</th>\n",
       "      <th>First Owner</th>\n",
       "      <td>2020.0</td>\n",
       "      <td>4700000.0</td>\n",
       "      <td>1500.0</td>\n",
       "    </tr>\n",
       "    <tr>\n",
       "      <th>Volvo XC 90 D5 Inscription BSIV</th>\n",
       "      <th>First Owner</th>\n",
       "      <td>2017.0</td>\n",
       "      <td>4500000.0</td>\n",
       "      <td>80000.0</td>\n",
       "    </tr>\n",
       "    <tr>\n",
       "      <th>Mercedes-Benz E-Class Exclusive E 200 BSIV</th>\n",
       "      <th>First Owner</th>\n",
       "      <td>2018.0</td>\n",
       "      <td>4500000.0</td>\n",
       "      <td>9800.0</td>\n",
       "    </tr>\n",
       "    <tr>\n",
       "      <th>Mercedes-Benz GL-Class 350 CDI Blue Efficiency</th>\n",
       "      <th>Second Owner</th>\n",
       "      <td>2014.0</td>\n",
       "      <td>4400000.0</td>\n",
       "      <td>100000.0</td>\n",
       "    </tr>\n",
       "    <tr>\n",
       "      <th>Land Rover Range Rover 4.4 Diesel LWB Vogue SE</th>\n",
       "      <th>First Owner</th>\n",
       "      <td>2010.0</td>\n",
       "      <td>4200000.0</td>\n",
       "      <td>100000.0</td>\n",
       "    </tr>\n",
       "    <tr>\n",
       "      <th>BMW 7 Series Signature 730Ld</th>\n",
       "      <th>First Owner</th>\n",
       "      <td>2014.0</td>\n",
       "      <td>4000000.0</td>\n",
       "      <td>47000.0</td>\n",
       "    </tr>\n",
       "  </tbody>\n",
       "</table>\n",
       "</div>"
      ],
      "text/plain": [
       "                                                                  year  \\\n",
       "name                                              owner                  \n",
       "Audi RS7 2015-2019 Sportback Performance          First Owner   2016.0   \n",
       "Mercedes-Benz S-Class S 350d Connoisseurs Edition First Owner   2017.0   \n",
       "Mercedes-Benz GLS 2016-2020 350d 4MATIC           First Owner   2016.0   \n",
       "BMW X5 xDrive 30d xLine                           First Owner   2019.0   \n",
       "Audi A5 Sportback                                 First Owner   2020.0   \n",
       "Volvo XC 90 D5 Inscription BSIV                   First Owner   2017.0   \n",
       "Mercedes-Benz E-Class Exclusive E 200 BSIV        First Owner   2018.0   \n",
       "Mercedes-Benz GL-Class 350 CDI Blue Efficiency    Second Owner  2014.0   \n",
       "Land Rover Range Rover 4.4 Diesel LWB Vogue SE    First Owner   2010.0   \n",
       "BMW 7 Series Signature 730Ld                      First Owner   2014.0   \n",
       "\n",
       "                                                                selling_price  \\\n",
       "name                                              owner                         \n",
       "Audi RS7 2015-2019 Sportback Performance          First Owner       8900000.0   \n",
       "Mercedes-Benz S-Class S 350d Connoisseurs Edition First Owner       8150000.0   \n",
       "Mercedes-Benz GLS 2016-2020 350d 4MATIC           First Owner       5500000.0   \n",
       "BMW X5 xDrive 30d xLine                           First Owner       4950000.0   \n",
       "Audi A5 Sportback                                 First Owner       4700000.0   \n",
       "Volvo XC 90 D5 Inscription BSIV                   First Owner       4500000.0   \n",
       "Mercedes-Benz E-Class Exclusive E 200 BSIV        First Owner       4500000.0   \n",
       "Mercedes-Benz GL-Class 350 CDI Blue Efficiency    Second Owner      4400000.0   \n",
       "Land Rover Range Rover 4.4 Diesel LWB Vogue SE    First Owner       4200000.0   \n",
       "BMW 7 Series Signature 730Ld                      First Owner       4000000.0   \n",
       "\n",
       "                                                                km_driven  \n",
       "name                                              owner                    \n",
       "Audi RS7 2015-2019 Sportback Performance          First Owner     13000.0  \n",
       "Mercedes-Benz S-Class S 350d Connoisseurs Edition First Owner      6500.0  \n",
       "Mercedes-Benz GLS 2016-2020 350d 4MATIC           First Owner     77350.0  \n",
       "BMW X5 xDrive 30d xLine                           First Owner     30000.0  \n",
       "Audi A5 Sportback                                 First Owner      1500.0  \n",
       "Volvo XC 90 D5 Inscription BSIV                   First Owner     80000.0  \n",
       "Mercedes-Benz E-Class Exclusive E 200 BSIV        First Owner      9800.0  \n",
       "Mercedes-Benz GL-Class 350 CDI Blue Efficiency    Second Owner   100000.0  \n",
       "Land Rover Range Rover 4.4 Diesel LWB Vogue SE    First Owner    100000.0  \n",
       "BMW 7 Series Signature 730Ld                      First Owner     47000.0  "
      ]
     },
     "execution_count": 25,
     "metadata": {},
     "output_type": "execute_result"
    }
   ],
   "source": [
    "# Group by name, then by owner.\n",
    "grouped_df = df_cars.groupby(['name', 'owner']).mean().sort_values(by=['selling_price'], ascending=False)\n",
    "\n",
    "# Show the top 10 based on name\n",
    "grouped_df.head(10)"
   ]
  },
  {
   "cell_type": "code",
   "execution_count": 46,
   "id": "10dbd45f",
   "metadata": {},
   "outputs": [
    {
     "data": {
      "text/html": [
       "<div>\n",
       "<style scoped>\n",
       "    .dataframe tbody tr th:only-of-type {\n",
       "        vertical-align: middle;\n",
       "    }\n",
       "\n",
       "    .dataframe tbody tr th {\n",
       "        vertical-align: top;\n",
       "    }\n",
       "\n",
       "    .dataframe thead th {\n",
       "        text-align: right;\n",
       "    }\n",
       "</style>\n",
       "<table border=\"1\" class=\"dataframe\">\n",
       "  <thead>\n",
       "    <tr style=\"text-align: right;\">\n",
       "      <th></th>\n",
       "      <th>year</th>\n",
       "      <th>selling_price</th>\n",
       "      <th>km_driven</th>\n",
       "    </tr>\n",
       "    <tr>\n",
       "      <th>owner</th>\n",
       "      <th></th>\n",
       "      <th></th>\n",
       "      <th></th>\n",
       "    </tr>\n",
       "  </thead>\n",
       "  <tbody>\n",
       "    <tr>\n",
       "      <th>Third Owner</th>\n",
       "      <td>2009.338816</td>\n",
       "      <td>269474.003289</td>\n",
       "      <td>99304.506579</td>\n",
       "    </tr>\n",
       "    <tr>\n",
       "      <th>Fourth &amp; Above Owner</th>\n",
       "      <td>2007.395062</td>\n",
       "      <td>173901.197531</td>\n",
       "      <td>99138.135802</td>\n",
       "    </tr>\n",
       "    <tr>\n",
       "      <th>Second Owner</th>\n",
       "      <td>2010.983725</td>\n",
       "      <td>343891.088608</td>\n",
       "      <td>81783.518987</td>\n",
       "    </tr>\n",
       "    <tr>\n",
       "      <th>First Owner</th>\n",
       "      <td>2014.440678</td>\n",
       "      <td>598636.969633</td>\n",
       "      <td>56015.009887</td>\n",
       "    </tr>\n",
       "    <tr>\n",
       "      <th>Test Drive Car</th>\n",
       "      <td>2019.529412</td>\n",
       "      <td>954293.941176</td>\n",
       "      <td>4155.000000</td>\n",
       "    </tr>\n",
       "  </tbody>\n",
       "</table>\n",
       "</div>"
      ],
      "text/plain": [
       "                             year  selling_price     km_driven\n",
       "owner                                                         \n",
       "Third Owner           2009.338816  269474.003289  99304.506579\n",
       "Fourth & Above Owner  2007.395062  173901.197531  99138.135802\n",
       "Second Owner          2010.983725  343891.088608  81783.518987\n",
       "First Owner           2014.440678  598636.969633  56015.009887\n",
       "Test Drive Car        2019.529412  954293.941176   4155.000000"
      ]
     },
     "execution_count": 46,
     "metadata": {},
     "output_type": "execute_result"
    }
   ],
   "source": [
    "# Group by name, then by owner.\n",
    "grouped_df_driven = df_cars.groupby(['owner']).mean().sort_values(by=['km_driven'], ascending=False)\n",
    "\n",
    "# Show the top 10 based on name\n",
    "grouped_df_driven.head(5)"
   ]
  },
  {
   "cell_type": "code",
   "execution_count": 27,
   "id": "664321db",
   "metadata": {},
   "outputs": [
    {
     "data": {
      "image/png": "[encoded data removed]",
      "text/plain": [
       "<Figure size 432x288 with 4 Axes>"
      ]
     },
     "metadata": {
      "needs_background": "light"
     },
     "output_type": "display_data"
    }
   ],
   "source": [
    "# Plot a histogram.\n",
    "hist = grouped_df.hist(bins=50)"
   ]
  },
  {
   "cell_type": "markdown",
   "id": "4095241c",
   "metadata": {},
   "source": [
    "### Create a boxplot from your data.\n"
   ]
  },
  {
   "cell_type": "code",
   "execution_count": 37,
   "id": "5d0dfae7",
   "metadata": {
    "scrolled": true
   },
   "outputs": [
    {
     "data": {
      "image/png": "[encoded data removed]",
      "text/plain": [
       "<Figure size 720x720 with 1 Axes>"
      ]
     },
     "metadata": {
      "needs_background": "light"
     },
     "output_type": "display_data"
    }
   ],
   "source": [
    "# Create a boxplot using the selling price.\n",
    "boxplot = grouped_df.boxplot(column=['selling_price'],rot=45, fontsize=10, figsize= (10, 10))  "
   ]
  },
  {
   "cell_type": "code",
   "execution_count": 44,
   "id": "1d8d311f",
   "metadata": {},
   "outputs": [
    {
     "data": {
      "image/png": "[encoded data removed]",
      "text/plain": [
       "<Figure size 720x720 with 1 Axes>"
      ]
     },
     "metadata": {
      "needs_background": "light"
     },
     "output_type": "display_data"
    }
   ],
   "source": [
    "# Create a boxplot using the km driven\n",
    "boxplot = grouped_df.boxplot(column=['km_driven'],rot=45, fontsize=10, figsize= (10, 10))  "
   ]
  },
  {
   "cell_type": "markdown",
   "id": "5d496f68",
   "metadata": {},
   "source": [
    "### Create a bivariate plot from your data.\n"
   ]
  },
  {
   "cell_type": "code",
   "execution_count": 41,
   "id": "6c4b3053",
   "metadata": {},
   "outputs": [
    {
     "data": {
      "image/png": "[encoded data removed]",
      "text/plain": [
       "<Figure size 432x288 with 1 Axes>"
      ]
     },
     "metadata": {
      "needs_background": "light"
     },
     "output_type": "display_data"
    }
   ],
   "source": [
    "# Plot a bivariate plot for selling price\n",
    "df_cars.plot(x='selling_price', y='year', kind='scatter')\n",
    "plt.show()"
   ]
  },
  {
   "cell_type": "code",
   "execution_count": 45,
   "id": "dd22d3a1",
   "metadata": {},
   "outputs": [
    {
     "data": {
      "image/png": "[encoded data removed]",
      "text/plain": [
       "<Figure size 432x288 with 1 Axes>"
      ]
     },
     "metadata": {
      "needs_background": "light"
     },
     "output_type": "display_data"
    }
   ],
   "source": [
    "# Plot a bivariate plot for killometers driven\n",
    "df_cars.plot(x='km_driven', y='year', kind='scatter')\n",
    "plt.show()"
   ]
  },
  {
   "cell_type": "markdown",
   "id": "1d3f9268",
   "metadata": {},
   "source": [
    "### Conclusion\n"
   ]
  },
  {
   "cell_type": "markdown",
   "id": "ba80bba7",
   "metadata": {},
   "source": [
    "To reiterate, there were two questions that we were attempting to solve while producing the visualizations above.  \n",
    "1. What car manufacturer (otherwise known as the make) typically sells at the highest price for first owners?\n",
    "2. How many average miles are used up on the car for first owners?"
   ]
  },
  {
   "cell_type": "markdown",
   "id": "e5ec6520",
   "metadata": {},
   "source": [
    "The scatter plots and box plots undoubtedly express that there are outliers within the dataset.  Regardless, it's apparent that first owners of Audi, Mercedes-Benz, and BMW vehicles typically sell at the highest price.  Notably, these vehicles tend to be higher-priced vehicles from the offset anyways, so this was somewhat anticipated for the end result.  In terms of mileage, the average amount of miles used up prior to selling for first owners is approximately 56,015 kilometers (or 34,806.11 miles)."
   ]
  }
 ],
 "metadata": {
  "kernelspec": {
   "display_name": "Python 3 (ipykernel)",
   "language": "python",
   "name": "python3"
  },
  "language_info": {
   "codemirror_mode": {
    "name": "ipython",
    "version": 3
   },
   "file_extension": ".py",
   "mimetype": "text/x-python",
   "name": "python",
   "nbconvert_exporter": "python",
   "pygments_lexer": "ipython3",
   "version": "3.9.12"
  }
 },
 "nbformat": 4,
 "nbformat_minor": 5
}
