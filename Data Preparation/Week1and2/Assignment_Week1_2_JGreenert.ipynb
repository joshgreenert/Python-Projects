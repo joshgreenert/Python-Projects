{
 "cells": [
  {
   "cell_type": "markdown",
   "id": "b5b820da",
   "metadata": {},
   "source": [
    "# Data Preparation Week 1 and 2\n",
    "## Joshua Greenert\n",
    "## DSC540-T301 Data Preparation\n",
    "## 8/30/2022"
   ]
  },
  {
   "cell_type": "code",
   "execution_count": 9,
   "id": "e66fd3eb",
   "metadata": {},
   "outputs": [
    {
     "name": "stdout",
     "output_type": "stream",
     "text": [
      "[0, 0, 0, 1, 1, 1, 1, 2, 2, 2, 3, 3, 3, 4, 4, 4, 4, 5, 6, 6, 7, 7, 7, 7, 9, 9, 10, 11, 12, 13, 13, 13, 14, 15, 15, 15, 16, 17, 17, 18, 20, 20, 21, 21, 22, 23, 24, 24, 25, 25, 26, 27, 27, 27, 30]\n"
     ]
    }
   ],
   "source": [
    "# Create a list, iterate over the list and sort results.  \n",
    "listOne = [1, 3, 2, 1, 4]\n",
    "listOne.sort()\n",
    "\n",
    "# Generate random numbers, add to the list, then print the results.\n",
    "import random\n",
    "listTwo = [random.randint(0, 30) for x in range(0, 50)]\n",
    "listThree = listOne + listTwo\n",
    "\n",
    "# Sort the new list as well.\n",
    "listThree.sort()\n",
    "print(listThree)"
   ]
  },
  {
   "cell_type": "code",
   "execution_count": 31,
   "id": "46f859b2",
   "metadata": {},
   "outputs": [
    {
     "data": {
      "text/plain": [
       "<AxesSubplot:>"
      ]
     },
     "execution_count": 31,
     "metadata": {},
     "output_type": "execute_result"
    },
    {
     "data": {
      "image/png": "[encoded data removed]",
      "text/plain": [
       "<Figure size 432x288 with 1 Axes>"
      ]
     },
     "metadata": {
      "needs_background": "light"
     },
     "output_type": "display_data"
    }
   ],
   "source": [
    "# Create a line chart with Matplotlib and world-population data file.\n",
    "import pandas as pd\n",
    "import matplotlib.pyplot as plt\n",
    "\n",
    "# Read the excel file\n",
    "worldPopulationData = pd.read_excel('world-population.xlsm')\n",
    "\n",
    "# Plot the data.\n",
    "worldPopulationData.plot()"
   ]
  },
  {
   "cell_type": "code",
   "execution_count": 39,
   "id": "a7d7bba1",
   "metadata": {},
   "outputs": [
    {
     "name": "stdout",
     "output_type": "stream",
     "text": [
      "Mean value of list differences: 59.0\n"
     ]
    }
   ],
   "source": [
    "# Data Wrangling with Python: Activity 1 page 17\n",
    "# Create a list of 100 random numbers.\n",
    "listRands = [random.randint(0, 30) for x in range(0, 100)]\n",
    "\n",
    "# Create a list from this list with numbers divisible by 3.\n",
    "listDivisibles = list(filter(lambda x: (x % 3 == 0), listRands))\n",
    "\n",
    "# Calculate the difference between the two lists.\n",
    "listDifferences = len(listRands) - len(listDivisibles)\n",
    "\n",
    "# Use a loop to find the difference variable three times.\n",
    "listDifferences = []\n",
    "for i in range(3):\n",
    "    listDivisibles = list(filter(lambda x: (x % 3 == 0), listRands))\n",
    "    listDifferences.append(len(listRands) - len(listDivisibles))\n",
    "\n",
    "# Find the mean values of the differences.\n",
    "listMean = sum(listDifferences) / len(listDifferences)\n",
    "print(f\"Mean value of list differences: {listMean}\")"
   ]
  },
  {
   "cell_type": "code",
   "execution_count": 129,
   "id": "58e57a72",
   "metadata": {},
   "outputs": [
    {
     "name": "stdout",
     "output_type": "stream",
     "text": [
      "The length of the multiline string is 5121\n",
      "The type of the multiline string is <class 'str'>\n",
      "{'you': 31, 'of': 29, 'to': 22, 'a': 21, 'the': 18, 'i': 17, 'and': 16, 'that': 15, 'it': 14, 'is': 14, 'my': 13, 'in': 12, 'be': 11, 'his': 11, 'he': 11, 'for': 11, 'them': 11, 'mr': 10, 'not': 9, 'will': 9, 'so': 8, 'as': 8, 'dear': 8, 'but': 8, 'was': 8}\n"
     ]
    }
   ],
   "source": [
    "# Data Wrangling with Python: Activity 2 page 31\n",
    "# Using alt method to get text to variable\n",
    "import urllib.request as requests\n",
    "from urllib.request import urlopen\n",
    "import re\n",
    "\n",
    "# Get the text and clean the data\n",
    "uf = urlopen('https://www.gutenberg.org/files/1342/1342-h/1342-h.htm#link2HCH0001')\n",
    "multiline_text = str(uf.read())\n",
    "\n",
    "# Set the indexes to get only the chapter information.\n",
    "indexChapter1 = multiline_text.find(\"It is a truth universally acknowledged\")\n",
    "indexEnd = multiline_text.find(\"its solace was visiting and news.\") + len('its solace was visiting and news.')\n",
    "multiline_text = multiline_text[indexChapter1:indexEnd]\n",
    "\n",
    "# Replace all html values.\n",
    "multiline_text = multiline_text.replace(\"<p>\", \"\")\n",
    "multiline_text = multiline_text.replace(\"</p>\", \"\")\n",
    "multiline_text = multiline_text.replace(\"<i>\", \"\")\n",
    "multiline_text = multiline_text.replace(\"</i>\", \"\")\n",
    "multiline_text = multiline_text.replace(\"&ldquo;\", \"\\\"\")\n",
    "multiline_text = multiline_text.replace(\"&rdquo;\", \"\\\"\")\n",
    "multiline_text = multiline_text.replace(\"\\\\r\\\\n\", \"\")\n",
    "\n",
    "# Find the length and type.\n",
    "print(f\"The length of the multiline string is {len(multiline_text)}\")\n",
    "print(f\"The type of the multiline string is {type(multiline_text)}\")\n",
    "\n",
    "# Find all the words using the split function.\n",
    "allWords = multiline_text.split()\n",
    "\n",
    "# Convert all words to lowercase and remove any additional punctuation.\n",
    "for i in range(len(allWords)):\n",
    "    allWords[i] = allWords[i].lower()\n",
    "    allWords[i] = re.sub(r'[^a-z]', '', allWords[i])\n",
    "\n",
    "# Get all the unique words from the list.\n",
    "uniqueWords = dict.fromkeys(allWords).keys()\n",
    "\n",
    "# Get the counts of each unique word.\n",
    "finalDict = {}\n",
    "for i in uniqueWords:\n",
    "    count = 0\n",
    "    for j in range(len(allWords)):\n",
    "        if(i.lower() == allWords[j].lower()):\n",
    "            count = count +1\n",
    "    finalDict[i] = count\n",
    "\n",
    "# Sort the new dictionary.\n",
    "finalDict = {k: v for k, v in sorted(finalDict.items(), key=lambda item: item[1], reverse = True)}\n",
    "\n",
    "slicedDict = dict(list(finalDict.items())[:25])\n",
    "print(slicedDict)"
   ]
  },
  {
   "cell_type": "code",
   "execution_count": 90,
   "id": "e6d339d4",
   "metadata": {},
   "outputs": [
    {
     "name": "stdout",
     "output_type": "stream",
     "text": [
      "Initial permutation:\n",
      "[1, 2] is of type <class 'list'>\n",
      "[2, 1] is of type <class 'list'>\n",
      "[1, 0, 2] is of type <class 'list'>\n",
      "[1, 2, 0] is of type <class 'list'>\n",
      "[2, 0, 1] is of type <class 'list'>\n",
      "[2, 1, 0] is of type <class 'list'>\n",
      "\n",
      "Each item and type from stack\n",
      "12 is of type <class 'int'>\n",
      "21 is of type <class 'int'>\n",
      "102 is of type <class 'int'>\n",
      "120 is of type <class 'int'>\n",
      "201 is of type <class 'int'>\n",
      "210 is of type <class 'int'>\n"
     ]
    }
   ],
   "source": [
    "# Data Wrangling with Python: Activity 3 page 49\n",
    "from itertools import permutations\n",
    "from itertools import dropwhile\n",
    "\n",
    "# Write an expression to generate all permutations.\n",
    "perm = permutations([0, 1, 2])\n",
    "\n",
    "# Create a stack.\n",
    "stack = []\n",
    "\n",
    "# Print the tuple after asserting it's an instance of tuple.\n",
    "print(\"Initial permutation:\")\n",
    "for i in perm:\n",
    "    assert isinstance(i, tuple)\n",
    "    i = list(dropwhile(lambda x : x == 0, i))\n",
    "    print(f\"{i} is of type {type(i)}\")\n",
    "    \n",
    "    # Join elements in list.\n",
    "    joinedList = \"\"\n",
    "    for j in i:\n",
    "        joinedList =  joinedList + str(j) \n",
    "    \n",
    "    stack.append(int(joinedList))\n",
    "\n",
    "# Print the stack and determine the type.\n",
    "print()\n",
    "print(\"Each item and type from stack\")\n",
    "for i in stack:\n",
    "    print(f\"{i} is of type {type(i)}\")\n",
    "    "
   ]
  },
  {
   "cell_type": "code",
   "execution_count": 169,
   "id": "97294c3c",
   "metadata": {},
   "outputs": [
    {
     "name": "stdout",
     "output_type": "stream",
     "text": [
      "('Region', 'Australia and Oceania')\n",
      "('Country', 'Federated States of Micronesia')\n",
      "('Item Type', 'Clothes')\n",
      "('Sales Channel', 'Offline')\n",
      "('Order Priority', 'H')\n",
      "('Order Date', '3/28/2011')\n",
      "('Order ID', '932776868')\n",
      "('Ship Date', '5/10/2011')\n",
      "('Units Sold', '8258')\n",
      "('Unit Price', '109.28')\n",
      "('Unit Cost', '35.84')\n",
      "('Total Revenue', '902434.24')\n",
      "('Total Cost', '295966.72')\n",
      "('Total Profit\\n', '606467.52\\n')\n"
     ]
    }
   ],
   "source": [
    "# Data Wrangling with Python: Activity 4 page 59\n",
    "from itertools import zip_longest\n",
    "\n",
    "# Open the file with read rights.\n",
    "with open(\"sales_record.csv\", \"r\") as fd:\n",
    "    headers = []\n",
    "    dictionary = {}\n",
    "    count = 0\n",
    "    \n",
    "    # Read each line and set the headers first.  Then set all the elements to the object with the headers.\n",
    "    for line in fd:\n",
    "        if(count == 0):\n",
    "            # set the headers and remove the newline character.\n",
    "            headers = line.split(\",\")\n",
    "            \n",
    "            for i in headers:\n",
    "                i = i.replace(\"\\\\n\", \"\")\n",
    "            \n",
    "            count = count +1\n",
    "            continue\n",
    "            \n",
    "        # Create the values by spliting the line, then add them to the test object.\n",
    "        values = line.split(\",\")\n",
    "        test = zip_longest(headers, values, fillvalue = None)\n",
    "        \n",
    "        # Add items to dict in number notation.\n",
    "        dictionary[count] = test\n",
    "        count = count +1\n"
   ]
  },
  {
   "cell_type": "code",
   "execution_count": null,
   "id": "86caadcf",
   "metadata": {},
   "outputs": [],
   "source": []
  }
 ],
 "metadata": {
  "kernelspec": {
   "display_name": "Python 3 (ipykernel)",
   "language": "python",
   "name": "python3"
  },
  "language_info": {
   "codemirror_mode": {
    "name": "ipython",
    "version": 3
   },
   "file_extension": ".py",
   "mimetype": "text/x-python",
   "name": "python",
   "nbconvert_exporter": "python",
   "pygments_lexer": "ipython3",
   "version": "3.9.12"
  }
 },
 "nbformat": 4,
 "nbformat_minor": 5
}
