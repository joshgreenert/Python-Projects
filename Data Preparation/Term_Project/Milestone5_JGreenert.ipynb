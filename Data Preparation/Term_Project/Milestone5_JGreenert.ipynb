{
 "cells": [
  {
   "cell_type": "markdown",
   "id": "4e15b611",
   "metadata": {},
   "source": [
    "# Data Preparation Term Project\n",
    "## Joshua Greenert\n",
    "## DSC540-T301 Data Preparation\n",
    "## 11/10/2022"
   ]
  },
  {
   "cell_type": "markdown",
   "id": "9fe8f527",
   "metadata": {},
   "source": [
    "## Prepare Flat File Data"
   ]
  },
  {
   "cell_type": "code",
   "execution_count": 1,
   "id": "86ff1bfe",
   "metadata": {},
   "outputs": [
    {
     "data": {
      "text/html": [
       "<div>\n",
       "<style scoped>\n",
       "    .dataframe tbody tr th:only-of-type {\n",
       "        vertical-align: middle;\n",
       "    }\n",
       "\n",
       "    .dataframe tbody tr th {\n",
       "        vertical-align: top;\n",
       "    }\n",
       "\n",
       "    .dataframe thead th {\n",
       "        text-align: right;\n",
       "    }\n",
       "</style>\n",
       "<table border=\"1\" class=\"dataframe\">\n",
       "  <thead>\n",
       "    <tr style=\"text-align: right;\">\n",
       "      <th></th>\n",
       "      <th>rank</th>\n",
       "      <th>name</th>\n",
       "      <th>revenues</th>\n",
       "      <th>revenue_percent_change</th>\n",
       "      <th>profits</th>\n",
       "      <th>profits_percent_change</th>\n",
       "      <th>assets</th>\n",
       "      <th>market_value</th>\n",
       "      <th>employees</th>\n",
       "    </tr>\n",
       "  </thead>\n",
       "  <tbody>\n",
       "    <tr>\n",
       "      <th>0</th>\n",
       "      <td>1</td>\n",
       "      <td>walmart</td>\n",
       "      <td>572754.0</td>\n",
       "      <td>2.40%</td>\n",
       "      <td>13673.0</td>\n",
       "      <td>1.20%</td>\n",
       "      <td>244860.0</td>\n",
       "      <td>409795.0</td>\n",
       "      <td>2300000</td>\n",
       "    </tr>\n",
       "    <tr>\n",
       "      <th>1</th>\n",
       "      <td>2</td>\n",
       "      <td>amazon</td>\n",
       "      <td>469822.0</td>\n",
       "      <td>21.70%</td>\n",
       "      <td>33364.0</td>\n",
       "      <td>56.40%</td>\n",
       "      <td>420549.0</td>\n",
       "      <td>1658807.3</td>\n",
       "      <td>1608000</td>\n",
       "    </tr>\n",
       "    <tr>\n",
       "      <th>2</th>\n",
       "      <td>3</td>\n",
       "      <td>apple</td>\n",
       "      <td>365817.0</td>\n",
       "      <td>33.30%</td>\n",
       "      <td>94680.0</td>\n",
       "      <td>64.90%</td>\n",
       "      <td>351002.0</td>\n",
       "      <td>2849537.6</td>\n",
       "      <td>154000</td>\n",
       "    </tr>\n",
       "    <tr>\n",
       "      <th>3</th>\n",
       "      <td>4</td>\n",
       "      <td>cvs health</td>\n",
       "      <td>292111.0</td>\n",
       "      <td>8.70%</td>\n",
       "      <td>7910.0</td>\n",
       "      <td>10.20%</td>\n",
       "      <td>232999.0</td>\n",
       "      <td>132839.2</td>\n",
       "      <td>258000</td>\n",
       "    </tr>\n",
       "    <tr>\n",
       "      <th>4</th>\n",
       "      <td>5</td>\n",
       "      <td>unitedhealth group</td>\n",
       "      <td>287597.0</td>\n",
       "      <td>11.80%</td>\n",
       "      <td>17285.0</td>\n",
       "      <td>12.20%</td>\n",
       "      <td>212206.0</td>\n",
       "      <td>479830.3</td>\n",
       "      <td>350000</td>\n",
       "    </tr>\n",
       "  </tbody>\n",
       "</table>\n",
       "</div>"
      ],
      "text/plain": [
       "  rank                name  revenues revenue_percent_change  profits  \\\n",
       "0    1             walmart  572754.0                  2.40%  13673.0   \n",
       "1    2              amazon  469822.0                 21.70%  33364.0   \n",
       "2    3               apple  365817.0                 33.30%  94680.0   \n",
       "3    4          cvs health  292111.0                  8.70%   7910.0   \n",
       "4    5  unitedhealth group  287597.0                 11.80%  17285.0   \n",
       "\n",
       "  profits_percent_change    assets  market_value  employees  \n",
       "0                  1.20%  244860.0      409795.0    2300000  \n",
       "1                 56.40%  420549.0     1658807.3    1608000  \n",
       "2                 64.90%  351002.0     2849537.6     154000  \n",
       "3                 10.20%  232999.0      132839.2     258000  \n",
       "4                 12.20%  212206.0      479830.3     350000  "
      ]
     },
     "execution_count": 1,
     "metadata": {},
     "output_type": "execute_result"
    }
   ],
   "source": [
    "# Optional suggestions \n",
    "import pandas as pd\n",
    "import warnings\n",
    "warnings.simplefilter(action='ignore', category=FutureWarning)\n",
    "\n",
    "# Read the data into a dataframe.\n",
    "df_companies_flat = pd.read_csv('Fortune 1000 Companies by Revenue.csv')\n",
    "\n",
    "# Fix column names to not have any spaces.\n",
    "df_companies_flat.set_axis([\"rank\", \"name\", \"revenues\", \"revenue_percent_change\", \"profits\", \"profits_percent_change\", \"assets\", \"market_value\", \"change_in_rank\", \"employees\" ], axis=1, inplace=True)\n",
    "\n",
    "# Reduce all names to lowercase.\n",
    "df_companies_flat['name'] = df_companies_flat['name'].str.lower()\n",
    "\n",
    "# Strip the white spaces from the columns\n",
    "df_obj = df_companies_flat.select_dtypes(['object'])\n",
    "df_companies_flat[df_obj.columns] = df_obj.apply(lambda x: x.str.strip())\n",
    "\n",
    "# Remove the dollar signs from all values.\n",
    "df_companies_flat[\"revenues\"] = df_companies_flat['revenues'].str.replace('$','')\n",
    "df_companies_flat[\"profits\"] = df_companies_flat['profits'].str.replace('$','')\n",
    "df_companies_flat[\"assets\"] = df_companies_flat['assets'].str.replace('$','')\n",
    "df_companies_flat[\"market_value\"] = df_companies_flat['market_value'].str.replace('$','')\n",
    "df_companies_flat[\"employees\"] = df_companies_flat['employees'].str.replace('$','')\n",
    "\n",
    "# Remove the commas from all values.\n",
    "df_companies_flat[\"rank\"] = df_companies_flat['rank'].str.replace(',','')\n",
    "df_companies_flat[\"revenues\"] = df_companies_flat['revenues'].str.replace(',','')\n",
    "df_companies_flat[\"profits\"] = df_companies_flat['profits'].str.replace(',','')\n",
    "df_companies_flat[\"assets\"] = df_companies_flat['assets'].str.replace(',','')\n",
    "df_companies_flat[\"market_value\"] = df_companies_flat['market_value'].str.replace(',','')\n",
    "df_companies_flat[\"employees\"] = df_companies_flat['employees'].str.replace(',','')\n",
    "\n",
    "# Replace opening parenthesis with negative sign (-)\n",
    "df_companies_flat[\"revenues\"] = df_companies_flat['revenues'].str.replace('(','-')\n",
    "df_companies_flat[\"profits\"] = df_companies_flat['profits'].str.replace('(','-')\n",
    "df_companies_flat[\"assets\"] = df_companies_flat['assets'].str.replace('(','-')\n",
    "df_companies_flat[\"market_value\"] = df_companies_flat['market_value'].str.replace('(','-')\n",
    "df_companies_flat[\"employees\"] = df_companies_flat['employees'].str.replace('(','-')\n",
    "\n",
    "# Replace ending parenthesis altogether.\n",
    "df_companies_flat[\"revenues\"] = df_companies_flat['revenues'].str.replace(')','')\n",
    "df_companies_flat[\"profits\"] = df_companies_flat['profits'].str.replace(')','')\n",
    "df_companies_flat[\"assets\"] = df_companies_flat['assets'].str.replace(')','')\n",
    "df_companies_flat[\"market_value\"] = df_companies_flat['market_value'].str.replace(')','')\n",
    "df_companies_flat[\"employees\"] = df_companies_flat['employees'].str.replace(')','')\n",
    "\n",
    "# Drop all values that don't have profits or market value listed.\n",
    "df_companies_flat = df_companies_flat.loc[df_companies_flat[\"profits\"] != \"-\"]\n",
    "df_companies_flat = df_companies_flat.loc[df_companies_flat[\"market_value\"] != \"-\"]\n",
    "\n",
    "# Update all numeric values to be numbers instead of strings.\n",
    "df_companies_flat[\"revenues\"] = pd.to_numeric(df_companies_flat['revenues'])\n",
    "df_companies_flat[\"profits\"] = pd.to_numeric(df_companies_flat['profits'])\n",
    "df_companies_flat[\"assets\"] = pd.to_numeric(df_companies_flat['assets'])\n",
    "df_companies_flat[\"market_value\"] = pd.to_numeric(df_companies_flat['market_value'])\n",
    "df_companies_flat[\"employees\"] = pd.to_numeric(df_companies_flat['employees'])\n",
    "\n",
    "# Remove the change in rank column.\n",
    "df_companies_flat = df_companies_flat.drop('change_in_rank', axis = 1)\n",
    "df_companies_flat.head(5)"
   ]
  },
  {
   "cell_type": "markdown",
   "id": "773cd91c",
   "metadata": {},
   "source": [
    "## Prepare Website Data"
   ]
  },
  {
   "cell_type": "code",
   "execution_count": 2,
   "id": "af5d1f36",
   "metadata": {},
   "outputs": [
    {
     "data": {
      "text/html": [
       "<div>\n",
       "<style scoped>\n",
       "    .dataframe tbody tr th:only-of-type {\n",
       "        vertical-align: middle;\n",
       "    }\n",
       "\n",
       "    .dataframe tbody tr th {\n",
       "        vertical-align: top;\n",
       "    }\n",
       "\n",
       "    .dataframe thead th {\n",
       "        text-align: right;\n",
       "    }\n",
       "</style>\n",
       "<table border=\"1\" class=\"dataframe\">\n",
       "  <thead>\n",
       "    <tr style=\"text-align: right;\">\n",
       "      <th></th>\n",
       "      <th>rank</th>\n",
       "      <th>name</th>\n",
       "      <th>industry</th>\n",
       "      <th>revenue</th>\n",
       "      <th>profit</th>\n",
       "      <th>employees</th>\n",
       "      <th>headquarters</th>\n",
       "    </tr>\n",
       "  </thead>\n",
       "  <tbody>\n",
       "    <tr>\n",
       "      <th>0</th>\n",
       "      <td>1</td>\n",
       "      <td>walmart</td>\n",
       "      <td>retail</td>\n",
       "      <td>572754.0</td>\n",
       "      <td>13673</td>\n",
       "      <td>2300000</td>\n",
       "      <td>united states</td>\n",
       "    </tr>\n",
       "    <tr>\n",
       "      <th>1</th>\n",
       "      <td>2</td>\n",
       "      <td>amazon</td>\n",
       "      <td>retail</td>\n",
       "      <td>469822.0</td>\n",
       "      <td>33364</td>\n",
       "      <td>1608000</td>\n",
       "      <td>united states</td>\n",
       "    </tr>\n",
       "    <tr>\n",
       "      <th>2</th>\n",
       "      <td>3</td>\n",
       "      <td>state grid</td>\n",
       "      <td>electricity</td>\n",
       "      <td>460616.9</td>\n",
       "      <td>7137.8</td>\n",
       "      <td>871145</td>\n",
       "      <td>china</td>\n",
       "    </tr>\n",
       "    <tr>\n",
       "      <th>3</th>\n",
       "      <td>4</td>\n",
       "      <td>china national petroleum</td>\n",
       "      <td>oil and gas</td>\n",
       "      <td>411692.9</td>\n",
       "      <td>9637.5</td>\n",
       "      <td>1090345</td>\n",
       "      <td>china</td>\n",
       "    </tr>\n",
       "    <tr>\n",
       "      <th>4</th>\n",
       "      <td>5</td>\n",
       "      <td>sinopec group</td>\n",
       "      <td>oil and gas</td>\n",
       "      <td>401313.5</td>\n",
       "      <td>8316.1</td>\n",
       "      <td>542286</td>\n",
       "      <td>china</td>\n",
       "    </tr>\n",
       "  </tbody>\n",
       "</table>\n",
       "</div>"
      ],
      "text/plain": [
       "   rank                      name     industry   revenue  profit employees  \\\n",
       "0     1                   walmart       retail  572754.0   13673   2300000   \n",
       "1     2                    amazon       retail  469822.0   33364   1608000   \n",
       "2     3                state grid  electricity  460616.9  7137.8    871145   \n",
       "3     4  china national petroleum  oil and gas  411692.9  9637.5   1090345   \n",
       "4     5             sinopec group  oil and gas  401313.5  8316.1    542286   \n",
       "\n",
       "    headquarters  \n",
       "0  united states  \n",
       "1  united states  \n",
       "2          china  \n",
       "3          china  \n",
       "4          china  "
      ]
     },
     "execution_count": 2,
     "metadata": {},
     "output_type": "execute_result"
    }
   ],
   "source": [
    "import numpy as np\n",
    "import requests\n",
    "from bs4 import BeautifulSoup\n",
    "import re\n",
    "\n",
    "# Get the content from the page\n",
    "page = requests.get(\"https://en.wikipedia.org/wiki/List_of_largest_companies_by_revenue\")\n",
    "content = page.content\n",
    "\n",
    "# Create the page parser\n",
    "soup = BeautifulSoup(content, 'html.parser')\n",
    "\n",
    "# Get the countries table.\n",
    "companies_table = soup.find('table', class_='wikitable sortable')\n",
    "\n",
    "# Set up the dataframe to prepare for the data.\n",
    "df_companies_website = pd.DataFrame(columns=['rank', 'name', 'industry', 'revenue', \n",
    "                                     'profit', 'employees', 'headquarters'])\n",
    "\n",
    "# Create a count variable for the rank.\n",
    "count = 1\n",
    "\n",
    "# Collect the data and store them into the dataframe.\n",
    "for row in companies_table.tbody.find_all('tr'):    \n",
    "    # Find all data for each column\n",
    "    columns = row.find_all('td')\n",
    "    \n",
    "    if(columns != []):\n",
    "        \n",
    "        # Skip rows where data is missing for any field.\n",
    "        if(len(columns) != 7):\n",
    "            continue\n",
    "        else:\n",
    "            Rank = count\n",
    "            Name = columns[0].text.strip()\n",
    "            Industry = columns[1].text.strip()\n",
    "            Revenue = columns[2].text.strip()\n",
    "            Profit = columns[3].text.strip()\n",
    "            Employees = columns[4].text.strip()\n",
    "            Headquarters = columns[5].text.strip()\n",
    "            \n",
    "            new_row = {'rank': Rank,  'name': Name, 'industry': Industry, \n",
    "                                                'revenue': Revenue, 'profit': Profit, 'employees': Employees, \n",
    "                                                'headquarters': Headquarters}\n",
    "            df_companies_website.loc[len(df_companies_website.index)] = new_row\n",
    "            \n",
    "            # Update the counter for the rank\n",
    "            count = count +1\n",
    "            \n",
    "# Convert all of the names to lowercase for each company.\n",
    "df_companies_website['name'] = df_companies_website['name'].str.lower()\n",
    "\n",
    "# Convert all categorical variables to lowercase as well to produce similar dummies in the future.\n",
    "df_companies_website['industry'] = df_companies_website['industry'].str.lower()\n",
    "df_companies_website['headquarters'] = df_companies_website['headquarters'].str.lower()\n",
    "\n",
    "# Remove all punctuation from the revenue and profit values while converting them to floats.\n",
    "# Loop through the records and update the values to remove punctuation and set as floats.\n",
    "for i, row in df_companies_website.iterrows():\n",
    "    profit_value = row[\"profit\"]\n",
    "    revenue_value = row[\"revenue\"]\n",
    "    \n",
    "    # Remove all dollar and commas\n",
    "    profit_value = profit_value.replace(\"$\", \"\")\n",
    "    profit_value = profit_value.replace(\",\", \"\")\n",
    "    profit_value = profit_value.replace(\"–\", \"-\")\n",
    "    revenue_value = revenue_value.replace(\"$\", \"\")\n",
    "    revenue_value = revenue_value.replace(\",\", \"\")\n",
    "    \n",
    "    df_companies_website.at[i,'profit'] = profit_value\n",
    "    df_companies_website.at[i,'revenue'] = float(revenue_value)\n",
    "    \n",
    "# Remove all commas from the employees values as well.\n",
    "for i, row in df_companies_website.iterrows():\n",
    "    employee_value = row[\"employees\"]\n",
    "    \n",
    "    employee_value = employee_value.replace(\",\", \"\")\n",
    "    \n",
    "    df_companies_website.at[i,'employees'] = employee_value\n",
    "\n",
    "df_companies_website.head(5)"
   ]
  },
  {
   "cell_type": "markdown",
   "id": "1973837e",
   "metadata": {},
   "source": [
    "## Prepare API Data"
   ]
  },
  {
   "cell_type": "code",
   "execution_count": 3,
   "id": "989b1351",
   "metadata": {},
   "outputs": [
    {
     "data": {
      "text/html": [
       "<div>\n",
       "<style scoped>\n",
       "    .dataframe tbody tr th:only-of-type {\n",
       "        vertical-align: middle;\n",
       "    }\n",
       "\n",
       "    .dataframe tbody tr th {\n",
       "        vertical-align: top;\n",
       "    }\n",
       "\n",
       "    .dataframe thead th {\n",
       "        text-align: right;\n",
       "    }\n",
       "</style>\n",
       "<table border=\"1\" class=\"dataframe\">\n",
       "  <thead>\n",
       "    <tr style=\"text-align: right;\">\n",
       "      <th></th>\n",
       "      <th>rank</th>\n",
       "      <th>name</th>\n",
       "      <th>country</th>\n",
       "      <th>revenue</th>\n",
       "      <th>net_impact_ratio</th>\n",
       "      <th>largest_benefit</th>\n",
       "      <th>largest_cost</th>\n",
       "      <th>society</th>\n",
       "      <th>knowledge</th>\n",
       "      <th>health</th>\n",
       "      <th>environment</th>\n",
       "    </tr>\n",
       "  </thead>\n",
       "  <tbody>\n",
       "    <tr>\n",
       "      <th>0</th>\n",
       "      <td>1</td>\n",
       "      <td>thermo fisher scientific</td>\n",
       "      <td>united states of america</td>\n",
       "      <td>25542.0</td>\n",
       "      <td>0.74</td>\n",
       "      <td>diseases</td>\n",
       "      <td>scarce human capital</td>\n",
       "      <td>2.09</td>\n",
       "      <td>1.44</td>\n",
       "      <td>4.16</td>\n",
       "      <td>-0.49</td>\n",
       "    </tr>\n",
       "    <tr>\n",
       "      <th>1</th>\n",
       "      <td>2</td>\n",
       "      <td>abbott laboratories</td>\n",
       "      <td>united states of america</td>\n",
       "      <td>31904.0</td>\n",
       "      <td>0.72</td>\n",
       "      <td>diseases</td>\n",
       "      <td>scarce human capital</td>\n",
       "      <td>2.15</td>\n",
       "      <td>-0.36</td>\n",
       "      <td>5.58</td>\n",
       "      <td>-0.45</td>\n",
       "    </tr>\n",
       "    <tr>\n",
       "      <th>2</th>\n",
       "      <td>3</td>\n",
       "      <td>veolia environnement</td>\n",
       "      <td>france</td>\n",
       "      <td>30431.0</td>\n",
       "      <td>0.70</td>\n",
       "      <td>waste</td>\n",
       "      <td>ghg emissions</td>\n",
       "      <td>3.46</td>\n",
       "      <td>-0.08</td>\n",
       "      <td>0.30</td>\n",
       "      <td>2.82</td>\n",
       "    </tr>\n",
       "    <tr>\n",
       "      <th>3</th>\n",
       "      <td>4</td>\n",
       "      <td>medtronic</td>\n",
       "      <td>ireland</td>\n",
       "      <td>30557.0</td>\n",
       "      <td>0.69</td>\n",
       "      <td>diseases</td>\n",
       "      <td>scarce human capital</td>\n",
       "      <td>2.36</td>\n",
       "      <td>-1.66</td>\n",
       "      <td>4.86</td>\n",
       "      <td>-0.23</td>\n",
       "    </tr>\n",
       "    <tr>\n",
       "      <th>4</th>\n",
       "      <td>5</td>\n",
       "      <td>iberdrola</td>\n",
       "      <td>spain</td>\n",
       "      <td>40783.0</td>\n",
       "      <td>0.68</td>\n",
       "      <td>societal infrastructure</td>\n",
       "      <td>scarce human capital</td>\n",
       "      <td>6.62</td>\n",
       "      <td>0.23</td>\n",
       "      <td>0.43</td>\n",
       "      <td>1.62</td>\n",
       "    </tr>\n",
       "  </tbody>\n",
       "</table>\n",
       "</div>"
      ],
      "text/plain": [
       "   rank                      name                   country  revenue  \\\n",
       "0     1  thermo fisher scientific  united states of america  25542.0   \n",
       "1     2       abbott laboratories  united states of america  31904.0   \n",
       "2     3      veolia environnement                    france  30431.0   \n",
       "3     4                 medtronic                   ireland  30557.0   \n",
       "4     5                 iberdrola                     spain  40783.0   \n",
       "\n",
       "   net_impact_ratio          largest_benefit          largest_cost  society  \\\n",
       "0              0.74                 diseases  scarce human capital     2.09   \n",
       "1              0.72                 diseases  scarce human capital     2.15   \n",
       "2              0.70                    waste         ghg emissions     3.46   \n",
       "3              0.69                 diseases  scarce human capital     2.36   \n",
       "4              0.68  societal infrastructure  scarce human capital     6.62   \n",
       "\n",
       "   knowledge  health  environment  \n",
       "0       1.44    4.16        -0.49  \n",
       "1      -0.36    5.58        -0.45  \n",
       "2      -0.08    0.30         2.82  \n",
       "3      -1.66    4.86        -0.23  \n",
       "4       0.23    0.43         1.62  "
      ]
     },
     "execution_count": 3,
     "metadata": {},
     "output_type": "execute_result"
    }
   ],
   "source": [
    "from urllib.request import urlopen\n",
    "import json\n",
    "\n",
    "response = urlopen(\"https://netimpactreport.com/data/generated/FortuneGlobal500NIR.json\")\n",
    "data_json = json.loads(response.read())\n",
    "\n",
    "# There are 500 companies included in the json.  Loop through those to set the values in the dataframe.\n",
    "df_companies_api = pd.DataFrame(columns=['rank', 'name', 'country', 'revenue', \n",
    "                                    'net_impact_ratio', 'largest_benefit', 'largest_cost', 'society', 'knowledge', 'health', 'environment'])\n",
    "# Collect the data and store them into the dataframe.\n",
    "for i in range(500): \n",
    "\n",
    "    rank = data_json[\"items\"][i][\"rank\"]\n",
    "    company = data_json[\"items\"][i][\"name\"]\n",
    "    country = data_json[\"items\"][i][\"country\"]\n",
    "    revenue = data_json[\"items\"][i][\"revenueUSD\"]\n",
    "    net_impact = data_json[\"items\"][i][\"netImpactRatio\"]\n",
    "    benefit = data_json[\"items\"][i][\"biggestImpacts\"][\"P\"][\"impactCategoryTitle\"]\n",
    "    cost = data_json[\"items\"][i][\"biggestImpacts\"][\"N\"][\"impactCategoryTitle\"]\n",
    "    society = data_json[\"items\"][i][\"dimensionTotals\"]['S']\n",
    "    knowledge = data_json[\"items\"][i][\"dimensionTotals\"]['K']\n",
    "    health = data_json[\"items\"][i][\"dimensionTotals\"]['H']\n",
    "    environment = data_json[\"items\"][i][\"dimensionTotals\"]['E']\n",
    "\n",
    "    new_row = {'rank': rank,  'name': company, 'country': country, \n",
    "                     'revenue': revenue, 'net_impact_ratio': net_impact, 'largest_benefit': benefit, \n",
    "                   'largest_cost': cost, 'society': society, 'knowledge': knowledge, 'health': health, 'environment': environment}\n",
    "\n",
    "    df_companies_api.loc[len(df_companies_api.index)] = new_row\n",
    "    \n",
    "# Convert revenue columns to readable numbers by removing trailing zeros\n",
    "for i, row in df_companies_api.iterrows():\n",
    "    # Get the count of the number (some have more than others but they are all near one another)\n",
    "    str_revenue = str(int(row['revenue']))\n",
    "    \n",
    "    if(len(str_revenue) == 11):\n",
    "        str_revenue = str_revenue[:5]\n",
    "        df_companies_api.at[i,'revenue'] = int(str_revenue)\n",
    "    elif(len(str_revenue) == 12):\n",
    "        str_revenue = str_revenue[:6]\n",
    "        df_companies_api.at[i,'revenue'] = int(str_revenue)\n",
    "        \n",
    "# Fix percentages for data in net impact ratio\n",
    "df_companies_api['net_impact_ratio'] = df_companies_api['net_impact_ratio'].round(decimals = 2)\n",
    "\n",
    "# Reduce the S, K, H, and E values to rounded values.\n",
    "df_companies_api['society'] = df_companies_api['society'].round(decimals = 2)\n",
    "df_companies_api['knowledge'] = df_companies_api['knowledge'].round(decimals = 2)\n",
    "df_companies_api['health'] = df_companies_api['health'].round(decimals = 2)\n",
    "df_companies_api['environment'] = df_companies_api['environment'].round(decimals = 2)\n",
    "\n",
    "# Convert all company names to lowercase.\n",
    "df_companies_api['name'] = df_companies_api['name'].str.lower()\n",
    "\n",
    "# Convert all categorical variables to lowercase as well to produce similar dummies in the future.\n",
    "df_companies_api['country'] = df_companies_api['country'].str.lower()\n",
    "df_companies_api['largest_benefit'] = df_companies_api['largest_benefit'].str.lower()\n",
    "df_companies_api['largest_cost'] = df_companies_api['largest_cost'].str.lower()\n",
    "\n",
    "# Confirm dataset was updated.\n",
    "df_companies_api.head(5)"
   ]
  },
  {
   "cell_type": "markdown",
   "id": "932281c8",
   "metadata": {},
   "source": [
    "## Load Data Into Database"
   ]
  },
  {
   "cell_type": "markdown",
   "id": "74ee97ce",
   "metadata": {},
   "source": [
    "### Flat File Data"
   ]
  },
  {
   "cell_type": "code",
   "execution_count": 4,
   "id": "03a7fd87",
   "metadata": {},
   "outputs": [
    {
     "ename": "OperationalError",
     "evalue": "table flatfile already exists",
     "output_type": "error",
     "traceback": [
      "\u001b[1;31m---------------------------------------------------------------------------\u001b[0m",
      "\u001b[1;31mOperationalError\u001b[0m                          Traceback (most recent call last)",
      "Input \u001b[1;32mIn [4]\u001b[0m, in \u001b[0;36m<cell line: 12>\u001b[1;34m()\u001b[0m\n\u001b[0;32m     10\u001b[0m \u001b[38;5;66;03m# Create the connection\u001b[39;00m\n\u001b[0;32m     11\u001b[0m conn \u001b[38;5;241m=\u001b[39m sqlite3\u001b[38;5;241m.\u001b[39mconnect(\u001b[38;5;124m'\u001b[39m\u001b[38;5;124mdatabases.sqlite\u001b[39m\u001b[38;5;124m'\u001b[39m)\n\u001b[1;32m---> 12\u001b[0m \u001b[43mconn\u001b[49m\u001b[38;5;241;43m.\u001b[39;49m\u001b[43mexecute\u001b[49m\u001b[43m(\u001b[49m\u001b[43mcreateTableQuery\u001b[49m\u001b[43m)\u001b[49m\n\u001b[0;32m     13\u001b[0m conn\u001b[38;5;241m.\u001b[39mcommit()\n",
      "\u001b[1;31mOperationalError\u001b[0m: table flatfile already exists"
     ]
    }
   ],
   "source": [
    "# Insert data into a SQL Lite database\n",
    "import sqlite3\n",
    "\n",
    "# Create the table using a query.\n",
    "createTableQuery = \"\"\"\n",
    "CREATE TABLE flatfile(rank integer(5), name varchar(50), revenue float(20), revenue_change varchar(10), \n",
    "profits float(15), profit_change varchar(10), assets float(15), market_value float(20), employees integer(10));\n",
    "\"\"\"\n",
    "\n",
    "# Create the connection\n",
    "conn = sqlite3.connect('databases.sqlite')\n",
    "conn.execute(createTableQuery)\n",
    "conn.commit()"
   ]
  },
  {
   "cell_type": "code",
   "execution_count": 5,
   "id": "be2d5efc",
   "metadata": {},
   "outputs": [],
   "source": [
    "# Add data from the table into the database.\n",
    "data = []\n",
    "\n",
    "# Loop over the flat file and store the values in a data array object.\n",
    "for i, row in df_companies_flat.iterrows():\n",
    "    \n",
    "    # prepare values before database insertion.\n",
    "    rankrow = int(row.get(\"rank\"))\n",
    "    revenuerow = float(row.get(\"revenues\"))\n",
    "    profitrow = float(row.get(\"profits\"))\n",
    "    assetsrow = float(row.get(\"assets\"))\n",
    "    marketrow = float(row.get(\"market_value\"))\n",
    "    employeerow = int(row.get(\"employees\"))\n",
    "    \n",
    "    new_row = np.array([rankrow, row.get(\"name\"), revenuerow, row.get(\"revenue_percent_change\"), profitrow, \n",
    "                        row.get(\"profits_percent_change\"), assetsrow, marketrow, employeerow])\n",
    "    data.append(new_row)\n",
    "\n",
    "# Add the data to the table.\n",
    "statement = \"Insert into flatfile VALUES(?, ?, ?, ?, ?, ?, ?, ?, ?)\"\n",
    "conn.executemany(statement, data)\n",
    "\n",
    "conn.commit()"
   ]
  },
  {
   "cell_type": "code",
   "execution_count": 6,
   "id": "9584f7db",
   "metadata": {},
   "outputs": [
    {
     "data": {
      "text/plain": [
       "[(1,\n",
       "  'walmart',\n",
       "  572754.0,\n",
       "  '2.40%',\n",
       "  13673.0,\n",
       "  '1.20%',\n",
       "  244860.0,\n",
       "  409795.0,\n",
       "  2300000)]"
      ]
     },
     "execution_count": 6,
     "metadata": {},
     "output_type": "execute_result"
    }
   ],
   "source": [
    "# Confirm data is in the table.\n",
    "cursor = conn.execute(\"Select * from flatfile limit 1\")\n",
    "rows = cursor.fetchall()\n",
    "rows"
   ]
  },
  {
   "cell_type": "markdown",
   "id": "8a87fcc3",
   "metadata": {},
   "source": [
    "### Website Data"
   ]
  },
  {
   "cell_type": "code",
   "execution_count": 7,
   "id": "3c776bee",
   "metadata": {},
   "outputs": [],
   "source": [
    "# Create the table using a query.\n",
    "createTableQuery = \"\"\"\n",
    "CREATE TABLE website(rank integer(5), name varchar(50), industry varchar(30), revenue float(15), \n",
    "profit float(15), employees integer(15), headquarters varchar(30));\n",
    "\"\"\"\n",
    "\n",
    "# Create the connection\n",
    "conn = sqlite3.connect('databases.sqlite')\n",
    "conn.execute(createTableQuery)\n",
    "conn.commit()"
   ]
  },
  {
   "cell_type": "code",
   "execution_count": 8,
   "id": "22356158",
   "metadata": {},
   "outputs": [],
   "source": [
    "# Add data from the table into the database.\n",
    "data = []\n",
    "\n",
    "# Loop over the flat file and store the values in a data array object.\n",
    "for i, row in df_companies_website.iterrows():\n",
    "    \n",
    "    # prepare values before database insertion.\n",
    "    rankrow = int(row.get(\"rank\"))\n",
    "    revenuerow = float(row.get(\"revenue\"))\n",
    "    profitrow = float(row.get(\"profit\"))\n",
    "    employeerow = int(row.get(\"employees\"))\n",
    "    \n",
    "    new_row = np.array([rankrow, row.get(\"name\"), row.get(\"industry\"), revenuerow, profitrow, employeerow, row.get(\"headquarters\")])\n",
    "    data.append(new_row)\n",
    "\n",
    "# Add the data to the table.\n",
    "statement = \"Insert into website VALUES(?, ?, ?, ?, ?, ?, ?)\"\n",
    "conn.executemany(statement, data)\n",
    "\n",
    "conn.commit()"
   ]
  },
  {
   "cell_type": "code",
   "execution_count": 9,
   "id": "df635cf0",
   "metadata": {},
   "outputs": [
    {
     "data": {
      "text/plain": [
       "[(1, 'walmart', 'retail', 572754.0, 13673.0, 2300000, 'united states')]"
      ]
     },
     "execution_count": 9,
     "metadata": {},
     "output_type": "execute_result"
    }
   ],
   "source": [
    "# Confirm data is in the table.\n",
    "cursor = conn.execute(\"Select * from website limit 1\")\n",
    "rows = cursor.fetchall()\n",
    "rows"
   ]
  },
  {
   "cell_type": "markdown",
   "id": "92717757",
   "metadata": {},
   "source": [
    "### API Data"
   ]
  },
  {
   "cell_type": "code",
   "execution_count": 10,
   "id": "f63eed74",
   "metadata": {},
   "outputs": [],
   "source": [
    "# Create the table using a query.\n",
    "createTableQuery = \"\"\"\n",
    "CREATE TABLE api(rank integer(5), name varchar(50), country varchar(50), revenue float(15), \n",
    "net_impact float(10), largest_benefit varchar(30), largest_cost varchar(30), society float(5),\n",
    "knowledge float(5), health float(5), environment float(5));\n",
    "\"\"\"\n",
    "\n",
    "# Create the connection\n",
    "conn = sqlite3.connect('databases.sqlite')\n",
    "conn.execute(createTableQuery)\n",
    "conn.commit()"
   ]
  },
  {
   "cell_type": "code",
   "execution_count": 11,
   "id": "cbe4fb7a",
   "metadata": {},
   "outputs": [],
   "source": [
    "# Add data from the table into the database.\n",
    "data = []\n",
    "\n",
    "# Loop over the flat file and store the values in a data array object.\n",
    "for i, row in df_companies_api.iterrows():\n",
    "    \n",
    "    # prepare values before database insertion.\n",
    "    rankrow = int(row.get(\"rank\"))\n",
    "    revenuerow = float(row.get(\"revenue\"))\n",
    "    netratiorow = float(row.get(\"net_impact_ratio\"))\n",
    "    societyrow = float(row.get(\"society\"))\n",
    "    knowledgerow = float(row.get(\"knowledge\"))\n",
    "    healthrow = float(row.get(\"health\"))\n",
    "    environmentrow = float(row.get(\"environment\"))\n",
    "    \n",
    "    new_row = np.array([rankrow, row.get(\"name\"), row.get(\"country\"), revenuerow, netratiorow, \n",
    "                        row.get(\"largest_benefit\"),row.get(\"largest_cost\"),societyrow, knowledgerow, healthrow, environmentrow])\n",
    "    data.append(new_row)\n",
    "\n",
    "# Add the data to the table.\n",
    "statement = \"Insert into api VALUES(?, ?, ?, ?, ?, ?, ?, ?, ?, ?, ?)\"\n",
    "conn.executemany(statement, data)\n",
    "\n",
    "conn.commit()"
   ]
  },
  {
   "cell_type": "code",
   "execution_count": 12,
   "id": "8ff69767",
   "metadata": {},
   "outputs": [
    {
     "data": {
      "text/plain": [
       "[(1,\n",
       "  'thermo fisher scientific',\n",
       "  'united states of america',\n",
       "  25542.0,\n",
       "  0.74,\n",
       "  'diseases',\n",
       "  'scarce human capital',\n",
       "  2.09,\n",
       "  1.44,\n",
       "  4.16,\n",
       "  -0.49)]"
      ]
     },
     "execution_count": 12,
     "metadata": {},
     "output_type": "execute_result"
    }
   ],
   "source": [
    "# Confirm data is in the table.\n",
    "cursor = conn.execute(\"Select * from api limit 1\")\n",
    "rows = cursor.fetchall()\n",
    "rows"
   ]
  },
  {
   "cell_type": "markdown",
   "id": "c10d1439",
   "metadata": {},
   "source": [
    "## Correct Name Differences"
   ]
  },
  {
   "cell_type": "code",
   "execution_count": 7,
   "id": "379e954d",
   "metadata": {},
   "outputs": [],
   "source": [
    "# Create a function to update all values with a method.\n",
    "def update_name(connection, table_name, name_from, name_to):\n",
    "    sql = \"update \" + table_name + \" set name = '\" + name_to + \"' where name = '\" + name_from + \"'\"\n",
    "    cursor = connection.execute(sql)\n",
    "    connection.commit()"
   ]
  },
  {
   "cell_type": "code",
   "execution_count": 8,
   "id": "9697e901",
   "metadata": {},
   "outputs": [],
   "source": [
    "# Update the names of all companies in each respective table to ensure more matching results.\n",
    "update_name(conn, \"api\", \"alphabet (google)\", \"alphabet\")\n",
    "update_name(conn, \"api\", \"costco wholesale\", \"costco\")\n",
    "update_name(conn, \"api\", \"china baowu steel\", \"baowu\")\n",
    "update_name(conn, \"api\", \"china state construction engineering\", \"china state construction\")\n",
    "\n",
    "update_name(conn, \"website\", \"chevron corporation\", \"chevron\" )\n",
    "update_name(conn, \"website\", \"exxonmobil\", \"exxon mobil\" )\n",
    "update_name(conn, \"website\", \"foxconn\", \"fox\" )\n",
    "update_name(conn, \"website\", \"state grid\", \"state grid corporation of china\" )"
   ]
  },
  {
   "cell_type": "markdown",
   "id": "04556c92",
   "metadata": {},
   "source": [
    "## Join The Datasets"
   ]
  },
  {
   "cell_type": "code",
   "execution_count": 9,
   "id": "a85049a0",
   "metadata": {},
   "outputs": [],
   "source": [
    "# join the datasets by using the values in the company name columns.\n",
    "cursor = conn.execute(\"Select * from flatfile left join website on flatfile.name = website.name left join api on website.name = api.name\")\n",
    "rows_missing_data = cursor.fetchall()\n",
    "\n",
    "cursor = conn.execute(\"Select * from flatfile join website on flatfile.name = website.name join api on website.name = api.name\")\n",
    "rows_all_found = cursor.fetchall()"
   ]
  },
  {
   "cell_type": "code",
   "execution_count": 12,
   "id": "6d6a7593",
   "metadata": {},
   "outputs": [],
   "source": [
    "# Set the data into dataframe objects for plotting. \n",
    "# One set has missing data due to only having 50 companies in one dataset, and having 1000 in another.  The other has \n",
    "# all of the companies with all companies that were matching.\n",
    "df_missing_data = pd.DataFrame(rows_missing_data)\n",
    "\n",
    "# Set the names of all the columns.\n",
    "df_missing_data.set_axis([\"rank_flat\", \"name_flat\", \"revenue_flat\", \"revenue_percent_change\", \"profits_flat\", \n",
    "                          \"profits_percent_change\", \"assets_flat\", \"market_value_flat\", \"employees_flat\",\n",
    "                         'rank_website', 'name_website', 'industry', 'revenue_website','profit_website', \n",
    "                          'employees_website', 'headquarters','rank_api', 'name_api', 'country', 'revenue_api', 'net_impact_ratio',\n",
    "                          'largest_benefit', 'largest_cost', 'society', 'knowledge', 'health', 'environment' ], axis=1, inplace=True)\n",
    "\n",
    "df_found_all = pd.DataFrame(rows_all_found)\n",
    "\n",
    "# Set the names of all the columns.\n",
    "df_found_all.set_axis([\"rank_flat\", \"name_flat\", \"revenue_flat\", \"revenue_percent_change\", \"profits_flat\", \n",
    "                          \"profits_percent_change\", \"assets_flat\", \"market_value_flat\", \"employees_flat\",\n",
    "                         'rank_website', 'name_website', 'industry', 'revenue_website','profit_website', \n",
    "                          'employees_website', 'headquarters','rank_api', 'name_api', 'country', 'revenue_api', 'net_impact_ratio',\n",
    "                          'largest_benefit', 'largest_cost', 'society', 'knowledge', 'health', 'environment' ], axis=1, inplace=True)"
   ]
  },
  {
   "cell_type": "markdown",
   "id": "9f2d6176",
   "metadata": {},
   "source": [
    "## Plot The Data"
   ]
  },
  {
   "cell_type": "code",
   "execution_count": 61,
   "id": "53be47e7",
   "metadata": {},
   "outputs": [
    {
     "name": "stderr",
     "output_type": "stream",
     "text": [
      "No artists with labels found to put in legend.  Note that artists whose label start with an underscore are ignored when legend() is called with no argument.\n"
     ]
    },
    {
     "data": {
      "image/png": "[encoded data removed]",
      "text/plain": [
       "<Figure size 1080x3600 with 1 Axes>"
      ]
     },
     "metadata": {
      "needs_background": "light"
     },
     "output_type": "display_data"
    }
   ],
   "source": [
    "# Plot the data using available libraries.\n",
    "import matplotlib.pyplot as plt\n",
    "\n",
    "# Set the fig and ax as subplots.\n",
    "fig, ax = plt.subplots()\n",
    "\n",
    "# Set up the axis.\n",
    "ax.bar(df_found_all[\"industry\"], df_found_all[\"employees_flat\"])\n",
    "\n",
    "# Set up the labels.\n",
    "ax.set_ylabel('Employees')\n",
    "ax.set_title('Employees by Industry')\n",
    "ax.legend(title='Industry')\n",
    "plt.rcParams[\"figure.figsize\"] = [5, 50]\n",
    "\n",
    "# Show the plot.\n",
    "plt.show()"
   ]
  },
  {
   "cell_type": "code",
   "execution_count": 64,
   "id": "05b821f6",
   "metadata": {},
   "outputs": [
    {
     "name": "stderr",
     "output_type": "stream",
     "text": [
      "No artists with labels found to put in legend.  Note that artists whose label start with an underscore are ignored when legend() is called with no argument.\n"
     ]
    },
    {
     "data": {
      "image/png": "[encoded data removed]",
      "text/plain": [
       "<Figure size 1080x1440 with 1 Axes>"
      ]
     },
     "metadata": {
      "needs_background": "light"
     },
     "output_type": "display_data"
    }
   ],
   "source": [
    "# Plot the impact by industry.\n",
    "# Set the fig and ax as subplots.\n",
    "fig, ax = plt.subplots()\n",
    "\n",
    "# Set up the axis.\n",
    "ax.bar(df_found_all[\"industry\"], df_found_all[\"society\"], color= [\"blue\"])\n",
    "\n",
    "# Set up the labels.\n",
    "ax.set_ylabel('society')\n",
    "ax.set_title('Society Impact by Industry')\n",
    "ax.legend(title='Industry')\n",
    "plt.rcParams[\"figure.figsize\"] = [15, 30]\n",
    "\n",
    "# Show the plot.\n",
    "plt.show()"
   ]
  },
  {
   "cell_type": "code",
   "execution_count": 74,
   "id": "0c41c0bf",
   "metadata": {},
   "outputs": [
    {
     "name": "stderr",
     "output_type": "stream",
     "text": [
      "No artists with labels found to put in legend.  Note that artists whose label start with an underscore are ignored when legend() is called with no argument.\n"
     ]
    },
    {
     "data": {
      "image/png": "[encoded data removed]",
      "text/plain": [
       "<Figure size 1080x2160 with 1 Axes>"
      ]
     },
     "metadata": {
      "needs_background": "light"
     },
     "output_type": "display_data"
    }
   ],
   "source": [
    "# Plot the impact by industry.\n",
    "# Set the fig and ax as subplots.\n",
    "fig, ax = plt.subplots()\n",
    "\n",
    "# Set up the axis.\n",
    "bar_colors = [\"tab:green\", \"tab:green\", \"tab:green\", \"tab:green\", \"tab:green\", \"tab:red\", \"tab:green\"]\n",
    "ax.bar(df_found_all[\"industry\"], df_found_all[\"health\"], color=bar_colors )\n",
    "\n",
    "# Set up the labels.\n",
    "ax.set_ylabel('health')\n",
    "ax.set_title('Health Impact by Industry')\n",
    "ax.legend(title='Industry')\n",
    "plt.rcParams[\"figure.figsize\"] = [15, 30]\n",
    "\n",
    "# Show the plot.\n",
    "plt.show()"
   ]
  },
  {
   "cell_type": "code",
   "execution_count": null,
   "id": "5b4716fe",
   "metadata": {},
   "outputs": [],
   "source": []
  }
 ],
 "metadata": {
  "kernelspec": {
   "display_name": "Python 3 (ipykernel)",
   "language": "python",
   "name": "python3"
  },
  "language_info": {
   "codemirror_mode": {
    "name": "ipython",
    "version": 3
   },
   "file_extension": ".py",
   "mimetype": "text/x-python",
   "name": "python",
   "nbconvert_exporter": "python",
   "pygments_lexer": "ipython3",
   "version": "3.9.12"
  }
 },
 "nbformat": 4,
 "nbformat_minor": 5
}
