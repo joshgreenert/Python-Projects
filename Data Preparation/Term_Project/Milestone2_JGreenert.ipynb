{
 "cells": [
  {
   "cell_type": "code",
   "execution_count": 2,
   "id": "b35865ef",
   "metadata": {},
   "outputs": [
    {
     "data": {
      "text/plain": [
       "'\\nReplace Headers\\nFormat data into a more readable format\\nIdentify outliers and bad data\\nFind duplicates\\nFix casing or inconsistent values\\nConduct Fuzzy Matching\\n'"
      ]
     },
     "execution_count": 2,
     "metadata": {},
     "output_type": "execute_result"
    }
   ],
   "source": [
    "# Perform at least 5 data transformations.\n",
    "# Optional suggestions \n",
    "import pandas as pd\n",
    "'''\n",
    "Replace Headers\n",
    "Format data into a more readable format\n",
    "Identify outliers and bad data\n",
    "Find duplicates\n",
    "Fix casing or inconsistent values\n",
    "Conduct Fuzzy Matching\n",
    "'''"
   ]
  },
  {
   "cell_type": "markdown",
   "id": "aab01c82",
   "metadata": {},
   "source": [
    "## Step 1"
   ]
  },
  {
   "cell_type": "code",
   "execution_count": 19,
   "id": "a8ecfbe6",
   "metadata": {},
   "outputs": [],
   "source": [
    "# Read the data into a dataframe.\n",
    "df_companies = pd.read_csv('Fortune 1000 Companies by Revenue.csv')\n",
    "\n",
    "# Fix column names to not have any spaces.\n",
    "df_companies.columns\n",
    "\n",
    "df_companies.set_axis([\"rank\", \"name\", \"revenues\", \"revenue_percent_change\", \"profits\", \"profits_percent_change\", \"assets\", \"market_value\", \"change_in_rank\", \"employees\" ], axis=1, inplace=True)"
   ]
  },
  {
   "cell_type": "markdown",
   "id": "b02f2e3b",
   "metadata": {},
   "source": [
    "## Step 2"
   ]
  },
  {
   "cell_type": "code",
   "execution_count": 23,
   "id": "d1939887",
   "metadata": {},
   "outputs": [
    {
     "data": {
      "text/plain": [
       "0               walmart\n",
       "1                amazon\n",
       "2                 apple\n",
       "3            cvs health\n",
       "4    unitedhealth group\n",
       "5           exxon mobil\n",
       "6    berkshire hathaway\n",
       "7              alphabet\n",
       "8              mckesson\n",
       "9     amerisourcebergen\n",
       "Name: name, dtype: object"
      ]
     },
     "execution_count": 23,
     "metadata": {},
     "output_type": "execute_result"
    }
   ],
   "source": [
    "# Reduce all names to lowercase.\n",
    "df_companies['name'] = df_companies['name'].str.lower()\n",
    "\n",
    "# Confirm that names were updated with sample.\n",
    "df_companies['name'].head(10)"
   ]
  },
  {
   "cell_type": "code",
   "execution_count": null,
   "id": "afab473d",
   "metadata": {},
   "outputs": [],
   "source": []
  }
 ],
 "metadata": {
  "kernelspec": {
   "display_name": "Python 3 (ipykernel)",
   "language": "python",
   "name": "python3"
  },
  "language_info": {
   "codemirror_mode": {
    "name": "ipython",
    "version": 3
   },
   "file_extension": ".py",
   "mimetype": "text/x-python",
   "name": "python",
   "nbconvert_exporter": "python",
   "pygments_lexer": "ipython3",
   "version": "3.9.12"
  }
 },
 "nbformat": 4,
 "nbformat_minor": 5
}
