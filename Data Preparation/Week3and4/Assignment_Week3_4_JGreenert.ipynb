{
 "cells": [
  {
   "cell_type": "markdown",
   "id": "345fbdbe",
   "metadata": {},
   "source": [
    "# Data Preparation Week 3 and 4\n",
    "## Joshua Greenert\n",
    "## DSC540-T301 Data Preparation\n",
    "## 9/11/2022"
   ]
  },
  {
   "cell_type": "code",
   "execution_count": 1,
   "id": "762bc453",
   "metadata": {},
   "outputs": [],
   "source": [
    "# Data Wrangling with Python: Activity 5, page 116\n"
   ]
  },
  {
   "cell_type": "code",
   "execution_count": 2,
   "id": "6d8441bb",
   "metadata": {},
   "outputs": [],
   "source": [
    "# Data Wrangling with Python: Activity 6, page 171"
   ]
  },
  {
   "cell_type": "code",
   "execution_count": null,
   "id": "de83e094",
   "metadata": {},
   "outputs": [],
   "source": [
    ". Create a series and practice basic arithmetic steps\n",
    "a. Series 1 = 7.3, -2.5, 3.4, 1.5\n",
    "i. Index = ‘a’, ‘c’, ‘d’, ‘e’\n",
    "b. Series 2 = -2.1, 3.6, -1.5, 4, 3.1\n",
    "i. Index = ‘a’, ‘c’, ‘e’, ‘f’, ‘g’\n",
    "c. Add Series 1 and Series 2 together and print the results\n",
    "d. Subtract Series 1 from Series 2 and print the results"
   ]
  }
 ],
 "metadata": {
  "kernelspec": {
   "display_name": "Python 3 (ipykernel)",
   "language": "python",
   "name": "python3"
  },
  "language_info": {
   "codemirror_mode": {
    "name": "ipython",
    "version": 3
   },
   "file_extension": ".py",
   "mimetype": "text/x-python",
   "name": "python",
   "nbconvert_exporter": "python",
   "pygments_lexer": "ipython3",
   "version": "3.9.12"
  }
 },
 "nbformat": 4,
 "nbformat_minor": 5
}
