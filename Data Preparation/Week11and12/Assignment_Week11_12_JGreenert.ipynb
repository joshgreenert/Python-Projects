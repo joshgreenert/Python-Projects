{
 "cells": [
  {
   "cell_type": "markdown",
   "id": "ab91ad23",
   "metadata": {},
   "source": [
    "# Data Preparation Week 11 and 12\n",
    "## Joshua Greenert\n",
    "## DSC540-T301 Data Preparation\n",
    "## 11/1/2022"
   ]
  },
  {
   "cell_type": "markdown",
   "id": "bfc2d635",
   "metadata": {},
   "source": [
    "## Data Wrangling with Python: Activity 11, page 320"
   ]
  },
  {
   "cell_type": "code",
   "execution_count": 12,
   "id": "6b9f4a83",
   "metadata": {},
   "outputs": [
    {
     "name": "stdout",
     "output_type": "stream",
     "text": [
      "Connection is successful!\n"
     ]
    }
   ],
   "source": [
    "# Connect to petsDB and check whether the connection has been successful\n",
    "import sqlite3\n",
    "\n",
    "# Set up the connection.\n",
    "conn = sqlite3.connect(\"petsdb\")\n",
    "\n",
    "# Check the connection.\n",
    "try:\n",
    "    conn.cursor()\n",
    "    print(\"Connection is successful!\")\n",
    "except Exception as ex:\n",
    "    print(\"ERROR: Failed to connect!\")"
   ]
  },
  {
   "cell_type": "code",
   "execution_count": 3,
   "id": "a269338a",
   "metadata": {},
   "outputs": [],
   "source": [
    "# Find the different age groups in the persons database\n"
   ]
  },
  {
   "cell_type": "code",
   "execution_count": 4,
   "id": "57ae916d",
   "metadata": {},
   "outputs": [],
   "source": [
    "# Find the age group that has the maximum number of people"
   ]
  },
  {
   "cell_type": "code",
   "execution_count": 5,
   "id": "11761270",
   "metadata": {},
   "outputs": [],
   "source": [
    "# Find the people who do not have a last name"
   ]
  },
  {
   "cell_type": "code",
   "execution_count": 6,
   "id": "c75f0adc",
   "metadata": {},
   "outputs": [],
   "source": [
    "# Find out how many people have more than one pet"
   ]
  },
  {
   "cell_type": "code",
   "execution_count": 7,
   "id": "9d69a4d8",
   "metadata": {},
   "outputs": [],
   "source": [
    "# Find out how many pets have received treatment"
   ]
  },
  {
   "cell_type": "code",
   "execution_count": 8,
   "id": "8a05fecf",
   "metadata": {},
   "outputs": [],
   "source": [
    "# Find out how many pets have received treatment and the type of pet is known"
   ]
  },
  {
   "cell_type": "code",
   "execution_count": 9,
   "id": "95cb63e2",
   "metadata": {},
   "outputs": [],
   "source": [
    "# Find out how many pets from the city called \"east port\""
   ]
  },
  {
   "cell_type": "code",
   "execution_count": null,
   "id": "6e0af330",
   "metadata": {},
   "outputs": [],
   "source": [
    "# Find out how many pets are from the city called \"east port\" and who received a treatment"
   ]
  }
 ],
 "metadata": {
  "kernelspec": {
   "display_name": "Python 3 (ipykernel)",
   "language": "python",
   "name": "python3"
  },
  "language_info": {
   "codemirror_mode": {
    "name": "ipython",
    "version": 3
   },
   "file_extension": ".py",
   "mimetype": "text/x-python",
   "name": "python",
   "nbconvert_exporter": "python",
   "pygments_lexer": "ipython3",
   "version": "3.9.12"
  }
 },
 "nbformat": 4,
 "nbformat_minor": 5
}
