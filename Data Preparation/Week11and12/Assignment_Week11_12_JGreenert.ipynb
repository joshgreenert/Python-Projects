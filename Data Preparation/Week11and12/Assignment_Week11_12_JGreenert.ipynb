{
 "cells": [
  {
   "cell_type": "markdown",
   "id": "ab91ad23",
   "metadata": {},
   "source": [
    "# Data Preparation Week 11 and 12\n",
    "## Joshua Greenert\n",
    "## DSC540-T301 Data Preparation\n",
    "## 11/1/2022"
   ]
  },
  {
   "cell_type": "markdown",
   "id": "bfc2d635",
   "metadata": {},
   "source": [
    "## Data Wrangling with Python: Activity 11, page 320"
   ]
  },
  {
   "cell_type": "code",
   "execution_count": 2,
   "id": "6b9f4a83",
   "metadata": {},
   "outputs": [
    {
     "name": "stdout",
     "output_type": "stream",
     "text": [
      "Connection is successful!\n"
     ]
    }
   ],
   "source": [
    "# Connect to petsDB and check whether the connection has been successful\n",
    "import sqlite3\n",
    "\n",
    "# Set up the connection.\n",
    "conn = sqlite3.connect(\"petsdb\")\n",
    "\n",
    "# Check the connection.\n",
    "try:\n",
    "    conn.cursor()\n",
    "    print(\"Connection is successful!\")\n",
    "except Exception as ex:\n",
    "    print(\"ERROR: Failed to connect!\")"
   ]
  },
  {
   "cell_type": "code",
   "execution_count": 11,
   "id": "a269338a",
   "metadata": {},
   "outputs": [
    {
     "name": "stdout",
     "output_type": "stream",
     "text": [
      "The count of 2 people are 5\n",
      "The count of 1 people are 6\n",
      "The count of 1 people are 7\n",
      "The count of 3 people are 8\n",
      "The count of 1 people are 9\n",
      "The count of 2 people are 11\n",
      "The count of 3 people are 12\n",
      "The count of 1 people are 13\n",
      "The count of 4 people are 14\n",
      "The count of 2 people are 16\n",
      "The count of 2 people are 17\n",
      "The count of 3 people are 18\n",
      "The count of 1 people are 19\n",
      "The count of 3 people are 22\n",
      "The count of 2 people are 23\n",
      "The count of 3 people are 24\n",
      "The count of 2 people are 25\n",
      "The count of 1 people are 27\n",
      "The count of 1 people are 30\n",
      "The count of 3 people are 31\n",
      "The count of 1 people are 32\n",
      "The count of 1 people are 33\n",
      "The count of 2 people are 34\n",
      "The count of 3 people are 35\n",
      "The count of 3 people are 36\n",
      "The count of 1 people are 37\n",
      "The count of 2 people are 39\n",
      "The count of 1 people are 40\n",
      "The count of 1 people are 42\n",
      "The count of 2 people are 44\n",
      "The count of 2 people are 48\n",
      "The count of 1 people are 49\n",
      "The count of 1 people are 50\n",
      "The count of 2 people are 51\n",
      "The count of 2 people are 52\n",
      "The count of 2 people are 53\n",
      "The count of 2 people are 54\n",
      "The count of 1 people are 58\n",
      "The count of 1 people are 59\n",
      "The count of 1 people are 60\n",
      "The count of 1 people are 61\n",
      "The count of 2 people are 62\n",
      "The count of 1 people are 63\n",
      "The count of 2 people are 65\n",
      "The count of 2 people are 66\n",
      "The count of 1 people are 67\n",
      "The count of 3 people are 68\n",
      "The count of 1 people are 69\n",
      "The count of 1 people are 70\n",
      "The count of 4 people are 71\n",
      "The count of 1 people are 72\n",
      "The count of 5 people are 73\n",
      "The count of 3 people are 74\n"
     ]
    }
   ],
   "source": [
    "# Find the different age groups in the persons database\n",
    "# Persons database: id, first_name, last_name, age, city, zip_code\n",
    "cursor = conn.execute(\"SELECT count(*), age from persons group by age\")\n",
    "\n",
    "# Print the results.\n",
    "for people, age in cursor:\n",
    "    print(f\"The count of {people} people are {age}\")\n"
   ]
  },
  {
   "cell_type": "code",
   "execution_count": 14,
   "id": "57ae916d",
   "metadata": {},
   "outputs": [
    {
     "name": "stdout",
     "output_type": "stream",
     "text": [
      "The count of 5 people are 73\n"
     ]
    }
   ],
   "source": [
    "# Find the age group that has the maximum number of people\n",
    "cursor = conn.execute(\"SELECT count(*) as count, age from persons group by age order by count desc limit 1\")\n",
    "\n",
    "# Print the results.\n",
    "for people, age in cursor:\n",
    "    print(f\"The count of {people} people are {age}\")"
   ]
  },
  {
   "cell_type": "code",
   "execution_count": 20,
   "id": "11761270",
   "metadata": {},
   "outputs": [
    {
     "name": "stdout",
     "output_type": "stream",
     "text": [
      "1 Erica\n",
      "2 Jordi\n",
      "3 Chasity\n",
      "4 Gregg\n",
      "6 Cary\n",
      "8 Francisca\n",
      "10 Raleigh\n",
      "11 Maria\n",
      "12 Mariane\n",
      "13 Mona\n",
      "14 Kayla\n",
      "15 Karlie\n",
      "16 Morris\n",
      "17 Sandy\n",
      "18 Hector\n",
      "19 Hiram\n",
      "20 Tressa\n",
      "21 Berry\n",
      "22 Pearline\n",
      "23 Maynard\n",
      "24 Dorian\n",
      "25 Mylene\n",
      "26 Lafayette\n",
      "29 Tara\n",
      "30 Destiny\n",
      "31 Lesly\n",
      "32 Perry\n",
      "35 Maritza\n",
      "37 Grant\n",
      "39 Laury\n",
      "40 Name\n",
      "41 Estefania\n",
      "42 Destiney\n",
      "43 Jaquelin\n",
      "45 Alfonzo\n",
      "46 Lisandro\n",
      "49 Priscilla\n",
      "50 Elenora\n",
      "52 Rudolph\n",
      "56 Ona\n",
      "57 Rebeca\n",
      "59 Sigurd\n",
      "63 Alice\n",
      "64 Dane\n",
      "65 Judge\n",
      "66 Allene\n",
      "67 Jalen\n",
      "70 Myron\n",
      "73 Travon\n",
      "74 Shayna\n",
      "75 Myah\n",
      "82 Letha\n",
      "84 Felton\n",
      "85 London\n",
      "86 Koby\n",
      "87 Golden\n",
      "89 Anissa\n",
      "91 Sid\n",
      "96 Ernesto\n",
      "97 Josianne\n"
     ]
    }
   ],
   "source": [
    "# Find the people who do not have a last name\n",
    "cursor = conn.execute(\"SELECT id, first_name from persons where last_name is null\")\n",
    "\n",
    "# Print the results.\n",
    "for id, name in cursor:\n",
    "    print(f\"{id} {name}\")"
   ]
  },
  {
   "cell_type": "code",
   "execution_count": 30,
   "id": "c75f0adc",
   "metadata": {},
   "outputs": [
    {
     "name": "stdout",
     "output_type": "stream",
     "text": [
      "There are 43 people with more than one pet.\n"
     ]
    }
   ],
   "source": [
    "# Find out how many people have more than one pet\n",
    "# pets database: owner_id, pet_name, pet_type, treatment_done\n",
    "cursor = conn.execute(\"SELECT count(*) from (select count(owner_id) as count from pets group by owner_id having count > 1)\")\n",
    "\n",
    "# Print the results.\n",
    "for info in cursor:\n",
    "    print(f\"There are {info[0]} people with more than one pet.\")"
   ]
  },
  {
   "cell_type": "code",
   "execution_count": 34,
   "id": "9d69a4d8",
   "metadata": {},
   "outputs": [
    {
     "name": "stdout",
     "output_type": "stream",
     "text": [
      "36 pets have received treatment.\n"
     ]
    }
   ],
   "source": [
    "# Find out how many pets have received treatment\n",
    "cursor = conn.execute(\"SELECT count(treatment_done) from pets where treatment_done = 1\")\n",
    "for info in cursor:\n",
    "    print(f\"{info[0]} pets have received treatment.\")"
   ]
  },
  {
   "cell_type": "code",
   "execution_count": 36,
   "id": "8a05fecf",
   "metadata": {},
   "outputs": [
    {
     "name": "stdout",
     "output_type": "stream",
     "text": [
      "16 pets have received treatment and their type is known.\n"
     ]
    }
   ],
   "source": [
    "# Find out how many pets have received treatment and the type of pet is known\n",
    "cursor = conn.execute(\"SELECT count(treatment_done) from pets where treatment_done = 1 and pet_type is not null\")\n",
    "for info in cursor:\n",
    "    print(f\"{info[0]} pets have received treatment and their type is known.\")"
   ]
  },
  {
   "cell_type": "code",
   "execution_count": 38,
   "id": "95cb63e2",
   "metadata": {},
   "outputs": [
    {
     "name": "stdout",
     "output_type": "stream",
     "text": [
      "49 pets from east port\n"
     ]
    }
   ],
   "source": [
    "# Find out how many pets from the city called \"east port\"\n",
    "cursor = conn.execute(\"SELECT count(*) as count from persons join pets on pets.owner_id = persons.id where city = 'east port'\")\n",
    "for info in cursor:\n",
    "    print(f\"{info[0]} pets from east port\")"
   ]
  },
  {
   "cell_type": "code",
   "execution_count": 39,
   "id": "6e0af330",
   "metadata": {},
   "outputs": [
    {
     "name": "stdout",
     "output_type": "stream",
     "text": [
      "11 pets from east port and have received treatment.\n"
     ]
    }
   ],
   "source": [
    "# Find out how many pets are from the city called \"east port\" and who received a treatment\n",
    "cursor = conn.execute(\"SELECT count(*) as count from persons join pets on pets.owner_id = persons.id where city = 'east port' and treatment_done = 1\")\n",
    "for info in cursor:\n",
    "    print(f\"{info[0]} pets from east port and have received treatment.\")"
   ]
  }
 ],
 "metadata": {
  "kernelspec": {
   "display_name": "Python 3 (ipykernel)",
   "language": "python",
   "name": "python3"
  },
  "language_info": {
   "codemirror_mode": {
    "name": "ipython",
    "version": 3
   },
   "file_extension": ".py",
   "mimetype": "text/x-python",
   "name": "python",
   "nbconvert_exporter": "python",
   "pygments_lexer": "ipython3",
   "version": "3.9.12"
  }
 },
 "nbformat": 4,
 "nbformat_minor": 5
}
