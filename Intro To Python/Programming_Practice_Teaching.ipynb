{
 "cells": [
  {
   "cell_type": "markdown",
   "id": "f4143676",
   "metadata": {},
   "source": [
    "# Programming Practice With Python\n"
   ]
  },
  {
   "cell_type": "markdown",
   "id": "a00b50df",
   "metadata": {},
   "source": [
    "## Introduction"
   ]
  },
  {
   "cell_type": "code",
   "execution_count": null,
   "id": "82840688",
   "metadata": {},
   "outputs": [],
   "source": [
    "# Teach the basics.\n"
   ]
  },
  {
   "cell_type": "markdown",
   "id": "246af68e",
   "metadata": {},
   "source": [
    "## Fizz Buzz"
   ]
  },
  {
   "cell_type": "code",
   "execution_count": 8,
   "id": "d56d114c",
   "metadata": {},
   "outputs": [],
   "source": [
    "# Write a program that prints the numbers from 0 to 100 and for multiples of ‘3’ print “Fizz” instead of the \n",
    "# number and for the multiples of ‘5’ print “Buzz”. If the number is a multiple of 3 and 5, print \"fizzbuzz\"\n"
   ]
  },
  {
   "cell_type": "markdown",
   "id": "b5301558",
   "metadata": {},
   "source": [
    "## Chuck Norris API"
   ]
  },
  {
   "cell_type": "code",
   "execution_count": null,
   "id": "1cb07871",
   "metadata": {},
   "outputs": [],
   "source": [
    "# Work with an API to explain communication with online resources.\n",
    "\n",
    "endpoint = \"https://api.chucknorris.io/jokes/random\""
   ]
  }
 ],
 "metadata": {
  "kernelspec": {
   "display_name": "Python 3 (ipykernel)",
   "language": "python",
   "name": "python3"
  },
  "language_info": {
   "codemirror_mode": {
    "name": "ipython",
    "version": 3
   },
   "file_extension": ".py",
   "mimetype": "text/x-python",
   "name": "python",
   "nbconvert_exporter": "python",
   "pygments_lexer": "ipython3",
   "version": "3.9.12"
  }
 },
 "nbformat": 4,
 "nbformat_minor": 5
}
